{
 "cells": [
  {
   "cell_type": "markdown",
   "metadata": {
    "collapsed": true
   },
   "source": [
    "# Chapter 6 - Learning Best Practices for Model Evaluation and Hyperparameter Tuning\n",
    "지금까지 '분류알고리즘'을 학습했다면, 이제는 '모델의 성능을 평가'하는 사례를 공부할 차례다\n",
    "\n",
    "https://tensorflow.blog/%EB%A8%B8%EC%8B%A0-%EB%9F%AC%EB%8B%9D%EC%9D%98-%EB%AA%A8%EB%8D%B8-%ED%8F%89%EA%B0%80%EC%99%80-%EB%AA%A8%EB%8D%B8-%EC%84%A0%ED%83%9D-%EC%95%8C%EA%B3%A0%EB%A6%AC%EC%A6%98-%EC%84%A0%ED%83%9D-1/"
   ]
  },
  {
   "cell_type": "code",
   "execution_count": 1,
   "metadata": {
    "collapsed": true
   },
   "outputs": [],
   "source": [
    "# 1 모델 성능에 관한 불편 추정치 계산\n",
    "# 2 머신러닝 알고리즘의 일반적 문제들 진단\n",
    "# 3 머신러닝 모델의 미세튜닝\n",
    "# 4 성능 메트릭을 사용한 예측모델 평가"
   ]
  },
  {
   "cell_type": "markdown",
   "metadata": {},
   "source": [
    "## 1 scikit-learn 의 PIPE LINE\n",
    "streaming workflow"
   ]
  },
  {
   "cell_type": "markdown",
   "metadata": {},
   "source": [
    "### 01 위스콘신 대학교 '유방암'데이터를 활용한 튜닝\n",
    "https://archive.ics.uci.edu/ml/machine-learning-databases/breast-cancer-wisconsin/"
   ]
  },
  {
   "cell_type": "code",
   "execution_count": 2,
   "metadata": {},
   "outputs": [
    {
     "name": "stdout",
     "output_type": "stream",
     "text": [
      "rows, columns: (569, 32)\n"
     ]
    },
    {
     "data": {
      "text/html": [
       "<div>\n",
       "<table border=\"1\" class=\"dataframe\">\n",
       "  <thead>\n",
       "    <tr style=\"text-align: right;\">\n",
       "      <th></th>\n",
       "      <th>0</th>\n",
       "      <th>1</th>\n",
       "      <th>2</th>\n",
       "      <th>3</th>\n",
       "      <th>4</th>\n",
       "      <th>5</th>\n",
       "      <th>6</th>\n",
       "      <th>7</th>\n",
       "      <th>8</th>\n",
       "      <th>9</th>\n",
       "      <th>...</th>\n",
       "      <th>22</th>\n",
       "      <th>23</th>\n",
       "      <th>24</th>\n",
       "      <th>25</th>\n",
       "      <th>26</th>\n",
       "      <th>27</th>\n",
       "      <th>28</th>\n",
       "      <th>29</th>\n",
       "      <th>30</th>\n",
       "      <th>31</th>\n",
       "    </tr>\n",
       "  </thead>\n",
       "  <tbody>\n",
       "    <tr>\n",
       "      <th>0</th>\n",
       "      <td>842302</td>\n",
       "      <td>M</td>\n",
       "      <td>17.99</td>\n",
       "      <td>10.38</td>\n",
       "      <td>122.80</td>\n",
       "      <td>1001.0</td>\n",
       "      <td>0.11840</td>\n",
       "      <td>0.27760</td>\n",
       "      <td>0.30010</td>\n",
       "      <td>0.14710</td>\n",
       "      <td>...</td>\n",
       "      <td>25.38</td>\n",
       "      <td>17.33</td>\n",
       "      <td>184.60</td>\n",
       "      <td>2019.0</td>\n",
       "      <td>0.1622</td>\n",
       "      <td>0.6656</td>\n",
       "      <td>0.7119</td>\n",
       "      <td>0.2654</td>\n",
       "      <td>0.4601</td>\n",
       "      <td>0.11890</td>\n",
       "    </tr>\n",
       "    <tr>\n",
       "      <th>100</th>\n",
       "      <td>862717</td>\n",
       "      <td>M</td>\n",
       "      <td>13.61</td>\n",
       "      <td>24.98</td>\n",
       "      <td>88.05</td>\n",
       "      <td>582.7</td>\n",
       "      <td>0.09488</td>\n",
       "      <td>0.08511</td>\n",
       "      <td>0.08625</td>\n",
       "      <td>0.04489</td>\n",
       "      <td>...</td>\n",
       "      <td>16.99</td>\n",
       "      <td>35.27</td>\n",
       "      <td>108.60</td>\n",
       "      <td>906.5</td>\n",
       "      <td>0.1265</td>\n",
       "      <td>0.1943</td>\n",
       "      <td>0.3169</td>\n",
       "      <td>0.1184</td>\n",
       "      <td>0.2651</td>\n",
       "      <td>0.07397</td>\n",
       "    </tr>\n",
       "    <tr>\n",
       "      <th>200</th>\n",
       "      <td>877501</td>\n",
       "      <td>B</td>\n",
       "      <td>12.23</td>\n",
       "      <td>19.56</td>\n",
       "      <td>78.54</td>\n",
       "      <td>461.0</td>\n",
       "      <td>0.09586</td>\n",
       "      <td>0.08087</td>\n",
       "      <td>0.04187</td>\n",
       "      <td>0.04107</td>\n",
       "      <td>...</td>\n",
       "      <td>14.44</td>\n",
       "      <td>28.36</td>\n",
       "      <td>92.15</td>\n",
       "      <td>638.4</td>\n",
       "      <td>0.1429</td>\n",
       "      <td>0.2042</td>\n",
       "      <td>0.1377</td>\n",
       "      <td>0.1080</td>\n",
       "      <td>0.2668</td>\n",
       "      <td>0.08174</td>\n",
       "    </tr>\n",
       "    <tr>\n",
       "      <th>300</th>\n",
       "      <td>892438</td>\n",
       "      <td>M</td>\n",
       "      <td>19.53</td>\n",
       "      <td>18.90</td>\n",
       "      <td>129.50</td>\n",
       "      <td>1217.0</td>\n",
       "      <td>0.11500</td>\n",
       "      <td>0.16420</td>\n",
       "      <td>0.21970</td>\n",
       "      <td>0.10620</td>\n",
       "      <td>...</td>\n",
       "      <td>25.93</td>\n",
       "      <td>26.24</td>\n",
       "      <td>171.10</td>\n",
       "      <td>2053.0</td>\n",
       "      <td>0.1495</td>\n",
       "      <td>0.4116</td>\n",
       "      <td>0.6121</td>\n",
       "      <td>0.1980</td>\n",
       "      <td>0.2968</td>\n",
       "      <td>0.09929</td>\n",
       "    </tr>\n",
       "    <tr>\n",
       "      <th>400</th>\n",
       "      <td>90439701</td>\n",
       "      <td>M</td>\n",
       "      <td>17.91</td>\n",
       "      <td>21.02</td>\n",
       "      <td>124.40</td>\n",
       "      <td>994.0</td>\n",
       "      <td>0.12300</td>\n",
       "      <td>0.25760</td>\n",
       "      <td>0.31890</td>\n",
       "      <td>0.11980</td>\n",
       "      <td>...</td>\n",
       "      <td>20.80</td>\n",
       "      <td>27.78</td>\n",
       "      <td>149.60</td>\n",
       "      <td>1304.0</td>\n",
       "      <td>0.1873</td>\n",
       "      <td>0.5917</td>\n",
       "      <td>0.9034</td>\n",
       "      <td>0.1964</td>\n",
       "      <td>0.3245</td>\n",
       "      <td>0.11980</td>\n",
       "    </tr>\n",
       "    <tr>\n",
       "      <th>500</th>\n",
       "      <td>914862</td>\n",
       "      <td>B</td>\n",
       "      <td>15.04</td>\n",
       "      <td>16.74</td>\n",
       "      <td>98.73</td>\n",
       "      <td>689.4</td>\n",
       "      <td>0.09883</td>\n",
       "      <td>0.13640</td>\n",
       "      <td>0.07721</td>\n",
       "      <td>0.06142</td>\n",
       "      <td>...</td>\n",
       "      <td>16.76</td>\n",
       "      <td>20.43</td>\n",
       "      <td>109.70</td>\n",
       "      <td>856.9</td>\n",
       "      <td>0.1135</td>\n",
       "      <td>0.2176</td>\n",
       "      <td>0.1856</td>\n",
       "      <td>0.1018</td>\n",
       "      <td>0.2177</td>\n",
       "      <td>0.08549</td>\n",
       "    </tr>\n",
       "  </tbody>\n",
       "</table>\n",
       "<p>6 rows × 32 columns</p>\n",
       "</div>"
      ],
      "text/plain": [
       "           0  1      2      3       4       5        6        7        8   \\\n",
       "0      842302  M  17.99  10.38  122.80  1001.0  0.11840  0.27760  0.30010   \n",
       "100    862717  M  13.61  24.98   88.05   582.7  0.09488  0.08511  0.08625   \n",
       "200    877501  B  12.23  19.56   78.54   461.0  0.09586  0.08087  0.04187   \n",
       "300    892438  M  19.53  18.90  129.50  1217.0  0.11500  0.16420  0.21970   \n",
       "400  90439701  M  17.91  21.02  124.40   994.0  0.12300  0.25760  0.31890   \n",
       "500    914862  B  15.04  16.74   98.73   689.4  0.09883  0.13640  0.07721   \n",
       "\n",
       "          9    ...        22     23      24      25      26      27      28  \\\n",
       "0    0.14710   ...     25.38  17.33  184.60  2019.0  0.1622  0.6656  0.7119   \n",
       "100  0.04489   ...     16.99  35.27  108.60   906.5  0.1265  0.1943  0.3169   \n",
       "200  0.04107   ...     14.44  28.36   92.15   638.4  0.1429  0.2042  0.1377   \n",
       "300  0.10620   ...     25.93  26.24  171.10  2053.0  0.1495  0.4116  0.6121   \n",
       "400  0.11980   ...     20.80  27.78  149.60  1304.0  0.1873  0.5917  0.9034   \n",
       "500  0.06142   ...     16.76  20.43  109.70   856.9  0.1135  0.2176  0.1856   \n",
       "\n",
       "         29      30       31  \n",
       "0    0.2654  0.4601  0.11890  \n",
       "100  0.1184  0.2651  0.07397  \n",
       "200  0.1080  0.2668  0.08174  \n",
       "300  0.1980  0.2968  0.09929  \n",
       "400  0.1964  0.3245  0.11980  \n",
       "500  0.1018  0.2177  0.08549  \n",
       "\n",
       "[6 rows x 32 columns]"
      ]
     },
     "execution_count": 2,
     "metadata": {},
     "output_type": "execute_result"
    }
   ],
   "source": [
    "import pandas as pd; import urllib\n",
    "df = pd.read_csv('./data/wdbc.data', header=None)\n",
    "print('rows, columns:', df.shape); df[::100]"
   ]
  },
  {
   "cell_type": "code",
   "execution_count": 3,
   "metadata": {},
   "outputs": [
    {
     "data": {
      "text/plain": [
       "array(['M', 'B', 'M', 'B', 'B', 'M', 'M', 'B', 'M', 'B', 'B', 'B'], dtype=object)"
      ]
     },
     "execution_count": 3,
     "metadata": {},
     "output_type": "execute_result"
    }
   ],
   "source": [
    "# 암세포 진단 (target) : M (malignant(악성)), B (benign(양성))\n",
    "# 3~32 (parameters)  : 세포핵의 digital image 로부터 계산된 예측모델\n",
    "\n",
    "X = df.loc[:, 2:].values  # 세포핵 image 예측데이터\n",
    "y = df.loc[:, 1].values   # M, B 데이터\n",
    "y[::50]"
   ]
  },
  {
   "cell_type": "code",
   "execution_count": 4,
   "metadata": {},
   "outputs": [
    {
     "data": {
      "text/plain": [
       "array([1, 0])"
      ]
     },
     "execution_count": 4,
     "metadata": {},
     "output_type": "execute_result"
    }
   ],
   "source": [
    "from sklearn.preprocessing import LabelEncoder\n",
    "le = LabelEncoder()\n",
    "y = le.fit_transform(y)\n",
    "le.transform(['M', 'B'])  # String feacture 를 숫자로 변환 { 'M' : 1 , 'B' : 0 }"
   ]
  },
  {
   "cell_type": "code",
   "execution_count": 5,
   "metadata": {
    "collapsed": true
   },
   "outputs": [],
   "source": [
    "# 정리된 자료를 80% / 20% 로 나눈다\n",
    "from sklearn.model_selection import train_test_split\n",
    "X_train, X_test, y_train, y_test = train_test_split(X, y, test_size=0.20, random_state=1)"
   ]
  },
  {
   "cell_type": "markdown",
   "metadata": {},
   "source": [
    "### 02 Pipe LIne 내부 변환기에 estimater 결합하기\n",
    "데이터를 표준화 (standarized)"
   ]
  },
  {
   "cell_type": "code",
   "execution_count": 6,
   "metadata": {
    "collapsed": true
   },
   "outputs": [],
   "source": [
    "# 최적의 성능을 위해서는 머신러닝 알고리즘은 '동일한 스케일의 입력 feature' 를 필요로 한다\n",
    "# 떄문에 데이터를 '표준화'할 필요가 있다\n",
    "# PCA 주성분 분석으로 '차원축소'를 활용하여, 30개의 feature를 2차원의 부분공간으로 데이터를 압축하자"
   ]
  },
  {
   "cell_type": "code",
   "execution_count": 7,
   "metadata": {
    "collapsed": true
   },
   "outputs": [],
   "source": [
    "from sklearn.preprocessing import StandardScaler\n",
    "from sklearn.decomposition import PCA\n",
    "from sklearn.linear_model import LogisticRegression\n",
    "from sklearn.pipeline import Pipeline"
   ]
  },
  {
   "cell_type": "code",
   "execution_count": 8,
   "metadata": {},
   "outputs": [
    {
     "data": {
      "text/plain": [
       "Pipeline(steps=[('scl', StandardScaler(copy=True, with_mean=True, with_std=True)), ('pca', PCA(copy=True, iterated_power='auto', n_components=2, random_state=None,\n",
       "  svd_solver='auto', tol=0.0, whiten=False)), ('clf', LogisticRegression(C=1.0, class_weight=None, dual=False, fit_intercept=True,\n",
       "          intercept_scaling=1, max_iter=100, multi_class='ovr', n_jobs=1,\n",
       "          penalty='l2', random_state=1, solver='liblinear', tol=0.0001,\n",
       "          verbose=0, warm_start=False))])"
      ]
     },
     "execution_count": 8,
     "metadata": {},
     "output_type": "execute_result"
    }
   ],
   "source": [
    "# 로지스틱 회귀분류기 PipeLine\n",
    "# Pipeline 에 StandardScaler, PCA, LogisticRegression 등의 오브젝트를 연결\n",
    "# Pipeline 의 입력은 tuple로써 중간단계 갯수에는 제한이 없다.\n",
    "pipe_lr = Pipeline([('scl', StandardScaler()),     # 데이터를 평균화 (StandardScaler())\n",
    "                    ('pca', PCA(n_components=2)),  # 이를 기초로 PCA (주성분분석 2개로 나눔)\n",
    "                    ('clf', LogisticRegression(random_state=1))])  # estimator (로지스틱회귀분석) \n",
    "pipe_lr"
   ]
  },
  {
   "cell_type": "code",
   "execution_count": 9,
   "metadata": {},
   "outputs": [
    {
     "name": "stdout",
     "output_type": "stream",
     "text": [
      "Test Accuracy: 0.947\n"
     ]
    }
   ],
   "source": [
    "pipe_lr.fit(X_train, y_train)  \n",
    "print('Test Accuracy: %.3f' % pipe_lr.score(X_test, y_test))\n",
    "y_pred = pipe_lr.predict(X_test)"
   ]
  },
  {
   "cell_type": "markdown",
   "metadata": {},
   "source": [
    "Pipe Line의 동작 개념 요약도\n",
    "\n",
    "<img src=\"http://karlrosaen.com/ml/learning-log/2016-06-20/pipeline-diagram.png\" align='left' width='400'>"
   ]
  },
  {
   "cell_type": "markdown",
   "metadata": {},
   "source": [
    "## 2 K-fold 교차검증을 통한 모델성능 평가\n",
    "수용가능한 'bias - 분산' 간의 균형점 예측\n",
    "\n",
    "over/ under fitting 을 방지하는 균형점 예측 : holdout / k-fold 교차검증"
   ]
  },
  {
   "cell_type": "markdown",
   "metadata": {},
   "source": [
    "### 01 Hold Out  .method\n",
    "머신러닝의 '일반화 성능을 추정'하는 전통적 평가모델\n",
    "\n",
    "모델선택 : 데이터 예측성능을 개선하기 위한 '파라미터설정' 및 '튜닝'의 과정으로, 주어진 분류문제에 대한 퓨팅파라미터의 최적값을 선택\n",
    "\n",
    "<img src=\"http://www.cs.nthu.edu.tw/~shwu/courses/ml/labs/08_CV_Ensembling/fig-holdout.png\" align='left' width='400'>"
   ]
  },
  {
   "cell_type": "code",
   "execution_count": 10,
   "metadata": {
    "collapsed": true
   },
   "outputs": [],
   "source": [
    "# 1 train (훈련용) / test(성능추정용) 로 데이터를 나눈다\n",
    "# 2 모델선택(성능개선을 위해 parameter 설정을 tuning)을 동일한 데이터를 활용하면 overfit 이 발생\n",
    "# 3 따라서, train/ test/ valid(검증데이터) 3개로 분할\n",
    "# 4 성능을 반복 평가하시 valid 데이터를 사용하여 일반화 오차를 추정\n",
    "# 5 단점 : train/ vaild 를 나눈 방식에 따라 성능에 민감한 영향 >>> k-fold 교차검증시 이를 극복"
   ]
  },
  {
   "cell_type": "markdown",
   "metadata": {},
   "source": [
    "### 02 k-fold 교차검증\n",
    "train 데이터를 '보정없이 임의'의 'k'묶음으로 나눈다. (추출시 '비복원 추출')\n",
    "\n",
    "k1은 train에 활용, 나머지 1개는 test에 활용 \n",
    "\n",
    "k번 반복되는 동안 k개 모델과 성능의 추정치를 연산가능\n",
    "\n",
    "<img src=\"http://blog-test.goldenhelix.com/wp-content/uploads/2015/04/B-fig-1.jpg\" align=\"left\">"
   ]
  },
  {
   "cell_type": "code",
   "execution_count": 11,
   "metadata": {
    "collapsed": true
   },
   "outputs": [],
   "source": [
    "# 1 hold out 에 비해, '부분분할'에 덜 민감한 추정치를 계산가능\n",
    "# 2 추정 hyper parametor 를 찾으면, train 전체로 재훈련 및 vaild 로 '최종성능 추정치'를 연산가능\n",
    "# 3 k-fold 는 보정이 없는 재샘플링 기법으로 결과는 '낮은 분산'을 갖는다 (overfitting 우려)\n",
    "# 4 k분할 중 1개 묶음은, 전체를 추정하는 일부분으로써 활용"
   ]
  },
  {
   "cell_type": "code",
   "execution_count": 12,
   "metadata": {
    "collapsed": true
   },
   "outputs": [],
   "source": [
    "# 1 k 는 10을 일반적 사용, 데이터가 작으면 k를 늘리면 유용하다\n",
    "# 2 k 값이 작으면 : k-fold를 활용한 변별력이 적음\n",
    "# 3 k 값이 크면 : 학습시간이 오래걸리고, 개별 추정치의 평균으로 일반화가 곤란 (overfit)\n",
    "# 4 Leave One Out(LOO) 기법 : k를 n갯수 만큼 나눠서 설정 (k=n) 은 데이터가 매우 작을 떄 활용"
   ]
  },
  {
   "cell_type": "code",
   "execution_count": 13,
   "metadata": {
    "collapsed": true
   },
   "outputs": [],
   "source": [
    "# kfold iterator를 (k = 10 분할) 생성\n",
    "import numpy as np\n",
    "from sklearn.model_selection import StratifiedKFold\n",
    "kfold = StratifiedKFold(n_splits=10, random_state=1).split(X_train, y_train)\n",
    "scores = []"
   ]
  },
  {
   "cell_type": "code",
   "execution_count": 14,
   "metadata": {},
   "outputs": [
    {
     "name": "stdout",
     "output_type": "stream",
     "text": [
      "k-fold: 1, Class dist.: [256 153], 정확도(Acc): 0.891\n",
      "k-fold: 2, Class dist.: [256 153], 정확도(Acc): 0.978\n",
      "k-fold: 3, Class dist.: [256 153], 정확도(Acc): 0.978\n",
      "k-fold: 4, Class dist.: [256 153], 정확도(Acc): 0.913\n",
      "k-fold: 5, Class dist.: [256 153], 정확도(Acc): 0.935\n",
      "k-fold: 6, Class dist.: [257 153], 정확도(Acc): 0.978\n",
      "k-fold: 7, Class dist.: [257 153], 정확도(Acc): 0.933\n",
      "k-fold: 8, Class dist.: [257 153], 정확도(Acc): 0.956\n",
      "k-fold: 9, Class dist.: [257 153], 정확도(Acc): 0.978\n",
      "k-fold: 10, Class dist.: [257 153], 정확도(Acc): 0.956\n"
     ]
    }
   ],
   "source": [
    "# pipe_lr 파이프라인을 kfold iterator를 사용해 묶음을 반복\n",
    "for k, (train, test) in enumerate(kfold):\n",
    "    pipe_lr.fit(X_train[train], y_train[train])  \n",
    "    score = pipe_lr.score(X_train[test], y_train[test])  # k 묶음의 '정확도'를 연산\n",
    "    scores.append(score)\n",
    "    print('k-fold: %s, Class dist.: %s, 정확도(Acc): %.3f' % (k+1, np.bincount(y_train[train]), score))    "
   ]
  },
  {
   "cell_type": "code",
   "execution_count": 15,
   "metadata": {},
   "outputs": [
    {
     "name": "stdout",
     "output_type": "stream",
     "text": [
      "\n",
      "평균 정확도(CV accuracy) : 0.950  \n",
      "추정치의 표준편차(CV svr) : +/- 0.029\n"
     ]
    }
   ],
   "source": [
    "# 평균정확도 와 '추정치의 표준편차'를 계산\n",
    "print('\\n평균 정확도(CV accuracy) : %.3f  \\n추정치의 표준편차(CV svr) : +/- %.3f' % (np.mean(scores), np.std(scores)))"
   ]
  },
  {
   "cell_type": "code",
   "execution_count": 16,
   "metadata": {},
   "outputs": [
    {
     "name": "stdout",
     "output_type": "stream",
     "text": [
      "CV accuracy scores: [ 0.89130435  0.97826087  0.97826087  0.91304348  0.93478261  0.97777778\n",
      "  0.93333333  0.95555556  0.97777778  0.95555556]\n"
     ]
    }
   ],
   "source": [
    "# pipe_lr의 성능테스트시 복수의 CPU로 분산평가가능\n",
    "# n_jobs = 1 (하나의 cpu) / 2 (두개로 병렬) / -1 (가능한 모든 CPU 수를 활용) \n",
    "from sklearn.model_selection import cross_val_score\n",
    "\n",
    "scores = cross_val_score(estimator=pipe_lr, X=X_train, y=y_train, cv=10, n_jobs=-1)\n",
    "print('CV accuracy scores: %s' % scores)"
   ]
  },
  {
   "cell_type": "code",
   "execution_count": 17,
   "metadata": {},
   "outputs": [
    {
     "name": "stdout",
     "output_type": "stream",
     "text": [
      "CV accuracy: 0.950 +/- 0.029\n"
     ]
    }
   ],
   "source": [
    "print('CV accuracy: %.3f +/- %.3f' % (np.mean(scores), np.std(scores)))"
   ]
  },
  {
   "cell_type": "markdown",
   "metadata": {},
   "source": [
    "## 3 '학습곡선'과 '검증곡선'에 의한 알고리즘 디버깅\n",
    "학습데이터의 overfit(심각한 분산) underfit(심한 bias) 진단을 위한 학습곡선의 활용"
   ]
  },
  {
   "cell_type": "markdown",
   "metadata": {},
   "source": [
    "### 01 학습곡선에 의한 bias와 분산\n",
    "데이터가 복잡한 경우(자유도 큰경우) : 지나친 overfit으로 일반화가 어렵다\n",
    "\n",
    "<img src=\"https://sebastianraschka.com/images/faq/ml-solvable/bias-variance.png\" align=\"left\">"
   ]
  },
  {
   "cell_type": "code",
   "execution_count": 18,
   "metadata": {
    "collapsed": true
   },
   "outputs": [],
   "source": [
    "# 왼쪽의 그래프 (높은 bias) - underfit(너무 일반화)\n",
    "# 문제점 : 예측은 용이하나, 최적화 (훈련정확도, 교차검증 정확도 모두 낮음) 부족\n",
    "# 해결책 : feature의 수 추가 (SVM, 로지스틱회귀분류), 파라미터를 더 생동감 있게 증가 (정규화 수준의 감소)"
   ]
  },
  {
   "cell_type": "code",
   "execution_count": 19,
   "metadata": {
    "collapsed": true
   },
   "outputs": [],
   "source": [
    "# 오른쪽 높은 분산의 그래프 (높은 variance) - overfit(과적합)\n",
    "# 문제점 : 샘플에 과 최적화 (훈련의 정확도와 교차검증의 정확도 의 차이가 크다)  \n",
    "# 해결책 : 정규화 파라미터 증가, feature의 선택 / 추출로 데이터를 줄인다\n",
    "# 한계  : 단, 데이터에 잡음이 많거나, 이미 상당부분 최적화 딘경우에는 도움이 되지 않는다."
   ]
  },
  {
   "cell_type": "code",
   "execution_count": 20,
   "metadata": {
    "collapsed": true
   },
   "outputs": [],
   "source": [
    "import matplotlib.pyplot as plt\n",
    "from sklearn.model_selection import learning_curve  # learning_curve() : train 데이터를 설정\n",
    "\n",
    "pipe_lr = Pipeline([('scl', StandardScaler()),\n",
    "                    ('clf', LogisticRegression(penalty='l2', random_state=0))])"
   ]
  },
  {
   "cell_type": "code",
   "execution_count": 21,
   "metadata": {
    "collapsed": true
   },
   "outputs": [],
   "source": [
    "# learning_curve() : train 데이터를 설정\n",
    "# train_sizes = np.linspace(0.1, 1.0, 10) : 시작점과 끝점을 균일 간격으로 나눈다 (10배수 간격을 사용)\n",
    "# cv = 10 : k-fold 교차검증(Cross Valid)을 사용 \n",
    "train_sizes, train_scores, test_scores =\\\n",
    "                learning_curve(estimator=pipe_lr,  X=X_train,  y=y_train,\n",
    "                               train_sizes=np.linspace(0.1, 1.0, 10),  cv=10,  n_jobs=1)"
   ]
  },
  {
   "cell_type": "code",
   "execution_count": 22,
   "metadata": {
    "collapsed": true
   },
   "outputs": [],
   "source": [
    "# row 방향으로 평균과 분산을 계산\n",
    "train_mean = np.mean(train_scores, axis=1)  \n",
    "train_std = np.std(train_scores, axis=1)\n",
    "test_mean = np.mean(test_scores, axis=1)\n",
    "test_std = np.std(test_scores, axis=1)"
   ]
  },
  {
   "cell_type": "code",
   "execution_count": 23,
   "metadata": {
    "scrolled": true
   },
   "outputs": [
    {
     "data": {
      "image/png": "[encoded data removed]",
      "text/plain": [
       "<matplotlib.figure.Figure at 0x7fbb8c201b70>"
      ]
     },
     "metadata": {},
     "output_type": "display_data"
    }
   ],
   "source": [
    "# '훈련 정확도'와 '교차검증 정확'도 곡선의 차이를 시각화\n",
    "# plt.fill_between (x, y1, y2)     # y1과 y2 의 사이를 공간을 채운다\n",
    "plt.plot(train_sizes, train_mean,  # training accuracy ploting (train_mean)\n",
    "         color='blue', marker='o', markersize=5, label='training accuracy')\n",
    "plt.fill_between(train_sizes, train_mean + train_std, train_mean - train_std,\n",
    "                 alpha=0.15, color='blue')\n",
    "\n",
    "plt.plot(train_sizes, test_mean,   # validation accuracy ploting (test_mean)\n",
    "         color='green', linestyle='--',marker='s', markersize=5, label='validation accuracy')\n",
    "plt.fill_between(train_sizes, test_mean + test_std, test_mean - test_std,\n",
    "                 alpha=0.15, color='green')\n",
    "\n",
    "plt.grid(); plt.xlabel('Number of training samples'); plt.ylabel('Accuracy')\n",
    "plt.legend(loc='lower right'); plt.ylim([0.8, 1.0]) ; plt.show()"
   ]
  },
  {
   "cell_type": "markdown",
   "metadata": {},
   "source": [
    "### 02 검증곡선을 활용한 overfit, underfit 다루기\n",
    "logistic 회귀의 '역정규화 파라미터'등 다양한 파라미터를 제공"
   ]
  },
  {
   "cell_type": "code",
   "execution_count": 24,
   "metadata": {
    "collapsed": true
   },
   "outputs": [],
   "source": [
    "# validation_curve() : k-fold() 교차검증을 활용하여 모델의 성능을 추정\n",
    "# param_name='clf__C': 역 정규화 파라미터를 활성화를 통해, pipeline 내부의 LogisticRegressin 오브젝트에 접근\n",
    "from sklearn.model_selection import validation_curve\n",
    "\n",
    "param_range = [0.001, 0.01, 0.1, 1.0, 10.0, 100.0]\n",
    "train_scores, test_scores = validation_curve( X = X_train, y = y_train,\n",
    "                estimator=pipe_lr, param_name='clf__C', param_range=param_range, cv=10)"
   ]
  },
  {
   "cell_type": "code",
   "execution_count": 25,
   "metadata": {
    "collapsed": true
   },
   "outputs": [],
   "source": [
    "train_mean = np.mean(train_scores, axis=1)\n",
    "train_std = np.std(train_scores, axis=1)\n",
    "test_mean = np.mean(test_scores, axis=1)\n",
    "test_std = np.std(test_scores, axis=1)"
   ]
  },
  {
   "cell_type": "code",
   "execution_count": 26,
   "metadata": {},
   "outputs": [
    {
     "data": {
      "image/png": "[encoded data removed]",
      "text/plain": [
       "<matplotlib.figure.Figure at 0x7fbb8c12d6d8>"
      ]
     },
     "metadata": {},
     "output_type": "display_data"
    }
   ],
   "source": [
    "# training accuracy ploting (train_mean)\n",
    "plt.plot(param_range, train_mean, label='training accuracy',\n",
    "         color='blue', marker='o', markersize=5)\n",
    "plt.fill_between(param_range, train_mean + train_std, train_mean - train_std, \n",
    "                 alpha=0.15,color='blue')\n",
    "\n",
    "# validation accuracy ploting (test_mean)\n",
    "plt.plot(param_range, test_mean, label='validation accuracy',\n",
    "         color='green', linestyle='--', marker='s', markersize=5)\n",
    "plt.fill_between(param_range,  test_mean + test_std,  test_mean - test_std, \n",
    "                 alpha=0.15, color='green')\n",
    "\n",
    "plt.grid();  plt.legend(loc='lower right');  plt.xscale('log');  plt.ylim([0.8, 1.0]); \n",
    "plt.xlabel('Parameter C');  plt.ylabel('Accuracy');  plt.show()"
   ]
  },
  {
   "cell_type": "markdown",
   "metadata": {},
   "source": [
    "## 4 그리드 검색을 사용한 머신러닝 모델의 미세튜닝\n",
    "훈련 데이터 학습된 파라미터, 별도 최적화된 학습 파라미터(튜닝 파라미터) 값들의 최적 결함을 찾음"
   ]
  },
  {
   "cell_type": "markdown",
   "metadata": {},
   "source": [
    "### 01 그리드 검색을 통한 Hyper Parametor 튜닝\n",
    "Grid Search 사용자가 설정한 Hyper Parametor 목록을, k-fold 교차검정으로 성능을 평가"
   ]
  },
  {
   "cell_type": "code",
   "execution_count": 27,
   "metadata": {
    "collapsed": true
   },
   "outputs": [],
   "source": [
    "# 우선 SVM 의 파이프라인을 훈련\n",
    "from sklearn.svm import SVC\n",
    "pipe_svc = Pipeline([('scl', StandardScaler()),\n",
    "                     ('clf', SVC(random_state=1))])"
   ]
  },
  {
   "cell_type": "code",
   "execution_count": 28,
   "metadata": {
    "collapsed": true
   },
   "outputs": [],
   "source": [
    "# param_grid = : 튜닝을 위한 파라미터를 설정 \n",
    "param_range = [0.0001, 0.001, 0.01, 0.1, 1.0, 10.0, 100.0, 1000.0]  # 튜닝을 위한 변수값 목록\n",
    "param_grid = [{'clf__C': param_range, 'clf__kernel': ['linear']},                         # linear svm 설정조합\n",
    "              {'clf__C': param_range, 'clf__gamma': param_range, 'clf__kernel': ['rbf']}] # rbf svm 설정조합"
   ]
  },
  {
   "cell_type": "code",
   "execution_count": 29,
   "metadata": {
    "collapsed": true
   },
   "outputs": [],
   "source": [
    "# GridSearchCV 오브젝트 초기화 및 param_range 의 최적조합을 출력\n",
    "from sklearn.model_selection import GridSearchCV\n",
    "gs = GridSearchCV(estimator = pipe_svc, param_grid = param_grid, \n",
    "                  scoring='accuracy', cv=10, n_jobs=-1)\n",
    "gs = gs.fit(X_train, y_train)"
   ]
  },
  {
   "cell_type": "code",
   "execution_count": 30,
   "metadata": {},
   "outputs": [
    {
     "name": "stdout",
     "output_type": "stream",
     "text": [
      "Best Score :  0.978021978022 \n",
      "Best Param :  {'clf__C': 0.1, 'clf__kernel': 'linear'}\n"
     ]
    }
   ],
   "source": [
    "# .best_score_  : 최고성능의 스코어를 출력\n",
    "# .best_params_ : 최고성능의 파라미터를 접근 후 출력 \n",
    "print(\"Best Score : \", gs.best_score_, \"\\nBest Param : \", gs.best_params_)"
   ]
  },
  {
   "cell_type": "code",
   "execution_count": 31,
   "metadata": {},
   "outputs": [
    {
     "name": "stdout",
     "output_type": "stream",
     "text": [
      "Test accuracy: 0.965\n"
     ]
    }
   ],
   "source": [
    "# .best_estimator_ : 최고성능으로 추출된 모델을 테스트 : 독립테스트 시행\n",
    "clf = gs.best_estimator_\n",
    "clf.fit(X_train, y_train)\n",
    "print('Test accuracy: %.3f' % clf.score(X_test, y_test))"
   ]
  },
  {
   "cell_type": "code",
   "execution_count": 32,
   "metadata": {
    "collapsed": true
   },
   "outputs": [],
   "source": [
    "# 단 위의 경우는 모든 파라미터의 조합을 평가해서 비용이 비싸다\n",
    "# 떄문에 RandomizedSearchCV 클래스를 사용하면 파라미터 조합을 임의로 활용해 효과적이다"
   ]
  },
  {
   "cell_type": "markdown",
   "metadata": {},
   "source": [
    "### 02 중첩 교차검증으로 알고리즘 선택하기\n",
    "중첩교차검증시 상대적 bias가 없는 결과를 도출가능 (2006, Varma & Simon)\n",
    "\n",
    "<img src='https://sebastianraschka.com/images/faq/evaluate-a-model/k-fold.png' align='left'>"
   ]
  },
  {
   "cell_type": "code",
   "execution_count": 33,
   "metadata": {
    "collapsed": true
   },
   "outputs": [],
   "source": [
    "# 1 '외부 k-fold 교차검증루프'를 통해서 'train 묶음', 'test 묶음'으로 데이터를 나눈다\n",
    "# 2 '내부loop'는 'train 묶음'에 'k-fold 교차검증'을 통해서 모델을 선택\n",
    "# 3 'test 묶음'으로 모델의 성능을 평가한다\n",
    "# 4 총 n개의 외부묶음과, m개의 내부묶음을 통해서 중첩 교차검증을 반복한다"
   ]
  },
  {
   "cell_type": "code",
   "execution_count": 34,
   "metadata": {},
   "outputs": [
    {
     "name": "stdout",
     "output_type": "stream",
     "text": [
      "CV accuracy: 0.965 +/- 0.025\n"
     ]
    }
   ],
   "source": [
    "# scikit-learn 을 활용한 중첩 교차검증을 수행한다\n",
    "# Grid Search 를 설정\n",
    "gs = GridSearchCV(estimator=pipe_svc,\n",
    "                  param_grid=param_grid, scoring='accuracy', cv=2)\n",
    "# GS를 근거로 교차검증을 수행한다\n",
    "scores = cross_val_score(gs, X_train, y_train, scoring='accuracy', cv=5)\n",
    "print('CV accuracy: %.3f +/- %.3f' % (np.mean(scores), np.std(scores)))"
   ]
  },
  {
   "cell_type": "code",
   "execution_count": 35,
   "metadata": {
    "collapsed": true
   },
   "outputs": [],
   "source": [
    "# Note: Optionally, you could use cv=2 \n",
    "# in the GridSearchCV above to produce\n",
    "# the 5 x 2 nested CV that is shown in the figure."
   ]
  },
  {
   "cell_type": "code",
   "execution_count": 36,
   "metadata": {},
   "outputs": [
    {
     "name": "stdout",
     "output_type": "stream",
     "text": [
      "CV accuracy: 0.921 +/- 0.029\n"
     ]
    }
   ],
   "source": [
    "# 튜닝결과를 새로운 데이터에 사용시 '평균교차검증 정확도'를 추정가능\n",
    "# 간단한 의사결정 나무 분류기와 , SVM 교차모델의 성능을 비교\n",
    "from sklearn.tree import DecisionTreeClassifier\n",
    "\n",
    "gs = GridSearchCV(estimator=DecisionTreeClassifier(random_state=0),\n",
    "                  param_grid=[{'max_depth': [1, 2, 3, 4, 5, 6, 7, None]}],\n",
    "                  scoring='accuracy',\n",
    "                  cv=2)\n",
    "scores = cross_val_score(gs, X_train, y_train, scoring='accuracy', cv=5)\n",
    "print('CV accuracy: %.3f +/- %.3f' % (np.mean(scores), np.std(scores)))"
   ]
  },
  {
   "cell_type": "code",
   "execution_count": 37,
   "metadata": {
    "collapsed": true
   },
   "outputs": [],
   "source": [
    "# 결론\n",
    "# CV accuracy가 Decision Tree 는 92%, SVM cross-vaild 는 96.5%로 더 효과적인 결론이 도출가능 "
   ]
  },
  {
   "cell_type": "markdown",
   "metadata": {},
   "source": [
    "## 5 여러가지 성능평가 메트릭 살펴보기\n",
    "CV Accuracy는 정량에눈 유용하나, 정확도(Precision), 리콜(Recall), F1-score 등의 '신뢰성'측정을 위한 다른 평가가 필요"
   ]
  },
  {
   "cell_type": "markdown",
   "metadata": {},
   "source": [
    "### 01 Confusion Matrix (학습알고리즘 성능을 배치한 행렬)\n",
    "진짜 레이블과 예측 레이블을 비교하면 matrix 완성이 가능\n",
    "\n",
    "<img src='https://cdn-images-1.medium.com/max/1600/1*Er092IG0VlWt5cuOh7EQ8g.png' align='left' width='500'>"
   ]
  },
  {
   "cell_type": "code",
   "execution_count": 38,
   "metadata": {},
   "outputs": [
    {
     "name": "stdout",
     "output_type": "stream",
     "text": [
      "[[71  1]\n",
      " [ 2 40]]\n"
     ]
    }
   ],
   "source": [
    "# scikit-learnd을 활용한 confusion_matrix 구현\n",
    "# scikit-learn 에서는 '1'을 자동적으로 양성으로 인식하고 연산을 한다!\n",
    "from sklearn.metrics import confusion_matrix\n",
    "\n",
    "pipe_svc.fit(X_train, y_train)\n",
    "y_pred = pipe_svc.predict(X_test)\n",
    "confmat = confusion_matrix(y_true=y_test, y_pred=y_pred)\n",
    "print(confmat)"
   ]
  },
  {
   "cell_type": "code",
   "execution_count": 39,
   "metadata": {},
   "outputs": [
    {
     "data": {
      "image/png": "[encoded data removed]",
      "text/plain": [
       "<matplotlib.figure.Figure at 0x7fbb7fd4d2b0>"
      ]
     },
     "metadata": {},
     "output_type": "display_data"
    }
   ],
   "source": [
    "# .matshow() 를 통해서 Matrix를 매핑가능\n",
    "fig, ax = plt.subplots(figsize=(2.5, 2.5))\n",
    "ax.matshow(confmat, cmap=plt.cm.Blues, alpha=0.3) # heat map\n",
    "for i in range(confmat.shape[0]):                 # map 위에 연산결과 숫자를 입력한다.\n",
    "    for j in range(confmat.shape[1]):\n",
    "        ax.text(x=j, y=i, s=confmat[i, j], va='center', ha='center')\n",
    "\n",
    "plt.xlabel('predicted label'); plt.ylabel('true label'); plt.show()"
   ]
  },
  {
   "cell_type": "code",
   "execution_count": 40,
   "metadata": {
    "collapsed": true
   },
   "outputs": [],
   "source": [
    "# [[양성예측 양성실측,  음성예측 양성실측] , [양성예측 음성실측, 음성예측 음성실측]] \n",
    "# 진양성 71개, 진음성 40개로 '샘플을 정확히 예측' : 0.9736842105263158 의 정확도\n",
    "# 이를 통해 '오차 matrix'이 어떻게 연산 가능한지를 학습한다"
   ]
  },
  {
   "cell_type": "markdown",
   "metadata": {},
   "source": [
    "### 01-1  matrix 결과를 재정렬\n",
    "index 0,0의 의미를 위 표와 같이 정렬을 원하는 경우 설정방법"
   ]
  },
  {
   "cell_type": "code",
   "execution_count": 41,
   "metadata": {},
   "outputs": [
    {
     "data": {
      "text/plain": [
       "array([1, 0])"
      ]
     },
     "execution_count": 41,
     "metadata": {},
     "output_type": "execute_result"
    }
   ],
   "source": [
    "# '양성'(1) '음성'(0) 을 수치로 변환했었다 \n",
    "le.transform(['M', 'B'])"
   ]
  },
  {
   "cell_type": "code",
   "execution_count": 42,
   "metadata": {},
   "outputs": [
    {
     "name": "stdout",
     "output_type": "stream",
     "text": [
      "[[71  1]\n",
      " [ 2 40]]\n"
     ]
    }
   ],
   "source": [
    "# scikit-learnd을 활용한 confusion_matrix 구현\n",
    "from sklearn.metrics import confusion_matrix\n",
    "\n",
    "confmat = confusion_matrix(y_true=y_test, y_pred=y_pred)\n",
    "print(confmat)"
   ]
  },
  {
   "cell_type": "code",
   "execution_count": 43,
   "metadata": {},
   "outputs": [
    {
     "name": "stdout",
     "output_type": "stream",
     "text": [
      "[[40  2]\n",
      " [ 1 71]]\n"
     ]
    }
   ],
   "source": [
    "# 0 은 '음성'의 의미로써, index 0, 0은 '음성예측,음성실측'데이터다\n",
    "# label 이 없는 [ list map ]으로는  자칫 오해를 할 수 있으므로 \n",
    "# index 1,1의 위치로 재배치를 원한다면, labels argument를 다음과 같이 설정하면  된다.\n",
    "confmat = confusion_matrix(y_true=y_test, y_pred=y_pred, labels=[1, 0])\n",
    "print(confmat)"
   ]
  },
  {
   "cell_type": "markdown",
   "metadata": {},
   "source": [
    "### 02 분류 모델의 정밀도와 리콜의 최적화\n",
    "F1-score (정밀도와 리콜의 조합) : 2 x 정밀도 x 리콜 / 정밀도 + 리콜\n",
    "\n",
    "<img src=\"https://image.slidesharecdn.com/qconrio-machinelearningforeveryone-150826200704-lva1-app6892/95/qcon-rio-machine-learning-for-everyone-51-638.jpg\" align='left' width='550'>"
   ]
  },
  {
   "cell_type": "code",
   "execution_count": 57,
   "metadata": {
    "collapsed": true
   },
   "outputs": [],
   "source": [
    "# 1 정밀도(Precision, PRE)\n",
    "#  양성판단,임신 / 양성판단,임신 + 양성판단,비임신\n",
    "#  ex) '양성판단'중 '실제임신'(분모) 비율 (양성판단 대상)\n",
    "\n",
    "# 2 리콜(recall, REC), 진양성비율, 민감도(Sensitivity)\n",
    "#  양성판단,임신 / 양성판단,임신 + 비임신판단,임신\n",
    "#  ex) '실제임신'을 '양성판단'(분모) 비율 (임신자 대상)"
   ]
  },
  {
   "cell_type": "code",
   "execution_count": 44,
   "metadata": {},
   "outputs": [
    {
     "name": "stdout",
     "output_type": "stream",
     "text": [
      "Precision: 0.976\n",
      "Recall   : 0.952\n",
      "F1       : 0.964\n"
     ]
    }
   ],
   "source": [
    "# scikit-learn에는 위 공식들이 구현되어 있다\n",
    "# scikit-learn 에서는 '1'을 자동적으로 양성으로 인식하고 연산을 한다!\n",
    "from sklearn.metrics import precision_score, recall_score, f1_score\n",
    "\n",
    "print('Precision: %.3f' % precision_score(y_true=y_test, y_pred=y_pred))\n",
    "print('Recall   : %.3f' % recall_score(y_true=y_test, y_pred=y_pred))\n",
    "print('F1       : %.3f' % f1_score(y_true=y_test, y_pred=y_pred))"
   ]
  },
  {
   "cell_type": "code",
   "execution_count": 45,
   "metadata": {},
   "outputs": [
    {
     "name": "stdout",
     "output_type": "stream",
     "text": [
      "Best Score :  0.982798668208 \n",
      "Best Param :  {'clf__C': 0.1, 'clf__kernel': 'linear'}\n"
     ]
    }
   ],
   "source": [
    "from sklearn.metrics import make_scorer\n",
    "\n",
    "scorer = make_scorer(f1_score, pos_label=0)\n",
    "c_gamma_range = [0.01, 0.1, 1.0, 10.0]\n",
    "param_grid = [{'clf__C': c_gamma_range, 'clf__kernel': ['linear']},\n",
    "              {'clf__C': c_gamma_range, 'clf__gamma': c_gamma_range, 'clf__kernel': ['rbf']}]\n",
    "gs = GridSearchCV(estimator=pipe_svc, param_grid=param_grid,\n",
    "                  scoring=scorer, cv=10, n_jobs=-1)\n",
    "gs = gs.fit(X_train, y_train)\n",
    "\n",
    "print(\"Best Score : \", gs.best_score_, \"\\nBest Param : \", gs.best_params_)"
   ]
  },
  {
   "cell_type": "markdown",
   "metadata": {},
   "source": [
    "## 6 Receiver Operating Characteristic 플로팅\n",
    "ROC-curve(수신자 판단특성곡선) 는 결정 임계치를 이동함으로써, '가양성비율'과 '진양성비율'를 기반으로 모델을 선택하는 도구"
   ]
  },
  {
   "cell_type": "code",
   "execution_count": 46,
   "metadata": {
    "collapsed": true
   },
   "outputs": [],
   "source": [
    "from sklearn.metrics import roc_curve, auc\n",
    "from scipy import interp\n",
    "\n",
    "pipe_lr = Pipeline([('scl', StandardScaler()),\n",
    "                    ('pca', PCA(n_components=2)),\n",
    "                    ('clf', LogisticRegression(penalty='l2', \n",
    "                                               random_state=0, C=100.0))])\n",
    "X_train2 = X_train[:, [4, 14]]\n",
    "cv = list(StratifiedKFold(n_splits=3, random_state=1).split(X_train, y_train))"
   ]
  },
  {
   "cell_type": "code",
   "execution_count": 47,
   "metadata": {
    "collapsed": true
   },
   "outputs": [],
   "source": [
    "mean_tpr = 0.0\n",
    "mean_fpr = np.linspace(0, 1, 100)\n",
    "all_tpr = []"
   ]
  },
  {
   "cell_type": "code",
   "execution_count": 48,
   "metadata": {
    "collapsed": true
   },
   "outputs": [],
   "source": [
    "fig = plt.figure(figsize=(7, 5))\n",
    "for i, (train, test) in enumerate(cv):\n",
    "    probas = pipe_lr.fit(X_train2[train],\n",
    "                         y_train[train]).predict_proba(X_train2[test])\n",
    "\n",
    "    fpr, tpr, thresholds = roc_curve(y_train[test],\n",
    "                                     probas[:, 1], pos_label=1)\n",
    "    mean_tpr += interp(mean_fpr, fpr, tpr)\n",
    "    mean_tpr[0] = 0.0\n",
    "    roc_auc = auc(fpr, tpr)\n",
    "    plt.plot(fpr, tpr, lw=1, label='ROC fold %d (area = %0.2f)' % (i+1, roc_auc))"
   ]
  },
  {
   "cell_type": "code",
   "execution_count": 49,
   "metadata": {
    "collapsed": true
   },
   "outputs": [],
   "source": [
    "mean_tpr /= len(cv)\n",
    "mean_tpr[-1] = 1.0\n",
    "mean_auc = auc(mean_fpr, mean_tpr)"
   ]
  },
  {
   "cell_type": "code",
   "execution_count": 50,
   "metadata": {},
   "outputs": [
    {
     "data": {
      "image/png": "[encoded data removed]",
      "text/plain": [
       "<matplotlib.figure.Figure at 0x7fbb7fcf47f0>"
      ]
     },
     "metadata": {},
     "output_type": "display_data"
    }
   ],
   "source": [
    "plt.plot([0, 1], [0, 1], linestyle='--',\n",
    "         color=(0.6, 0.6, 0.6), label='random guessing')\n",
    "\n",
    "plt.plot(mean_fpr, mean_tpr, 'k--',\n",
    "         label='mean ROC (area = %0.2f)' % mean_auc, lw=2)\n",
    "\n",
    "plt.plot([0, 0, 1], [0, 1, 1], lw=2,\n",
    "         linestyle=':', color='black', label='perfect performance')\n",
    "\n",
    "plt.xlim([-0.05, 1.05]); plt.ylim([-0.05, 1.05])\n",
    "plt.xlabel('false positive rate'); plt.ylabel('true positive rate')\n",
    "plt.title('Receiver Operator Characteristic')\n",
    "plt.legend(loc=\"lower right\"); plt.show()"
   ]
  },
  {
   "cell_type": "code",
   "execution_count": 51,
   "metadata": {
    "collapsed": true
   },
   "outputs": [],
   "source": [
    "# note that we use probabilities for roc_auc\n",
    "# the `[:, 1]` selects the positive class label only\n",
    "pipe_lr = pipe_lr.fit(X_train2, y_train)\n",
    "y_labels = pipe_lr.predict(X_test[:, [4, 14]])\n",
    "y_probas = pipe_lr.predict_proba(X_test[:, [4, 14]])[:, 1]"
   ]
  },
  {
   "cell_type": "code",
   "execution_count": 52,
   "metadata": {},
   "outputs": [
    {
     "name": "stdout",
     "output_type": "stream",
     "text": [
      "ROC AUC: 0.752\n",
      "Accuracy: 0.711\n"
     ]
    }
   ],
   "source": [
    "# Accuracy : 양성양성, 음성음성 으로 정확하게 판단하는 비율\n",
    "from sklearn.metrics import roc_auc_score, accuracy_score\n",
    "print('ROC AUC: %.3f' % roc_auc_score(y_true=y_test, y_score=y_probas))\n",
    "print('Accuracy: %.3f' % accuracy_score(y_true=y_test, y_pred=y_labels))"
   ]
  },
  {
   "cell_type": "markdown",
   "metadata": {},
   "source": [
    "## 7 다중분류 분석을 위한 Scoring Matrix\n",
    "k-class 시스템에서 정밀도 스코어의 마이크로 평균을 연산"
   ]
  },
  {
   "cell_type": "code",
   "execution_count": 55,
   "metadata": {},
   "outputs": [
    {
     "data": {
      "text/plain": [
       "make_scorer(precision_score, pos_label=1, average=micro)"
      ]
     },
     "execution_count": 55,
     "metadata": {},
     "output_type": "execute_result"
    }
   ],
   "source": [
    "pre_scorer = make_scorer(score_func=precision_score, \n",
    "                         pos_label=1, \n",
    "                         greater_is_better=True, \n",
    "                         average='micro')\n",
    "pre_scorer"
   ]
  },
  {
   "cell_type": "code",
   "execution_count": null,
   "metadata": {
    "collapsed": true
   },
   "outputs": [],
   "source": []
  },
  {
   "cell_type": "code",
   "execution_count": null,
   "metadata": {
    "collapsed": true
   },
   "outputs": [],
   "source": []
  },
  {
   "cell_type": "code",
   "execution_count": null,
   "metadata": {
    "collapsed": true
   },
   "outputs": [],
   "source": []
  }
 ],
 "metadata": {
  "kernelspec": {
   "display_name": "Python 3",
   "language": "python",
   "name": "python3"
  },
  "language_info": {
   "codemirror_mode": {
    "name": "ipython",
    "version": 3
   },
   "file_extension": ".py",
   "mimetype": "text/x-python",
   "name": "python",
   "nbconvert_exporter": "python",
   "pygments_lexer": "ipython3",
   "version": "3.6.1"
  }
 },
 "nbformat": 4,
 "nbformat_minor": 2
}
