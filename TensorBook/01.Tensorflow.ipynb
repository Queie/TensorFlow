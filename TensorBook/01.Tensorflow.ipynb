{
 "cells": [
  {
   "cell_type": "markdown",
   "metadata": {},
   "source": [
    "# 텐서플로우란  What is a Tensorflow?"
   ]
  },
  {
   "cell_type": "markdown",
   "metadata": {},
   "source": [
    "## 1 Intro"
   ]
  },
  {
   "cell_type": "code",
   "execution_count": 1,
   "metadata": {},
   "outputs": [
    {
     "data": {
      "text/plain": [
       "<matplotlib.collections.PathCollection at 0x7f771ab86e80>"
      ]
     },
     "execution_count": 1,
     "metadata": {},
     "output_type": "execute_result"
    },
    {
     "data": {
      "image/png": "[encoded data removed]",
      "text/plain": [
       "<matplotlib.figure.Figure at 0x7f776d3cd160>"
      ]
     },
     "metadata": {},
     "output_type": "display_data"
    }
   ],
   "source": [
    "# simple test\n",
    "%matplotlib inline\n",
    "import tensorflow as tf\n",
    "import matplotlib.pyplot as plt\n",
    "\n",
    "a = tf.random_normal([2, 20])\n",
    "sess = tf.Session()\n",
    "out = sess.run(a)\n",
    "x, y = out\n",
    "plt.scatter(x,y)"
   ]
  },
  {
   "cell_type": "code",
   "execution_count": 2,
   "metadata": {
    "collapsed": true
   },
   "outputs": [],
   "source": [
    "# Nural Network 를 설계 후 실행\n",
    "import tensorflow as tf\n",
    "\n",
    "# tf.constant() : 파이썬 생성자 (스칼라 값 integer 를 Tensor 객체로 변환)\n",
    "a = tf.constant(5, name=\"input_a\") # name : 식별자\n",
    "b = tf.constant(3, name=\"input_b\")\n",
    "\n",
    "# tf.mul / tf.add : 계산 Node (Operation)\n",
    "c = tf.multiply(a,b, name=\"mul_c\") # a, b 두개 입력 곱을 연산\n",
    "d = tf.add(a,b, name=\"add_d\")      # a, b 두개 입력 합을 연산\n",
    "e = tf.add(c,d, name=\"add_e\")"
   ]
  },
  {
   "cell_type": "code",
   "execution_count": 3,
   "metadata": {
    "collapsed": true
   },
   "outputs": [],
   "source": [
    "# a = tf.constant([5,3], name=\"input_a\") # tf.constant() : 1차원 텐서를 생성\n",
    "# b = tf.reduce_prod(a, name=\"prod_b\")   # reduce_곱 : 텐서 입력값을 모두 곱한다\n",
    "# c = tf.reduce_sum(a, name=\"sum_c\")     # reduce_합 : 텐서 입력값을 모두 합한다\n",
    "# d = tf.add(b,c, name=\"add_d\")"
   ]
  },
  {
   "cell_type": "code",
   "execution_count": 4,
   "metadata": {},
   "outputs": [
    {
     "data": {
      "text/plain": [
       "23"
      ]
     },
     "execution_count": 4,
     "metadata": {},
     "output_type": "execute_result"
    }
   ],
   "source": [
    "sess = tf.Session()\n",
    "sess.run(e) # a,b 를 입력 후  --> c, d 를 연산한 e를 출력"
   ]
  },
  {
   "cell_type": "markdown",
   "metadata": {
    "collapsed": true
   },
   "source": [
    "#### TensorBoard (localhost:6006)\n",
    "tf 1.0에서 적용 함수 이름이 직관적으로 바뀌었다. https://www.tensorflow.org/install/migration"
   ]
  },
  {
   "cell_type": "code",
   "execution_count": 5,
   "metadata": {
    "collapsed": true
   },
   "outputs": [],
   "source": [
    "writer = tf.summary.FileWriter('./my_graph', sess.graph) #'./my_graph' 객체 저장 폴더명\n",
    "# ! tensorboard --logdir='my_graph'  # 실행파일 폴더로 이동 후 실행\n",
    "sess.close()"
   ]
  },
  {
   "cell_type": "markdown",
   "metadata": {},
   "source": [
    "## 2 Tensor"
   ]
  },
  {
   "cell_type": "code",
   "execution_count": 6,
   "metadata": {
    "collapsed": true
   },
   "outputs": [],
   "source": [
    "# by NUMPY\n",
    "import numpy as np\n",
    "\n",
    "t_0 = np.array(50, dtype=np.int32)            # 0차원 객체\n",
    "t_1 = np.array([\"apple\", 'peach', 'grape'])   # 1차원 객체 : index 값이 1개\n",
    "t_2 = np.array([[True, False, False],\n",
    "                [False, False, True],\n",
    "                [False, True, False]], dtype=np.bool)  # 2차원 객체 : index 값 2개\n",
    "t_3 = np.array([[ [0, 0], [0, 1], [0,2] ],\n",
    "                [ [1, 0], [1, 1], [1,2] ],\n",
    "                [ [2, 0], [2, 1], [2,2] ]], dtype=np.int64) # 3차원 객체"
   ]
  },
  {
   "cell_type": "code",
   "execution_count": 7,
   "metadata": {
    "collapsed": true
   },
   "outputs": [],
   "source": [
    "# by TENSORFLOW\n",
    "s_1_flex = [None]\n",
    "s_2_flex = (None, 3)       # columns은 3을 정의후, rows 는 가변적 적용\n",
    "s_3_flex = [2, None, None] # length 만 2을 정의후, 2차원 3차원 을 가변적 적용\n",
    "s_any = None               # could be any Tensor\n",
    "\n",
    "# import tensorflow as tf  # import numpy as np\n",
    "a = np.array([2, 3], dtype=np.int32)\n",
    "b = np.array([4, 5], dtype=np.int32)\n",
    "c = tf.add(a, b)\n",
    "\n",
    "# # 정의한 형태를 사후적 확인\n",
    "# sess.run(텐서객체명)\n",
    "# shape = tf.shape( 텐서객체명 , name='이름')"
   ]
  },
  {
   "cell_type": "markdown",
   "metadata": {},
   "source": [
    "## 3 Operation"
   ]
  },
  {
   "cell_type": "code",
   "execution_count": 8,
   "metadata": {},
   "outputs": [
    {
     "name": "stdout",
     "output_type": "stream",
     "text": [
      "[6 8]\n"
     ]
    }
   ],
   "source": [
    "# Tensor\n",
    "a = np.array([2,3], dtype = np.int32)\n",
    "b = np.array([4,5], dtype = np.int32)\n",
    "# Operation\n",
    "c = tf.add(a,b, name='my_add_op')\n",
    "\n",
    "sess = tf.Session()\n",
    "print(sess.run(c)) ; sess.close()"
   ]
  },
  {
   "cell_type": "markdown",
   "metadata": {},
   "source": [
    "## 4 Feed dictionary\n",
    "이전 그래프의 값을 덮어쓰기(overwrite) "
   ]
  },
  {
   "cell_type": "code",
   "execution_count": 9,
   "metadata": {},
   "outputs": [
    {
     "name": "stdout",
     "output_type": "stream",
     "text": [
      "45\n"
     ]
    }
   ],
   "source": [
    "a = tf.add(2,5)\n",
    "b = tf.multiply(a, 3)\n",
    "\n",
    "sess = tf.Session()\n",
    "replace_dict = {a : 15}   # a node의 연산결과를 15로 바꾼다.\n",
    "print(sess.run(b, feed_dict=replace_dict))\n",
    "sess.close()"
   ]
  },
  {
   "cell_type": "markdown",
   "metadata": {},
   "source": [
    "## 5 Place Holder 로 입력하기\n",
    "TENSOR 자리를 HOLD 한다 (TENSORFLOW 실행 전까지 값을 갖지 않는다)"
   ]
  },
  {
   "cell_type": "code",
   "execution_count": 10,
   "metadata": {},
   "outputs": [
    {
     "name": "stdout",
     "output_type": "stream",
     "text": [
      "23\n"
     ]
    },
    {
     "data": {
      "text/plain": [
       "(None, None)"
      ]
     },
     "execution_count": 10,
     "metadata": {},
     "output_type": "execute_result"
    }
   ],
   "source": [
    "a = tf.placeholder(tf.int32, shape=[2], name='my_input') # int32 (dtype 필수, 유효성 검사 자동실행), 2개 공간\n",
    "b = tf.reduce_prod(a, name=\"prod\")   # reduce 곱 (product)\n",
    "c = tf.reduce_sum(a, name=\"sum_c\")   # reduce 합\n",
    "d = tf.add(b,c, name='add_d')        # graph를 마무리\n",
    "\n",
    "sess = tf.Session()\n",
    "input_dict = {a : np.array([5,3], dtype=np.int32)}\n",
    "print(sess.run(d, feed_dict=input_dict)), sess.close()"
   ]
  },
  {
   "cell_type": "markdown",
   "metadata": {
    "collapsed": true
   },
   "source": [
    "## 6 변수 tf.Variable() \n",
    "tf.Variable() : tf.Session() 내부 변경가능한 tensor 값을 저장\n",
    "\n",
    "tf.global_variables_initializer() : Graph 정의된 tensor를 Session 에서 활성화"
   ]
  },
  {
   "cell_type": "code",
   "execution_count": 11,
   "metadata": {
    "collapsed": true
   },
   "outputs": [],
   "source": [
    "# 변수 tensor 생성 1\n",
    "my_var = tf.Variable(3, name='my_variable')\n",
    "\n",
    "# tensor, operation 어디서든 활용이 가능\n",
    "add = tf.add(5, my_var)\n",
    "mul = tf.multiply(8, my_var)"
   ]
  },
  {
   "cell_type": "code",
   "execution_count": 12,
   "metadata": {
    "collapsed": true
   },
   "outputs": [],
   "source": [
    "# 변수 tensor 생성 2\n",
    "\n",
    "# 0,0으로 이루어진 tensor ([shape 정의])\n",
    "zeros = tf.zeros([2,2])   \n",
    "# 1로 이루어진 tensor\n",
    "ones = tf.ones([6])       \n",
    "# 랜덤한 3x3x3 tensor (0~10 사이값)\n",
    "uniform = tf.random_uniform([3,3,3], minval = 0, maxval = 10) \n",
    "# 랜덤한 3x3x3 tensor (평균 0 , 표준편차 2) 범위를 한정에 용이\n",
    "normal = tf.random_normal([3,3,3], mean = 0.0 , stddev = 2.0) "
   ]
  },
  {
   "cell_type": "code",
   "execution_count": 13,
   "metadata": {
    "collapsed": true
   },
   "outputs": [],
   "source": [
    "# tf.global_variables_initializer()\n",
    "# Session 에서 변수의 현재값들을 추적을 시작 : Graph 내부 tensor를 활성화\n",
    "init = tf.global_variables_initializer()\n",
    "sess = tf.Session()\n",
    "sess.run(init)"
   ]
  },
  {
   "cell_type": "code",
   "execution_count": 14,
   "metadata": {
    "collapsed": true
   },
   "outputs": [],
   "source": [
    "# tf.variables_initializer() : 일부 (subset) 변수만 초기화\n",
    "var1 = tf.Variable(0, name=\"initialize_me\")\n",
    "var2 = tf.Variable(1, name=\"no_initialization\")\n",
    "init = tf.variables_initializer([var1], name=\"init_var1\")\n",
    "sess = tf.Session()\n",
    "sess.run(init)"
   ]
  },
  {
   "cell_type": "code",
   "execution_count": 15,
   "metadata": {
    "collapsed": true
   },
   "outputs": [],
   "source": [
    "# 변수값 변경\n",
    "my_var = tf.Variable(1)                      # 임의 변수를 생성\n",
    "my_var_times_two = my_var.assign(my_var * 2) # 변수의 값을 수정 \n",
    "init = tf.global_variables_initializer()\n",
    "sess = tf.Session() # Session을 시작\n",
    "sess.run(init)      # 변수값을 초기화"
   ]
  },
  {
   "cell_type": "code",
   "execution_count": 16,
   "metadata": {},
   "outputs": [
    {
     "name": "stdout",
     "output_type": "stream",
     "text": [
      "2\n",
      "4\n",
      "8\n"
     ]
    }
   ],
   "source": [
    "# 해당 tensor 를 반복적 실행\n",
    "print(sess.run(my_var_times_two))\n",
    "print(sess.run(my_var_times_two))\n",
    "print(sess.run(my_var_times_two)) "
   ]
  },
  {
   "cell_type": "code",
   "execution_count": 17,
   "metadata": {},
   "outputs": [
    {
     "name": "stdout",
     "output_type": "stream",
     "text": [
      "9\n",
      "8\n"
     ]
    }
   ],
   "source": [
    "print(sess.run(my_var.assign_add(1))) # 해당 변수값을 편하게 증가\n",
    "print(sess.run(my_var.assign_sub(1))) # 해당 변수값을 편하게 감소"
   ]
  },
  {
   "cell_type": "code",
   "execution_count": 18,
   "metadata": {},
   "outputs": [
    {
     "data": {
      "text/plain": [
       "5"
      ]
     },
     "execution_count": 18,
     "metadata": {},
     "output_type": "execute_result"
    }
   ],
   "source": [
    "# Session 들은 변수를 독립적으로 관리한다, 즉 Graph에서 정의된 현재값을 갖는다\n",
    "my_var = tf.Variable(0)\n",
    "init= tf.global_variables_initializer()\n",
    "\n",
    "sess1 = tf.Session()\n",
    "sess2 = tf.Session()\n",
    "\n",
    "# sess1 활성화\n",
    "sess1.run(init)\n",
    "sess1.run(my_var.assign_add(5))"
   ]
  },
  {
   "cell_type": "code",
   "execution_count": 19,
   "metadata": {},
   "outputs": [
    {
     "data": {
      "text/plain": [
       "2"
      ]
     },
     "execution_count": 19,
     "metadata": {},
     "output_type": "execute_result"
    }
   ],
   "source": [
    "# sess2 활성화\n",
    "# 같은 변수를 활용하지만, 결과는 Session 별로 다르게 연산\n",
    "sess2.run(init)\n",
    "sess2.run(my_var.assign_add(2))"
   ]
  },
  {
   "cell_type": "code",
   "execution_count": 20,
   "metadata": {},
   "outputs": [
    {
     "data": {
      "text/plain": [
       "4"
      ]
     },
     "execution_count": 20,
     "metadata": {},
     "output_type": "execute_result"
    }
   ],
   "source": [
    "sess1.run(my_var.assign_add(5))\n",
    "sess2.run(my_var.assign_add(2))"
   ]
  },
  {
   "cell_type": "code",
   "execution_count": 21,
   "metadata": {
    "collapsed": true
   },
   "outputs": [],
   "source": [
    "# Operation 만들기\n",
    "my_var = tf.Variable(0)\n",
    "init = tf.global_variables_initializer()\n",
    "\n",
    "sess=tf.Session()\n",
    "sess.run(init)\n",
    "sess.run(my_var.assign(10))  # .assing() : 변수의 값 바꾸기\n",
    "sess.run(init)"
   ]
  },
  {
   "cell_type": "code",
   "execution_count": 22,
   "metadata": {
    "collapsed": true
   },
   "outputs": [],
   "source": [
    "# 학습이 가능한 변수 (자동으로 학습시 내용을 수정)\n",
    "# trainable=False : Optimizer에 의해선 변경되면 안 되는 경우\n",
    "not_trainable = tf.Variable(0, trainable=False)"
   ]
  },
  {
   "cell_type": "code",
   "execution_count": null,
   "metadata": {
    "collapsed": true
   },
   "outputs": [],
   "source": []
  },
  {
   "cell_type": "code",
   "execution_count": null,
   "metadata": {
    "collapsed": true
   },
   "outputs": [],
   "source": []
  },
  {
   "cell_type": "code",
   "execution_count": null,
   "metadata": {
    "collapsed": true
   },
   "outputs": [],
   "source": []
  }
 ],
 "metadata": {
  "kernelspec": {
   "display_name": "Python 3",
   "language": "python",
   "name": "python3"
  },
  "language_info": {
   "codemirror_mode": {
    "name": "ipython",
    "version": 3
   },
   "file_extension": ".py",
   "mimetype": "text/x-python",
   "name": "python",
   "nbconvert_exporter": "python",
   "pygments_lexer": "ipython3",
   "version": "3.6.1"
  }
 },
 "nbformat": 4,
 "nbformat_minor": 2
}
