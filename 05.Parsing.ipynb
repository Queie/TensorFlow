{
 "cells": [
  {
   "cell_type": "markdown",
   "metadata": {},
   "source": [
    "# Chapter 5 - Parsing\n",
    "파싱-훈련 데이터 분석하기\n",
    "\n",
    "http://www.nltk.org/howto/parse.html"
   ]
  },
  {
   "cell_type": "code",
   "execution_count": 1,
   "metadata": {
    "collapsed": true
   },
   "outputs": [],
   "source": [
    "# 구문분석 : 'formal grammer'를 기준으로 문법검사\n",
    "# 1 Treebak의 문맥 자유문법 규칙 추출\n",
    "# 2 CFG에서 확률적 문맥 자유 문법을 생성 (CFG(문맥 자유 문법) : Context Free Grammer)\n",
    "# 3 CYK 차트 파싱 알고리즘\n",
    "# 4 Earley 차트 파싱 알고리즘  ('차트 파싱'은 동적 프로그래밍 접근방식을 따른다)\n",
    "# 5 '구문구조', '담화구조', '형태론적 계도'등 기준을 갖고서 파싱한다"
   ]
  },
  {
   "cell_type": "markdown",
   "metadata": {},
   "source": [
    "<br></br>\n",
    "## 1 Parsing\n",
    "형식문법(formal Grammer)으로 정의된 규칙에 부합여부를 찾는 작업"
   ]
  },
  {
   "cell_type": "markdown",
   "metadata": {},
   "source": [
    "### 01 Tree bank corpus\n",
    "트리뱅크 구성"
   ]
  },
  {
   "cell_type": "code",
   "execution_count": 2,
   "metadata": {},
   "outputs": [
    {
     "name": "stdout",
     "output_type": "stream",
     "text": [
      "<BracketParseCorpusReader in '.../corpora/treebank/combined' (not loaded yet)>\n",
      "['wsj_0001.mrg', 'wsj_0051.mrg', 'wsj_0101.mrg', 'wsj_0151.mrg']\n"
     ]
    }
   ],
   "source": [
    "# corpus가 저장된 파일의 목록 살펴보기\n",
    "import nltk,  nltk.corpus\n",
    "print(str(nltk.corpus.treebank).replace('\\\\\\\\','/'))\n",
    "print(nltk.corpus.treebank.fileids()[::50])   # .fileids() : 파일에 대한 식별자"
   ]
  },
  {
   "cell_type": "code",
   "execution_count": 3,
   "metadata": {},
   "outputs": [
    {
     "name": "stdout",
     "output_type": "stream",
     "text": [
      "['McDermott', 'International', 'Inc.', 'said', '0', ...]\n",
      "[('McDermott', 'NNP'), ('International', 'NNP'), ...]\n"
     ]
    }
   ],
   "source": [
    "# 개별 파일의 corpus 살펴보기\n",
    "from nltk.corpus import treebank\n",
    "print(treebank.words('wsj_0007.mrg'))        # 단어 확인\n",
    "print(treebank.tagged_words('wsj_0007.mrg')) # 단어와 Tagging 확인"
   ]
  },
  {
   "cell_type": "code",
   "execution_count": 4,
   "metadata": {},
   "outputs": [
    {
     "name": "stdout",
     "output_type": "stream",
     "text": [
      "(S\n",
      "  (NP-SBJ\n",
      "    (NP (NNP Bailey) (NNP Controls))\n",
      "    (, ,)\n",
      "    (VP\n",
      "      (VBN based)\n",
      "      (NP (-NONE- *))\n",
      "      (PP-LOC-CLR\n",
      "        (IN in)\n",
      "        (NP (NP (NNP Wickliffe)) (, ,) (NP (NNP Ohio)))))\n",
      "    (, ,))\n",
      "  (VP\n",
      "    (VBZ makes)\n",
      "    (NP\n",
      "      (JJ computerized)\n",
      "      (JJ industrial)\n",
      "      (NNS controls)\n",
      "      (NNS systems)))\n",
      "  (. .))\n"
     ]
    }
   ],
   "source": [
    "# Penn Treebak corpus의 코드내용 살펴보기\n",
    "# corpus 구조도 살펴보기\n",
    "# import nltk\n",
    "# from nltk.corpus import treebank\n",
    "print(treebank.parsed_sents('wsj_0007.mrg')[2])"
   ]
  },
  {
   "cell_type": "code",
   "execution_count": 5,
   "metadata": {},
   "outputs": [
    {
     "name": "stdout",
     "output_type": "stream",
     "text": [
      "(S\n",
      "  (NP Mr./NNP Vinken/NNP)\n",
      "  is/VBZ\n",
      "  (NP chairman/NN)\n",
      "  of/IN\n",
      "  (NP Elsevier/NNP N.V./NNP)\n",
      "  ,/,\n",
      "  (NP the/DT Dutch/NNP publishing/VBG group/NN)\n",
      "  ./.)\n"
     ]
    },
    {
     "name": "stderr",
     "output_type": "stream",
     "text": [
      "/home/markbaum/Python/python36/lib/python3.6/site-packages/nltk/tokenize/regexp.py:123: FutureWarning: split() requires a non-empty pattern match.\n",
      "  return [tok for tok in self._regexp.split(text) if tok]\n"
     ]
    },
    {
     "data": {
      "image/png": "[encoded data removed]",
      "text/plain": [
       "Tree('S', [Tree('NP', [('Mr.', 'NNP'), ('Vinken', 'NNP')]), ('is', 'VBZ'), Tree('NP', [('chairman', 'NN')]), ('of', 'IN'), Tree('NP', [('Elsevier', 'NNP'), ('N.V.', 'NNP')]), (',', ','), Tree('NP', [('the', 'DT'), ('Dutch', 'NNP'), ('publishing', 'VBG'), ('group', 'NN')]), ('.', '.')])"
      ]
     },
     "execution_count": 5,
     "metadata": {},
     "output_type": "execute_result"
    }
   ],
   "source": [
    "# corpus 구조도 시각화 하기\n",
    "%matplotlib inline\n",
    "# import nltk\n",
    "from nltk.corpus import treebank_chunk\n",
    "\n",
    "print(treebank_chunk.chunked_sents()[1])\n",
    "treebank_chunk.chunked_sents()[1]  # .draw() # 외부 화면으로 출력"
   ]
  },
  {
   "cell_type": "code",
   "execution_count": 6,
   "metadata": {},
   "outputs": [
    {
     "name": "stdout",
     "output_type": "stream",
     "text": [
      ".leaves() \n",
      " [('Mr.', 'NNP'), ('Vinken', 'NNP'), ('is', 'VBZ'), ('chairman', 'NN'), ('of', 'IN'), ('Elsevier', 'NNP'), ('N.V.', 'NNP'), (',', ','), ('the', 'DT'), ('Dutch', 'NNP'), ('publishing', 'VBG'), ('group', 'NN'), ('.', '.')]\n",
      "\n",
      ".pos()  \n",
      " [(('Mr.', 'NNP'), 'NP'), (('Vinken', 'NNP'), 'NP'), (('is', 'VBZ'), 'S'), (('chairman', 'NN'), 'NP'), (('of', 'IN'), 'S'), (('Elsevier', 'NNP'), 'NP'), (('N.V.', 'NNP'), 'NP'), ((',', ','), 'S'), (('the', 'DT'), 'NP'), (('Dutch', 'NNP'), 'NP'), (('publishing', 'VBG'), 'NP'), (('group', 'NN'), 'NP'), (('.', '.'), 'S')]\n",
      "\n",
      ".productions() \n",
      " [S -> NP ('is', 'VBZ') NP ('of', 'IN') NP (',', ',') NP ('.', '.'), NP -> ('Mr.', 'NNP') ('Vinken', 'NNP'), NP -> ('chairman', 'NN'), NP -> ('Elsevier', 'NNP') ('N.V.', 'NNP'), NP -> ('the', 'DT') ('Dutch', 'NNP') ('publishing', 'VBG') ('group', 'NN')]\n"
     ]
    },
    {
     "name": "stderr",
     "output_type": "stream",
     "text": [
      "/home/markbaum/Python/python36/lib/python3.6/site-packages/nltk/tokenize/regexp.py:123: FutureWarning: split() requires a non-empty pattern match.\n",
      "  return [tok for tok in self._regexp.split(text) if tok]\n"
     ]
    }
   ],
   "source": [
    "# Treebak에 포함된 chunk의 총 수\n",
    "# import nltk\n",
    "# from nltk.corpus import treebank_chunk\n",
    "print('.leaves() \\n',treebank_chunk.chunked_sents()[1].leaves())\n",
    "print('\\n.pos()  \\n',treebank_chunk.chunked_sents()[1].pos())\n",
    "print('\\n.productions() \\n',treebank_chunk.chunked_sents()[1].productions())"
   ]
  },
  {
   "cell_type": "code",
   "execution_count": 7,
   "metadata": {
    "collapsed": true
   },
   "outputs": [],
   "source": [
    "# Question !!!!\n",
    "# 위 print(treebank_chunk.chunked_sents()[1] 뒤에 붙은 '메서드'들은\n",
    "# 무슨 이유로 개별적인 구별을 한 것인가??? 구별한 내용의 정의는??"
   ]
  },
  {
   "cell_type": "code",
   "execution_count": 8,
   "metadata": {},
   "outputs": [
    {
     "name": "stdout",
     "output_type": "stream",
     "text": [
      "Tags : 100676\n"
     ]
    },
    {
     "data": {
      "text/plain": [
       "[('Pierre', 'NNP'), ('Vinken', 'NNP'), (',', ','), ...]"
      ]
     },
     "execution_count": 8,
     "metadata": {},
     "output_type": "execute_result"
    }
   ],
   "source": [
    "# 품사 주석\n",
    "print('Tags :',len(nltk.corpus.treebank.tagged_words()))\n",
    "nltk.corpus.treebank.tagged_words()"
   ]
  },
  {
   "cell_type": "code",
   "execution_count": 9,
   "metadata": {},
   "outputs": [
    {
     "name": "stdout",
     "output_type": "stream",
     "text": [
      "dict_items([('I', 1), (' ', 27), ('g', 4), ('o', 14), ('t', 8), ('a', 7), ('m', 6), ('e', 15), ('s', 10), ('f', 4), ('r', 8), ('u', 5), ('P', 1), ('i', 6), ('d', 4), ('n', 4), ('U', 1), ('A', 1), ('c', 3), (',', 2), ('\\n', 1), ('Y', 2), ('h', 3), ('l', 2), ('k', 1), ('w', 2), ('b', 1), ('y', 1)])\n"
     ]
    }
   ],
   "source": [
    "# tag 의 빈도 계산하기는 아래의 코드를 활용한다\n",
    "# import nltk\n",
    "# from nltk.corpus import treebank\n",
    "from nltk.probability import FreqDist\n",
    "\n",
    "sentence = '''I got a messsage form our President of Unite state of America, \n",
    "You should know where this message came from, or You could be easy to ignored it'''\n",
    "fd = FreqDist(sentence)\n",
    "print(fd.items())"
   ]
  },
  {
   "cell_type": "code",
   "execution_count": 10,
   "metadata": {},
   "outputs": [
    {
     "name": "stdout",
     "output_type": "stream",
     "text": [
      "[['一'], ['友情'], ['嘉珍', '和', '我', '住在', '同一條', '巷子'], ...]\n",
      "(S\n",
      "  (NP (NP (N‧的 (Nhaa 我) (DE 的)) (Ncb 腦海)) (Ncda 中))\n",
      "  (Dd 頓時)\n",
      "  (DM 一片)\n",
      "  (VH11 空白))\n"
     ]
    }
   ],
   "source": [
    "# sinica_treebank 를 살펴보자 : 대륙의 힘이다!!\n",
    "# import nltk\n",
    "from nltk.corpus import sinica_treebank\n",
    "print(sinica_treebank.sents())\n",
    "print(sinica_treebank.parsed_sents()[27])"
   ]
  },
  {
   "cell_type": "markdown",
   "metadata": {},
   "source": [
    "<br></br>\n",
    "## 2 Treebank의 문맥 자유문법 규칙 추출\n",
    "CFG : Context Free Grammer 는 '노암촘스키'의 기준으로 정의한 문법이다"
   ]
  },
  {
   "cell_type": "markdown",
   "metadata": {},
   "source": [
    "### 01 단일 Tag 추출 및 비교하기\n",
    "from nltk import Nonterminal"
   ]
  },
  {
   "cell_type": "code",
   "execution_count": 11,
   "metadata": {
    "collapsed": true
   },
   "outputs": [],
   "source": [
    "# 문장구조 4분류 내용\n",
    "# 1 선언적 구조 : 서술문                (주어 다음 서술어)\n",
    "# 2 명령형 구조 : 명령문, 명령 또는 제안문 (동사구로 시작하고, 별도 주어문을 포함하지 않는다)\n",
    "# 3 예/ 아니오 구조 : 질의/ 응답문\n",
    "# 4 Wh- 질의구조   : 질의/ 응답문  (Wh-로 문장을 시작)"
   ]
  },
  {
   "cell_type": "code",
   "execution_count": 12,
   "metadata": {},
   "outputs": [
    {
     "data": {
      "text/plain": [
       "Korea"
      ]
     },
     "execution_count": 12,
     "metadata": {},
     "output_type": "execute_result"
    }
   ],
   "source": [
    "# 단일 Tag의 추출 및 비교\n",
    "import nltk\n",
    "from nltk import Nonterminal\n",
    "\n",
    "# 얘는 그냥 출력만 하는건가? Tag에 대한 유효성검사도 없는듯 \n",
    "Nonterminal('Korea')"
   ]
  },
  {
   "cell_type": "code",
   "execution_count": 13,
   "metadata": {},
   "outputs": [
    {
     "name": "stdout",
     "output_type": "stream",
     "text": [
      "NP\n"
     ]
    },
    {
     "data": {
      "text/plain": [
       "'NP'"
      ]
     },
     "execution_count": 13,
     "metadata": {},
     "output_type": "execute_result"
    }
   ],
   "source": [
    "nonterminal1 = Nonterminal('NP')\n",
    "print(nonterminal1.symbol())\n",
    "nonterminal1.unicode_repr()"
   ]
  },
  {
   "cell_type": "code",
   "execution_count": 14,
   "metadata": {},
   "outputs": [
    {
     "name": "stdout",
     "output_type": "stream",
     "text": [
      "False\n",
      "False\n",
      "False\n"
     ]
    }
   ],
   "source": [
    "nonterminal2 = Nonterminal('VP')\n",
    "nonterminal3 = Nonterminal('PP')\n",
    "print(nonterminal1 == nonterminal2)\n",
    "print(nonterminal2 == nonterminal3)\n",
    "print(nonterminal1 == nonterminal3)"
   ]
  },
  {
   "cell_type": "markdown",
   "metadata": {},
   "source": [
    "### 02 복수의 Tag 추출 및 비교\n",
    "from nltk import nonterminals (소문자)\n",
    "\n",
    "문장구조 : S -->  NP, VP  2단계 까지만 분석이 가능  (S -> NP, VP -> NP 는 오류!!!)"
   ]
  },
  {
   "cell_type": "code",
   "execution_count": 15,
   "metadata": {},
   "outputs": [
    {
     "name": "stdout",
     "output_type": "stream",
     "text": [
      "S -> NP VP\n",
      "NP -> DT NP\n",
      "VP -> V NP NP PP\n"
     ]
    }
   ],
   "source": [
    "# 복수 tag의 추출 및 비교\n",
    "from nltk import nonterminals, Production\n",
    "nonterminals('South Korea is positioned between Japan and China')\n",
    "\n",
    "S, NP, VP, PP = nonterminals('S, NP, VP, PP')\n",
    "N, V, P, DT = nonterminals('N, V, P, DT')\n",
    "production1 = Production(S, [NP, VP])\n",
    "print(production1)\n",
    "production2 = Production(NP, [DT, NP])\n",
    "print(production2)\n",
    "production3 = Production(VP, [V, NP,NP,PP])\n",
    "print(production3)"
   ]
  },
  {
   "cell_type": "code",
   "execution_count": 16,
   "metadata": {},
   "outputs": [
    {
     "name": "stdout",
     "output_type": "stream",
     "text": [
      "S\n",
      "(NP, VP)\n",
      "VP\n",
      "(V, NP, NP, PP)\n"
     ]
    }
   ],
   "source": [
    "print(production1.lhs()) # Left  tag 추출\n",
    "print(production1.rhs()) # Right tag 추출\n",
    "print(production3.lhs())\n",
    "print(production3.rhs())"
   ]
  },
  {
   "cell_type": "code",
   "execution_count": 17,
   "metadata": {},
   "outputs": [
    {
     "name": "stdout",
     "output_type": "stream",
     "text": [
      "True\n",
      "False\n"
     ]
    }
   ],
   "source": [
    "print(production3 == Production(VP, [V,NP,NP,PP]))\n",
    "print(production2 == production3)"
   ]
  },
  {
   "cell_type": "markdown",
   "metadata": {},
   "source": [
    "### 02 ATIS 문법을 활용\n",
    "Advanced Research Projects Agency Spoken Language Systems\n",
    "\n",
    "https://catalog.ldc.upenn.edu/LDC95S26  : 공항안내 시스템 개발용\n",
    "\n",
    "http://users.sussex.ac.uk/~johnca/cfg-resources/"
   ]
  },
  {
   "cell_type": "code",
   "execution_count": 18,
   "metadata": {},
   "outputs": [
    {
     "data": {
      "text/plain": [
       "<Grammar with 5517 productions>"
      ]
     },
     "execution_count": 18,
     "metadata": {},
     "output_type": "execute_result"
    }
   ],
   "source": [
    "# ATIS 문법에 접속\n",
    "import nltk\n",
    "gram1 = nltk.data.load('grammars/large_grammars/atis.cfg')\n",
    "gram1 \n",
    "# print(gram1) 하면 자세한 내용을 알 수 있다.. \n",
    "# 근데 그 내용이 뭥미???\n",
    "# print(gram1)\n",
    "# Grammar with 5517 productions (start state = SIGMA)\n",
    "#     ABBCL_NP -> QUANP_DTI QUANP_DTI QUANP_CD AJP_JJ NOUN_NP PRPRTCL_VBG\n",
    "#     ADJ_ABL -> only\n",
    "#     ADJ_ABL -> such\n",
    "#     ADJ_AP -> pt_adj_ap\n",
    "#     ADJ_AP -> other"
   ]
  },
  {
   "cell_type": "code",
   "execution_count": 19,
   "metadata": {},
   "outputs": [
    {
     "name": "stdout",
     "output_type": "stream",
     "text": [
      "98\n"
     ]
    }
   ],
   "source": [
    "import nltk\n",
    "sent = nltk.data.load('grammars/large_grammars/atis_sentences.txt')\n",
    "sent = nltk.parse.util.extract_test_sentences(sent)\n",
    "print(len(sent))"
   ]
  },
  {
   "cell_type": "code",
   "execution_count": 20,
   "metadata": {},
   "outputs": [
    {
     "name": "stdout",
     "output_type": "stream",
     "text": [
      "11\n",
      "['list', 'those', 'flights', 'that', 'stop', 'over', 'in', 'salt', 'lake', 'city', '.']\n"
     ]
    }
   ],
   "source": [
    "testingsent = sent[25]\n",
    "print(testingsent[1])\n",
    "print(testingsent[0])"
   ]
  },
  {
   "cell_type": "code",
   "execution_count": 21,
   "metadata": {},
   "outputs": [
    {
     "data": {
      "text/plain": [
       "['list',\n",
       " 'those',\n",
       " 'flights',\n",
       " 'that',\n",
       " 'stop',\n",
       " 'over',\n",
       " 'in',\n",
       " 'salt',\n",
       " 'lake',\n",
       " 'city',\n",
       " '.']"
      ]
     },
     "execution_count": 21,
     "metadata": {},
     "output_type": "execute_result"
    }
   ],
   "source": [
    "import nltk\n",
    "gram1 = nltk.data.load('grammars/large_grammars/atis.cfg')\n",
    "sent = nltk.data.load('grammars/large_grammars/atis_sentences.txt')\n",
    "sent = nltk.parse.util.extract_test_sentences(sent)\n",
    "testingsent = sent[25]\n",
    "sent = testingsent[0]\n",
    "sent"
   ]
  },
  {
   "cell_type": "code",
   "execution_count": 22,
   "metadata": {},
   "outputs": [
    {
     "name": "stdout",
     "output_type": "stream",
     "text": [
      "13454\n",
      "11\n"
     ]
    }
   ],
   "source": [
    "# Bottom Up 방식의 파싱을 수행한다\n",
    "parser1 = nltk.parse.BottomUpChartParser(gram1)\n",
    "chart1 = parser1.chart_parse(sent)\n",
    "print((chart1.num_edges()))\n",
    "print((len(list(chart1.parses(gram1.start())))))"
   ]
  },
  {
   "cell_type": "code",
   "execution_count": 23,
   "metadata": {},
   "outputs": [
    {
     "name": "stdout",
     "output_type": "stream",
     "text": [
      "8781\n",
      "11\n"
     ]
    }
   ],
   "source": [
    "# Bottom-up, Left Corner 방식의 파싱\n",
    "# 질문 : 이게 무슨말이야 방구야??\n",
    "import nltk\n",
    "gram1 = nltk.data.load('grammars/large_grammars/atis.cfg')\n",
    "sent = nltk.data.load('grammars/large_grammars/atis_sentences.txt')\n",
    "sent = nltk.parse.util.extract_test_sentences(sent)\n",
    "testingsent = sent[25]\n",
    "sent = testingsent[0]\n",
    "parser2 = nltk.parse.BottomUpLeftCornerChartParser(gram1)\n",
    "chart2 = parser2.chart_parse(sent)\n",
    "print((chart2.num_edges()))\n",
    "print((len(list(chart2.parses(gram1.start())))))"
   ]
  },
  {
   "cell_type": "code",
   "execution_count": 24,
   "metadata": {},
   "outputs": [
    {
     "name": "stdout",
     "output_type": "stream",
     "text": [
      "1280\n",
      "11\n"
     ]
    }
   ],
   "source": [
    "# Bottom-up 필터를 사용한 Left Corner 방식의 파싱\n",
    "# 질문 : 바로 위 예제와 여기의 필터는 무슨 차이를 갖는거지??\n",
    "import nltk\n",
    "gram1 = nltk.data.load('grammars/large_grammars/atis.cfg')\n",
    "sent = nltk.data.load('grammars/large_grammars/atis_sentences.txt')\n",
    "sent = nltk.parse.util.extract_test_sentences(sent)\n",
    "testingsent=sent[25]\n",
    "sent=testingsent[0]\n",
    "parser3 = nltk.parse.LeftCornerChartParser(gram1)\n",
    "chart3 = parser3.chart_parse(sent)\n",
    "print((chart3.num_edges()))\n",
    "print((len(list(chart3.parses(gram1.start())))))"
   ]
  },
  {
   "cell_type": "code",
   "execution_count": 25,
   "metadata": {},
   "outputs": [
    {
     "name": "stdout",
     "output_type": "stream",
     "text": [
      "37763\n",
      "11\n"
     ]
    }
   ],
   "source": [
    "# Top-down 의 파싱\n",
    "# 얜 또 뭐래???\n",
    "import nltk\n",
    "gram1 = nltk.data.load('grammars/large_grammars/atis.cfg')\n",
    "sent = nltk.data.load('grammars/large_grammars/atis_sentences.txt')\n",
    "sent = nltk.parse.util.extract_test_sentences(sent)\n",
    "testingsent = sent[25]\n",
    "sent = testingsent[0]\n",
    "parser4 = nltk.parse.TopDownChartParser(gram1)\n",
    "chart4 = parser4.chart_parse(sent)\n",
    "print((chart4.num_edges()))\n",
    "print((len(list(chart4.parses(gram1.start())))))"
   ]
  },
  {
   "cell_type": "code",
   "execution_count": 26,
   "metadata": {},
   "outputs": [
    {
     "name": "stdout",
     "output_type": "stream",
     "text": [
      "13454\n",
      "11\n"
     ]
    }
   ],
   "source": [
    "# Incremental(증가하는) Bottom-up 파싱\n",
    "import nltk\n",
    "gram1 = nltk.data.load('grammars/large_grammars/atis.cfg')\n",
    "sent = nltk.data.load('grammars/large_grammars/atis_sentences.txt')\n",
    "sent = nltk.parse.util.extract_test_sentences(sent)\n",
    "testingsent = sent[25]\n",
    "sent = testingsent[0]\n",
    "parser5 = nltk.parse.IncrementalBottomUpChartParser(gram1)\n",
    "chart5 = parser5.chart_parse(sent)\n",
    "print((chart5.num_edges()))\n",
    "print((len(list(chart5.parses(gram1.start())))))"
   ]
  },
  {
   "cell_type": "code",
   "execution_count": 27,
   "metadata": {},
   "outputs": [
    {
     "name": "stdout",
     "output_type": "stream",
     "text": [
      "8781\n",
      "11\n"
     ]
    }
   ],
   "source": [
    "# Incremental(증가하는) Bottom-up, Left Corner 파싱\n",
    "import nltk\n",
    "gram1 = nltk.data.load('grammars/large_grammars/atis.cfg')\n",
    "sent = nltk.data.load('grammars/large_grammars/atis_sentences.txt')\n",
    "sent = nltk.parse.util.extract_test_sentences(sent)\n",
    "testingsent=sent[25]\n",
    "sent=testingsent[0]\n",
    "parser6 = nltk.parse.IncrementalBottomUpLeftCornerChartParser(gram1)\n",
    "chart6 = parser6.chart_parse(sent)\n",
    "print((chart6.num_edges()))\n",
    "print((len(list(chart6.parses(gram1.start())))))"
   ]
  },
  {
   "cell_type": "code",
   "execution_count": 28,
   "metadata": {},
   "outputs": [
    {
     "name": "stdout",
     "output_type": "stream",
     "text": [
      "1280\n",
      "11\n"
     ]
    }
   ],
   "source": [
    "# Bottom-up 필터를 사용한 Incremental(증가하는) Left Corner 파싱\n",
    "\n",
    "import nltk\n",
    "gram1 = nltk.data.load('grammars/large_grammars/atis.cfg')\n",
    "sent = nltk.data.load('grammars/large_grammars/atis_sentences.txt')\n",
    "sent = nltk.parse.util.extract_test_sentences(sent)\n",
    "testingsent=sent[25]\n",
    "sent=testingsent[0]\n",
    "parser7 = nltk.parse.IncrementalLeftCornerChartParser(gram1)\n",
    "chart7 = parser7.chart_parse(sent)\n",
    "print((chart7.num_edges()))\n",
    "print((len(list(chart7.parses(gram1.start())))))"
   ]
  },
  {
   "cell_type": "code",
   "execution_count": 29,
   "metadata": {},
   "outputs": [
    {
     "name": "stdout",
     "output_type": "stream",
     "text": [
      "37763\n",
      "11\n"
     ]
    }
   ],
   "source": [
    "# Incremental(증가하는) Top down 파싱\n",
    "\n",
    "import nltk\n",
    "gram1 = nltk.data.load('grammars/large_grammars/atis.cfg')\n",
    "sent = nltk.data.load('grammars/large_grammars/atis_sentences.txt')\n",
    "sent = nltk.parse.util.extract_test_sentences(sent)\n",
    "testingsent=sent[25]\n",
    "sent=testingsent[0]\n",
    "parser8 = nltk.parse.IncrementalTopDownChartParser(gram1)\n",
    "chart8 = parser8.chart_parse(sent)\n",
    "print((chart8.num_edges()))\n",
    "print((len(list(chart8.parses(gram1.start())))))"
   ]
  },
  {
   "cell_type": "code",
   "execution_count": 30,
   "metadata": {},
   "outputs": [
    {
     "name": "stdout",
     "output_type": "stream",
     "text": [
      "37763\n",
      "11\n"
     ]
    }
   ],
   "source": [
    "# Earley 파싱\n",
    "\n",
    "import nltk\n",
    "gram1 = nltk.data.load('grammars/large_grammars/atis.cfg')\n",
    "sent = nltk.data.load('grammars/large_grammars/atis_sentences.txt')\n",
    "sent = nltk.parse.util.extract_test_sentences(sent)\n",
    "testingsent=sent[25]\n",
    "sent=testingsent[0]\n",
    "parser9 = nltk.parse.EarleyChartParser(gram1)\n",
    "chart9 = parser9.chart_parse(sent)\n",
    "print((chart9.num_edges()))\n",
    "print((len(list(chart9.parses(gram1.start())))))"
   ]
  },
  {
   "cell_type": "markdown",
   "metadata": {},
   "source": [
    "<br></br>\n",
    "## 3 확률적 문맥 자유 문법 생성\n",
    "PCFG : Probabilistic Context-free Grammer"
   ]
  },
  {
   "cell_type": "code",
   "execution_count": 31,
   "metadata": {},
   "outputs": [
    {
     "name": "stdout",
     "output_type": "stream",
     "text": [
      "A\n",
      "[A -> B B [0.3], A -> C B C [0.7], B -> B D [0.5], B -> C [0.5], C -> 'a' [0.1], C -> 'b' [0.9], D -> 'b' [1.0]]\n"
     ]
    }
   ],
   "source": [
    "import nltk\n",
    "from nltk.corpus import treebank\n",
    "from itertools import islice\n",
    "from nltk.grammar import PCFG, induce_pcfg, toy_pcfg1, toy_pcfg2\n",
    "gram2 = PCFG.fromstring(\"\"\"\n",
    "    A -> B B [.3] | C B C [.7]\n",
    "    B -> B D [.5] | C [.5]\n",
    "    C -> 'a' [.1] | 'b' [0.9]\n",
    "    D -> 'b' [1.0]\n",
    "    \"\"\")\n",
    "print(gram2.start())\n",
    "print(gram2.productions())"
   ]
  },
  {
   "cell_type": "code",
   "execution_count": 32,
   "metadata": {},
   "outputs": [
    {
     "name": "stdout",
     "output_type": "stream",
     "text": [
      "A -> B B [0.3]\n"
     ]
    }
   ],
   "source": [
    "prod1 = gram2.productions()[0]\n",
    "print(prod1)"
   ]
  },
  {
   "cell_type": "code",
   "execution_count": 33,
   "metadata": {},
   "outputs": [
    {
     "name": "stdout",
     "output_type": "stream",
     "text": [
      "A -> C B C [0.7]\n",
      "A\n",
      "(C, B, C)\n",
      "0.7\n"
     ]
    }
   ],
   "source": [
    "prod2 = gram2.productions()[1]\n",
    "print(prod2)\n",
    "print(prod2.lhs())\n",
    "print(prod2.rhs())\n",
    "print((prod2.prob()))"
   ]
  },
  {
   "cell_type": "code",
   "execution_count": 34,
   "metadata": {},
   "outputs": [
    {
     "name": "stdout",
     "output_type": "stream",
     "text": [
      "Grammar with 23 productions (start state = S)\n",
      "    S -> NP VP [1.0]\n",
      "    VP -> V NP [0.59]\n",
      "    VP -> V [0.4]\n",
      "    VP -> VP PP [0.01]\n",
      "    NP -> Det N [0.41]\n",
      "    NP -> Name [0.28]\n",
      "    NP -> NP PP [0.31]\n",
      "    PP -> P NP [1.0]\n",
      "    V -> 'saw' [0.21]\n",
      "    V -> 'ate' [0.51]\n",
      "    V -> 'ran' [0.28]\n",
      "    N -> 'boy' [0.11]\n",
      "    N -> 'cookie' [0.12]\n",
      "    N -> 'table' [0.13]\n",
      "    N -> 'telescope' [0.14]\n",
      "    N -> 'hill' [0.5]\n",
      "    Name -> 'Jack' [0.52]\n",
      "    Name -> 'Bob' [0.48]\n",
      "    P -> 'with' [0.61]\n",
      "    P -> 'under' [0.39]\n",
      "    Det -> 'the' [0.41]\n",
      "    Det -> 'a' [0.31]\n",
      "    Det -> 'my' [0.28]\n"
     ]
    }
   ],
   "source": [
    "# 확률적 차트 파싱\n",
    "import nltk\n",
    "from nltk.corpus import treebank\n",
    "from itertools import islice\n",
    "from nltk.grammar import PCFG, induce_pcfg, toy_pcfg1, toy_pcfg2\n",
    "tokens = \"Jack told Bob to bring my cookie\".split()\n",
    "grammar = toy_pcfg2\n",
    "print(grammar)"
   ]
  },
  {
   "cell_type": "markdown",
   "metadata": {},
   "source": [
    "<br></br>\n",
    "## 4 CKY 차트 파싱 알고리즘\n",
    "Recursive Descent (귀납/회귀적 감소) 파싱의 단점은, 좌측 방향 재귀문제를 발생하여 복잡하다\n",
    "\n",
    "이를 극복하기 위해, CYK은 '동적 프로그래밍 접근'으로 $N^3$ 시간에 차트를 완성 가능하다\n",
    "\n",
    "CYK, Earley 모두 Bottom-up 차트 파싱 알고리즘을 활용한다\n",
    "\n",
    "https://stackoverflow.com/questions/26415163/python-nltk-cant-import-parse-cfg"
   ]
  },
  {
   "cell_type": "code",
   "execution_count": 35,
   "metadata": {},
   "outputs": [
    {
     "data": {
      "text/plain": [
       "<Grammar with 12 productions>"
      ]
     },
     "execution_count": 35,
     "metadata": {},
     "output_type": "execute_result"
    }
   ],
   "source": [
    "# CYK파싱 예제\n",
    "from nltk import CFG\n",
    "tok = [\"the\", \"kids\", \"opened\", \"the\", \"box\", \"on\", \"the\", \"floor\"]\n",
    "\n",
    "gram = CFG.fromstring(\"\"\"\n",
    "    S -> NP VP\n",
    "    NP -> Det N | NP PP\n",
    "    VP -> V NP | VP PP\n",
    "    PP -> P NP\n",
    "    Det -> 'the'\n",
    "    N -> 'kids' | 'box' | 'floor'\n",
    "    V -> 'opened' \n",
    "    P -> 'on'\"\"\")\n",
    "gram"
   ]
  },
  {
   "cell_type": "code",
   "execution_count": 36,
   "metadata": {},
   "outputs": [],
   "source": [
    "from nltk import PCFG\n",
    "toy_pcfg1 = PCFG.fromstring(\"\"\"\n",
    "    S -> NP VP [1.0]\n",
    "    NP -> Det N [0.5] | NP PP [0.25] | 'John' [0.1] | 'I' [0.15]\n",
    "    Det -> 'the' [0.8] | 'my' [0.2]\n",
    "    N -> 'man' [0.5] | 'telescope' [0.5]\n",
    "    VP -> VP PP [0.1] | V NP [0.7] | V [0.2]\n",
    "    V -> 'ate' [0.35] | 'saw' [0.65]\n",
    "    PP -> P NP [1.0]\n",
    "    P -> 'with' [0.61] | 'under' [0.39] \"\"\")"
   ]
  },
  {
   "cell_type": "code",
   "execution_count": 37,
   "metadata": {
    "collapsed": true
   },
   "outputs": [],
   "source": [
    "# 초기화 테이블을 구성하는 함수\n",
    "def init_nfst(tok, gram):\n",
    "    numtokens1 = len(tok)\n",
    "    # fill w/ dots\n",
    "    nfst = [[\".\" for i in range(numtokens1+1)]   for j in range(numtokens1+1)]\n",
    "    # 대각선으로 채우기\n",
    "    for i in range(numtokens1):\n",
    "        prod = gram.productions(rhs=tok[i])\n",
    "        nfst[i][i+1] = prod[0].lhs()\n",
    "    return nfst"
   ]
  },
  {
   "cell_type": "code",
   "execution_count": 38,
   "metadata": {},
   "outputs": [],
   "source": [
    "# 테이블을 구성하는 코드\n",
    "def complete_nfst(nfst, tok, trace=False):\n",
    "    index1 = {} \n",
    "    for prod in gram.productions():\n",
    "        #make lookup reverse\n",
    "        index1[prod.rhs()] = prod.lhs()\n",
    "        numtokens1 = len(tok) \n",
    "    for span in range(2, numtokens1 +1):\n",
    "        for start in range(numtokens1 +1 -span):\n",
    "            #go down towards diagonal\n",
    "            end1 = start + span \n",
    "        for mid in range(start +1, end1):\n",
    "            nt1, nt2 = nfst[start][mid], nfst[mid][end1]\n",
    "    if (nt1,nt2) in index1:\n",
    "        if trace:\n",
    "            print(\"[%s] %3s [%s] %3s [%s] ==> [%s] %3s [%s]\" %\\\n",
    "                  (start, nt1, mid1, nt2, end1, start, index1[(nt1,nt2)], end)) \n",
    "    nfst[start1][end1] = index1[(nt1,nt2)]\n",
    "    return nfst"
   ]
  },
  {
   "cell_type": "code",
   "execution_count": 39,
   "metadata": {},
   "outputs": [],
   "source": [
    "# # 디스플레이 테이블을 구성\n",
    "# def display(wfst, tok):\n",
    "#     print('\\nWFST ' + ' '.join([(\"%-4d\" % i) for i in range(1,len(wfst))]))\n",
    "#     for i in range(len(wfst)-1):\n",
    "#         print(\"%d \" % i)\n",
    "#         for j in range(1, len(wfst)):\n",
    "#             print(\"%-4s\" % wfst[i][j])"
   ]
  },
  {
   "cell_type": "code",
   "execution_count": 40,
   "metadata": {},
   "outputs": [
    {
     "data": {
      "text/plain": [
       "[['.', Det, '.', '.', '.', '.', '.', '.', '.'],\n",
       " ['.', '.', N, '.', '.', '.', '.', '.', '.'],\n",
       " ['.', '.', '.', V, '.', '.', '.', '.', '.'],\n",
       " ['.', '.', '.', '.', Det, '.', '.', '.', '.'],\n",
       " ['.', '.', '.', '.', '.', N, '.', '.', '.'],\n",
       " ['.', '.', '.', '.', '.', '.', P, '.', '.'],\n",
       " ['.', '.', '.', '.', '.', '.', '.', Det, '.'],\n",
       " ['.', '.', '.', '.', '.', '.', '.', '.', N],\n",
       " ['.', '.', '.', '.', '.', '.', '.', '.', '.']]"
      ]
     },
     "metadata": {},
     "output_type": "display_data"
    },
    {
     "data": {
      "text/plain": [
       "['the', 'kids', 'opened', 'the', 'box', 'on', 'the', 'floor']"
      ]
     },
     "metadata": {},
     "output_type": "display_data"
    }
   ],
   "source": [
    "# 코드의 결과를 출력\n",
    "tok = [\"the\", \"kids\", \"opened\", \"the\", \"box\", \"on\", \"the\", \"floor\"]\n",
    "res1 = init_nfst(tok, gram)\n",
    "display(res1, tok)"
   ]
  },
  {
   "cell_type": "code",
   "execution_count": 41,
   "metadata": {},
   "outputs": [],
   "source": [
    "# res2 = complete_nfst(res1,tok)\n",
    "# display(res2, tok)"
   ]
  },
  {
   "cell_type": "markdown",
   "metadata": {},
   "source": [
    "<br></br>\n",
    "## 5 Earley 차트 파싱 알고리즘\n",
    "1970년 발표한 알고리즘으로 Top-Down 파싱과 유사\n",
    "\n",
    "좌측방향 재귀처리를 하며, CNF를 필요로 한다"
   ]
  },
  {
   "cell_type": "code",
   "execution_count": 42,
   "metadata": {},
   "outputs": [
    {
     "name": "stdout",
     "output_type": "stream",
     "text": [
      "* Sentence:\n",
      "John saw a dog\n",
      "['John', 'saw', 'a', 'dog']\n",
      "\n",
      "* Strategy: Bottom-up\n",
      "\n",
      "|.   John  .   saw   .    a    .   dog   .|\n",
      "|[---------]         .         .         .| [0:1] 'John'\n",
      "|.         [---------]         .         .| [1:2] 'saw'\n",
      "|.         .         [---------]         .| [2:3] 'a'\n",
      "|.         .         .         [---------]| [3:4] 'dog'\n",
      "|>         .         .         .         .| [0:0] NP -> * 'John'\n",
      "|[---------]         .         .         .| [0:1] NP -> 'John' *\n",
      "|>         .         .         .         .| [0:0] S  -> * NP VP\n",
      "|>         .         .         .         .| [0:0] NP -> * NP PP\n",
      "|[--------->         .         .         .| [0:1] S  -> NP * VP\n",
      "|[--------->         .         .         .| [0:1] NP -> NP * PP\n",
      "|.         >         .         .         .| [1:1] Verb -> * 'saw'\n",
      "|.         [---------]         .         .| [1:2] Verb -> 'saw' *\n",
      "|.         >         .         .         .| [1:1] VP -> * Verb NP\n",
      "|.         >         .         .         .| [1:1] VP -> * Verb\n",
      "|.         [--------->         .         .| [1:2] VP -> Verb * NP\n",
      "|.         [---------]         .         .| [1:2] VP -> Verb *\n",
      "|.         >         .         .         .| [1:1] VP -> * VP PP\n",
      "|[-------------------]         .         .| [0:2] S  -> NP VP *\n",
      "|.         [--------->         .         .| [1:2] VP -> VP * PP\n",
      "|.         .         >         .         .| [2:2] Det -> * 'a'\n",
      "|.         .         [---------]         .| [2:3] Det -> 'a' *\n",
      "|.         .         >         .         .| [2:2] NP -> * Det Noun\n",
      "|.         .         [--------->         .| [2:3] NP -> Det * Noun\n",
      "|.         .         .         >         .| [3:3] Noun -> * 'dog'\n",
      "|.         .         .         [---------]| [3:4] Noun -> 'dog' *\n",
      "|.         .         [-------------------]| [2:4] NP -> Det Noun *\n",
      "|.         .         >         .         .| [2:2] S  -> * NP VP\n",
      "|.         .         >         .         .| [2:2] NP -> * NP PP\n",
      "|.         [-----------------------------]| [1:4] VP -> Verb NP *\n",
      "|.         .         [------------------->| [2:4] S  -> NP * VP\n",
      "|.         .         [------------------->| [2:4] NP -> NP * PP\n",
      "|[=======================================]| [0:4] S  -> NP VP *\n",
      "|.         [----------------------------->| [1:4] VP -> VP * PP\n",
      "Nr edges in chart: 33\n",
      "(S (NP John) (VP (Verb saw) (NP (Det a) (Noun dog))))\n",
      "\n"
     ]
    }
   ],
   "source": [
    "# NLTK 차트파서를 사용한 파싱\n",
    "\n",
    "import nltk\n",
    "# AssertionError: Not all parses found   # 오류가 발생\n",
    "# nltk.parse.chart.demo(print_times=False, trace=1,sent='I saw a dog', numparses=2)\n",
    "# nltk.parse.chart.demo(5, print_times=False, trace=1,sent='John saw a dog', numparses=2)\n",
    "nltk.parse.chart.demo(2, print_times=False, trace=1, sent='John saw a dog', numparses=1)"
   ]
  },
  {
   "cell_type": "code",
   "execution_count": 43,
   "metadata": {},
   "outputs": [
    {
     "name": "stdout",
     "output_type": "stream",
     "text": [
      "\n",
      "Grammar with 18 productions (start state = S[])\n",
      "    S[] -> NP[] VP[]\n",
      "    PP[] -> Prep[] NP[]\n",
      "    NP[] -> NP[] PP[]\n",
      "    VP[] -> VP[] PP[]\n",
      "    VP[] -> Verb[] NP[]\n",
      "    VP[] -> Verb[]\n",
      "    NP[] -> Det[pl=?x] Noun[pl=?x]\n",
      "    NP[] -> 'John'\n",
      "    NP[] -> 'I'\n",
      "    Det[] -> 'the'\n",
      "    Det[] -> 'my'\n",
      "    Det[-pl] -> 'a'\n",
      "    Noun[-pl] -> 'dog'\n",
      "    Noun[-pl] -> 'cookie'\n",
      "    Verb[] -> 'ate'\n",
      "    Verb[] -> 'saw'\n",
      "    Prep[] -> 'with'\n",
      "    Prep[] -> 'under'\n",
      "\n",
      "* FeatureChartParser\n",
      "Sentence: I saw a dog\n",
      "|. I .saw. a .dog.|\n",
      "|[---]   .   .   .| [0:1] 'I'\n",
      "|.   [---]   .   .| [1:2] 'saw'\n",
      "|.   .   [---]   .| [2:3] 'a'\n",
      "|.   .   .   [---]| [3:4] 'dog'\n",
      "|[---]   .   .   .| [0:1] NP[] -> 'I' *\n",
      "|[--->   .   .   .| [0:1] S[] -> NP[] * VP[] {}\n",
      "|[--->   .   .   .| [0:1] NP[] -> NP[] * PP[] {}\n",
      "|.   [---]   .   .| [1:2] Verb[] -> 'saw' *\n",
      "|.   [--->   .   .| [1:2] VP[] -> Verb[] * NP[] {}\n",
      "|.   [---]   .   .| [1:2] VP[] -> Verb[] *\n",
      "|.   [--->   .   .| [1:2] VP[] -> VP[] * PP[] {}\n",
      "|[-------]   .   .| [0:2] S[] -> NP[] VP[] *\n",
      "|.   .   [---]   .| [2:3] Det[-pl] -> 'a' *\n",
      "|.   .   [--->   .| [2:3] NP[] -> Det[pl=?x] * Noun[pl=?x] {?x: False}\n",
      "|.   .   .   [---]| [3:4] Noun[-pl] -> 'dog' *\n",
      "|.   .   [-------]| [2:4] NP[] -> Det[-pl] Noun[-pl] *\n",
      "|.   .   [------->| [2:4] S[] -> NP[] * VP[] {}\n",
      "|.   .   [------->| [2:4] NP[] -> NP[] * PP[] {}\n",
      "|.   [-----------]| [1:4] VP[] -> Verb[] NP[] *\n",
      "|.   [----------->| [1:4] VP[] -> VP[] * PP[] {}\n",
      "|[===============]| [0:4] S[] -> NP[] VP[] *\n",
      "(S[]\n",
      "  (NP[] I)\n",
      "  (VP[] (Verb[] saw) (NP[] (Det[-pl] a) (Noun[-pl] dog))))\n"
     ]
    }
   ],
   "source": [
    "# NLTK Feature 차트파싱\n",
    "import nltk\n",
    "nltk.parse.featurechart.demo( print_times = False, \n",
    "        print_grammar = True, parser = nltk.parse.featurechart.FeatureChartParser, \n",
    "        sent = 'I saw a dog' )"
   ]
  },
  {
   "cell_type": "code",
   "execution_count": 44,
   "metadata": {
    "collapsed": true
   },
   "outputs": [],
   "source": [
    "# Earley 알고리즘을 구현한 NLTK코드\n",
    "# A demonstration of the Earley parsers.\n",
    "def demo(print_times = True, print_grammar = False,\n",
    "         print_trees = True, trace = 2,\n",
    "         sent = 'I saw John with a dog with my cookie', \n",
    "         numparses=5):\n",
    "\n",
    "    import sys, time\n",
    "    from nltk.parse.chart import demo_grammar\n",
    "    \n",
    "    # The grammar for ChartParser and SteppingChartParser:\n",
    "    grammar = demo_grammar()\n",
    "    if print_grammar:\n",
    "        print(\"* Grammar\", grammar)\n",
    "        # 샘플문장을 토큰화 한다\n",
    "        print(\"* Sentence:\", sent)\n",
    "        tokens = sent.split()\n",
    "        print(tokens)\n",
    "\n",
    "    # 파싱 작업을 시작한다.\n",
    "    earley = EarleyChartParser(grammar, trace=trace)\n",
    "    t = time.clock()\n",
    "    chart = earley.chart_parse(tokens)\n",
    "    parses = list(chart.parses(grammar.start()))\n",
    "    t = time.clock() - t\n",
    "    # 결과를 출력한다\n",
    "    if numparses: \n",
    "        assert len(parses) == numparses, 'Not all parses found'\n",
    "    if print_trees:\n",
    "        for tree in parses:\n",
    "            print(tree)\n",
    "        else: print(\"Nr trees:\", len(parses))\n",
    "    if print_times: \n",
    "        print(\"Time:\", t)\n",
    "\n",
    "    if __name__ == '__main__':\n",
    "        demo()"
   ]
  }
 ],
 "metadata": {
  "kernelspec": {
   "display_name": "Python 3",
   "language": "python",
   "name": "python3"
  },
  "language_info": {
   "codemirror_mode": {
    "name": "ipython",
    "version": 3
   },
   "file_extension": ".py",
   "mimetype": "text/x-python",
   "name": "python",
   "nbconvert_exporter": "python",
   "pygments_lexer": "ipython3",
   "version": "3.6.1"
  }
 },
 "nbformat": 4,
 "nbformat_minor": 2
}
