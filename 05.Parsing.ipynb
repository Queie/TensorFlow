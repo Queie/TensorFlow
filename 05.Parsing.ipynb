{
 "cells": [
  {
   "cell_type": "markdown",
   "metadata": {},
   "source": [
    "# Chapter 5 - Parsing\n",
    "파싱-훈련 데이터 분석하기"
   ]
  },
  {
   "cell_type": "markdown",
   "metadata": {},
   "source": [
    "## 1 Parsing\n",
    "파싱은 개별 구성요소에 대한 품사범주를 결정하고, 문법 규칙에 따르는지 여부를 분석"
   ]
  },
  {
   "cell_type": "markdown",
   "metadata": {},
   "source": [
    "### 01 Tree bank corpus\n",
    "트리뱅크 구성"
   ]
  },
  {
   "cell_type": "code",
   "execution_count": 6,
   "metadata": {},
   "outputs": [
    {
     "name": "stdout",
     "output_type": "stream",
     "text": [
      "<BracketParseCorpusReader in '/home/markbaum/nltk_data/corpora/treebank/combined'>\n",
      "['wsj_0001.mrg', 'wsj_0051.mrg', 'wsj_0101.mrg', 'wsj_0151.mrg']\n"
     ]
    }
   ],
   "source": [
    "import nltk\n",
    "import nltk.corpus\n",
    "print(str(nltk.corpus.treebank).replace('\\\\\\\\','/'))\n",
    "print(nltk.corpus.treebank.fileids()[::50])"
   ]
  },
  {
   "cell_type": "code",
   "execution_count": 3,
   "metadata": {},
   "outputs": [
    {
     "name": "stdout",
     "output_type": "stream",
     "text": [
      "['McDermott', 'International', 'Inc.', 'said', '0', ...]\n",
      "[('McDermott', 'NNP'), ('International', 'NNP'), ...]\n"
     ]
    }
   ],
   "source": [
    "from nltk.corpus import treebank\n",
    "print(treebank.words('wsj_0007.mrg'))\n",
    "print(treebank.tagged_words('wsj_0007.mrg'))"
   ]
  },
  {
   "cell_type": "code",
   "execution_count": 7,
   "metadata": {},
   "outputs": [
    {
     "name": "stdout",
     "output_type": "stream",
     "text": [
      "(S\n",
      "  (NP-SBJ\n",
      "    (NP (NNP Bailey) (NNP Controls))\n",
      "    (, ,)\n",
      "    (VP\n",
      "      (VBN based)\n",
      "      (NP (-NONE- *))\n",
      "      (PP-LOC-CLR\n",
      "        (IN in)\n",
      "        (NP (NP (NNP Wickliffe)) (, ,) (NP (NNP Ohio)))))\n",
      "    (, ,))\n",
      "  (VP\n",
      "    (VBZ makes)\n",
      "    (NP\n",
      "      (JJ computerized)\n",
      "      (JJ industrial)\n",
      "      (NNS controls)\n",
      "      (NNS systems)))\n",
      "  (. .))\n"
     ]
    }
   ],
   "source": [
    "# Treebank corpus 중 Penn Treebak corpus에 접속하는 코드내용 살펴보기\n",
    "import nltk\n",
    "from nltk.corpus import treebank\n",
    "print(treebank.parsed_sents('wsj_0007.mrg')[2])"
   ]
  },
  {
   "cell_type": "code",
   "execution_count": 10,
   "metadata": {},
   "outputs": [
    {
     "name": "stderr",
     "output_type": "stream",
     "text": [
      "/home/markbaum/Python/python36/lib/python3.6/site-packages/nltk/tokenize/regexp.py:123: FutureWarning: split() requires a non-empty pattern match.\n",
      "  return [tok for tok in self._regexp.split(text) if tok]\n"
     ]
    },
    {
     "name": "stdout",
     "output_type": "stream",
     "text": [
      "(S\n",
      "  (NP Mr./NNP Vinken/NNP)\n",
      "  is/VBZ\n",
      "  (NP chairman/NN)\n",
      "  of/IN\n",
      "  (NP Elsevier/NNP N.V./NNP)\n",
      "  ,/,\n",
      "  (NP the/DT Dutch/NNP publishing/VBG group/NN)\n",
      "  ./.)\n"
     ]
    }
   ],
   "source": [
    "%matplotlib inline\n",
    "import nltk\n",
    "from nltk.corpus import treebank_chunk\n",
    "print(treebank_chunk.chunked_sents()[1])\n",
    "treebank_chunk.chunked_sents()[1].draw()  # 외부 화면으로 출력"
   ]
  },
  {
   "cell_type": "code",
   "execution_count": null,
   "metadata": {
    "collapsed": true
   },
   "outputs": [],
   "source": []
  },
  {
   "cell_type": "code",
   "execution_count": null,
   "metadata": {
    "collapsed": true
   },
   "outputs": [],
   "source": []
  },
  {
   "cell_type": "code",
   "execution_count": null,
   "metadata": {
    "collapsed": true
   },
   "outputs": [],
   "source": []
  },
  {
   "cell_type": "code",
   "execution_count": null,
   "metadata": {
    "collapsed": true
   },
   "outputs": [],
   "source": []
  }
 ],
 "metadata": {
  "kernelspec": {
   "display_name": "Python 3",
   "language": "python",
   "name": "python3"
  },
  "language_info": {
   "codemirror_mode": {
    "name": "ipython",
    "version": 3
   },
   "file_extension": ".py",
   "mimetype": "text/x-python",
   "name": "python",
   "nbconvert_exporter": "python",
   "pygments_lexer": "ipython3",
   "version": "3.6.1"
  }
 },
 "nbformat": 4,
 "nbformat_minor": 2
}
