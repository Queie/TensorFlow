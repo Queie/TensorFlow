{
 "cells": [
  {
   "cell_type": "markdown",
   "metadata": {},
   "source": [
    "# Chapter 2 - Statistical Language mModeling\n",
    "통계 언어 모델링"
   ]
  },
  {
   "cell_type": "code",
   "execution_count": null,
   "metadata": {
    "collapsed": true
   },
   "outputs": [],
   "source": [
    "# << context >>\n",
    "# 1 단어 빈도계산 (1gram, 2gram, 3gram)\n",
    "# 2 주어진 텍스트 MLE 개발 (Maximum Likelihood Estimation : 최대우도 측정모델)\n",
    "# 3 MLE 모델의 스무딩 적용 \n",
    "# 4 MLE의 back-off 매커니즘 개발\n",
    "# 5 mix and match 를 억디위한 데이터 보간법 적용\n",
    "# 6 혼잡도(perplexity)를 활용한 언어모델의 평가\n",
    "# 7 Metropolis-Hastings (기각표본추출 알고리즘- 몬테카를로 시뮬레이션에 적용) 를 언어모델링에 적용\n",
    "# 8 Gibbs sampling을 적용"
   ]
  },
  {
   "cell_type": "markdown",
   "metadata": {},
   "source": [
    "## 1 단어빈도 의 활용이해\n",
    "Understanding word frequency"
   ]
  },
  {
   "cell_type": "code",
   "execution_count": 3,
   "metadata": {},
   "outputs": [
    {
     "name": "stdout",
     "output_type": "stream",
     "text": [
      "['De', 'verzekeringsmaatschappijen', 'verhelen', ...]\n"
     ]
    }
   ],
   "source": [
    "# alpino 말뭉치의 내용 확인\n",
    "import nltk\n",
    "from nltk.util import ngrams\n",
    "from nltk.corpus import alpino\n",
    "print(alpino.words())"
   ]
  },
  {
   "cell_type": "code",
   "execution_count": 8,
   "metadata": {
    "scrolled": true
   },
   "outputs": [
    {
     "name": "stdout",
     "output_type": "stream",
     "text": [
      "('De',)\n",
      "('bundel',)\n",
      "('rietblazerssectie',)\n",
      "('we',)\n",
      "('van',)\n",
      "('de',)\n",
      "('hij',)\n",
      "139819\n"
     ]
    }
   ],
   "source": [
    "# 1gram 으로 alpino 말뭉치 내용 확인하기\n",
    "unigrams = ngrams(alpino.words(),1)\n",
    "for i, word in enumerate(unigrams):\n",
    "    if i % 20000 == 0: print(word)\n",
    "print(i)"
   ]
  },
  {
   "cell_type": "code",
   "execution_count": 9,
   "metadata": {},
   "outputs": [
    {
     "name": "stdout",
     "output_type": "stream",
     "text": [
      "['De', 'verzekeringsmaatschappijen', 'verhelen', ...]\n",
      "('De', 'verzekeringsmaatschappijen', 'verhelen', 'niet')\n",
      "('bundel', 'is', 'het', 'te')\n",
      "('rietblazerssectie', 'in', 'het', 'orkest')\n",
      "('we', 'hier', 'Hollandse', 'lijnrechters')\n",
      "('van', 'Otterloo', 'en', 'het')\n",
      "('de', 'oostkust', 'van', 'Australie')\n",
      "('hij', 'vindt', 'er', 'een')\n",
      "139816\n"
     ]
    }
   ],
   "source": [
    "# 4gram 을 통한 alpino 말뭉치 내용확인\n",
    "quadgrams = ngrams(alpino.words(),4)\n",
    "\n",
    "for i, word in enumerate(quadgrams):\n",
    "    if i % 20000 == 0 : print(word)\n",
    "print(i)"
   ]
  },
  {
   "cell_type": "code",
   "execution_count": 22,
   "metadata": {},
   "outputs": [
    {
     "name": "stdout",
     "output_type": "stream",
     "text": [
      "16967\n",
      "grail.txt : ['scene', '?', '[', 'm', \"'\", 'the', '[', 'pointy', 'no']\n",
      "bi-gram   : [(\"'\", 's'), ('arthur', ':'), ('#', '1'), (\"'\", 't'), ('villager', '#'), ('#', '2'), (']', '['), ('1', ':'), ('oh', ','), ('black', 'knight')]\n"
     ]
    }
   ],
   "source": [
    "# text를 bigram으로 추출\n",
    "from nltk.corpus import webtext\n",
    "tokens=[t.lower()    for t in webtext.words('grail.txt')]\n",
    "print(len(tokens))\n",
    "print('grail.txt :', tokens[::2000])  # nltk 기본제공 text 예제\n",
    "\n",
    "from nltk.collocations import BigramCollocationFinder\n",
    "words = BigramCollocationFinder.from_words(tokens)\n",
    "\n",
    "from nltk.metrics import BigramAssocMeasures\n",
    "print('bi-gram   :' ,words.nbest(BigramAssocMeasures.likelihood_ratio, 10))"
   ]
  },
  {
   "cell_type": "code",
   "execution_count": 23,
   "metadata": {},
   "outputs": [
    {
     "name": "stdout",
     "output_type": "stream",
     "text": [
      "[('black', 'knight'), ('clop', 'clop'), ('head', 'knight'), ('mumble', 'mumble'), ('squeak', 'squeak'), ('saw', 'saw'), ('holy', 'grail'), ('run', 'away'), ('french', 'guard'), ('cartoon', 'character')]\n"
     ]
    }
   ],
   "source": [
    "from nltk.corpus import webtext\n",
    "tokens = [ t.lower()    for t in webtext.words('grail.txt')]\n",
    "\n",
    "from nltk.corpus import stopwords\n",
    "from nltk.collocations import BigramCollocationFinder\n",
    "set = set(stopwords.words('english'))\n",
    "stops_filter = lambda w: len(w) < 3 or w in set\n",
    "words = BigramCollocationFinder.from_words(tokens)\n",
    "words.apply_word_filter(stops_filter)\n",
    "\n",
    "from nltk.metrics import BigramAssocMeasures\n",
    "print(words.nbest(BigramAssocMeasures.likelihood_ratio, 10))"
   ]
  },
  {
   "cell_type": "code",
   "execution_count": null,
   "metadata": {
    "collapsed": true
   },
   "outputs": [],
   "source": []
  },
  {
   "cell_type": "code",
   "execution_count": null,
   "metadata": {
    "collapsed": true
   },
   "outputs": [],
   "source": []
  },
  {
   "cell_type": "code",
   "execution_count": null,
   "metadata": {
    "collapsed": true
   },
   "outputs": [],
   "source": []
  },
  {
   "cell_type": "code",
   "execution_count": null,
   "metadata": {
    "collapsed": true
   },
   "outputs": [],
   "source": []
  },
  {
   "cell_type": "code",
   "execution_count": null,
   "metadata": {
    "collapsed": true
   },
   "outputs": [],
   "source": []
  },
  {
   "cell_type": "code",
   "execution_count": null,
   "metadata": {
    "collapsed": true
   },
   "outputs": [],
   "source": []
  },
  {
   "cell_type": "code",
   "execution_count": null,
   "metadata": {
    "collapsed": true
   },
   "outputs": [],
   "source": []
  }
 ],
 "metadata": {
  "kernelspec": {
   "display_name": "Python 3",
   "language": "python",
   "name": "python3"
  },
  "language_info": {
   "codemirror_mode": {
    "name": "ipython",
    "version": 3
   },
   "file_extension": ".py",
   "mimetype": "text/x-python",
   "name": "python",
   "nbconvert_exporter": "python",
   "pygments_lexer": "ipython3",
   "version": "3.6.1"
  }
 },
 "nbformat": 4,
 "nbformat_minor": 2
}
