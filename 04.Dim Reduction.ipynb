{
 "cells": [
  {
   "cell_type": "markdown",
   "metadata": {},
   "source": [
    "# Chapter 5 - Compressing Data via Dimensionality Reduction\n",
    "차원축소를 이용한 데이터 압축\n",
    "\n",
    "https://deeplearning4j.org/kr/eigenvector"
   ]
  },
  {
   "cell_type": "markdown",
   "metadata": {},
   "source": [
    "## 1 비지도적 차원축소\n",
    "PCA(Principal component analysis) : 주성분 분석을 활용\n",
    "\n",
    "<img src=\"http://4.bp.blogspot.com/-pleL0HvLUgU/UYqpNFdd8EI/AAAAAAAAAHA/uf11u9lcq5g/s1600/PCA_1.png\" align=\"left\">"
   ]
  },
  {
   "cell_type": "code",
   "execution_count": 1,
   "metadata": {
    "collapsed": true
   },
   "outputs": [],
   "source": [
    "# 주성분 분석 : '최대분산' 방향으로, 새로운 공간에 '더 작은 차원'으로 투영\n",
    "# 1. 설명적 데이터 분석\n",
    "# 2. 주식시장 거래의 잡음신호 처리\n",
    "# 3. 유전데이터 표현수준"
   ]
  },
  {
   "cell_type": "markdown",
   "metadata": {},
   "source": [
    "### 주성분 분석\n",
    "산포도를 가장 길게 퍼져있는 방향 축 하나와,\n",
    "\n",
    "이들 방향 축 중 '분산'값이 가장 큰 축 (2차원 : 2개축,  3차원 : 3개의 축)\n",
    "\n",
    "<img src=\"https://deeplearning4j.org/img/scatterplot_line.png\" align='left'>"
   ]
  },
  {
   "cell_type": "code",
   "execution_count": 2,
   "metadata": {
    "collapsed": true
   },
   "outputs": [],
   "source": [
    "# 분산분리 process.\n",
    "# 1 d 차원 데이터를 표준화 (Standarized) 한다\n",
    "# 2 공분산 행렬을 만들어, eigen_vector(고유벡터) 와 eigen_value(고유값)로 분리\n",
    "# 3 가장 큰 'k' eigen_value(고유값) 에 대한 eigne_vector(고유벡터) 를 선택한다\n",
    "# 4 맨 위의 'k' eigen_vector(고유벡터) 로부터 '투영행렬' W 를 만든다\n",
    "# 5 새로운 feature 부분공간을 얻기위해 'W'를 사용하여, X를 변환한다"
   ]
  },
  {
   "cell_type": "markdown",
   "metadata": {
    "collapsed": true
   },
   "source": [
    "#### eigen_vector : 고유 방향 (선형변환시)\n",
    "고유벡터(파란 화살표) : 차원이 변해도, 벡터가 변하지 않음 (행렬과 투영벡터의 방향이 일치)\n",
    "\n",
    "떄문에 방향은 같고, scala 만 바뀐다 (내적곱만 하면 된다)\n",
    "\n",
    "결과 : 행렬의 대표적 vector (힘의 방향) 추출 (가장 분산이 큰 방향벡터를 추출한다)\n",
    "\n",
    "<img src=\"https://upload.wikimedia.org/wikipedia/commons/0/06/Eigenvectors.gif\" align='left'>"
   ]
  },
  {
   "cell_type": "markdown",
   "metadata": {
    "collapsed": true
   },
   "source": [
    "#### eigen_value : 고유 값\n",
    "고유벡터(파란 화살표)의 '상관계수'로써\n",
    "\n",
    "고유벡터가 여럿일 떄 각 축의 공분산 값으로써, \n",
    "\n",
    "결과적으로 고유벡터 수 만큼의 '공분산 행렬'로 출력된다 (2x2 공분산 행렬 결과값 예시)\n",
    "\n",
    "<img src=\"https://deeplearning4j.org/img/covariances.png\" align='left'>"
   ]
  },
  {
   "cell_type": "markdown",
   "metadata": {},
   "source": [
    "### 공분산\n",
    "X 와 Y 가 연관이 없을 떄 : \n",
    "\n",
    "공분산(두 변수축의 대각선으로써, 두 변수가 연관되어 같이 변하는 정도를 계산한 값//데이터 분포형태)은 '0'이 된다.\n",
    "\n",
    "1. 공분산행렬 : 데이터 분포형태를 나타낸다\n",
    "2. 상관계수 : 공분산을 -1 ~ 1 의 값으로 정규화(Normalized)한 값"
   ]
  },
  {
   "cell_type": "markdown",
   "metadata": {},
   "source": [
    "### 01 Import Data\n",
    "Wine 데이터 불러오기/ 70,30 나누기/ 표준화"
   ]
  },
  {
   "cell_type": "code",
   "execution_count": 3,
   "metadata": {},
   "outputs": [
    {
     "data": {
      "text/html": [
       "<div>\n",
       "<table border=\"1\" class=\"dataframe\">\n",
       "  <thead>\n",
       "    <tr style=\"text-align: right;\">\n",
       "      <th></th>\n",
       "      <th>Class label</th>\n",
       "      <th>Alcohol</th>\n",
       "      <th>Malic acid</th>\n",
       "      <th>Ash</th>\n",
       "      <th>Alcalinity of ash</th>\n",
       "      <th>Magnesium</th>\n",
       "      <th>Total phenols</th>\n",
       "      <th>Flavanoids</th>\n",
       "      <th>Nonflavanoid phenols</th>\n",
       "      <th>Proanthocyanins</th>\n",
       "      <th>Color intensity</th>\n",
       "      <th>Hue</th>\n",
       "      <th>OD280/OD315 of diluted wines</th>\n",
       "      <th>Proline</th>\n",
       "    </tr>\n",
       "  </thead>\n",
       "  <tbody>\n",
       "    <tr>\n",
       "      <th>0</th>\n",
       "      <td>1</td>\n",
       "      <td>14.23</td>\n",
       "      <td>1.71</td>\n",
       "      <td>2.43</td>\n",
       "      <td>15.6</td>\n",
       "      <td>127</td>\n",
       "      <td>2.80</td>\n",
       "      <td>3.06</td>\n",
       "      <td>0.28</td>\n",
       "      <td>2.29</td>\n",
       "      <td>5.64</td>\n",
       "      <td>1.04</td>\n",
       "      <td>3.92</td>\n",
       "      <td>1065</td>\n",
       "    </tr>\n",
       "    <tr>\n",
       "      <th>1</th>\n",
       "      <td>1</td>\n",
       "      <td>13.20</td>\n",
       "      <td>1.78</td>\n",
       "      <td>2.14</td>\n",
       "      <td>11.2</td>\n",
       "      <td>100</td>\n",
       "      <td>2.65</td>\n",
       "      <td>2.76</td>\n",
       "      <td>0.26</td>\n",
       "      <td>1.28</td>\n",
       "      <td>4.38</td>\n",
       "      <td>1.05</td>\n",
       "      <td>3.40</td>\n",
       "      <td>1050</td>\n",
       "    </tr>\n",
       "    <tr>\n",
       "      <th>2</th>\n",
       "      <td>1</td>\n",
       "      <td>13.16</td>\n",
       "      <td>2.36</td>\n",
       "      <td>2.67</td>\n",
       "      <td>18.6</td>\n",
       "      <td>101</td>\n",
       "      <td>2.80</td>\n",
       "      <td>3.24</td>\n",
       "      <td>0.30</td>\n",
       "      <td>2.81</td>\n",
       "      <td>5.68</td>\n",
       "      <td>1.03</td>\n",
       "      <td>3.17</td>\n",
       "      <td>1185</td>\n",
       "    </tr>\n",
       "    <tr>\n",
       "      <th>3</th>\n",
       "      <td>1</td>\n",
       "      <td>14.37</td>\n",
       "      <td>1.95</td>\n",
       "      <td>2.50</td>\n",
       "      <td>16.8</td>\n",
       "      <td>113</td>\n",
       "      <td>3.85</td>\n",
       "      <td>3.49</td>\n",
       "      <td>0.24</td>\n",
       "      <td>2.18</td>\n",
       "      <td>7.80</td>\n",
       "      <td>0.86</td>\n",
       "      <td>3.45</td>\n",
       "      <td>1480</td>\n",
       "    </tr>\n",
       "    <tr>\n",
       "      <th>4</th>\n",
       "      <td>1</td>\n",
       "      <td>13.24</td>\n",
       "      <td>2.59</td>\n",
       "      <td>2.87</td>\n",
       "      <td>21.0</td>\n",
       "      <td>118</td>\n",
       "      <td>2.80</td>\n",
       "      <td>2.69</td>\n",
       "      <td>0.39</td>\n",
       "      <td>1.82</td>\n",
       "      <td>4.32</td>\n",
       "      <td>1.04</td>\n",
       "      <td>2.93</td>\n",
       "      <td>735</td>\n",
       "    </tr>\n",
       "  </tbody>\n",
       "</table>\n",
       "</div>"
      ],
      "text/plain": [
       "   Class label  Alcohol  Malic acid   Ash  Alcalinity of ash  Magnesium  \\\n",
       "0            1    14.23        1.71  2.43               15.6        127   \n",
       "1            1    13.20        1.78  2.14               11.2        100   \n",
       "2            1    13.16        2.36  2.67               18.6        101   \n",
       "3            1    14.37        1.95  2.50               16.8        113   \n",
       "4            1    13.24        2.59  2.87               21.0        118   \n",
       "\n",
       "   Total phenols  Flavanoids  Nonflavanoid phenols  Proanthocyanins  \\\n",
       "0           2.80        3.06                  0.28             2.29   \n",
       "1           2.65        2.76                  0.26             1.28   \n",
       "2           2.80        3.24                  0.30             2.81   \n",
       "3           3.85        3.49                  0.24             2.18   \n",
       "4           2.80        2.69                  0.39             1.82   \n",
       "\n",
       "   Color intensity   Hue  OD280/OD315 of diluted wines  Proline  \n",
       "0             5.64  1.04                          3.92     1065  \n",
       "1             4.38  1.05                          3.40     1050  \n",
       "2             5.68  1.03                          3.17     1185  \n",
       "3             7.80  0.86                          3.45     1480  \n",
       "4             4.32  1.04                          2.93      735  "
      ]
     },
     "execution_count": 3,
     "metadata": {},
     "output_type": "execute_result"
    }
   ],
   "source": [
    "import pandas as pd\n",
    "\n",
    "df_wine = pd.read_csv('./data/wine.data',header=None)\n",
    "df_wine.columns = ['Class label', 'Alcohol', 'Malic acid', 'Ash',\n",
    "                   'Alcalinity of ash', 'Magnesium', 'Total phenols',\n",
    "                   'Flavanoids', 'Nonflavanoid phenols', 'Proanthocyanins',\n",
    "                   'Color intensity', 'Hue',\n",
    "                   'OD280/OD315 of diluted wines', 'Proline']\n",
    "df_wine.head()"
   ]
  },
  {
   "cell_type": "code",
   "execution_count": 4,
   "metadata": {
    "collapsed": true
   },
   "outputs": [],
   "source": [
    "# 훈련 데이터 70%, test 데이터 30%\n",
    "from sklearn.model_selection import train_test_split\n",
    "\n",
    "X, y = df_wine.iloc[:, 1:].values, df_wine.iloc[:, 0].values\n",
    "X_train, X_test, y_train, y_test = \\\n",
    "    train_test_split(X, y, test_size=0.3, random_state=0)"
   ]
  },
  {
   "cell_type": "code",
   "execution_count": 5,
   "metadata": {
    "collapsed": true
   },
   "outputs": [],
   "source": [
    "# PCA 적용전, 데이터를 표준화 (Standarized)\n",
    "from sklearn.preprocessing import StandardScaler\n",
    "\n",
    "sc = StandardScaler()\n",
    "X_train_std = sc.fit_transform(X_train)\n",
    "X_test_std = sc.transform(X_test)"
   ]
  },
  {
   "cell_type": "markdown",
   "metadata": {},
   "source": [
    "### 02 공분산 행렬을 만들고, 공분산 쌍을 지정한다\n",
    "두 feature간 '공분산'을 쌍으로 계산 - 평균은 0이 된다. \n",
    "  1. '+' : feature 가 같은 방향으로 증감\n",
    "  2. '-' : feature 기 다른 방향으로 증감"
   ]
  },
  {
   "cell_type": "code",
   "execution_count": 6,
   "metadata": {
    "collapsed": true
   },
   "outputs": [],
   "source": [
    "# 공분산행렬의 eigne_vector 는 PCA(주성분 분석) 을 나타내는 반면\n",
    "# eigne_value의 대응값은 그들의 '규모'를 정의할 수 있다"
   ]
  },
  {
   "cell_type": "code",
   "execution_count": 7,
   "metadata": {},
   "outputs": [
    {
     "name": "stdout",
     "output_type": "stream",
     "text": [
      "(13, 13) \n",
      "\n",
      "Eigenvalues  length : 13\n",
      "[ 4.8923083   2.46635032  1.42809973  1.01233462  0.84906459  0.60181514\n",
      "  0.52251546  0.08414846  0.33051429  0.29595018  0.16831254  0.21432212\n",
      "  0.2399553 ]\n"
     ]
    }
   ],
   "source": [
    "# 공분산 행렬과, 공분산 행렬의 eigen_pair\n",
    "import numpy as np\n",
    "cov_mat = np.cov(X_train_std.T)  # np.cov() : 공분산 행렬을 계산\n",
    "eigen_vals, eigen_vecs = np.linalg.eig(cov_mat) # np.linalg() : 공분산 행렬의 eigne_pair(고유값 분해)를 계산\n",
    "print(cov_mat.shape, '\\n\\nEigenvalues  length : {}\\n{}'.format(len(eigen_vals), eigen_vals ))"
   ]
  },
  {
   "cell_type": "code",
   "execution_count": 8,
   "metadata": {
    "collapsed": true
   },
   "outputs": [],
   "source": [
    "# eigne_value : eigne_vector 의 크기를 정의하며, 내림차순으로 정렬\n",
    "# 13개의 고유값을 비교하기 위해 '설명분산비율' 을 ploting 한다 (설명분산값의 누적합을 계산) \n",
    "# 설명분산비율 : 고유값 총합에 대한 개별 고유값의 비율\n",
    "tot = sum(eigen_vals)\n",
    "var_exp = [(i / tot) for i in sorted(eigen_vals, reverse=True)]\n",
    "cum_var_exp = np.cumsum(var_exp)"
   ]
  },
  {
   "cell_type": "code",
   "execution_count": 9,
   "metadata": {},
   "outputs": [
    {
     "data": {
      "image/png": "[encoded data removed]",
      "text/plain": [
       "<matplotlib.figure.Figure at 0x7fb154449a20>"
      ]
     },
     "metadata": {},
     "output_type": "display_data"
    }
   ],
   "source": [
    "# 설명분산의 누적합을 시각화\n",
    "import matplotlib.pyplot as plt\n",
    "plt.bar(range(1, 14), var_exp, alpha=0.5, align='center',\n",
    "        label='individual explained variance')    # 개별 eigen_value 내림차순 정렬\n",
    "plt.step(range(1, 14), cum_var_exp, where='mid',\n",
    "         label='cumulative explained variance')   # 누적 합\n",
    "plt.ylabel('Explained variance ratio')\n",
    "plt.xlabel('Principal components'); plt.legend(loc='best'); plt.show()"
   ]
  },
  {
   "cell_type": "code",
   "execution_count": 10,
   "metadata": {
    "collapsed": true
   },
   "outputs": [],
   "source": [
    "# 분석결과\n",
    "# 첫 feacture 가 전체분산의 40%를 차지\n",
    "# 1,2 feature 합이 전체의 60%를 차지"
   ]
  },
  {
   "cell_type": "markdown",
   "metadata": {},
   "source": [
    "### 03 feature 의 변환\n",
    "eigen_value를 내림차순으로 eigen_pair 정렬후\n",
    "\n",
    "선택한 eigen_vector 로 부터 '투영행렬'을 만든 뒤\n",
    "\n",
    "'투영행렬'을 사용해서 'low dimention 부분공간'으로 변환"
   ]
  },
  {
   "cell_type": "code",
   "execution_count": 11,
   "metadata": {},
   "outputs": [
    {
     "data": {
      "text/plain": [
       "[(4.8923083032737438,\n",
       "  array([ 0.14669811, -0.24224554, -0.02993442, -0.25519002,  0.12079772,\n",
       "          0.38934455,  0.42326486, -0.30634956,  0.30572219, -0.09869191,\n",
       "          0.30032535,  0.36821154,  0.29259713])),\n",
       " (2.4663503157592301,\n",
       "  array([ 0.50417079,  0.24216889,  0.28698484, -0.06468718,  0.22995385,\n",
       "          0.09363991,  0.01088622,  0.01870216,  0.03040352,  0.54527081,\n",
       "         -0.27924322, -0.174365  ,  0.36315461])),\n",
       " (1.4280997275048457,\n",
       "  array([-0.11723515,  0.14994658,  0.65639439,  0.58428234,  0.08226275,\n",
       "          0.18080442,  0.14295933,  0.17223475,  0.1583621 , -0.14242171,\n",
       "          0.09323872,  0.19607741, -0.09731711]))]"
      ]
     },
     "execution_count": 11,
     "metadata": {},
     "output_type": "execute_result"
    }
   ],
   "source": [
    "# eigen_pairs 를 생성 : (eigen_value, eigen_vector) 의 튜플\n",
    "# 참고 : LDA section 을 활용하는게 더 효과적이다 \n",
    "eigen_pairs = [(np.abs(eigen_vals[i]), eigen_vecs[:, i])\n",
    "               for i in range(len(eigen_vals))]\n",
    "\n",
    "eigen_pairs.sort(key=lambda k: k[0], reverse=True) # high to low 로 정렬\n",
    "eigen_pairs[:3]"
   ]
  },
  {
   "cell_type": "code",
   "execution_count": 12,
   "metadata": {},
   "outputs": [
    {
     "name": "stdout",
     "output_type": "stream",
     "text": [
      "Matrix W:\n",
      " [[ 0.14669811  0.50417079]\n",
      " [-0.24224554  0.24216889]\n",
      " [-0.02993442  0.28698484]\n",
      " [-0.25519002 -0.06468718]\n",
      " [ 0.12079772  0.22995385]\n",
      " [ 0.38934455  0.09363991]\n",
      " [ 0.42326486  0.01088622]\n",
      " [-0.30634956  0.01870216]\n",
      " [ 0.30572219  0.03040352]\n",
      " [-0.09869191  0.54527081]\n",
      " [ 0.30032535 -0.27924322]\n",
      " [ 0.36821154 -0.174365  ]\n",
      " [ 0.29259713  0.36315461]]\n"
     ]
    }
   ],
   "source": [
    "# 위에서 분석한 1, 2번쨰 데이터의 eigen_vector를 수집한다\n",
    "# eigen_vector 는 '단위길이'가 1로 scaling 된다\n",
    "w = np.hstack((eigen_pairs[0][1][:, np.newaxis],\n",
    "               eigen_pairs[1][1][:, np.newaxis]))\n",
    "print('Matrix W:\\n', w)"
   ]
  },
  {
   "cell_type": "code",
   "execution_count": 13,
   "metadata": {
    "collapsed": true
   },
   "outputs": [],
   "source": [
    "# X_train_std[0].dot[w]"
   ]
  },
  {
   "cell_type": "code",
   "execution_count": 14,
   "metadata": {
    "collapsed": true
   },
   "outputs": [],
   "source": [
    "# 내적곱 계산을 활용해, 두 개의 주성분으로 변환\n",
    "X_train_pca = X_train_std.dot(w)\n",
    "colors = ['r', 'b', 'g']\n",
    "markers = ['s', 'x', 'o']"
   ]
  },
  {
   "cell_type": "code",
   "execution_count": 15,
   "metadata": {
    "collapsed": true
   },
   "outputs": [],
   "source": [
    "for l, c, m in zip(np.unique(y_train), colors, markers):\n",
    "    plt.scatter(X_train_pca[y_train == l, 0], \n",
    "                X_train_pca[y_train == l, 1], \n",
    "                c=c, label=l, marker=m)"
   ]
  },
  {
   "cell_type": "code",
   "execution_count": 16,
   "metadata": {},
   "outputs": [
    {
     "data": {
      "image/png": "[encoded data removed]",
      "text/plain": [
       "<matplotlib.figure.Figure at 0x7fb14f0b1550>"
      ]
     },
     "metadata": {},
     "output_type": "display_data"
    }
   ],
   "source": [
    "# matplotlib ploting\n",
    "plt.xlabel('PC 1')\n",
    "plt.ylabel('PC 2')\n",
    "plt.legend(loc='lower left'); plt.show()"
   ]
  },
  {
   "cell_type": "code",
   "execution_count": 17,
   "metadata": {
    "collapsed": true
   },
   "outputs": [],
   "source": [
    "# 해석\n",
    "# X 축은  첫번쨰 주성분을 기준, Y 축은  두번쨰 주성분을 지군으로 분포를 재배치\n",
    "# Y 축 보다는, X 축을 기준으로 더 잘 분류가 된다."
   ]
  },
  {
   "cell_type": "markdown",
   "metadata": {},
   "source": [
    "### 04 scikit - learn 을 활용한 PCA 분석\n",
    "위에서 만든 'X_train' 데이터에 PCA 모듈을 활용해 logistic 분석을 사용해 변환된 sample을 분류"
   ]
  },
  {
   "cell_type": "code",
   "execution_count": 18,
   "metadata": {
    "collapsed": true
   },
   "outputs": [],
   "source": [
    "# 앞장의 plot_decision_region 을 통해서 결정영역을 시각화\n",
    "from matplotlib.colors import ListedColormap\n",
    "def plot_decision_regions(X, y, classifier, resolution=0.02):\n",
    "    markers = ('s', 'x', 'o', '^', 'v')\n",
    "    colors = ('red', 'blue', 'lightgreen', 'gray', 'cyan')\n",
    "    cmap = ListedColormap(colors[:len(np.unique(y))])\n",
    "    x1_min, x1_max = X[:, 0].min() - 1, X[:, 0].max() + 1\n",
    "    x2_min, x2_max = X[:, 1].min() - 1, X[:, 1].max() + 1\n",
    "    xx1, xx2 = np.meshgrid(np.arange(x1_min, x1_max, resolution),\n",
    "                           np.arange(x2_min, x2_max, resolution))\n",
    "    Z = classifier.predict(np.array([xx1.ravel(), xx2.ravel()]).T)\n",
    "    Z = Z.reshape(xx1.shape)\n",
    "    plt.contourf(xx1, xx2, Z, alpha=0.4, cmap=cmap)\n",
    "    plt.xlim(xx1.min(), xx1.max()); plt.ylim(xx2.min(), xx2.max())\n",
    "\n",
    "    for idx, cl in enumerate(np.unique(y)):\n",
    "        plt.scatter(x=X[y == cl, 0], y=X[y == cl, 1],\n",
    "                    alpha=0.6, c=cmap(idx),edgecolor='black',\n",
    "                    marker=markers[idx],label=cl)"
   ]
  },
  {
   "cell_type": "code",
   "execution_count": 19,
   "metadata": {
    "scrolled": true
   },
   "outputs": [
    {
     "data": {
      "text/plain": [
       "array([ 0.37329648,  0.18818926,  0.10896791,  0.07724389,  0.06478595,\n",
       "        0.04592014,  0.03986936,  0.02521914,  0.02258181,  0.01830924,\n",
       "        0.01635336,  0.01284271,  0.00642076])"
      ]
     },
     "execution_count": 19,
     "metadata": {},
     "output_type": "execute_result"
    }
   ],
   "source": [
    "# scikit learn 에서 PCA 모듈 불러오기\n",
    "from sklearn.decomposition import PCA\n",
    "\n",
    "pca = PCA()\n",
    "X_train_pca = pca.fit_transform(X_train_std)\n",
    "pca.explained_variance_ratio_"
   ]
  },
  {
   "cell_type": "code",
   "execution_count": 20,
   "metadata": {},
   "outputs": [
    {
     "data": {
      "image/png": "[encoded data removed]",
      "text/plain": [
       "<matplotlib.figure.Figure at 0x7fb14d013550>"
      ]
     },
     "metadata": {},
     "output_type": "display_data"
    }
   ],
   "source": [
    "# 13개 feature 를 대상으로 PCA 분석\n",
    "# pca.explained_variance_ratio_ 을 시각화 분석 \n",
    "plt.bar(range(1, 14), pca.explained_variance_ratio_, alpha=0.5, align='center')\n",
    "plt.step(range(1, 14), np.cumsum(pca.explained_variance_ratio_), where='mid')\n",
    "plt.ylabel('Explained variance ratio')\n",
    "plt.xlabel('Principal components') ; plt.show()"
   ]
  },
  {
   "cell_type": "code",
   "execution_count": 21,
   "metadata": {
    "collapsed": true
   },
   "outputs": [],
   "source": [
    "# 상위 2개 feature 를 대상으로 PCA 분석\n",
    "pca = PCA(n_components=2)\n",
    "X_train_pca = pca.fit_transform(X_train_std)\n",
    "X_test_pca = pca.transform(X_test_std)"
   ]
  },
  {
   "cell_type": "code",
   "execution_count": 22,
   "metadata": {
    "scrolled": true
   },
   "outputs": [
    {
     "data": {
      "image/png": "[encoded data removed]",
      "text/plain": [
       "<matplotlib.figure.Figure at 0x7fb14cd7ef28>"
      ]
     },
     "metadata": {},
     "output_type": "display_data"
    }
   ],
   "source": [
    "plt.scatter(X_train_pca[:, 0], X_train_pca[:, 1])\n",
    "plt.xlabel('PC 1')\n",
    "plt.ylabel('PC 2'); plt.show()"
   ]
  },
  {
   "cell_type": "code",
   "execution_count": 23,
   "metadata": {
    "collapsed": true
   },
   "outputs": [],
   "source": [
    "from sklearn.linear_model import LogisticRegression\n",
    "lr = LogisticRegression()\n",
    "lr = lr.fit(X_train_pca, y_train)"
   ]
  },
  {
   "cell_type": "code",
   "execution_count": 24,
   "metadata": {},
   "outputs": [
    {
     "data": {
      "image/png": "[encoded data removed]",
      "text/plain": [
       "<matplotlib.figure.Figure at 0x7fb14cc886d8>"
      ]
     },
     "metadata": {},
     "output_type": "display_data"
    }
   ],
   "source": [
    "plot_decision_regions(X_train_pca, y_train, classifier=lr)\n",
    "plt.xlabel('PC 1'); plt.ylabel('PC 2')\n",
    "plt.legend(loc='lower left'); plt.show()"
   ]
  },
  {
   "cell_type": "code",
   "execution_count": 25,
   "metadata": {
    "collapsed": true
   },
   "outputs": [],
   "source": [
    "# 위의 주성분 분석과 위/아래가 뒤바뀐 결과를 출력\n",
    "# 이는 eigen_vector의 '-', '+' 부호에 따른 영향이다."
   ]
  },
  {
   "cell_type": "code",
   "execution_count": 26,
   "metadata": {},
   "outputs": [
    {
     "data": {
      "image/png": "[encoded data removed]",
      "text/plain": [
       "<matplotlib.figure.Figure at 0x7fb14c85b630>"
      ]
     },
     "metadata": {},
     "output_type": "display_data"
    }
   ],
   "source": [
    "# 이를 확인하기 위해, X_test 에 logistic 회귀 결정영역을 plot\n",
    "plot_decision_regions(X_test_pca, y_test, classifier=lr)\n",
    "plt.xlabel('PC 1'); plt.ylabel('PC 2')\n",
    "plt.legend(loc='lower left'); plt.show()"
   ]
  },
  {
   "cell_type": "code",
   "execution_count": 27,
   "metadata": {
    "collapsed": true
   },
   "outputs": [],
   "source": [
    "# logistic 회귀분류 성능결과를 test\n",
    "# logistic 3영역 분류 데이터 중 단1개만 오분류가 되고 나머지는 제대로 분류"
   ]
  },
  {
   "cell_type": "code",
   "execution_count": 28,
   "metadata": {},
   "outputs": [
    {
     "data": {
      "text/plain": [
       "array([ 0.37329648,  0.18818926,  0.10896791,  0.07724389,  0.06478595,\n",
       "        0.04592014,  0.03986936,  0.02521914,  0.02258181,  0.01830924,\n",
       "        0.01635336,  0.01284271,  0.00642076])"
      ]
     },
     "execution_count": 28,
     "metadata": {},
     "output_type": "execute_result"
    }
   ],
   "source": [
    "# n_components=None : 주성분 설명분산 비율값을 확인 \n",
    "# 모든 주성분은 유지되고, 설명 분산비율의 확인가능\n",
    "# 차원 축소를 수행하는 대신, 정렬된 순수로 모든 주성분을 반환한다\n",
    "from sklearn.decomposition import PCA\n",
    "\n",
    "pca = PCA()\n",
    "X_train_pca = pca.fit_transform(X_train_std)\n",
    "pca.explained_variance_ratio_"
   ]
  },
  {
   "cell_type": "markdown",
   "metadata": {},
   "source": [
    "## 2 지도적 데이터 압축\n",
    "LDA(Linear Discriminant Analysis) : 선형판별분석을 활용\n",
    "\n",
    "<img src=\"https://sebastianraschka.com/images/blog/2014/linear-discriminant-analysis/lda_1.png\" align='left' width='600'>"
   ]
  },
  {
   "cell_type": "code",
   "execution_count": 29,
   "metadata": {
    "collapsed": true
   },
   "outputs": [],
   "source": [
    "# PCA 는 데이터 내부 '최대 분산의 수직요소 축'을 통해서 차원을 축소\n",
    "# LDA 는 분류 분리를 최적화 하는 feature 의 '부분공간'를 찾음이 목표\n",
    "# 성능은 PCA가 더 효율적인 경우도 있으므로, 비교해 나가면서 적용 할 것"
   ]
  },
  {
   "cell_type": "code",
   "execution_count": 30,
   "metadata": {
    "collapsed": true
   },
   "outputs": [],
   "source": [
    "# LDA의 X 축은 '정규분산'을 갖는 '두 개의 분류'로 분리\n",
    "# Y 축은 어떤 분류정보도 탐지하지 못해서 선형판별은 실패\n",
    "\n",
    "# LDA의 전제 : 1. 데이터의 정규분포 성격을 갖는다\n",
    "#            2. 분류들은 동일한  공분한 행렬을 갖는다\n",
    "#            3. feature는 통계적 상호독립성을 갖는다."
   ]
  },
  {
   "cell_type": "code",
   "execution_count": 31,
   "metadata": {
    "collapsed": true
   },
   "outputs": [],
   "source": [
    "# LDA 연산 process\n",
    "# 1 d차원의 데이터를 표준화 한다 (d : feature 수)\n",
    "# 2 각 분류의 'd차원 평균벡터'를 계산한다\n",
    "# 3 '분류간' 이산행렬(Sb)과, '분류내' 이산행렬(Sw)을 계산\n",
    "# 4 Sw-1 x Sb 의 eigen_vector 와 이에대한 eigne_value를 계산\n",
    "# 5 d X k 차원의 '변환행렬' (W)를 만들기 위해, k개 eigen_value에 대한 k개의 eigen_vector를 선택한다. "
   ]
  },
  {
   "cell_type": "markdown",
   "metadata": {},
   "source": [
    "### 01 이산행렬을 계산\n",
    "표준화 데이터를 바탕으로, '분류간 이산행렬'(Sb)과 '분류내 이산행렬'(Sw)을 계산"
   ]
  },
  {
   "cell_type": "code",
   "execution_count": 32,
   "metadata": {},
   "outputs": [
    {
     "name": "stdout",
     "output_type": "stream",
     "text": [
      "MV 1: [ 0.9259 -0.3091  0.2592 -0.7989  0.3039  0.9608  1.0515 -0.6306  0.5354\n",
      "  0.2209  0.4855  0.798   1.2017]\n",
      "\n",
      "MV 2: [-0.8727 -0.3854 -0.4437  0.2481 -0.2409 -0.1059  0.0187 -0.0164  0.1095\n",
      " -0.8796  0.4392  0.2776 -0.7016]\n",
      "\n",
      "MV 3: [ 0.1637  0.8929  0.3249  0.5658 -0.01   -0.9499 -1.228   0.7436 -0.7652\n",
      "  0.979  -1.1698 -1.3007 -0.3912]\n",
      "\n"
     ]
    }
   ],
   "source": [
    "# 평균벡터를 연산한다\n",
    "# 개별 분류(i) 샘플의 평균 feature 값으로 구성\n",
    "np.set_printoptions(precision=4)\n",
    "mean_vecs = []\n",
    "for label in range(1, 4):\n",
    "    mean_vecs.append(np.mean(X_train_std[y_train == label], axis=0))\n",
    "    print('MV %s: %s\\n' % (label, mean_vecs[label - 1]))"
   ]
  },
  {
   "cell_type": "code",
   "execution_count": 33,
   "metadata": {},
   "outputs": [
    {
     "name": "stdout",
     "output_type": "stream",
     "text": [
      "Within-class scatter matrix: 13x13\n"
     ]
    }
   ],
   "source": [
    "# 평균벡터로, '분류내 이산행렬(Sw)' 을 계산\n",
    "# Compute the within-class scatter matrix\n",
    "d = 13                    # feature의 갯수를 지정\n",
    "S_W = np.zeros((d, d))    # S_W (개별 분류내 이산행렬 크기의 zero matrix 만들기)\n",
    "\n",
    "for label, mv in zip(range(1, 4), mean_vecs):\n",
    "    class_scatter = np.zeros((d, d))                   # scatter matrix for each class\n",
    "    for row in X_train_std[y_train == label]:\n",
    "        row, mv = row.reshape(d, 1), mv.reshape(d, 1)  # make column vectors\n",
    "        class_scatter += (row - mv).dot((row - mv).T)\n",
    "    S_W += class_scatter                               # sum class scatter matrices\n",
    "\n",
    "print('Within-class scatter matrix: %sx%s' % (S_W.shape[0], S_W.shape[1]))"
   ]
  },
  {
   "cell_type": "code",
   "execution_count": 34,
   "metadata": {},
   "outputs": [
    {
     "name": "stdout",
     "output_type": "stream",
     "text": [
      "Class label distribution: [40 49 35]\n"
     ]
    }
   ],
   "source": [
    "# 이산행렬을 계산시 '분류 레이블이 균일하게 분포'됨을 가정\n",
    "# 하지만 레이블을 출력 확인하면, 균일하지 않음이 확인가능\n",
    "print('Class label distribution: %s' % np.bincount(y_train)[1:])"
   ]
  },
  {
   "cell_type": "code",
   "execution_count": 35,
   "metadata": {},
   "outputs": [
    {
     "name": "stdout",
     "output_type": "stream",
     "text": [
      "Scaled within-class scatter matrix: 13x13\n"
     ]
    }
   ],
   "source": [
    "# 위의 분포가 다른 문제를 보완할 필요가 존재\n",
    "# 이산행렬 Si을 분류샘플의 수(N)로 나누면, 공분산의 행렬과 같음을 확인가능\n",
    "d = 13  # number of features\n",
    "S_W = np.zeros((d, d))\n",
    "for label, mv in zip(range(1, 4), mean_vecs):\n",
    "    class_scatter = np.cov(X_train_std[y_train == label].T)\n",
    "    S_W += class_scatter\n",
    "print('Scaled within-class scatter matrix: %sx%s' % (S_W.shape[0], S_W.shape[1]))"
   ]
  },
  {
   "cell_type": "code",
   "execution_count": 36,
   "metadata": {},
   "outputs": [
    {
     "name": "stdout",
     "output_type": "stream",
     "text": [
      "Between-class scatter matrix: 13x13\n"
     ]
    }
   ],
   "source": [
    "# 위 계산결과를 뷴류간 이산행렬로 계산 Sb\n",
    "# mean_overall 은 전체의 평균으로 모든분류의 샘플을 포함한 결과를 계산\n",
    "\n",
    "mean_overall = np.mean(X_train_std, axis=0)\n",
    "d = 13  # number of features\n",
    "S_B = np.zeros((d, d))\n",
    "\n",
    "for i, mean_vec in enumerate(mean_vecs):\n",
    "    n = X_train[y_train == i + 1, :].shape[0]\n",
    "    mean_vec = mean_vec.reshape(d, 1)          # make column vector\n",
    "    mean_overall = mean_overall.reshape(d, 1)  # make column vector\n",
    "    S_B += n * (mean_vec - mean_overall).dot((mean_vec - mean_overall).T)\n",
    "\n",
    "print('Between-class scatter matrix: %sx%s' % (S_B.shape[0], S_B.shape[1]))"
   ]
  },
  {
   "cell_type": "markdown",
   "metadata": {},
   "source": [
    "### 02 새로운 feature 부분공간에 대한 선형 판별 선택\n",
    "eigen_value를 내림차순으로 정렬"
   ]
  },
  {
   "cell_type": "code",
   "execution_count": 37,
   "metadata": {
    "collapsed": true
   },
   "outputs": [],
   "source": [
    "# 행렬 Sw-1 Sb 의 일반화된 eigen_value 문제를 해결\n",
    "eigen_vals, eigen_vecs = np.linalg.eig(np.linalg.inv(S_W).dot(S_B))\n",
    "\n",
    "# [ (eigenvalue, eigenvector) tuples 의 list ] 로 정리\n",
    "eigen_pairs = [(np.abs(eigen_vals[i]), eigen_vecs[:, i])\n",
    "               for i in range(len(eigen_vals))]\n",
    "\n",
    "# [ (tuples) ] 결과를 내림차순 정렬\n",
    "eigen_pairs = sorted(eigen_pairs, key=lambda k: k[0], reverse=True)"
   ]
  },
  {
   "cell_type": "code",
   "execution_count": 38,
   "metadata": {},
   "outputs": [
    {
     "name": "stdout",
     "output_type": "stream",
     "text": [
      "Eigenvalues in decreasing order:\n",
      "\n",
      "452.72158124497434528\n",
      "156.43636121952320650\n",
      "0.00000000000004799\n",
      "0.00000000000004799\n",
      "0.00000000000003217\n",
      "0.00000000000002884\n",
      "0.00000000000002884\n",
      "0.00000000000002842\n",
      "0.00000000000001888\n",
      "0.00000000000001293\n",
      "0.00000000000001293\n",
      "0.00000000000001234\n",
      "0.00000000000000183\n"
     ]
    }
   ],
   "source": [
    "# 정렬을 확인\n",
    "print('Eigenvalues in decreasing order:\\n')\n",
    "for eigen_val in eigen_pairs:\n",
    "    print(\"{:.17f}\".format(eigen_val[0]))"
   ]
  },
  {
   "cell_type": "code",
   "execution_count": 39,
   "metadata": {
    "collapsed": true
   },
   "outputs": [],
   "source": [
    "# 분류-판별 정보의 콘텐츠를 판별성 분류\n",
    "tot = sum(eigen_vals.real)\n",
    "discr = [(i / tot) for i in sorted(eigen_vals.real, reverse=True)]\n",
    "cum_discr = np.cumsum(discr)"
   ]
  },
  {
   "cell_type": "code",
   "execution_count": 40,
   "metadata": {},
   "outputs": [
    {
     "data": {
      "image/png": "[encoded data removed]",
      "text/plain": [
       "<matplotlib.figure.Figure at 0x7fb14cbbf668>"
      ]
     },
     "metadata": {},
     "output_type": "display_data"
    }
   ],
   "source": [
    "# 내림차순 정렬된 eigen_value 의 선형판별을 시각화\n",
    "plt.bar(range(1, 14), discr, alpha=0.5, align='center',\n",
    "        label='individual \"discriminability\"')\n",
    "plt.step(range(1, 14), cum_discr, where='mid',\n",
    "         label='cumulative \"discriminability\"')\n",
    "plt.ylabel('\"discriminability\" ratio')\n",
    "plt.xlabel('Linear Discriminants')\n",
    "plt.ylim([-0.1, 1.1]); plt.legend(loc='best'); plt.show()"
   ]
  },
  {
   "cell_type": "code",
   "execution_count": 41,
   "metadata": {},
   "outputs": [
    {
     "name": "stdout",
     "output_type": "stream",
     "text": [
      "Matrix W:\n",
      " [[-0.0662 -0.3797]\n",
      " [ 0.0386 -0.2206]\n",
      " [-0.0217 -0.3816]\n",
      " [ 0.184   0.3018]\n",
      " [-0.0034  0.0141]\n",
      " [ 0.2326  0.0234]\n",
      " [-0.7747  0.1869]\n",
      " [-0.0811  0.0696]\n",
      " [ 0.0875  0.1796]\n",
      " [ 0.185  -0.284 ]\n",
      " [-0.066   0.2349]\n",
      " [-0.3805  0.073 ]\n",
      " [-0.3285 -0.5971]]\n"
     ]
    }
   ],
   "source": [
    "# 가장 판별력이 높은 두 개의 eigen_vector 열을 쌓아서, 변환행렬 W를 만든다\n",
    "w = np.hstack((eigen_pairs[0][1][:, np.newaxis].real,\n",
    "              eigen_pairs[1][1][:, np.newaxis].real))\n",
    "print('Matrix W:\\n', w)"
   ]
  },
  {
   "cell_type": "markdown",
   "metadata": {},
   "source": [
    "### 03 sample 을  새로운 feature 공간에 투영하기\n",
    "변환행렬 W를 활용하여, 훈련데이터를 변환한다"
   ]
  },
  {
   "cell_type": "code",
   "execution_count": 42,
   "metadata": {},
   "outputs": [
    {
     "data": {
      "image/png": "[encoded data removed]",
      "text/plain": [
       "<matplotlib.figure.Figure at 0x7fb14cca46a0>"
      ]
     },
     "metadata": {},
     "output_type": "display_data"
    }
   ],
   "source": [
    "# 새로운 feature의 부분공간에 선형으로 분리\n",
    "X_train_lda = X_train_std.dot(w)\n",
    "colors = ['r', 'b', 'g']\n",
    "markers = ['s', 'x', 'o']\n",
    "\n",
    "for l, c, m in zip(np.unique(y_train), colors, markers):\n",
    "    plt.scatter(X_train_lda[y_train == l, 0] * (-1),\n",
    "                X_train_lda[y_train == l, 1] * (-1),\n",
    "                c=c, label=l, marker=m)\n",
    "\n",
    "plt.xlabel('LD 1'); plt.ylabel('LD 2')\n",
    "plt.legend(loc='lower right'); plt.show()"
   ]
  },
  {
   "cell_type": "markdown",
   "metadata": {},
   "source": [
    "### 04 scikit-learn 을 활용한 LDA 구현\n",
    "LDA Class를 활용한다"
   ]
  },
  {
   "cell_type": "code",
   "execution_count": 43,
   "metadata": {
    "collapsed": true
   },
   "outputs": [],
   "source": [
    "from sklearn.discriminant_analysis import LinearDiscriminantAnalysis as LDA\n",
    "\n",
    "lda = LDA(n_components=2)\n",
    "X_train_lda = lda.fit_transform(X_train_std, y_train)"
   ]
  },
  {
   "cell_type": "code",
   "execution_count": 44,
   "metadata": {
    "collapsed": true
   },
   "outputs": [],
   "source": [
    "from sklearn.linear_model import LogisticRegression\n",
    "lr = LogisticRegression()\n",
    "lr = lr.fit(X_train_lda, y_train)"
   ]
  },
  {
   "cell_type": "code",
   "execution_count": 45,
   "metadata": {
    "scrolled": true
   },
   "outputs": [
    {
     "data": {
      "image/png": "[encoded data removed]",
      "text/plain": [
       "<matplotlib.figure.Figure at 0x7fb14cc9b828>"
      ]
     },
     "metadata": {},
     "output_type": "display_data"
    }
   ],
   "source": [
    "plot_decision_regions(X_train_lda, y_train, classifier=lr)\n",
    "plt.xlabel('LD 1')\n",
    "plt.ylabel('LD 2')\n",
    "plt.legend(loc='lower left')\n",
    "plt.tight_layout()\n",
    "# plt.savefig('./images/lda3.png', dpi=300)\n",
    "plt.show()"
   ]
  },
  {
   "cell_type": "markdown",
   "metadata": {},
   "source": [
    "## 3 '비선형 매핑'을 위한 주성분 분석\n",
    "선형분리 (ADline, Logistic, SVM )는 분류 후 잡음의 문제가 발생 \n",
    "\n",
    "PCA, LDA의 차원축소도 위와 같은 문제를 내포\n",
    "\n",
    "대안으로 Kernal SVM, Kernal PCA 를 활용해 새로운 부분공간을 반환\n",
    "\n",
    "<img src=\"https://sebastianraschka.com/images/blog/2014/kernel_pca/linear_vs_nonlinear.png\" align=\"left\">"
   ]
  },
  {
   "cell_type": "markdown",
   "metadata": {},
   "source": [
    "### 01 Kernal 함수와 Kernal 트릭\n",
    "비선형 자료를 '고차원'의 '비선형 매핑'을 수행 후\n",
    "\n",
    "고차원공간에서 '표준PCA'으로 선형 분류기에 의해 저차원으로 재투영\n",
    "\n",
    "단점) Kernal Trick 을 사용하여, 계산비용이 비싸지는 단점이 존재"
   ]
  },
  {
   "cell_type": "code",
   "execution_count": 46,
   "metadata": {
    "collapsed": true
   },
   "outputs": [],
   "source": [
    "# 계산 process\n",
    "# 1 Kernal 유사도 행렬 (k) 를 계산한다\n",
    "# 2 Kernal 행렬 k 에 중심을 둔다\n",
    "# 3 중심의 Kernal 행렬 에 대한 상위 k개의 eigen_vector를 eigen_value를 기준으로 수집 (내림차순으로 순위화)\n",
    "# 4 eigen_vector가 주요한 요수축은 아니지만 sample 들은 이 축에 투영된다"
   ]
  },
  {
   "cell_type": "markdown",
   "metadata": {},
   "source": [
    "### 02 Kernal 주성분 분석\n",
    "Python 을 활용 (RBF kernel PCA implementation)"
   ]
  },
  {
   "cell_type": "code",
   "execution_count": 47,
   "metadata": {
    "collapsed": true
   },
   "outputs": [],
   "source": [
    "from scipy.spatial.distance import pdist, squareform\n",
    "from scipy import exp\n",
    "from numpy.linalg import eigh\n",
    "import numpy as np"
   ]
  },
  {
   "cell_type": "code",
   "execution_count": 48,
   "metadata": {
    "collapsed": true
   },
   "outputs": [],
   "source": [
    "# 매개변수 (Parameters) ---------\n",
    "# X: {NumPy ndarray}, shape = [n_samples, n_features]\n",
    "# gamma: float (Tuning parameter of the RBF kernel)        \n",
    "# n_components: int (Number of principal components to return)\n",
    "# 결과값 (Returns) -------------\n",
    "# X_pc: {NumPy ndarray}, shape = [n_samples, k_features] (Projected dataset)   "
   ]
  },
  {
   "cell_type": "code",
   "execution_count": 49,
   "metadata": {
    "collapsed": true
   },
   "outputs": [],
   "source": [
    "def rbf_kernel_pca(X, gamma, n_components):\n",
    "    sq_dists = pdist(X, 'sqeuclidean')    # Calculate pairwise squared Euclidean distances\n",
    "    mat_sq_dists = squareform(sq_dists)   # Convert pairwise distances into a square matrix.\n",
    "    K = exp(-gamma * mat_sq_dists)        # Compute the symmetric kernel matrix.\n",
    "    N = K.shape[0]                        # Center the kernel matrix.\n",
    "    one_n = np.ones((N, N)) / N\n",
    "    K = K - one_n.dot(K) - K.dot(one_n) + one_n.dot(K).dot(one_n)\n",
    "    # Obtaining eigenpairs from the centered kernel matrix\n",
    "    # numpy.linalg.eigh returns them in sorted order\n",
    "    eigvals, eigvecs = eigh(K)    \n",
    "    X_pc = np.column_stack((eigvecs[:, -i] # Collect the top k eigenvectors (projected samples)\n",
    "                            for i in range(1, n_components + 1)))\n",
    "\n",
    "    return X_pc"
   ]
  },
  {
   "cell_type": "code",
   "execution_count": 50,
   "metadata": {
    "collapsed": true
   },
   "outputs": [],
   "source": [
    "# scipy, numpy 의 모듈을 활용하면 간단하게 연산이 가능\n",
    "# 단, gamma 을 사전에 입력해줘야 하는 단점이 존재\n",
    "# 적절한 gamma 를 찾기 위해서는 그리드 검색'grid search' 을 해야 한다"
   ]
  },
  {
   "cell_type": "markdown",
   "metadata": {},
   "source": [
    "### 03 사례연구 01\n",
    "Kernal 주성분 분석으로 '반달모양'으로 분리하기"
   ]
  },
  {
   "cell_type": "markdown",
   "metadata": {},
   "source": [
    "### 1) 데이터 생성"
   ]
  },
  {
   "cell_type": "code",
   "execution_count": 51,
   "metadata": {
    "collapsed": true
   },
   "outputs": [],
   "source": [
    "import matplotlib.pyplot as plt\n",
    "from sklearn.datasets import make_moons\n",
    "# 두개의 반달모양을 나타내는 100개의 샘플점으로 구성된 2차원 데이터를 생성\n",
    "X, y = make_moons(n_samples=100, random_state=123)"
   ]
  },
  {
   "cell_type": "code",
   "execution_count": 52,
   "metadata": {},
   "outputs": [
    {
     "data": {
      "image/png": "[encoded data removed]",
      "text/plain": [
       "<matplotlib.figure.Figure at 0x7fb14cc35ba8>"
      ]
     },
     "metadata": {},
     "output_type": "display_data"
    }
   ],
   "source": [
    "# 생성한 데이터를 시각화\n",
    "plt.scatter(X[y == 0, 0], X[y == 0, 1], color='red', marker='^', alpha=0.5)\n",
    "plt.scatter(X[y == 1, 0], X[y == 1, 1], color='blue', marker='o', alpha=0.5)\n",
    "plt.show()"
   ]
  },
  {
   "cell_type": "markdown",
   "metadata": {},
   "source": [
    "### 2) 표준 PCA 주성분 분석결과"
   ]
  },
  {
   "cell_type": "code",
   "execution_count": 53,
   "metadata": {
    "collapsed": true
   },
   "outputs": [],
   "source": [
    "from sklearn.decomposition import PCA\n",
    "from sklearn.preprocessing import StandardScaler\n",
    "\n",
    "scikit_pca = PCA(n_components=2)\n",
    "X_spca = scikit_pca.fit_transform(X)"
   ]
  },
  {
   "cell_type": "code",
   "execution_count": 54,
   "metadata": {},
   "outputs": [
    {
     "data": {
      "image/png": "[encoded data removed]",
      "text/plain": [
       "<matplotlib.figure.Figure at 0x7fb14ccafe80>"
      ]
     },
     "metadata": {},
     "output_type": "display_data"
    }
   ],
   "source": [
    "fig, ax = plt.subplots(nrows=1, ncols=2, figsize=(7, 3))\n",
    "ax[0].scatter(X_spca[y == 0, 0], X_spca[y == 0, 1], color='red', marker='^', alpha=0.5)\n",
    "ax[0].scatter(X_spca[y == 1, 0], X_spca[y == 1, 1], color='blue', marker='o', alpha=0.5)\n",
    "ax[1].scatter(X_spca[y == 0, 0], np.zeros((50, 1)) + 0.02, color='red', marker='^', alpha=0.5)\n",
    "ax[1].scatter(X_spca[y == 1, 0], np.zeros((50, 1)) - 0.02, color='blue', marker='o', alpha=0.5)\n",
    "ax[0].set_xlabel('PC1'); ax[0].set_ylabel('PC2')\n",
    "ax[1].set_ylim([-1, 1]); ax[1].set_yticks([]); ax[1].set_xlabel('PC1')\n",
    "plt.show()"
   ]
  },
  {
   "cell_type": "code",
   "execution_count": 55,
   "metadata": {
    "collapsed": true
   },
   "outputs": [],
   "source": [
    "# 표준PCA 분석결과\n",
    "# 데이터의 분류결과 중복된 영역이 다수여서 제대로 효과를 나타내지 못한다"
   ]
  },
  {
   "cell_type": "markdown",
   "metadata": {},
   "source": [
    "### 3) 커널 PCA 함수를 활용한 분석\n",
    "rbf_kernel_pca(X, gamma, n_components) 를 반달데이터에 적용"
   ]
  },
  {
   "cell_type": "code",
   "execution_count": 56,
   "metadata": {},
   "outputs": [
    {
     "data": {
      "text/plain": [
       "array([[ 0.0746, -0.1264],\n",
       "       [ 0.1132,  0.1293],\n",
       "       [ 0.1318, -0.0706],\n",
       "       [ 0.1149, -0.1231],\n",
       "       [ 0.0295, -0.0646]])"
      ]
     },
     "execution_count": 56,
     "metadata": {},
     "output_type": "execute_result"
    }
   ],
   "source": [
    "# 커널 PCA 분석을 적용 (gamma 값을 15로 임의 지정)\n",
    "# '모델평가 와 하이퍼 튜닝' 부분을 통한 최적 gammma를 찾는 알고리즘이 설명가능\n",
    "from matplotlib.ticker import FormatStrFormatter\n",
    "X_kpca = rbf_kernel_pca(X, gamma=15, n_components=2)\n",
    "X_kpca[::20]"
   ]
  },
  {
   "cell_type": "code",
   "execution_count": 57,
   "metadata": {},
   "outputs": [
    {
     "data": {
      "image/png": "[encoded data removed]",
      "text/plain": [
       "<matplotlib.figure.Figure at 0x7fb14c8f6a58>"
      ]
     },
     "metadata": {},
     "output_type": "display_data"
    }
   ],
   "source": [
    "fig, ax = plt.subplots(nrows=1,ncols=2, figsize=(7,3))\n",
    "ax[0].scatter(X_kpca[y==0, 0], X_kpca[y==0, 1], color='red', marker='^', alpha=0.5)\n",
    "ax[0].scatter(X_kpca[y==1, 0], X_kpca[y==1, 1], color='blue', marker='o', alpha=0.5)\n",
    "ax[0].set_xlabel('PC1'); ax[0].set_ylabel('PC2')\n",
    "ax[0].xaxis.set_major_formatter(FormatStrFormatter('%0.1f'))\n",
    "\n",
    "ax[1].scatter(X_kpca[y==0, 0], np.zeros((50,1))+0.02, color='red', marker='^', alpha=0.5)\n",
    "ax[1].scatter(X_kpca[y==1, 0], np.zeros((50,1))-0.02, color='blue', marker='o', alpha=0.5)\n",
    "ax[1].set_ylim([-1, 1]); ax[1].set_yticks([]); ax[1].set_xlabel('PC1')\n",
    "ax[1].xaxis.set_major_formatter(FormatStrFormatter('%0.1f'))\n",
    "plt.show()"
   ]
  },
  {
   "cell_type": "markdown",
   "metadata": {},
   "source": [
    "### 04 사례연구 02\n",
    "Kernal 주성분 분석으로 '원형모양'으로 분리하기"
   ]
  },
  {
   "cell_type": "markdown",
   "metadata": {},
   "source": [
    "### 1) 데이터 생성"
   ]
  },
  {
   "cell_type": "code",
   "execution_count": 58,
   "metadata": {
    "scrolled": true
   },
   "outputs": [
    {
     "data": {
      "image/png": "[encoded data removed]",
      "text/plain": [
       "<matplotlib.figure.Figure at 0x7fb14cbaac88>"
      ]
     },
     "metadata": {},
     "output_type": "display_data"
    }
   ],
   "source": [
    "from sklearn.datasets import make_circles\n",
    "X, y = make_circles(n_samples=1000, random_state=123, noise=0.1, factor=0.2)\n",
    "\n",
    "plt.scatter(X[y == 0, 0], X[y == 0, 1], color='red', marker='^', alpha=0.5)\n",
    "plt.scatter(X[y == 1, 0], X[y == 1, 1], color='blue', marker='o', alpha=0.5)\n",
    "plt.show()"
   ]
  },
  {
   "cell_type": "markdown",
   "metadata": {},
   "source": [
    "### 2) 표준 PCA 주성분 분석결과"
   ]
  },
  {
   "cell_type": "code",
   "execution_count": 59,
   "metadata": {
    "collapsed": true
   },
   "outputs": [],
   "source": [
    "scikit_pca = PCA(n_components=2)\n",
    "X_spca = scikit_pca.fit_transform(X)\n",
    "fig, ax = plt.subplots(nrows=1, ncols=2, figsize=(7, 3))"
   ]
  },
  {
   "cell_type": "code",
   "execution_count": 60,
   "metadata": {},
   "outputs": [
    {
     "data": {
      "image/png": "[encoded data removed]",
      "text/plain": [
       "<matplotlib.figure.Figure at 0x7fb14cddb358>"
      ]
     },
     "metadata": {},
     "output_type": "display_data"
    }
   ],
   "source": [
    "ax[0].scatter(X_spca[y == 0, 0], X_spca[y == 0, 1], color='red', marker='^', alpha=0.5)\n",
    "ax[0].scatter(X_spca[y == 1, 0], X_spca[y == 1, 1], color='blue', marker='o', alpha=0.5)\n",
    "ax[1].scatter(X_spca[y == 0, 0], np.zeros((500, 1)) + 0.02, color='red', marker='^', alpha=0.5)\n",
    "ax[1].scatter(X_spca[y == 1, 0], np.zeros((500, 1)) - 0.02, color='blue', marker='o', alpha=0.5)\n",
    "ax[0].set_xlabel('PC1'); ax[0].set_ylabel('PC2')\n",
    "ax[1].set_ylim([-1, 1]); ax[1].set_yticks([]); ax[1].set_xlabel('PC1')\n",
    "plt.show()"
   ]
  },
  {
   "cell_type": "markdown",
   "metadata": {},
   "source": [
    "### 3) 커널 PCA 함수를 활용한 분석\n",
    "rbf_kernel_pca(X, gamma, n_components) 를 원형데이터에 적용"
   ]
  },
  {
   "cell_type": "code",
   "execution_count": 61,
   "metadata": {
    "collapsed": true
   },
   "outputs": [],
   "source": [
    "X_kpca = rbf_kernel_pca(X, gamma=15, n_components=2)"
   ]
  },
  {
   "cell_type": "code",
   "execution_count": 62,
   "metadata": {},
   "outputs": [
    {
     "data": {
      "image/png": "[encoded data removed]",
      "text/plain": [
       "<matplotlib.figure.Figure at 0x7fb14f0e5dd8>"
      ]
     },
     "metadata": {},
     "output_type": "display_data"
    }
   ],
   "source": [
    "fig, ax = plt.subplots(nrows=1, ncols=2, figsize=(7, 3))\n",
    "ax[0].scatter(X_kpca[y == 0, 0], X_kpca[y == 0, 1], color='red', marker='^', alpha=0.5)\n",
    "ax[0].scatter(X_kpca[y == 1, 0], X_kpca[y == 1, 1], color='blue', marker='o', alpha=0.5)\n",
    "ax[1].scatter(X_kpca[y == 0, 0], np.zeros((500, 1)) + 0.02, color='red', marker='^', alpha=0.5)\n",
    "ax[1].scatter(X_kpca[y == 1, 0], np.zeros((500, 1)) - 0.02, color='blue', marker='o', alpha=0.5)\n",
    "ax[0].set_xlabel('PC1');ax[0].set_ylabel('PC2')\n",
    "ax[1].set_ylim([-1, 1]);ax[1].set_yticks([]); ax[1].set_xlabel('PC1')\n",
    "plt.show()"
   ]
  },
  {
   "cell_type": "markdown",
   "metadata": {},
   "source": [
    "### 05 새로운 관측치의 투영\n",
    "훈련 데이터의 일부가 아닌 관측치를 투영 (RBF kernel PCA implementation)"
   ]
  },
  {
   "cell_type": "code",
   "execution_count": null,
   "metadata": {
    "collapsed": true
   },
   "outputs": [],
   "source": [
    "# Parameters ------------------------------------------\n",
    "# X: {NumPy ndarray}, shape = [n_samples, n_features]\n",
    "# gamma: float (Tuning parameter of the RBF kernel)        \n",
    "# n_components: int (Number of principal components to return)\n",
    "# Returns ---------------------------------------------\n",
    "# X_pc: {NumPy ndarray}, shape = [n_samples, k_features] (Projected dataset)\n",
    "# lambdas: list (Eigenvalues)"
   ]
  },
  {
   "cell_type": "code",
   "execution_count": 63,
   "metadata": {
    "collapsed": true
   },
   "outputs": [],
   "source": [
    "# 표준 PCA : 변환행렬과 입력 샘플간의 '내적'을 통해서 투영\n",
    "# 투영행렬 : 내적값중 '상위 k개의 eigen_vector'를 공분산 결과 데이터에 투영\n",
    "# 위 두가지 절차를 Kernal PCA 에 어떻게 전달할 것인가???"
   ]
  },
  {
   "cell_type": "code",
   "execution_count": 64,
   "metadata": {
    "collapsed": true
   },
   "outputs": [],
   "source": [
    "# 'Kernal Tick'을 사용하면 투영공식을 계산할 필요가 없다\n",
    "# 단 훈련데이터 개별 i 샘플 과 새로운 샘플 X 간 'PBF 커널(유사도)'를 계산해야 한다."
   ]
  },
  {
   "cell_type": "code",
   "execution_count": 65,
   "metadata": {
    "collapsed": true
   },
   "outputs": [],
   "source": [
    "# 새로운 샘플과, 훈련 데이터의 '샘플 유사도'를 측정\n",
    "# 유사도 계산 후, eigen_value로 eigen_vector를 정규화(Normalized) 한다\n",
    "# 이를 근거로, rbf_kernal_pca로 커널행렬의 eigen_value를 반환한다"
   ]
  },
  {
   "cell_type": "code",
   "execution_count": 66,
   "metadata": {
    "collapsed": true
   },
   "outputs": [],
   "source": [
    "from scipy.spatial.distance import pdist, squareform\n",
    "from scipy import exp\n",
    "from scipy.linalg import eigh\n",
    "import numpy as np"
   ]
  },
  {
   "cell_type": "code",
   "execution_count": 67,
   "metadata": {
    "collapsed": true
   },
   "outputs": [],
   "source": [
    "def rbf_kernel_pca(X, gamma, n_components):\n",
    "    sq_dists = pdist(X, 'sqeuclidean')    # in the MxN dimensional dataset.\n",
    "    mat_sq_dists = squareform(sq_dists)   # Convert pairwise distances into a square matrix.\n",
    "    K = exp(-gamma * mat_sq_dists)        # Compute the symmetric kernel matrix.\n",
    "    N = K.shape[0]                        # Center the kernel matrix.\n",
    "    one_n = np.ones((N, N)) / N\n",
    "    K = K - one_n.dot(K) - K.dot(one_n) + one_n.dot(K).dot(one_n)\n",
    "\n",
    "    # kernel matrix 의 중심에 분포한 eigen_pairs를 연산\n",
    "    eigvals, eigvecs = eigh(K)                # numpy.eigh() 는 행렬을 정렬한 결과를 출력\n",
    "    alphas = np.column_stack((eigvecs[:, -i]  # eigen_vectors 의 상위 k 값을 정렬\n",
    "                              for i in range(1, n_components + 1)))\n",
    "    # Collect the corresponding eigenvalues\n",
    "    lambdas = [eigvals[-i] for i in range(1, n_components + 1)]\n",
    "    return alphas, lambdas"
   ]
  },
  {
   "cell_type": "code",
   "execution_count": 68,
   "metadata": {},
   "outputs": [
    {
     "data": {
      "text/plain": [
       "array([ 0.4816, -0.3551])"
      ]
     },
     "execution_count": 68,
     "metadata": {},
     "output_type": "execute_result"
    }
   ],
   "source": [
    "# 반달 데이터를 생성\n",
    "# 차원을 활용한 RBF Kernal PCA 을 구현\n",
    "X, y = make_moons(n_samples=100, random_state=123)\n",
    "alphas, lambdas = rbf_kernel_pca(X, gamma=15, n_components=1)\n",
    "x_new = X[-1]; x_new"
   ]
  },
  {
   "cell_type": "code",
   "execution_count": 69,
   "metadata": {},
   "outputs": [
    {
     "data": {
      "text/plain": [
       "array([ 0.1192])"
      ]
     },
     "execution_count": 69,
     "metadata": {},
     "output_type": "execute_result"
    }
   ],
   "source": [
    "# 원본 데이터를 투영 (original projection)\n",
    "x_proj = alphas[-1] ; x_proj"
   ]
  },
  {
   "cell_type": "code",
   "execution_count": 70,
   "metadata": {},
   "outputs": [
    {
     "data": {
      "text/plain": [
       "array([ 0.1192])"
      ]
     },
     "execution_count": 70,
     "metadata": {},
     "output_type": "execute_result"
    }
   ],
   "source": [
    "def project_x(x_new, X, gamma, alphas, lambdas):\n",
    "    pair_dist = np.array([np.sum((x_new - row)**2) for row in X])\n",
    "    k = np.exp(-gamma * pair_dist)\n",
    "    return k.dot(alphas / lambdas)\n",
    "\n",
    "# projection of the \"new\" datapoint\n",
    "x_reproj = project_x(x_new, X, gamma=15, alphas=alphas, lambdas=lambdas); x_reproj"
   ]
  },
  {
   "cell_type": "code",
   "execution_count": 71,
   "metadata": {},
   "outputs": [
    {
     "data": {
      "image/png": "[encoded data removed]",
      "text/plain": [
       "<matplotlib.figure.Figure at 0x7fb14cbbe358>"
      ]
     },
     "metadata": {},
     "output_type": "display_data"
    }
   ],
   "source": [
    "plt.scatter(alphas[y == 0, 0], np.zeros((50)), color='red', marker='^', alpha=0.5)\n",
    "plt.scatter(alphas[y == 1, 0], np.zeros((50)), color='blue', marker='o', alpha=0.5)\n",
    "plt.scatter(x_proj, 0, color='black', label='original projection of point X[25]', marker='^', s=100)\n",
    "plt.scatter(x_reproj, 0, color='green', label='remapped point X[25]', marker='x', s=500)\n",
    "plt.legend(scatterpoints=1); plt.show()"
   ]
  },
  {
   "cell_type": "code",
   "execution_count": null,
   "metadata": {
    "collapsed": true
   },
   "outputs": [],
   "source": []
  },
  {
   "cell_type": "code",
   "execution_count": 74,
   "metadata": {
    "collapsed": true
   },
   "outputs": [],
   "source": [
    "X, y = make_moons(n_samples=100, random_state=123)\n",
    "alphas, lambdas = rbf_kernel_pca(X[:-1, :], gamma=15, n_components=1)\n",
    "\n",
    "def project_x(x_new, X, gamma, alphas, lambdas):\n",
    "    pair_dist = np.array([np.sum((x_new - row)**2) for row in X])\n",
    "    k = np.exp(-gamma * pair_dist)\n",
    "    return k.dot(alphas / lambdas)"
   ]
  },
  {
   "cell_type": "code",
   "execution_count": 75,
   "metadata": {
    "collapsed": true
   },
   "outputs": [],
   "source": [
    "# projection of the \"new\" datapoint\n",
    "x_new = X[-1]\n",
    "x_reproj = project_x(x_new, X[:-1], gamma=15, alphas=alphas, lambdas=lambdas)"
   ]
  },
  {
   "cell_type": "code",
   "execution_count": 76,
   "metadata": {},
   "outputs": [
    {
     "data": {
      "image/png": "[encoded data removed]",
      "text/plain": [
       "<matplotlib.figure.Figure at 0x7fb14cdaba58>"
      ]
     },
     "metadata": {},
     "output_type": "display_data"
    }
   ],
   "source": [
    "plt.scatter(alphas[y[:-1] == 0, 0], np.zeros((50)), color='red', marker='^', alpha=0.5)\n",
    "plt.scatter(alphas[y[:-1] == 1, 0], np.zeros((49)), color='blue', marker='o', alpha=0.5)\n",
    "plt.scatter(x_reproj, 0, color='green', label='new point [ 100.0,  100.0]', marker='x', s=500)\n",
    "plt.legend(scatterpoints=1); plt.show()"
   ]
  },
  {
   "cell_type": "code",
   "execution_count": 77,
   "metadata": {},
   "outputs": [
    {
     "data": {
      "image/png": "[encoded data removed]",
      "text/plain": [
       "<matplotlib.figure.Figure at 0x7fb14be7de48>"
      ]
     },
     "metadata": {},
     "output_type": "display_data"
    }
   ],
   "source": [
    "# 첫번쨰 주선분 분석을 투영\n",
    "plt.scatter(alphas[y[:-1] == 0, 0], np.zeros((50)), color='red', marker='^', alpha=0.5)\n",
    "plt.scatter(alphas[y[:-1] == 1, 0], np.zeros((49)), color='blue', marker='o', alpha=0.5)\n",
    "plt.scatter(x_proj, 0, color='black', label='some point [1.8713,  0.0093]', marker='^', s=100)\n",
    "plt.scatter(x_reproj, 0, color='green', label='new point [ 100.0,  100.0]', marker='x', s=500)\n",
    "plt.legend(scatterpoints=1)\n",
    "plt.show()"
   ]
  },
  {
   "cell_type": "markdown",
   "metadata": {},
   "source": [
    "## 4 scikit-learn 에서  '커널 주성분 분석'\n",
    "from sklearn.decomposition import KernelPCA"
   ]
  },
  {
   "cell_type": "code",
   "execution_count": 78,
   "metadata": {},
   "outputs": [
    {
     "data": {
      "image/png": "[encoded data removed]",
      "text/plain": [
       "<matplotlib.figure.Figure at 0x7fb14c83bcc0>"
      ]
     },
     "metadata": {},
     "output_type": "display_data"
    }
   ],
   "source": [
    "from sklearn.decomposition import KernelPCA\n",
    "\n",
    "X, y = make_moons(n_samples=100, random_state=123)\n",
    "scikit_kpca = KernelPCA(n_components=2, kernel='rbf', gamma=15)\n",
    "X_skernpca = scikit_kpca.fit_transform(X)\n",
    "\n",
    "plt.scatter(X_skernpca[y == 0, 0], X_skernpca[y == 0, 1], color='red', marker='^', alpha=0.5)\n",
    "plt.scatter(X_skernpca[y == 1, 0], X_skernpca[y == 1, 1], color='blue', marker='o', alpha=0.5)\n",
    "plt.xlabel('PC1'); plt.ylabel('PC2'); plt.show()"
   ]
  },
  {
   "cell_type": "code",
   "execution_count": null,
   "metadata": {
    "collapsed": true
   },
   "outputs": [],
   "source": [
    "# 차원축소방법 : 표준PCA(비지도적), LDA (지도적), 커널PCA (비선형 분류들이 선형분류 가능한 저차원으로 매핑)  \n",
    "# 레이블과 상관없이 '수직 Feature의 축을 따라 분산을 최대화하는 저차원의 부분공간'으로 투영"
   ]
  },
  {
   "cell_type": "code",
   "execution_count": null,
   "metadata": {
    "collapsed": true
   },
   "outputs": [],
   "source": []
  },
  {
   "cell_type": "code",
   "execution_count": null,
   "metadata": {
    "collapsed": true
   },
   "outputs": [],
   "source": []
  }
 ],
 "metadata": {
  "kernelspec": {
   "display_name": "Python 3",
   "language": "python",
   "name": "python3"
  },
  "language_info": {
   "codemirror_mode": {
    "name": "ipython",
    "version": 3
   },
   "file_extension": ".py",
   "mimetype": "text/x-python",
   "name": "python",
   "nbconvert_exporter": "python",
   "pygments_lexer": "ipython3",
   "version": "3.6.1"
  }
 },
 "nbformat": 4,
 "nbformat_minor": 2
}
