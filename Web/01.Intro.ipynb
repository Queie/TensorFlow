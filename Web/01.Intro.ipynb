{
 "cells": [
  {
   "cell_type": "markdown",
   "metadata": {
    "collapsed": true
   },
   "source": [
    "# ch1 Machine Learning\n",
    "- https://github.com/PacktPublishing/Machine-Learning-for-the-Web"
   ]
  },
  {
   "cell_type": "markdown",
   "metadata": {},
   "source": [
    "<br></br>\n",
    "## 1 Introduction\n",
    "Machine-learning example"
   ]
  },
  {
   "cell_type": "markdown",
   "metadata": {},
   "source": [
    "### 01 데이터 전처리\n",
    "인터넷 광고 데이터를 활용한 데이터 분석 실습\n",
    "\n",
    "https://archive.ics.uci.edu/ml/datasets/internet+advertisements"
   ]
  },
  {
   "cell_type": "code",
   "execution_count": 1,
   "metadata": {},
   "outputs": [
    {
     "name": "stderr",
     "output_type": "stream",
     "text": [
      "/home/markbaum/Python/python36/lib/python3.6/site-packages/IPython/core/interactiveshell.py:2718: DtypeWarning: Columns (3) have mixed types. Specify dtype option on import or set low_memory=False.\n",
      "  interactivity=interactivity, compiler=compiler, result=result)\n"
     ]
    }
   ],
   "source": [
    "import numpy as np\n",
    "import pandas as pd\n",
    "df = pd.read_csv('./data/ad-dataset/ad.data', header=None)\n",
    "\n",
    "# ? 데이터를 찾아서 삭제한다 (전처리 01)\n",
    "df = df.replace({'?':np.nan, \n",
    "                 ' ?':np.nan,\n",
    "                 '  ?':np.nan,\n",
    "                 '   ?':np.nan,\n",
    "                 '    ?':np.nan,\n",
    "                 '     ?':np.nan})\n",
    "df = df.fillna(-1)  # NaN 부분은 -1로 채우기 (전처리 02)"
   ]
  },
  {
   "cell_type": "code",
   "execution_count": 2,
   "metadata": {
    "collapsed": true
   },
   "outputs": [],
   "source": [
    "# 마지막 컬럼의 데이터가 'ad.'일 떄 : 1 (True)\n",
    "adindices = df[df.columns[-1]] == 'ad.'\n",
    "df.loc[adindices, df.columns[-1]] = 1\n",
    "# 마지막 컬럼의 데이터가 'nonad.'일 떄 : 0 (False)\n",
    "nonadindices = df[df.columns[-1]] == 'nonad.'\n",
    "df.loc[nonadindices, df.columns[-1]] = 0"
   ]
  },
  {
   "cell_type": "code",
   "execution_count": 3,
   "metadata": {},
   "outputs": [
    {
     "name": "stdout",
     "output_type": "stream",
     "text": [
      "   0     1       2     3     4     5     6     7     8     9     ...   1549  \\\n",
      "0   125   125  1.0000     1     0     0     0     0     0     0  ...      0   \n",
      "1    57   468  8.2105     1     0     0     0     0     0     0  ...      0   \n",
      "2    33   230  6.9696     1     0     0     0     0     0     0  ...      0   \n",
      "3    60   468  7.8000     1     0     0     0     0     0     0  ...      0   \n",
      "4    60   468  7.8000     1     0     0     0     0     0     0  ...      0   \n",
      "\n",
      "   1550  1551  1552  1553  1554  1555  1556  1557  1558  \n",
      "0     0     0     0     0     0     0     0     0   1.0  \n",
      "1     0     0     0     0     0     0     0     0   1.0  \n",
      "2     0     0     0     0     0     0     0     0   1.0  \n",
      "3     0     0     0     0     0     0     0     0   1.0  \n",
      "4     0     0     0     0     0     0     0     0   1.0  \n",
      "\n",
      "[5 rows x 1559 columns]\n"
     ]
    }
   ],
   "source": [
    "# dtype 을 변환\n",
    "df[df.columns[-1]] = df[df.columns[-1]].astype(float)\n",
    "# 모든 데이터 형식을 'Numeric'으로 일치시킨다\n",
    "df = df.apply(lambda x:pd.to_numeric(x))  \n",
    "print(df.head())"
   ]
  },
  {
   "cell_type": "code",
   "execution_count": 4,
   "metadata": {},
   "outputs": [
    {
     "data": {
      "text/plain": [
       "100"
      ]
     },
     "execution_count": 4,
     "metadata": {},
     "output_type": "execute_result"
    }
   ],
   "source": [
    "# 참고 1 : 문자등을 숫자로 변환\n",
    "# pd.to_numeric('string') : String to Float\n",
    "a = \"100\"\n",
    "pd.to_numeric(a)"
   ]
  },
  {
   "cell_type": "code",
   "execution_count": 5,
   "metadata": {},
   "outputs": [
    {
     "name": "stdout",
     "output_type": "stream",
     "text": [
      "int64\n"
     ]
    },
    {
     "data": {
      "text/plain": [
       "array([0, 1, 2, 3, 4], dtype=int16)"
      ]
     },
     "execution_count": 5,
     "metadata": {},
     "output_type": "execute_result"
    }
   ],
   "source": [
    "# 참고 2 : 데이터 타입의 변환\n",
    "# .astype : adjusted by runnung System (int 64)\n",
    "x = np.arange(5)\n",
    "print(x.dtype) \n",
    "x.astype(np.int16)"
   ]
  },
  {
   "cell_type": "markdown",
   "metadata": {},
   "source": [
    "### 02 SVM 알고리즘의 적용 1\n",
    "Train | Test 모델 전처리 - Train 80%, Test 20%"
   ]
  },
  {
   "cell_type": "code",
   "execution_count": 6,
   "metadata": {},
   "outputs": [
    {
     "name": "stdout",
     "output_type": "stream",
     "text": [
      "(3279, 1559)\n"
     ]
    }
   ],
   "source": [
    "# https://wikidocs.net/79\n",
    "# Field는 고정된 상태에서, index 를 기준으로 뒤섞는다\n",
    "dataset = df.values[:,:]\n",
    "np.random.shuffle(dataset)\n",
    "print(dataset.shape)\n",
    "\n",
    "# data : 특징벡터\n",
    "data = dataset[:,:-1]\n",
    "# 80% index 추출\n",
    "train_rows = int(len(data)* .8)  \n",
    "train = data[ : train_rows ,  :]"
   ]
  },
  {
   "cell_type": "code",
   "execution_count": 7,
   "metadata": {
    "collapsed": true
   },
   "outputs": [],
   "source": [
    "# labels : 목표변수 벡터\n",
    "labels = dataset[:,-1].astype(float)\n",
    "\n",
    "# 80%를 Train 데이터로 묶는다\n",
    "train_labels = labels[ : train_rows]\n",
    "\n",
    "# 20%를 Test 데이터로 묶는다\n",
    "test = data[ train_rows :,  :]\n",
    "test_labels = labels[ train_rows :]"
   ]
  },
  {
   "cell_type": "markdown",
   "metadata": {},
   "source": [
    "### 02 SVM 알고리즘의 적용 2\n",
    "SVM 모델 훈련"
   ]
  },
  {
   "cell_type": "code",
   "execution_count": 8,
   "metadata": {},
   "outputs": [
    {
     "data": {
      "text/plain": [
       "SVC(C=100.0, cache_size=200, class_weight=None, coef0=0.0,\n",
       "  decision_function_shape=None, degree=3, gamma=0.001, kernel='rbf',\n",
       "  max_iter=-1, probability=False, random_state=None, shrinking=True,\n",
       "  tol=0.001, verbose=False)"
      ]
     },
     "execution_count": 8,
     "metadata": {},
     "output_type": "execute_result"
    }
   ],
   "source": [
    "from sklearn.svm import SVC\n",
    "clf = SVC(gamma=0.001 ,C=100.)  # SVM 모델을 선언\n",
    "clf.fit(train, train_labels)    # 훈련 데이터로 모델생성 : clf.fit(train_파라미터, train_Target)"
   ]
  },
  {
   "cell_type": "code",
   "execution_count": 9,
   "metadata": {},
   "outputs": [
    {
     "name": "stdout",
     "output_type": "stream",
     "text": [
      "score: 0.9604\n"
     ]
    }
   ],
   "source": [
    "# Test 모델로 정확도 확인\n",
    "print('score: {:.4}'.format(clf.score(test, test_labels)))"
   ]
  },
  {
   "cell_type": "code",
   "execution_count": 10,
   "metadata": {
    "collapsed": true
   },
   "outputs": [],
   "source": [
    "# SVM 분류결과 \n",
    "# 예측결과와 실제결과(ad/ non_ad) 96% 일치를 보여준다"
   ]
  },
  {
   "cell_type": "markdown",
   "metadata": {},
   "source": [
    "<br></br>\n",
    "## 2 Numpy\n",
    "Using NumPy"
   ]
  },
  {
   "cell_type": "markdown",
   "metadata": {},
   "source": [
    "### 01 Numpy 의 속도비교\n",
    "Using NumPy"
   ]
  },
  {
   "cell_type": "code",
   "execution_count": 11,
   "metadata": {},
   "outputs": [
    {
     "name": "stdout",
     "output_type": "stream",
     "text": [
      "Using For loop : 2.8226082 \n",
      "Using numpy    : 0.0432069 \n",
      "Numpy is 66.649 Faster \n"
     ]
    }
   ],
   "source": [
    "import time; import numpy as np\n",
    "# For 문으로 연산한 한 경우\n",
    "def sum_trad():\n",
    "    start = time.time()\n",
    "    X, Y, Z = range(10000000), range(10000000), []\n",
    "    for i in range(len(X)):\n",
    "        Z.append(X[i] + Y[i])\n",
    "    return time.time() - start\n",
    "\n",
    "# Numpy로 연산한 한 경우\n",
    "def sum_numpy():\n",
    "    start = time.time()\n",
    "    X = np.arange(10000000) ; Y = np.arange(10000000) \n",
    "    Z = X + Y\n",
    "    return time.time() - start\n",
    "\n",
    "print('Using For loop :',round(sum_trad(),7),\n",
    "      '\\nUsing numpy    :',round(sum_numpy(),7),\n",
    "     '\\nNumpy is {:.5} Faster '.format(sum_trad()/sum_numpy()))"
   ]
  },
  {
   "cell_type": "markdown",
   "metadata": {},
   "source": [
    "### 02 배열의 생성 \n",
    "Numpy.ndarray"
   ]
  },
  {
   "cell_type": "code",
   "execution_count": 12,
   "metadata": {},
   "outputs": [
    {
     "name": "stdout",
     "output_type": "stream",
     "text": [
      "<class 'numpy.ndarray'> [ 2.  6.  5.  9.]\n",
      "[2.0, 6.0, 5.0, 9.0]\n",
      "arr (original) :  [ 2.  6.  5.  9.] \n",
      "arr2 (copied)  : [ 0.  6.  5.  9.]\n"
     ]
    },
    {
     "data": {
      "text/plain": [
       "array([ 1.,  1.,  1.,  1.])"
      ]
     },
     "execution_count": 12,
     "metadata": {},
     "output_type": "execute_result"
    }
   ],
   "source": [
    "# Array Basic function\n",
    "# array 생성\n",
    "arr = np.array([2, 6, 5, 9], float)\n",
    "print (type(arr), arr)\n",
    "\n",
    "# .tolist()  : ndarray to [ List ]\n",
    "print (arr.tolist())\n",
    "\n",
    "# arr.copy() : ndarray 객체를 복사\n",
    "arr2 = arr.copy()\n",
    "arr2[0] = 0\n",
    "print (\"arr (original) : \", arr, \"\\narr2 (copied)  :\", arr2)\n",
    "\n",
    "# ndarray.fill(객체) : 모든 Index 에 '객체'로 통일해서 채운다\n",
    "arr.fill(1)\n",
    "arr"
   ]
  },
  {
   "cell_type": "code",
   "execution_count": 13,
   "metadata": {},
   "outputs": [
    {
     "name": "stdout",
     "output_type": "stream",
     "text": [
      "[8 7 2 5 3 1 4 6 0 9]\n",
      "[ 5.30370546  5.73611795  6.03221137  3.21679787]\n",
      "[ 0.72599625  0.55159406  0.96310976  0.40490117  0.80964018]\n"
     ]
    }
   ],
   "source": [
    "# Random : 랜덤 배열생성\n",
    "print (np.random.permutation(10))\n",
    "\n",
    "# np.random.normal(평균, 표준편차, 배열요소 갯수)\n",
    "print (np.random.normal(5,1,4)) \n",
    "\n",
    "# np.random.random( int )  : 0,1 의 정규분포 자료를 생성\n",
    "print (np.random.random(5))"
   ]
  },
  {
   "cell_type": "code",
   "execution_count": 14,
   "metadata": {},
   "outputs": [
    {
     "name": "stdout",
     "output_type": "stream",
     "text": [
      "[[ 1.  0.  0.  0.  0.]\n",
      " [ 0.  1.  0.  0.  0.]\n",
      " [ 0.  0.  1.  0.  0.]\n",
      " [ 0.  0.  0.  1.  0.]\n",
      " [ 0.  0.  0.  0.  1.]]\n",
      "[[ 1.  0.  0.]\n",
      " [ 0.  1.  0.]\n",
      " [ 0.  0.  1.]]\n",
      "[[ 1.  1.  1.]\n",
      " [ 1.  1.  1.]]\n",
      "[[0 0 0]\n",
      " [0 0 0]]\n",
      "[[ 0.  0.  0.]\n",
      " [ 0.  0.  0.]]\n",
      "[[ 1.  1.  1.]\n",
      " [ 1.  1.  1.]]\n"
     ]
    }
   ],
   "source": [
    "# 단위행렬 (0, 1)\n",
    "# 0,1 의 단위행렬\n",
    "print (np.identity(5, dtype=float))\n",
    "\n",
    "# 0,1 단위행렬 중, k 번쨰 대각이 1인 행렬\n",
    "print (np.eye(3, k=0, dtype=float))\n",
    "print (np.ones((2,3), dtype=float))\n",
    "print (np.zeros((2,3), dtype=int))\n",
    "arr = np.array([[13, 32, 31], [64, 25, 76]], float)\n",
    "print (np.zeros_like(arr))\n",
    "print (np.ones_like(arr))"
   ]
  },
  {
   "cell_type": "code",
   "execution_count": 15,
   "metadata": {},
   "outputs": [
    {
     "name": "stdout",
     "output_type": "stream",
     "text": [
      "[ 13.  25.  31.  32.  64.  76.]\n",
      "[[ 13.  31.  32.]\n",
      " [ 25.  64.  76.]]\n",
      "[[0 2 1]\n",
      " [1 0 2]]\n"
     ]
    }
   ],
   "source": [
    "# Sorting by index\n",
    "print (np.unique(arr))\n",
    "print (np.sort(arr))\n",
    "print (np.argsort(arr))"
   ]
  },
  {
   "cell_type": "code",
   "execution_count": 16,
   "metadata": {},
   "outputs": [
    {
     "name": "stdout",
     "output_type": "stream",
     "text": [
      "[[ 64.  25.  76.]\n",
      " [ 13.  32.  31.]]\n"
     ]
    }
   ],
   "source": [
    "# [List] 객체를 임의로 섞는다.\n",
    "np.random.shuffle(arr)\n",
    "print(arr)"
   ]
  },
  {
   "cell_type": "code",
   "execution_count": 17,
   "metadata": {},
   "outputs": [
    {
     "data": {
      "text/plain": [
       "False"
      ]
     },
     "execution_count": 17,
     "metadata": {},
     "output_type": "execute_result"
    }
   ],
   "source": [
    "# 배열의 비교\n",
    "arr_1 = np.array([1,5,2])\n",
    "np.array_equal(arr, arr_1 )"
   ]
  },
  {
   "cell_type": "markdown",
   "metadata": {},
   "source": [
    "### 03 Matrix\n",
    "Numpy Matrix"
   ]
  },
  {
   "cell_type": "code",
   "execution_count": 18,
   "metadata": {
    "scrolled": true
   },
   "outputs": [
    {
     "name": "stdout",
     "output_type": "stream",
     "text": [
      "[[1 3 2]\n",
      " [3 4 6]]\n"
     ]
    }
   ],
   "source": [
    "# 1차원 배열로 Matrix 생성\n",
    "arr1 = np.array([1,3,2])\n",
    "arr2 = np.array([3,4,6])\n",
    "print (np.vstack([arr1,arr2]))"
   ]
  },
  {
   "cell_type": "code",
   "execution_count": 19,
   "metadata": {},
   "outputs": [
    {
     "name": "stdout",
     "output_type": "stream",
     "text": [
      "[[ 0.47407149  0.49686361  0.06818334]\n",
      " [ 0.71154402  0.02170203  0.78007338]]\n"
     ]
    }
   ],
   "source": [
    "# random 데이터로 배열 생성하기\n",
    "print (np.random.rand(2,3))"
   ]
  },
  {
   "cell_type": "code",
   "execution_count": 20,
   "metadata": {},
   "outputs": [
    {
     "name": "stdout",
     "output_type": "stream",
     "text": [
      "[[  7.60629855  -2.68131233]\n",
      " [  5.5869916    2.60954412]\n",
      " [ 12.29681599  -0.4112696 ]\n",
      " [  9.85553694  -1.92687039]\n",
      " [  6.94089902  -1.47547667]]\n"
     ]
    }
   ],
   "source": [
    "## 다변량 정규분포\n",
    "# np.random.multivariate_normal([평균벡터], [[ 공분산 행렬 ]], size = [index, columns] )\n",
    "print (np.random.multivariate_normal([10, 0], [[3, 1], [1, 4]], size=[5,]))"
   ]
  },
  {
   "cell_type": "code",
   "execution_count": 21,
   "metadata": {},
   "outputs": [
    {
     "name": "stdout",
     "output_type": "stream",
     "text": [
      "[ 10.  29.  23.  24.  25.  46.]\n",
      "(2, 3)\n",
      "float64\n"
     ]
    }
   ],
   "source": [
    "arr = np.array([[10, 29, 23], [24, 25, 46]], float)\n",
    "print (arr.flatten())\n",
    "print (arr.shape)\n",
    "print (arr.dtype)"
   ]
  },
  {
   "cell_type": "code",
   "execution_count": 22,
   "metadata": {},
   "outputs": [
    {
     "data": {
      "text/plain": [
       "array([[4, 5, 6],\n",
       "       [2, 3, 6]], dtype=int32)"
      ]
     },
     "execution_count": 22,
     "metadata": {},
     "output_type": "execute_result"
    }
   ],
   "source": [
    "matrix = np.array([[ 4., 5., 6.], [2, 3, 6]], float)\n",
    "matrix.astype(np.int32)"
   ]
  },
  {
   "cell_type": "code",
   "execution_count": 23,
   "metadata": {},
   "outputs": [
    {
     "data": {
      "text/plain": [
       "2"
      ]
     },
     "execution_count": 23,
     "metadata": {},
     "output_type": "execute_result"
    }
   ],
   "source": [
    "len(matrix)"
   ]
  },
  {
   "cell_type": "code",
   "execution_count": 24,
   "metadata": {},
   "outputs": [
    {
     "name": "stdout",
     "output_type": "stream",
     "text": [
      "True\n",
      "False\n"
     ]
    }
   ],
   "source": [
    "# Boolean()\n",
    "print (2 in matrix)\n",
    "print (0 in matrix)"
   ]
  },
  {
   "cell_type": "code",
   "execution_count": 25,
   "metadata": {},
   "outputs": [
    {
     "data": {
      "text/plain": [
       "array([ 0.,  1.,  2.,  3.,  4.,  5.,  6.,  7.])"
      ]
     },
     "execution_count": 25,
     "metadata": {},
     "output_type": "execute_result"
    }
   ],
   "source": [
    "# 데이터 Formant 을 지정\n",
    "arr = np.array(range(8), float) ; arr"
   ]
  },
  {
   "cell_type": "code",
   "execution_count": 26,
   "metadata": {},
   "outputs": [
    {
     "name": "stdout",
     "output_type": "stream",
     "text": [
      "(4, 2) \n",
      " [[ 0.  1.]\n",
      " [ 2.  3.]\n",
      " [ 4.  5.]\n",
      " [ 6.  7.]]\n"
     ]
    }
   ],
   "source": [
    "# ndarray 차원을 지정\n",
    "arr = arr.reshape((4,2))\n",
    "print(arr.shape, '\\n',   arr)"
   ]
  },
  {
   "cell_type": "code",
   "execution_count": 27,
   "metadata": {},
   "outputs": [
    {
     "name": "stdout",
     "output_type": "stream",
     "text": [
      "[[ 0.  1.  2.]\n",
      " [ 3.  4.  5.]]\n"
     ]
    },
    {
     "data": {
      "text/plain": [
       "array([[ 0.,  3.],\n",
       "       [ 1.,  4.],\n",
       "       [ 2.,  5.]])"
      ]
     },
     "execution_count": 27,
     "metadata": {},
     "output_type": "execute_result"
    }
   ],
   "source": [
    "# X , Y 축의 변경 01\n",
    "arr = np.array(range(6), float).reshape((2, 3))\n",
    "print(arr)\n",
    "arr.transpose()"
   ]
  },
  {
   "cell_type": "code",
   "execution_count": 28,
   "metadata": {},
   "outputs": [
    {
     "name": "stdout",
     "output_type": "stream",
     "text": [
      "[[ 0  1  2  3  4]\n",
      " [ 5  6  7  8  9]\n",
      " [10 11 12 13 14]]\n"
     ]
    },
    {
     "data": {
      "text/plain": [
       "array([[ 0,  5, 10],\n",
       "       [ 1,  6, 11],\n",
       "       [ 2,  7, 12],\n",
       "       [ 3,  8, 13],\n",
       "       [ 4,  9, 14]])"
      ]
     },
     "execution_count": 28,
     "metadata": {},
     "output_type": "execute_result"
    }
   ],
   "source": [
    "# X , Y 축의 변경 02\n",
    "matrix = np.arange(15).reshape((3, 5))\n",
    "print (matrix)\n",
    "matrix .T"
   ]
  },
  {
   "cell_type": "code",
   "execution_count": 29,
   "metadata": {},
   "outputs": [
    {
     "name": "stdout",
     "output_type": "stream",
     "text": [
      "[ 14.  32.  13.]\n",
      "[[ 14.]\n",
      " [ 32.]\n",
      " [ 13.]]\n",
      "(3, 1)\n",
      "[[ 14.  32.  13.]]\n",
      "(1, 3)\n"
     ]
    }
   ],
   "source": [
    "# Broad Casting (차원이 다른 Matrix의 연산을 자동으로 조정)\n",
    "# np.newaxis ( 새로운 차원을 상수로 지정 )\n",
    "arr = np.array([14, 32, 13], float)\n",
    "print (arr)\n",
    "print (arr[:,np.newaxis])\n",
    "print (arr[:,np.newaxis].shape)\n",
    "print (arr[np.newaxis,:])\n",
    "print (arr[np.newaxis,:].shape)"
   ]
  },
  {
   "cell_type": "code",
   "execution_count": 30,
   "metadata": {},
   "outputs": [
    {
     "data": {
      "text/plain": [
       "array([ 10.,  22.,  31.,  43.,  54.,  61.,  71.,  82.,  29.])"
      ]
     },
     "execution_count": 30,
     "metadata": {},
     "output_type": "execute_result"
    }
   ],
   "source": [
    "arr1 = np.array([10,22], float)\n",
    "arr2 = np.array([31,43,54,61], float)\n",
    "arr3 = np.array([71,82,29], float)\n",
    "np.concatenate((arr1, arr2, arr3))"
   ]
  },
  {
   "cell_type": "code",
   "execution_count": 31,
   "metadata": {},
   "outputs": [
    {
     "name": "stdout",
     "output_type": "stream",
     "text": [
      "[[ 11.  12.]\n",
      " [ 32.  42.]\n",
      " [ 54.  26.]\n",
      " [ 27.  28.]]\n",
      "[[ 11.  12.]\n",
      " [ 32.  42.]\n",
      " [ 54.  26.]\n",
      " [ 27.  28.]]\n",
      "[[ 11.  12.  54.  26.]\n",
      " [ 32.  42.  27.  28.]]\n"
     ]
    }
   ],
   "source": [
    "# 배열의 결합 (Merge the Matrix)\n",
    "arr1 = np.array([[11, 12], [32, 42]], float)\n",
    "arr2 = np.array([[54, 26], [27,28]], float)\n",
    "print (np.concatenate((arr1,arr2)))\n",
    "print (np.concatenate((arr1,arr2), axis=0))\n",
    "print (np.concatenate((arr1,arr2), axis=1))"
   ]
  },
  {
   "cell_type": "code",
   "execution_count": 32,
   "metadata": {},
   "outputs": [
    {
     "name": "stdout",
     "output_type": "stream",
     "text": [
      "b'\\x00\\x00\\x00\\x00\\x00\\x00$@\\x00\\x00\\x00\\x00\\x00\\x004@\\x00\\x00\\x00\\x00\\x00\\x00>@'\n"
     ]
    },
    {
     "data": {
      "text/plain": [
       "array([ 10.,  20.,  30.])"
      ]
     },
     "execution_count": 32,
     "metadata": {},
     "output_type": "execute_result"
    }
   ],
   "source": [
    "arr = np.array([10, 20, 30], float)\n",
    "str = arr.tostring()\n",
    "print (str)\n",
    "np.fromstring(str)"
   ]
  },
  {
   "cell_type": "code",
   "execution_count": 33,
   "metadata": {},
   "outputs": [
    {
     "name": "stdout",
     "output_type": "stream",
     "text": [
      "[ 2.  4.  6.]\n"
     ]
    }
   ],
   "source": [
    "# array operations\n",
    "# 동일한 index 간의 연산 (배열연산 X ) \n",
    "arr1 = np.array([1,2,3], float)\n",
    "arr2 = np.array([1,2,3], float)\n",
    "print (arr1+arr2)"
   ]
  },
  {
   "cell_type": "code",
   "execution_count": 34,
   "metadata": {},
   "outputs": [
    {
     "name": "stdout",
     "output_type": "stream",
     "text": [
      "[ 0.  0.  0.]\n",
      "[ 1.  4.  9.]\n",
      "[ 1.  1.  1.]\n",
      "[ 0.  0.  0.]\n",
      "[  1.   4.  27.]\n"
     ]
    }
   ],
   "source": [
    "print (arr1 - arr2)\n",
    "print (arr1 * arr2)\n",
    "print (arr2 / arr1)\n",
    "print (arr1 % arr2)\n",
    "print (arr2 ** arr1)"
   ]
  },
  {
   "cell_type": "code",
   "execution_count": 35,
   "metadata": {},
   "outputs": [
    {
     "name": "stdout",
     "output_type": "stream",
     "text": [
      "[[ 1.  2.]\n",
      " [ 3.  4.]\n",
      " [ 5.  6.]]\n",
      "[ 1.  2.]\n",
      "[[ 2.  4.]\n",
      " [ 4.  6.]\n",
      " [ 6.  8.]]\n"
     ]
    }
   ],
   "source": [
    "# ValueError: operands could not be broadcast together with shapes (3,) (2,) \n",
    "# arr1 = np.array([1,2,3], float)\n",
    "# arr2 = np.array([1,2], float)\n",
    "# print (arr1 + arr2)  # 브로드캐스팅 에러가 발생\n",
    "arr1 = np.array([[1, 2], [3, 4], [5, 6]], float)\n",
    "arr2 = np.array([1, 2], float)\n",
    "print (arr1)\n",
    "print (arr2) \n",
    "print (arr1 + arr2)  # 자동으로 큰 차원의 배열에 맞춰서 확장"
   ]
  },
  {
   "cell_type": "code",
   "execution_count": 36,
   "metadata": {},
   "outputs": [
    {
     "name": "stdout",
     "output_type": "stream",
     "text": [
      "[[ 0.  0.]\n",
      " [ 0.  0.]]\n",
      "[ 1.  2.]\n",
      "[[ 1.  2.]\n",
      " [ 1.  2.]]\n"
     ]
    }
   ],
   "source": [
    "arr1 = np.zeros((2,2), float)\n",
    "arr2 = np.array([1., 2.], float)\n",
    "print (arr1)\n",
    "print (arr2)\n",
    "print (arr1 + arr2)"
   ]
  },
  {
   "cell_type": "markdown",
   "metadata": {},
   "source": [
    "### 04 Broadcasting\n",
    "Numpy Matrix"
   ]
  },
  {
   "cell_type": "code",
   "execution_count": 37,
   "metadata": {},
   "outputs": [
    {
     "name": "stdout",
     "output_type": "stream",
     "text": [
      "[[ 1.  2.]\n",
      " [ 1.  2.]]\n"
     ]
    }
   ],
   "source": [
    "# arr2 의 index 에 차원추가\n",
    "print (arr1 + arr2[np.newaxis,:])"
   ]
  },
  {
   "cell_type": "code",
   "execution_count": 38,
   "metadata": {},
   "outputs": [
    {
     "name": "stdout",
     "output_type": "stream",
     "text": [
      "[[ 1.  1.]\n",
      " [ 2.  2.]]\n"
     ]
    }
   ],
   "source": [
    "# arr2 의 index 에 차원추가\n",
    "print (arr1 + arr2[:,np.newaxis])"
   ]
  },
  {
   "cell_type": "code",
   "execution_count": 39,
   "metadata": {},
   "outputs": [
    {
     "name": "stdout",
     "output_type": "stream",
     "text": [
      "[[False False]\n",
      " [False  True]]\n",
      "[ 9.]\n"
     ]
    }
   ],
   "source": [
    "arr = np.array([[1, 2], [5, 9]], float)\n",
    "print (arr >= 7)\n",
    "print (arr[arr >= 7])"
   ]
  },
  {
   "cell_type": "code",
   "execution_count": 40,
   "metadata": {},
   "outputs": [
    {
     "data": {
      "text/plain": [
       "array([ 9.])"
      ]
     },
     "execution_count": 40,
     "metadata": {},
     "output_type": "execute_result"
    }
   ],
   "source": [
    "# np.logical_and( 논리 합 )\n",
    "arr[np.logical_and(arr > 5, arr < 11)]"
   ]
  },
  {
   "cell_type": "code",
   "execution_count": 41,
   "metadata": {},
   "outputs": [
    {
     "data": {
      "text/plain": [
       "array([ 1.,  4.,  4.,  9.,  4.,  4.,  4.])"
      ]
     },
     "execution_count": 41,
     "metadata": {},
     "output_type": "execute_result"
    }
   ],
   "source": [
    "# Feather 01\n",
    "arr1 = np.array([1, 4, 5, 9], float) # Source\n",
    "arr2 = np.array([0, 1, 1, 3, 1, 1, 1], int) # Index Num\n",
    "arr1[arr2]"
   ]
  },
  {
   "cell_type": "code",
   "execution_count": 42,
   "metadata": {},
   "outputs": [
    {
     "data": {
      "text/plain": [
       "array([ 1.,  4.,  4.,  9.,  4.])"
      ]
     },
     "execution_count": 42,
     "metadata": {},
     "output_type": "execute_result"
    }
   ],
   "source": [
    "# Feather 02\n",
    "arr = np.array([1, 4, 5, 9], float)\n",
    "arr[[0, 1, 1, 3, 1]]"
   ]
  },
  {
   "cell_type": "code",
   "execution_count": 43,
   "metadata": {},
   "outputs": [
    {
     "data": {
      "text/plain": [
       "array([ 13.,   2.,   1.,  13.])"
      ]
     },
     "execution_count": 43,
     "metadata": {},
     "output_type": "execute_result"
    }
   ],
   "source": [
    "arr1 = np.array([[1, 2], [5, 13]], float)\n",
    "arr2 = np.array([1, 0, 0, 1], int)\n",
    "arr3 = np.array([1, 1, 0, 1], int)\n",
    "arr1[arr2,arr3]"
   ]
  },
  {
   "cell_type": "code",
   "execution_count": 44,
   "metadata": {},
   "outputs": [
    {
     "data": {
      "text/plain": [
       "array([ 6.,  7.,  6.,  9.,  9.,  6.])"
      ]
     },
     "execution_count": 44,
     "metadata": {},
     "output_type": "execute_result"
    }
   ],
   "source": [
    "arr1 = np.array([7, 6, 6, 9], float)\n",
    "arr2 = np.array([1, 0, 1, 3, 3, 1], int)\n",
    "arr1.take(arr2)"
   ]
  },
  {
   "cell_type": "code",
   "execution_count": 45,
   "metadata": {},
   "outputs": [
    {
     "name": "stdout",
     "output_type": "stream",
     "text": [
      "[[ 10.  10.  21.]\n",
      " [ 62.  62.  33.]]\n"
     ]
    }
   ],
   "source": [
    "arr1 = np.array([[10, 21], [62, 33]], float)\n",
    "arr2 = np.array([0, 0, 1], int)\n",
    "arr1.take(arr2, axis=0)\n",
    "print (arr1.take(arr2, axis=1))"
   ]
  },
  {
   "cell_type": "code",
   "execution_count": 46,
   "metadata": {},
   "outputs": [
    {
     "name": "stdout",
     "output_type": "stream",
     "text": [
      "[  2.   3.   6.   2.  10.   9.]\n"
     ]
    }
   ],
   "source": [
    "arr1 = np.array([2, 1, 6, 2, 1, 9], float)\n",
    "arr2 = np.array([3, 10, 2], float)\n",
    "arr1.put([1, 4], arr2)\n",
    "print (arr1)"
   ]
  },
  {
   "cell_type": "code",
   "execution_count": 47,
   "metadata": {},
   "outputs": [
    {
     "name": "stdout",
     "output_type": "stream",
     "text": [
      "[[ 275.  660.]\n",
      " [ 299.  462.]]\n"
     ]
    }
   ],
   "source": [
    "arr1 = np.array([[11,22], [23,14]], float)\n",
    "arr2 = np.array([[25,30], [13,33]], float)\n",
    "print (arr1*arr2)"
   ]
  },
  {
   "cell_type": "markdown",
   "metadata": {},
   "source": [
    "### 05 선형대수\n",
    "linear algebra operations\n",
    "\n",
    "벡터의 내적/ 외적 https://www.youtube.com/embed/ce0YlZH47S0"
   ]
  },
  {
   "cell_type": "code",
   "execution_count": 48,
   "metadata": {},
   "outputs": [
    {
     "data": {
      "text/plain": [
       "array([[ 0,  1,  2,  3,  4],\n",
       "       [ 5,  6,  7,  8,  9],\n",
       "       [10, 11, 12, 13, 14]])"
      ]
     },
     "execution_count": 48,
     "metadata": {},
     "output_type": "execute_result"
    }
   ],
   "source": [
    "# 행렬\n",
    "X = np.arange(15).reshape((3, 5)); X "
   ]
  },
  {
   "cell_type": "code",
   "execution_count": 49,
   "metadata": {},
   "outputs": [
    {
     "data": {
      "text/plain": [
       "array([[ 0,  5, 10],\n",
       "       [ 1,  6, 11],\n",
       "       [ 2,  7, 12],\n",
       "       [ 3,  8, 13],\n",
       "       [ 4,  9, 14]])"
      ]
     },
     "execution_count": 49,
     "metadata": {},
     "output_type": "execute_result"
    }
   ],
   "source": [
    "# 전치행렬\n",
    "X.T "
   ]
  },
  {
   "cell_type": "code",
   "execution_count": 50,
   "metadata": {},
   "outputs": [
    {
     "data": {
      "text/plain": [
       "array([[125, 140, 155, 170, 185],\n",
       "       [140, 158, 176, 194, 212],\n",
       "       [155, 176, 197, 218, 239],\n",
       "       [170, 194, 218, 242, 266],\n",
       "       [185, 212, 239, 266, 293]])"
      ]
     },
     "execution_count": 50,
     "metadata": {},
     "output_type": "execute_result"
    }
   ],
   "source": [
    "#벡터의 내적 : 행 벡터 X 열 벡터\n",
    "# X^T X\n",
    "np.dot(X .T, X)"
   ]
  },
  {
   "cell_type": "code",
   "execution_count": 51,
   "metadata": {
    "scrolled": true
   },
   "outputs": [
    {
     "data": {
      "text/plain": [
       "array([[  252.,   504.,   168.],\n",
       "       [  903.,  1806.,   602.],\n",
       "       [  210.,   420.,   140.]])"
      ]
     },
     "execution_count": 51,
     "metadata": {},
     "output_type": "execute_result"
    }
   ],
   "source": [
    "arr1 = np.array([12, 43, 10], float)\n",
    "arr2 = np.array([21, 42, 14], float)\n",
    "np.outer(arr1, arr2)"
   ]
  },
  {
   "cell_type": "code",
   "execution_count": 52,
   "metadata": {},
   "outputs": [
    {
     "data": {
      "text/plain": [
       "2198.0"
      ]
     },
     "execution_count": 52,
     "metadata": {},
     "output_type": "execute_result"
    }
   ],
   "source": [
    "# 내적의 곱 (Dot Product)\n",
    "np.inner(arr1, arr2)"
   ]
  },
  {
   "cell_type": "code",
   "execution_count": 53,
   "metadata": {},
   "outputs": [
    {
     "data": {
      "text/plain": [
       "array([ 182.,   42., -399.])"
      ]
     },
     "execution_count": 53,
     "metadata": {},
     "output_type": "execute_result"
    }
   ],
   "source": [
    "# 외적의 곱 (Cross Product)\n",
    "np.cross(arr1, arr2)"
   ]
  },
  {
   "cell_type": "code",
   "execution_count": 54,
   "metadata": {},
   "outputs": [
    {
     "data": {
      "text/plain": [
       "-2852.0000000000032"
      ]
     },
     "execution_count": 54,
     "metadata": {},
     "output_type": "execute_result"
    }
   ],
   "source": [
    "matrix = np.array([[74, 22, 10], [92, 31, 17], [21, 22, 12]], float)\n",
    "np.linalg.det(matrix)"
   ]
  },
  {
   "cell_type": "code",
   "execution_count": 55,
   "metadata": {},
   "outputs": [
    {
     "data": {
      "text/plain": [
       "array([[ 0.00070126,  0.01542777, -0.02244039],\n",
       "       [ 0.26192146, -0.23772791,  0.11851332],\n",
       "       [-0.48141655,  0.4088359 , -0.09467041]])"
      ]
     },
     "execution_count": 55,
     "metadata": {},
     "output_type": "execute_result"
    }
   ],
   "source": [
    "# np.linalg.inv() 역행렬\n",
    "inv_matrix = np.linalg.inv(matrix)\n",
    "inv_matrix"
   ]
  },
  {
   "cell_type": "code",
   "execution_count": 56,
   "metadata": {},
   "outputs": [
    {
     "data": {
      "text/plain": [
       "array([[  1.00000000e+00,   1.66533454e-16,   5.55111512e-17],\n",
       "       [ -2.66453526e-15,   1.00000000e+00,   2.22044605e-16],\n",
       "       [ -2.44249065e-15,   4.44089210e-16,   1.00000000e+00]])"
      ]
     },
     "execution_count": 56,
     "metadata": {},
     "output_type": "execute_result"
    }
   ],
   "source": [
    "np.dot(inv_matrix,matrix)"
   ]
  },
  {
   "cell_type": "code",
   "execution_count": 57,
   "metadata": {
    "scrolled": true
   },
   "outputs": [
    {
     "name": "stdout",
     "output_type": "stream",
     "text": [
      "고유 값: \n",
      " [ 107.99587441   11.33411853   -2.32999294]\n",
      "고유 벡터 : \n",
      " [[-0.57891525 -0.21517959  0.06319955]\n",
      " [-0.75804695  0.17632618 -0.58635713]\n",
      " [-0.30036971  0.96052424  0.80758352]]\n"
     ]
    }
   ],
   "source": [
    "vals, vecs = np.linalg.eig(matrix)\n",
    "print(\"고유 값: \\n\" ,vals)\n",
    "print(\"고유 벡터 : \\n\" ,vecs) "
   ]
  },
  {
   "cell_type": "code",
   "execution_count": 58,
   "metadata": {},
   "outputs": [
    {
     "name": "stdout",
     "output_type": "stream",
     "text": [
      "Mean .mean     0.489661\n",
      "Mean np.mean() 0.489661\n",
      "Sum  .sum      15.6691\n"
     ]
    }
   ],
   "source": [
    "#Statistics and mathematical functions\n",
    "arr = np.random.rand(8, 4)\n",
    "print('Mean .mean     {:.6}'.format(arr.mean()))\n",
    "print('Mean np.mean() {:.6}'.format(np.mean(arr)))\n",
    "print('Sum  .sum      {:.6}'.format(arr.sum()))"
   ]
  },
  {
   "cell_type": "markdown",
   "metadata": {},
   "source": [
    "<br></br>\n",
    "## 3 Pandas"
   ]
  },
  {
   "cell_type": "markdown",
   "metadata": {},
   "source": [
    "### 01 Introduction\n",
    "pandas"
   ]
  },
  {
   "cell_type": "code",
   "execution_count": 59,
   "metadata": {},
   "outputs": [
    {
     "data": {
      "text/plain": [
       "0    3\n",
       "1    5\n",
       "2   -2\n",
       "3    1\n",
       "dtype: int64"
      ]
     },
     "execution_count": 59,
     "metadata": {},
     "output_type": "execute_result"
    }
   ],
   "source": [
    "import pandas as pd\n",
    "import numpy as np\n",
    "# Series Data\n",
    "obj = pd.Series([3,5,-2,1])\n",
    "obj"
   ]
  },
  {
   "cell_type": "code",
   "execution_count": 60,
   "metadata": {},
   "outputs": [
    {
     "data": {
      "text/plain": [
       "array([ 3,  5, -2,  1])"
      ]
     },
     "execution_count": 60,
     "metadata": {},
     "output_type": "execute_result"
    }
   ],
   "source": [
    "obj.values"
   ]
  },
  {
   "cell_type": "code",
   "execution_count": 61,
   "metadata": {},
   "outputs": [
    {
     "data": {
      "text/plain": [
       "RangeIndex(start=0, stop=4, step=1)"
      ]
     },
     "execution_count": 61,
     "metadata": {},
     "output_type": "execute_result"
    }
   ],
   "source": [
    "obj.index"
   ]
  },
  {
   "cell_type": "code",
   "execution_count": 62,
   "metadata": {},
   "outputs": [
    {
     "data": {
      "text/plain": [
       "0     6\n",
       "1    10\n",
       "2    -4\n",
       "3     2\n",
       "dtype: int64"
      ]
     },
     "execution_count": 62,
     "metadata": {},
     "output_type": "execute_result"
    }
   ],
   "source": [
    "obj *2"
   ]
  },
  {
   "cell_type": "code",
   "execution_count": 63,
   "metadata": {},
   "outputs": [
    {
     "data": {
      "text/plain": [
       "0    3\n",
       "1    5\n",
       "dtype: int64"
      ]
     },
     "execution_count": 63,
     "metadata": {},
     "output_type": "execute_result"
    }
   ],
   "source": [
    "obj[obj>2]"
   ]
  },
  {
   "cell_type": "code",
   "execution_count": 64,
   "metadata": {},
   "outputs": [
    {
     "data": {
      "text/plain": [
       "a     30\n",
       "b     70\n",
       "c    160\n",
       "d      5\n",
       "dtype: int64"
      ]
     },
     "execution_count": 64,
     "metadata": {},
     "output_type": "execute_result"
    }
   ],
   "source": [
    "# Series Data ( added Index by {dict})\n",
    "data = {'a': 30, 'b': 70, 'c': 160, 'd': 5}\n",
    "obj = pd.Series(data)\n",
    "obj"
   ]
  },
  {
   "cell_type": "code",
   "execution_count": 65,
   "metadata": {},
   "outputs": [
    {
     "data": {
      "text/plain": [
       "a     30.0\n",
       "b     70.0\n",
       "c    160.0\n",
       "d      5.0\n",
       "g      NaN\n",
       "dtype: float64"
      ]
     },
     "execution_count": 65,
     "metadata": {},
     "output_type": "execute_result"
    }
   ],
   "source": [
    "# Series Data ( added Index by  ,index = )\n",
    "index = ['a','b','c','d','g']\n",
    "obj = pd.Series(data, index=index)\n",
    "obj"
   ]
  },
  {
   "cell_type": "code",
   "execution_count": 66,
   "metadata": {},
   "outputs": [
    {
     "data": {
      "text/plain": [
       "a    False\n",
       "b    False\n",
       "c    False\n",
       "d    False\n",
       "g     True\n",
       "dtype: bool"
      ]
     },
     "execution_count": 66,
     "metadata": {},
     "output_type": "execute_result"
    }
   ],
   "source": [
    "pd.isnull(obj)"
   ]
  },
  {
   "cell_type": "code",
   "execution_count": 67,
   "metadata": {
    "scrolled": true
   },
   "outputs": [
    {
     "data": {
      "text/plain": [
       "a     True\n",
       "b     True\n",
       "c     True\n",
       "d     True\n",
       "g    False\n",
       "dtype: bool"
      ]
     },
     "execution_count": 67,
     "metadata": {},
     "output_type": "execute_result"
    }
   ],
   "source": [
    "pd.notnull(obj)"
   ]
  },
  {
   "cell_type": "markdown",
   "metadata": {},
   "source": [
    "### 02 CSV 파일 다루기\n",
    "http://archive.ics.uci.edu/ml/dataset/Internet+Advertisements"
   ]
  },
  {
   "cell_type": "code",
   "execution_count": 68,
   "metadata": {},
   "outputs": [
    {
     "name": "stderr",
     "output_type": "stream",
     "text": [
      "/home/markbaum/Python/python36/lib/python3.6/site-packages/IPython/core/interactiveshell.py:2718: DtypeWarning: Columns (3) have mixed types. Specify dtype option on import or set low_memory=False.\n",
      "  interactivity=interactivity, compiler=compiler, result=result)\n"
     ]
    },
    {
     "name": "stdout",
     "output_type": "stream",
     "text": [
      "Shape   : (3279, 1559)\n",
      "Columns : Int64Index([   0,    1,    2,    3,    4,    5,    6,    7,    8,    9,\n",
      "            ...\n",
      "            1549, 1550, 1551, 1552, 1553, 1554, 1555, 1556, 1557, 1558],\n",
      "           dtype='int64', length=1559)\n"
     ]
    },
    {
     "data": {
      "text/html": [
       "<div>\n",
       "<table border=\"1\" class=\"dataframe\">\n",
       "  <thead>\n",
       "    <tr style=\"text-align: right;\">\n",
       "      <th></th>\n",
       "      <th>4</th>\n",
       "      <th>5</th>\n",
       "      <th>6</th>\n",
       "      <th>7</th>\n",
       "      <th>8</th>\n",
       "      <th>9</th>\n",
       "      <th>10</th>\n",
       "      <th>11</th>\n",
       "      <th>12</th>\n",
       "      <th>13</th>\n",
       "      <th>...</th>\n",
       "      <th>1548</th>\n",
       "      <th>1549</th>\n",
       "      <th>1550</th>\n",
       "      <th>1551</th>\n",
       "      <th>1552</th>\n",
       "      <th>1553</th>\n",
       "      <th>1554</th>\n",
       "      <th>1555</th>\n",
       "      <th>1556</th>\n",
       "      <th>1557</th>\n",
       "    </tr>\n",
       "  </thead>\n",
       "  <tbody>\n",
       "    <tr>\n",
       "      <th>count</th>\n",
       "      <td>3279.000000</td>\n",
       "      <td>3279.000000</td>\n",
       "      <td>3279.000000</td>\n",
       "      <td>3279.000000</td>\n",
       "      <td>3279.000000</td>\n",
       "      <td>3279.000000</td>\n",
       "      <td>3279.000000</td>\n",
       "      <td>3279.000000</td>\n",
       "      <td>3279.000000</td>\n",
       "      <td>3279.000000</td>\n",
       "      <td>...</td>\n",
       "      <td>3279.000000</td>\n",
       "      <td>3279.000000</td>\n",
       "      <td>3279.000000</td>\n",
       "      <td>3279.000000</td>\n",
       "      <td>3279.000000</td>\n",
       "      <td>3279.000000</td>\n",
       "      <td>3279.000000</td>\n",
       "      <td>3279.000000</td>\n",
       "      <td>3279.000000</td>\n",
       "      <td>3279.000000</td>\n",
       "    </tr>\n",
       "    <tr>\n",
       "      <th>mean</th>\n",
       "      <td>0.004270</td>\n",
       "      <td>0.011589</td>\n",
       "      <td>0.004575</td>\n",
       "      <td>0.003355</td>\n",
       "      <td>0.003965</td>\n",
       "      <td>0.011589</td>\n",
       "      <td>0.003355</td>\n",
       "      <td>0.004880</td>\n",
       "      <td>0.009149</td>\n",
       "      <td>0.004575</td>\n",
       "      <td>...</td>\n",
       "      <td>0.006099</td>\n",
       "      <td>0.004575</td>\n",
       "      <td>0.003660</td>\n",
       "      <td>0.002440</td>\n",
       "      <td>0.003050</td>\n",
       "      <td>0.006404</td>\n",
       "      <td>0.012809</td>\n",
       "      <td>0.013419</td>\n",
       "      <td>0.009759</td>\n",
       "      <td>0.001525</td>\n",
       "    </tr>\n",
       "    <tr>\n",
       "      <th>std</th>\n",
       "      <td>0.065212</td>\n",
       "      <td>0.107042</td>\n",
       "      <td>0.067491</td>\n",
       "      <td>0.057831</td>\n",
       "      <td>0.062850</td>\n",
       "      <td>0.107042</td>\n",
       "      <td>0.057831</td>\n",
       "      <td>0.069694</td>\n",
       "      <td>0.095227</td>\n",
       "      <td>0.067491</td>\n",
       "      <td>...</td>\n",
       "      <td>0.077872</td>\n",
       "      <td>0.067491</td>\n",
       "      <td>0.060393</td>\n",
       "      <td>0.049341</td>\n",
       "      <td>0.055148</td>\n",
       "      <td>0.079783</td>\n",
       "      <td>0.112466</td>\n",
       "      <td>0.115077</td>\n",
       "      <td>0.098320</td>\n",
       "      <td>0.039026</td>\n",
       "    </tr>\n",
       "    <tr>\n",
       "      <th>min</th>\n",
       "      <td>0.000000</td>\n",
       "      <td>0.000000</td>\n",
       "      <td>0.000000</td>\n",
       "      <td>0.000000</td>\n",
       "      <td>0.000000</td>\n",
       "      <td>0.000000</td>\n",
       "      <td>0.000000</td>\n",
       "      <td>0.000000</td>\n",
       "      <td>0.000000</td>\n",
       "      <td>0.000000</td>\n",
       "      <td>...</td>\n",
       "      <td>0.000000</td>\n",
       "      <td>0.000000</td>\n",
       "      <td>0.000000</td>\n",
       "      <td>0.000000</td>\n",
       "      <td>0.000000</td>\n",
       "      <td>0.000000</td>\n",
       "      <td>0.000000</td>\n",
       "      <td>0.000000</td>\n",
       "      <td>0.000000</td>\n",
       "      <td>0.000000</td>\n",
       "    </tr>\n",
       "    <tr>\n",
       "      <th>25%</th>\n",
       "      <td>0.000000</td>\n",
       "      <td>0.000000</td>\n",
       "      <td>0.000000</td>\n",
       "      <td>0.000000</td>\n",
       "      <td>0.000000</td>\n",
       "      <td>0.000000</td>\n",
       "      <td>0.000000</td>\n",
       "      <td>0.000000</td>\n",
       "      <td>0.000000</td>\n",
       "      <td>0.000000</td>\n",
       "      <td>...</td>\n",
       "      <td>0.000000</td>\n",
       "      <td>0.000000</td>\n",
       "      <td>0.000000</td>\n",
       "      <td>0.000000</td>\n",
       "      <td>0.000000</td>\n",
       "      <td>0.000000</td>\n",
       "      <td>0.000000</td>\n",
       "      <td>0.000000</td>\n",
       "      <td>0.000000</td>\n",
       "      <td>0.000000</td>\n",
       "    </tr>\n",
       "    <tr>\n",
       "      <th>50%</th>\n",
       "      <td>0.000000</td>\n",
       "      <td>0.000000</td>\n",
       "      <td>0.000000</td>\n",
       "      <td>0.000000</td>\n",
       "      <td>0.000000</td>\n",
       "      <td>0.000000</td>\n",
       "      <td>0.000000</td>\n",
       "      <td>0.000000</td>\n",
       "      <td>0.000000</td>\n",
       "      <td>0.000000</td>\n",
       "      <td>...</td>\n",
       "      <td>0.000000</td>\n",
       "      <td>0.000000</td>\n",
       "      <td>0.000000</td>\n",
       "      <td>0.000000</td>\n",
       "      <td>0.000000</td>\n",
       "      <td>0.000000</td>\n",
       "      <td>0.000000</td>\n",
       "      <td>0.000000</td>\n",
       "      <td>0.000000</td>\n",
       "      <td>0.000000</td>\n",
       "    </tr>\n",
       "    <tr>\n",
       "      <th>75%</th>\n",
       "      <td>0.000000</td>\n",
       "      <td>0.000000</td>\n",
       "      <td>0.000000</td>\n",
       "      <td>0.000000</td>\n",
       "      <td>0.000000</td>\n",
       "      <td>0.000000</td>\n",
       "      <td>0.000000</td>\n",
       "      <td>0.000000</td>\n",
       "      <td>0.000000</td>\n",
       "      <td>0.000000</td>\n",
       "      <td>...</td>\n",
       "      <td>0.000000</td>\n",
       "      <td>0.000000</td>\n",
       "      <td>0.000000</td>\n",
       "      <td>0.000000</td>\n",
       "      <td>0.000000</td>\n",
       "      <td>0.000000</td>\n",
       "      <td>0.000000</td>\n",
       "      <td>0.000000</td>\n",
       "      <td>0.000000</td>\n",
       "      <td>0.000000</td>\n",
       "    </tr>\n",
       "    <tr>\n",
       "      <th>max</th>\n",
       "      <td>1.000000</td>\n",
       "      <td>1.000000</td>\n",
       "      <td>1.000000</td>\n",
       "      <td>1.000000</td>\n",
       "      <td>1.000000</td>\n",
       "      <td>1.000000</td>\n",
       "      <td>1.000000</td>\n",
       "      <td>1.000000</td>\n",
       "      <td>1.000000</td>\n",
       "      <td>1.000000</td>\n",
       "      <td>...</td>\n",
       "      <td>1.000000</td>\n",
       "      <td>1.000000</td>\n",
       "      <td>1.000000</td>\n",
       "      <td>1.000000</td>\n",
       "      <td>1.000000</td>\n",
       "      <td>1.000000</td>\n",
       "      <td>1.000000</td>\n",
       "      <td>1.000000</td>\n",
       "      <td>1.000000</td>\n",
       "      <td>1.000000</td>\n",
       "    </tr>\n",
       "  </tbody>\n",
       "</table>\n",
       "<p>8 rows × 1554 columns</p>\n",
       "</div>"
      ],
      "text/plain": [
       "              4            5            6            7            8     \\\n",
       "count  3279.000000  3279.000000  3279.000000  3279.000000  3279.000000   \n",
       "mean      0.004270     0.011589     0.004575     0.003355     0.003965   \n",
       "std       0.065212     0.107042     0.067491     0.057831     0.062850   \n",
       "min       0.000000     0.000000     0.000000     0.000000     0.000000   \n",
       "25%       0.000000     0.000000     0.000000     0.000000     0.000000   \n",
       "50%       0.000000     0.000000     0.000000     0.000000     0.000000   \n",
       "75%       0.000000     0.000000     0.000000     0.000000     0.000000   \n",
       "max       1.000000     1.000000     1.000000     1.000000     1.000000   \n",
       "\n",
       "              9            10           11           12           13    \\\n",
       "count  3279.000000  3279.000000  3279.000000  3279.000000  3279.000000   \n",
       "mean      0.011589     0.003355     0.004880     0.009149     0.004575   \n",
       "std       0.107042     0.057831     0.069694     0.095227     0.067491   \n",
       "min       0.000000     0.000000     0.000000     0.000000     0.000000   \n",
       "25%       0.000000     0.000000     0.000000     0.000000     0.000000   \n",
       "50%       0.000000     0.000000     0.000000     0.000000     0.000000   \n",
       "75%       0.000000     0.000000     0.000000     0.000000     0.000000   \n",
       "max       1.000000     1.000000     1.000000     1.000000     1.000000   \n",
       "\n",
       "          ...              1548         1549         1550         1551  \\\n",
       "count     ...       3279.000000  3279.000000  3279.000000  3279.000000   \n",
       "mean      ...          0.006099     0.004575     0.003660     0.002440   \n",
       "std       ...          0.077872     0.067491     0.060393     0.049341   \n",
       "min       ...          0.000000     0.000000     0.000000     0.000000   \n",
       "25%       ...          0.000000     0.000000     0.000000     0.000000   \n",
       "50%       ...          0.000000     0.000000     0.000000     0.000000   \n",
       "75%       ...          0.000000     0.000000     0.000000     0.000000   \n",
       "max       ...          1.000000     1.000000     1.000000     1.000000   \n",
       "\n",
       "              1552         1553         1554         1555         1556  \\\n",
       "count  3279.000000  3279.000000  3279.000000  3279.000000  3279.000000   \n",
       "mean      0.003050     0.006404     0.012809     0.013419     0.009759   \n",
       "std       0.055148     0.079783     0.112466     0.115077     0.098320   \n",
       "min       0.000000     0.000000     0.000000     0.000000     0.000000   \n",
       "25%       0.000000     0.000000     0.000000     0.000000     0.000000   \n",
       "50%       0.000000     0.000000     0.000000     0.000000     0.000000   \n",
       "75%       0.000000     0.000000     0.000000     0.000000     0.000000   \n",
       "max       1.000000     1.000000     1.000000     1.000000     1.000000   \n",
       "\n",
       "              1557  \n",
       "count  3279.000000  \n",
       "mean      0.001525  \n",
       "std       0.039026  \n",
       "min       0.000000  \n",
       "25%       0.000000  \n",
       "50%       0.000000  \n",
       "75%       0.000000  \n",
       "max       1.000000  \n",
       "\n",
       "[8 rows x 1554 columns]"
      ]
     },
     "execution_count": 68,
     "metadata": {},
     "output_type": "execute_result"
    }
   ],
   "source": [
    "# pd.read_csv()\n",
    "data = pd.read_csv(\"./data/ad-dataset/ad.data\", header=None)\n",
    "# data = pd.read_csv(\".\", delimiter= , header=)\n",
    "print('Shape   :'  , data.shape)\n",
    "print('Columns :',data.columns)\n",
    "# print(data.dtypes.head())\n",
    "data.describe()"
   ]
  },
  {
   "cell_type": "markdown",
   "metadata": {},
   "source": [
    "### 03 DataFrame 가공 1\n",
    "Slicing"
   ]
  },
  {
   "cell_type": "code",
   "execution_count": 69,
   "metadata": {},
   "outputs": [
    {
     "data": {
      "text/plain": [
       "0     125\n",
       "1     468\n",
       "2     230\n",
       "Name: 1, dtype: object"
      ]
     },
     "execution_count": 69,
     "metadata": {},
     "output_type": "execute_result"
    }
   ],
   "source": [
    "data[1].head(3)"
   ]
  },
  {
   "cell_type": "code",
   "execution_count": 70,
   "metadata": {},
   "outputs": [
    {
     "data": {
      "text/html": [
       "<div>\n",
       "<table border=\"1\" class=\"dataframe\">\n",
       "  <thead>\n",
       "    <tr style=\"text-align: right;\">\n",
       "      <th></th>\n",
       "      <th>0</th>\n",
       "      <th>1</th>\n",
       "      <th>2</th>\n",
       "      <th>3</th>\n",
       "      <th>4</th>\n",
       "      <th>5</th>\n",
       "      <th>6</th>\n",
       "      <th>7</th>\n",
       "      <th>8</th>\n",
       "      <th>9</th>\n",
       "      <th>...</th>\n",
       "      <th>1549</th>\n",
       "      <th>1550</th>\n",
       "      <th>1551</th>\n",
       "      <th>1552</th>\n",
       "      <th>1553</th>\n",
       "      <th>1554</th>\n",
       "      <th>1555</th>\n",
       "      <th>1556</th>\n",
       "      <th>1557</th>\n",
       "      <th>1558</th>\n",
       "    </tr>\n",
       "  </thead>\n",
       "  <tbody>\n",
       "    <tr>\n",
       "      <th>1</th>\n",
       "      <td>57</td>\n",
       "      <td>468</td>\n",
       "      <td>8.2105</td>\n",
       "      <td>1</td>\n",
       "      <td>0</td>\n",
       "      <td>0</td>\n",
       "      <td>0</td>\n",
       "      <td>0</td>\n",
       "      <td>0</td>\n",
       "      <td>0</td>\n",
       "      <td>...</td>\n",
       "      <td>0</td>\n",
       "      <td>0</td>\n",
       "      <td>0</td>\n",
       "      <td>0</td>\n",
       "      <td>0</td>\n",
       "      <td>0</td>\n",
       "      <td>0</td>\n",
       "      <td>0</td>\n",
       "      <td>0</td>\n",
       "      <td>ad.</td>\n",
       "    </tr>\n",
       "    <tr>\n",
       "      <th>2</th>\n",
       "      <td>33</td>\n",
       "      <td>230</td>\n",
       "      <td>6.9696</td>\n",
       "      <td>1</td>\n",
       "      <td>0</td>\n",
       "      <td>0</td>\n",
       "      <td>0</td>\n",
       "      <td>0</td>\n",
       "      <td>0</td>\n",
       "      <td>0</td>\n",
       "      <td>...</td>\n",
       "      <td>0</td>\n",
       "      <td>0</td>\n",
       "      <td>0</td>\n",
       "      <td>0</td>\n",
       "      <td>0</td>\n",
       "      <td>0</td>\n",
       "      <td>0</td>\n",
       "      <td>0</td>\n",
       "      <td>0</td>\n",
       "      <td>ad.</td>\n",
       "    </tr>\n",
       "  </tbody>\n",
       "</table>\n",
       "<p>2 rows × 1559 columns</p>\n",
       "</div>"
      ],
      "text/plain": [
       "   0     1       2    3     4     5     6     7     8     9     ...   1549  \\\n",
       "1    57   468  8.2105    1     0     0     0     0     0     0  ...      0   \n",
       "2    33   230  6.9696    1     0     0     0     0     0     0  ...      0   \n",
       "\n",
       "   1550  1551  1552  1553  1554  1555  1556  1557  1558  \n",
       "1     0     0     0     0     0     0     0     0   ad.  \n",
       "2     0     0     0     0     0     0     0     0   ad.  \n",
       "\n",
       "[2 rows x 1559 columns]"
      ]
     },
     "execution_count": 70,
     "metadata": {},
     "output_type": "execute_result"
    }
   ],
   "source": [
    "# Index 기준으로 slicing\n",
    "data[1:3]"
   ]
  },
  {
   "cell_type": "code",
   "execution_count": 71,
   "metadata": {},
   "outputs": [
    {
     "data": {
      "text/html": [
       "<div>\n",
       "<table border=\"1\" class=\"dataframe\">\n",
       "  <thead>\n",
       "    <tr style=\"text-align: right;\">\n",
       "      <th></th>\n",
       "      <th>1</th>\n",
       "      <th>3</th>\n",
       "    </tr>\n",
       "  </thead>\n",
       "  <tbody>\n",
       "    <tr>\n",
       "      <th>0</th>\n",
       "      <td>125</td>\n",
       "      <td>1</td>\n",
       "    </tr>\n",
       "    <tr>\n",
       "      <th>1</th>\n",
       "      <td>468</td>\n",
       "      <td>1</td>\n",
       "    </tr>\n",
       "    <tr>\n",
       "      <th>2</th>\n",
       "      <td>230</td>\n",
       "      <td>1</td>\n",
       "    </tr>\n",
       "    <tr>\n",
       "      <th>3</th>\n",
       "      <td>468</td>\n",
       "      <td>1</td>\n",
       "    </tr>\n",
       "  </tbody>\n",
       "</table>\n",
       "</div>"
      ],
      "text/plain": [
       "      1  3\n",
       "0   125  1\n",
       "1   468  1\n",
       "2   230  1\n",
       "3   468  1"
      ]
     },
     "execution_count": 71,
     "metadata": {},
     "output_type": "execute_result"
    }
   ],
   "source": [
    "# Column 기준으로 slicing\n",
    "data[[1,3]][:4]"
   ]
  },
  {
   "cell_type": "code",
   "execution_count": 72,
   "metadata": {},
   "outputs": [
    {
     "data": {
      "text/html": [
       "<div>\n",
       "<table border=\"1\" class=\"dataframe\">\n",
       "  <thead>\n",
       "    <tr style=\"text-align: right;\">\n",
       "      <th></th>\n",
       "      <th>0</th>\n",
       "      <th>1</th>\n",
       "      <th>2</th>\n",
       "      <th>3</th>\n",
       "      <th>4</th>\n",
       "      <th>5</th>\n",
       "      <th>6</th>\n",
       "      <th>7</th>\n",
       "      <th>8</th>\n",
       "      <th>9</th>\n",
       "      <th>...</th>\n",
       "      <th>1549</th>\n",
       "      <th>1550</th>\n",
       "      <th>1551</th>\n",
       "      <th>1552</th>\n",
       "      <th>1553</th>\n",
       "      <th>1554</th>\n",
       "      <th>1555</th>\n",
       "      <th>1556</th>\n",
       "      <th>1557</th>\n",
       "      <th>1558</th>\n",
       "    </tr>\n",
       "  </thead>\n",
       "  <tbody>\n",
       "    <tr>\n",
       "      <th>0</th>\n",
       "      <td>125</td>\n",
       "      <td>125</td>\n",
       "      <td>1.0</td>\n",
       "      <td>1</td>\n",
       "      <td>0</td>\n",
       "      <td>0</td>\n",
       "      <td>0</td>\n",
       "      <td>0</td>\n",
       "      <td>0</td>\n",
       "      <td>0</td>\n",
       "      <td>...</td>\n",
       "      <td>0</td>\n",
       "      <td>0</td>\n",
       "      <td>0</td>\n",
       "      <td>0</td>\n",
       "      <td>0</td>\n",
       "      <td>0</td>\n",
       "      <td>0</td>\n",
       "      <td>0</td>\n",
       "      <td>0</td>\n",
       "      <td>ad.</td>\n",
       "    </tr>\n",
       "    <tr>\n",
       "      <th>1</th>\n",
       "      <td>57</td>\n",
       "      <td>468</td>\n",
       "      <td>8.2105</td>\n",
       "      <td>1</td>\n",
       "      <td>0</td>\n",
       "      <td>0</td>\n",
       "      <td>0</td>\n",
       "      <td>0</td>\n",
       "      <td>0</td>\n",
       "      <td>0</td>\n",
       "      <td>...</td>\n",
       "      <td>0</td>\n",
       "      <td>0</td>\n",
       "      <td>0</td>\n",
       "      <td>0</td>\n",
       "      <td>0</td>\n",
       "      <td>0</td>\n",
       "      <td>0</td>\n",
       "      <td>0</td>\n",
       "      <td>0</td>\n",
       "      <td>ad.</td>\n",
       "    </tr>\n",
       "    <tr>\n",
       "      <th>2</th>\n",
       "      <td>33</td>\n",
       "      <td>230</td>\n",
       "      <td>6.9696</td>\n",
       "      <td>1</td>\n",
       "      <td>0</td>\n",
       "      <td>0</td>\n",
       "      <td>0</td>\n",
       "      <td>0</td>\n",
       "      <td>0</td>\n",
       "      <td>0</td>\n",
       "      <td>...</td>\n",
       "      <td>0</td>\n",
       "      <td>0</td>\n",
       "      <td>0</td>\n",
       "      <td>0</td>\n",
       "      <td>0</td>\n",
       "      <td>0</td>\n",
       "      <td>0</td>\n",
       "      <td>0</td>\n",
       "      <td>0</td>\n",
       "      <td>ad.</td>\n",
       "    </tr>\n",
       "    <tr>\n",
       "      <th>3</th>\n",
       "      <td>60</td>\n",
       "      <td>468</td>\n",
       "      <td>7.8</td>\n",
       "      <td>1</td>\n",
       "      <td>0</td>\n",
       "      <td>0</td>\n",
       "      <td>0</td>\n",
       "      <td>0</td>\n",
       "      <td>0</td>\n",
       "      <td>0</td>\n",
       "      <td>...</td>\n",
       "      <td>0</td>\n",
       "      <td>0</td>\n",
       "      <td>0</td>\n",
       "      <td>0</td>\n",
       "      <td>0</td>\n",
       "      <td>0</td>\n",
       "      <td>0</td>\n",
       "      <td>0</td>\n",
       "      <td>0</td>\n",
       "      <td>ad.</td>\n",
       "    </tr>\n",
       "  </tbody>\n",
       "</table>\n",
       "<p>4 rows × 1559 columns</p>\n",
       "</div>"
      ],
      "text/plain": [
       "   0     1       2    3     4     5     6     7     8     9     ...   1549  \\\n",
       "0   125   125     1.0    1     0     0     0     0     0     0  ...      0   \n",
       "1    57   468  8.2105    1     0     0     0     0     0     0  ...      0   \n",
       "2    33   230  6.9696    1     0     0     0     0     0     0  ...      0   \n",
       "3    60   468     7.8    1     0     0     0     0     0     0  ...      0   \n",
       "\n",
       "   1550  1551  1552  1553  1554  1555  1556  1557  1558  \n",
       "0     0     0     0     0     0     0     0     0   ad.  \n",
       "1     0     0     0     0     0     0     0     0   ad.  \n",
       "2     0     0     0     0     0     0     0     0   ad.  \n",
       "3     0     0     0     0     0     0     0     0   ad.  \n",
       "\n",
       "[4 rows x 1559 columns]"
      ]
     },
     "execution_count": 72,
     "metadata": {},
     "output_type": "execute_result"
    }
   ],
   "source": [
    "# Index 값을 입력\n",
    "data.ix[:3]"
   ]
  },
  {
   "cell_type": "code",
   "execution_count": 73,
   "metadata": {},
   "outputs": [
    {
     "data": {
      "text/html": [
       "<div>\n",
       "<table border=\"1\" class=\"dataframe\">\n",
       "  <thead>\n",
       "    <tr style=\"text-align: right;\">\n",
       "      <th></th>\n",
       "      <th>0</th>\n",
       "      <th>1</th>\n",
       "      <th>2</th>\n",
       "      <th>3</th>\n",
       "      <th>4</th>\n",
       "      <th>5</th>\n",
       "      <th>6</th>\n",
       "      <th>7</th>\n",
       "      <th>8</th>\n",
       "      <th>9</th>\n",
       "      <th>...</th>\n",
       "      <th>1549</th>\n",
       "      <th>1550</th>\n",
       "      <th>1551</th>\n",
       "      <th>1552</th>\n",
       "      <th>1553</th>\n",
       "      <th>1554</th>\n",
       "      <th>1555</th>\n",
       "      <th>1556</th>\n",
       "      <th>1557</th>\n",
       "      <th>1558</th>\n",
       "    </tr>\n",
       "  </thead>\n",
       "  <tbody>\n",
       "    <tr>\n",
       "      <th>0</th>\n",
       "      <td>125</td>\n",
       "      <td>125</td>\n",
       "      <td>1.0</td>\n",
       "      <td>1</td>\n",
       "      <td>0</td>\n",
       "      <td>0</td>\n",
       "      <td>0</td>\n",
       "      <td>0</td>\n",
       "      <td>0</td>\n",
       "      <td>0</td>\n",
       "      <td>...</td>\n",
       "      <td>0</td>\n",
       "      <td>0</td>\n",
       "      <td>0</td>\n",
       "      <td>0</td>\n",
       "      <td>0</td>\n",
       "      <td>0</td>\n",
       "      <td>0</td>\n",
       "      <td>0</td>\n",
       "      <td>0</td>\n",
       "      <td>ad.</td>\n",
       "    </tr>\n",
       "    <tr>\n",
       "      <th>1</th>\n",
       "      <td>57</td>\n",
       "      <td>468</td>\n",
       "      <td>8.2105</td>\n",
       "      <td>1</td>\n",
       "      <td>0</td>\n",
       "      <td>0</td>\n",
       "      <td>0</td>\n",
       "      <td>0</td>\n",
       "      <td>0</td>\n",
       "      <td>0</td>\n",
       "      <td>...</td>\n",
       "      <td>0</td>\n",
       "      <td>0</td>\n",
       "      <td>0</td>\n",
       "      <td>0</td>\n",
       "      <td>0</td>\n",
       "      <td>0</td>\n",
       "      <td>0</td>\n",
       "      <td>0</td>\n",
       "      <td>0</td>\n",
       "      <td>ad.</td>\n",
       "    </tr>\n",
       "    <tr>\n",
       "      <th>2</th>\n",
       "      <td>33</td>\n",
       "      <td>230</td>\n",
       "      <td>6.9696</td>\n",
       "      <td>1</td>\n",
       "      <td>0</td>\n",
       "      <td>0</td>\n",
       "      <td>0</td>\n",
       "      <td>0</td>\n",
       "      <td>0</td>\n",
       "      <td>0</td>\n",
       "      <td>...</td>\n",
       "      <td>0</td>\n",
       "      <td>0</td>\n",
       "      <td>0</td>\n",
       "      <td>0</td>\n",
       "      <td>0</td>\n",
       "      <td>0</td>\n",
       "      <td>0</td>\n",
       "      <td>0</td>\n",
       "      <td>0</td>\n",
       "      <td>ad.</td>\n",
       "    </tr>\n",
       "    <tr>\n",
       "      <th>3</th>\n",
       "      <td>60</td>\n",
       "      <td>468</td>\n",
       "      <td>7.8</td>\n",
       "      <td>1</td>\n",
       "      <td>0</td>\n",
       "      <td>0</td>\n",
       "      <td>0</td>\n",
       "      <td>0</td>\n",
       "      <td>0</td>\n",
       "      <td>0</td>\n",
       "      <td>...</td>\n",
       "      <td>0</td>\n",
       "      <td>0</td>\n",
       "      <td>0</td>\n",
       "      <td>0</td>\n",
       "      <td>0</td>\n",
       "      <td>0</td>\n",
       "      <td>0</td>\n",
       "      <td>0</td>\n",
       "      <td>0</td>\n",
       "      <td>ad.</td>\n",
       "    </tr>\n",
       "  </tbody>\n",
       "</table>\n",
       "<p>4 rows × 1559 columns</p>\n",
       "</div>"
      ],
      "text/plain": [
       "   0     1       2    3     4     5     6     7     8     9     ...   1549  \\\n",
       "0   125   125     1.0    1     0     0     0     0     0     0  ...      0   \n",
       "1    57   468  8.2105    1     0     0     0     0     0     0  ...      0   \n",
       "2    33   230  6.9696    1     0     0     0     0     0     0  ...      0   \n",
       "3    60   468     7.8    1     0     0     0     0     0     0  ...      0   \n",
       "\n",
       "   1550  1551  1552  1553  1554  1555  1556  1557  1558  \n",
       "0     0     0     0     0     0     0     0     0   ad.  \n",
       "1     0     0     0     0     0     0     0     0   ad.  \n",
       "2     0     0     0     0     0     0     0     0   ad.  \n",
       "3     0     0     0     0     0     0     0     0   ad.  \n",
       "\n",
       "[4 rows x 1559 columns]"
      ]
     },
     "execution_count": 73,
     "metadata": {},
     "output_type": "execute_result"
    }
   ],
   "source": [
    "data.loc[:3]"
   ]
  },
  {
   "cell_type": "code",
   "execution_count": 74,
   "metadata": {},
   "outputs": [
    {
     "data": {
      "text/html": [
       "<div>\n",
       "<table border=\"1\" class=\"dataframe\">\n",
       "  <thead>\n",
       "    <tr style=\"text-align: right;\">\n",
       "      <th></th>\n",
       "      <th>0</th>\n",
       "      <th>1</th>\n",
       "      <th>2</th>\n",
       "      <th>3</th>\n",
       "      <th>4</th>\n",
       "      <th>5</th>\n",
       "      <th>6</th>\n",
       "      <th>7</th>\n",
       "      <th>8</th>\n",
       "      <th>9</th>\n",
       "      <th>...</th>\n",
       "      <th>1549</th>\n",
       "      <th>1550</th>\n",
       "      <th>1551</th>\n",
       "      <th>1552</th>\n",
       "      <th>1553</th>\n",
       "      <th>1554</th>\n",
       "      <th>1555</th>\n",
       "      <th>1556</th>\n",
       "      <th>1557</th>\n",
       "      <th>1558</th>\n",
       "    </tr>\n",
       "  </thead>\n",
       "  <tbody>\n",
       "    <tr>\n",
       "      <th>0</th>\n",
       "      <td>125</td>\n",
       "      <td>125</td>\n",
       "      <td>1.0</td>\n",
       "      <td>1</td>\n",
       "      <td>0</td>\n",
       "      <td>0</td>\n",
       "      <td>0</td>\n",
       "      <td>0</td>\n",
       "      <td>0</td>\n",
       "      <td>0</td>\n",
       "      <td>...</td>\n",
       "      <td>0</td>\n",
       "      <td>0</td>\n",
       "      <td>0</td>\n",
       "      <td>0</td>\n",
       "      <td>0</td>\n",
       "      <td>0</td>\n",
       "      <td>0</td>\n",
       "      <td>0</td>\n",
       "      <td>0</td>\n",
       "      <td>ad.</td>\n",
       "    </tr>\n",
       "    <tr>\n",
       "      <th>1</th>\n",
       "      <td>57</td>\n",
       "      <td>468</td>\n",
       "      <td>8.2105</td>\n",
       "      <td>1</td>\n",
       "      <td>0</td>\n",
       "      <td>0</td>\n",
       "      <td>0</td>\n",
       "      <td>0</td>\n",
       "      <td>0</td>\n",
       "      <td>0</td>\n",
       "      <td>...</td>\n",
       "      <td>0</td>\n",
       "      <td>0</td>\n",
       "      <td>0</td>\n",
       "      <td>0</td>\n",
       "      <td>0</td>\n",
       "      <td>0</td>\n",
       "      <td>0</td>\n",
       "      <td>0</td>\n",
       "      <td>0</td>\n",
       "      <td>ad.</td>\n",
       "    </tr>\n",
       "    <tr>\n",
       "      <th>2</th>\n",
       "      <td>33</td>\n",
       "      <td>230</td>\n",
       "      <td>6.9696</td>\n",
       "      <td>1</td>\n",
       "      <td>0</td>\n",
       "      <td>0</td>\n",
       "      <td>0</td>\n",
       "      <td>0</td>\n",
       "      <td>0</td>\n",
       "      <td>0</td>\n",
       "      <td>...</td>\n",
       "      <td>0</td>\n",
       "      <td>0</td>\n",
       "      <td>0</td>\n",
       "      <td>0</td>\n",
       "      <td>0</td>\n",
       "      <td>0</td>\n",
       "      <td>0</td>\n",
       "      <td>0</td>\n",
       "      <td>0</td>\n",
       "      <td>ad.</td>\n",
       "    </tr>\n",
       "  </tbody>\n",
       "</table>\n",
       "<p>3 rows × 1559 columns</p>\n",
       "</div>"
      ],
      "text/plain": [
       "   0     1       2    3     4     5     6     7     8     9     ...   1549  \\\n",
       "0   125   125     1.0    1     0     0     0     0     0     0  ...      0   \n",
       "1    57   468  8.2105    1     0     0     0     0     0     0  ...      0   \n",
       "2    33   230  6.9696    1     0     0     0     0     0     0  ...      0   \n",
       "\n",
       "   1550  1551  1552  1553  1554  1555  1556  1557  1558  \n",
       "0     0     0     0     0     0     0     0     0   ad.  \n",
       "1     0     0     0     0     0     0     0     0   ad.  \n",
       "2     0     0     0     0     0     0     0     0   ad.  \n",
       "\n",
       "[3 rows x 1559 columns]"
      ]
     },
     "execution_count": 74,
     "metadata": {},
     "output_type": "execute_result"
    }
   ],
   "source": [
    "# Index 를 slicing\n",
    "data.iloc[:3]"
   ]
  },
  {
   "cell_type": "code",
   "execution_count": 75,
   "metadata": {
    "collapsed": true
   },
   "outputs": [],
   "source": [
    "# 특정 셀의 값을 변환\n",
    "data.ix[3,1] = 0\n",
    "# 특정 컬럼을 하나의 값으로 입력\n",
    "data[1547] = 0"
   ]
  },
  {
   "cell_type": "markdown",
   "metadata": {},
   "source": [
    "### 03 DataFrame 가공 2\n",
    "Editing Index"
   ]
  },
  {
   "cell_type": "code",
   "execution_count": 76,
   "metadata": {
    "collapsed": true
   },
   "outputs": [],
   "source": [
    "# Pandas.ix[] 로 인덱스 입력\n",
    "# data.ix[0] : 0번 Index를  Random한 값으로 입력 + ['ad.']  마지막 컬럼은 String\n",
    "import random\n",
    "data.ix[0] = [random.randint(0,1)  for r in range(1558)] + ['ad.']"
   ]
  },
  {
   "cell_type": "code",
   "execution_count": 77,
   "metadata": {
    "collapsed": true
   },
   "outputs": [],
   "source": [
    "# Pandas.series() 로 인덱스 입력\n",
    "row = [random.randint(0,1)   for r in range(1558)] + ['ad.']\n",
    "data = data.append(pd.Series(row, index = data.columns), ignore_index=True)"
   ]
  },
  {
   "cell_type": "code",
   "execution_count": 78,
   "metadata": {
    "collapsed": true
   },
   "outputs": [],
   "source": [
    "# Pandas.loc[ 마지막 index ] = value    로 인덱스 데이터 입력\n",
    "data.loc[len(data)] = row"
   ]
  },
  {
   "cell_type": "markdown",
   "metadata": {},
   "source": [
    "### 04 DataFrame 가공 3\n",
    "Editing column"
   ]
  },
  {
   "cell_type": "code",
   "execution_count": 79,
   "metadata": {},
   "outputs": [
    {
     "data": {
      "text/plain": [
       "Index([          0,           1,           2,           3,           4,\n",
       "                 5,           6,           7,           8,           9,\n",
       "       ...\n",
       "              1550,        1551,        1552,        1553,        1554,\n",
       "              1555,        1556,        1557,        1558, 'newcolumn'],\n",
       "      dtype='object', length=1560)"
      ]
     },
     "execution_count": 79,
     "metadata": {},
     "output_type": "execute_result"
    }
   ],
   "source": [
    "# 새로운 Column 삽입\n",
    "data['newcolumn'] = 'test value'\n",
    "data.columns"
   ]
  },
  {
   "cell_type": "code",
   "execution_count": 80,
   "metadata": {},
   "outputs": [
    {
     "data": {
      "text/plain": [
       "0    test value\n",
       "1    test value\n",
       "2    test value\n",
       "Name: newcolumn, dtype: object"
      ]
     },
     "execution_count": 80,
     "metadata": {},
     "output_type": "execute_result"
    }
   ],
   "source": [
    "data['newcolumn'].head(3)"
   ]
  },
  {
   "cell_type": "code",
   "execution_count": 81,
   "metadata": {},
   "outputs": [
    {
     "data": {
      "text/plain": [
       "Index([   0,    1,    2,    3,    4,    5,    6,    7,    8,    9,\n",
       "       ...\n",
       "       1549, 1550, 1551, 1552, 1553, 1554, 1555, 1556, 1557, 1558],\n",
       "      dtype='object', length=1559)"
      ]
     },
     "execution_count": 81,
     "metadata": {},
     "output_type": "execute_result"
    }
   ],
   "source": [
    "data = data.drop('newcolumn', 1)\n",
    "data.columns"
   ]
  },
  {
   "cell_type": "code",
   "execution_count": 82,
   "metadata": {},
   "outputs": [
    {
     "data": {
      "text/plain": [
       "0    False\n",
       "1    False\n",
       "2    False\n",
       "3    False\n",
       "4    False\n",
       "dtype: bool"
      ]
     },
     "execution_count": 82,
     "metadata": {},
     "output_type": "execute_result"
    }
   ],
   "source": [
    "# 데이터의 중복 여부를 확인\n",
    "data.duplicated().head()"
   ]
  },
  {
   "cell_type": "code",
   "execution_count": 83,
   "metadata": {},
   "outputs": [
    {
     "data": {
      "text/plain": [
       "0      0\n",
       "524    1\n",
       "Name: 300, dtype: int64"
      ]
     },
     "execution_count": 83,
     "metadata": {},
     "output_type": "execute_result"
    }
   ],
   "source": [
    "# 특정 index 에서 고유한 값만 출력\n",
    "data[300].drop_duplicates()"
   ]
  },
  {
   "cell_type": "code",
   "execution_count": 84,
   "metadata": {},
   "outputs": [
    {
     "data": {
      "text/plain": [
       "['ad.', 'nonad.']"
      ]
     },
     "execution_count": 84,
     "metadata": {},
     "output_type": "execute_result"
    }
   ],
   "source": [
    "data[1558].drop_duplicates().tolist()"
   ]
  },
  {
   "cell_type": "markdown",
   "metadata": {},
   "source": [
    "### 05 DataFrame 의 병합\n",
    "pandas"
   ]
  },
  {
   "cell_type": "code",
   "execution_count": 85,
   "metadata": {},
   "outputs": [
    {
     "data": {
      "text/plain": [
       "3281"
      ]
     },
     "execution_count": 85,
     "metadata": {},
     "output_type": "execute_result"
    }
   ],
   "source": [
    "len(data)"
   ]
  },
  {
   "cell_type": "code",
   "execution_count": 86,
   "metadata": {},
   "outputs": [
    {
     "data": {
      "text/plain": [
       "3283"
      ]
     },
     "execution_count": 86,
     "metadata": {},
     "output_type": "execute_result"
    }
   ],
   "source": [
    "data1 = pd.DataFrame(columns= [i  for i in range(1559)])\n",
    "data1.loc[len(data1)] = [ random.randint(0,1)  for r in range(1558)] + [1]\n",
    "data1.loc[len(data1)] = [ random.randint(0,1)  for r in range(1558)] + [1]\n",
    "\n",
    "# data 와 data1의 병합\n",
    "datatot = pd.concat([data[:], data1[:]])\n",
    "len(datatot)"
   ]
  },
  {
   "cell_type": "markdown",
   "metadata": {},
   "source": [
    "<br></br>\n",
    "## 4 Matplotlib"
   ]
  },
  {
   "cell_type": "markdown",
   "metadata": {},
   "source": [
    "### 01 line plot\n",
    "first example"
   ]
  },
  {
   "cell_type": "code",
   "execution_count": 87,
   "metadata": {
    "collapsed": true
   },
   "outputs": [],
   "source": [
    "%matplotlib inline \n",
    "import matplotlib.pyplot as plt"
   ]
  },
  {
   "cell_type": "code",
   "execution_count": 88,
   "metadata": {},
   "outputs": [
    {
     "data": {
      "image/png": "[encoded data removed]",
      "text/plain": [
       "<matplotlib.figure.Figure at 0x7fb9523de6a0>"
      ]
     },
     "metadata": {},
     "output_type": "display_data"
    }
   ],
   "source": [
    "# [y1, y2, y3, y4]   cf) X 는 1,2,3,4 자동으로 인덱싱\n",
    "plt.plot([10,2,10,5],color='green',label='line 1', linewidth=5) \n",
    "plt.axis([0,4, 0,15])\n",
    "plt.ylabel('y',fontsize=40)\n",
    "plt.xlabel('x',fontsize=40)\n",
    "# Graph 의  [ x축 범위 , y축 범위 ]\n",
    "plt.show()"
   ]
  },
  {
   "cell_type": "code",
   "execution_count": 89,
   "metadata": {},
   "outputs": [
    {
     "data": {
      "text/plain": [
       "<matplotlib.text.Text at 0x7fb95208f6d8>"
      ]
     },
     "execution_count": 89,
     "metadata": {},
     "output_type": "execute_result"
    },
    {
     "data": {
      "image/png": "[encoded data removed]",
      "text/plain": [
       "<matplotlib.figure.Figure at 0x7fb95206e198>"
      ]
     },
     "metadata": {},
     "output_type": "display_data"
    }
   ],
   "source": [
    "fig = plt.figure(figsize=(5,5))\n",
    "fig.suptitle('figure',fontsize=40)\n",
    "# ax = 1번그림 1 x 1 \n",
    "ax = fig.add_subplot(111)        \n",
    "ax.plot([10,5,2,4],color='green',label='line 1', linewidth=5)\n",
    "ax.set_xlabel('x',fontsize=40)\n",
    "ax.set_ylabel('y',fontsize=40)\n",
    "#fig.savefig('./img/figure.png')"
   ]
  },
  {
   "cell_type": "markdown",
   "metadata": {},
   "source": [
    "### 02 Multiple lines plot\n",
    "second example"
   ]
  },
  {
   "cell_type": "code",
   "execution_count": 90,
   "metadata": {},
   "outputs": [
    {
     "data": {
      "text/plain": [
       "<matplotlib.text.Text at 0x7fb951fa2588>"
      ]
     },
     "execution_count": 90,
     "metadata": {},
     "output_type": "execute_result"
    },
    {
     "data": {
      "image/png": "[encoded data removed]",
      "text/plain": [
       "<matplotlib.figure.Figure at 0x7fb951fbb908>"
      ]
     },
     "metadata": {},
     "output_type": "display_data"
    }
   ],
   "source": [
    "import numpy as np\n",
    "fig = plt.figure(figsize=(5,5))\n",
    "ax = fig.add_subplot(111)\n",
    "r = np.arange(0., 10., 0.3)\n",
    "p1, = ax.plot(r, r, 'r--',label='line 1', linewidth=10)        # line Graph\n",
    "p2, = ax.plot(r, r**0.5, 'bs',label='line 2', linewidth=10)    # log Graph\n",
    "p3, = ax.plot(r,np.sin(r),'g^', label='line 3', markersize=10) # SIN() Graph\n",
    "handles, labels = ax.get_legend_handles_labels()   # 객체의 핸들과 레이어 목록을 반환 \n",
    "ax.legend(handles, labels,fontsize=20)\n",
    "ax.set_xlabel('x',fontsize=20)\n",
    "ax.set_ylabel('y',fontsize=20)\n",
    "fig.suptitle('figure 1',fontsize=20)\n",
    "#fig.savefig('./img.figure_multiplelines.png')"
   ]
  },
  {
   "cell_type": "markdown",
   "metadata": {},
   "source": [
    "### 03 scatter plot with random points\n",
    "matplotlib"
   ]
  },
  {
   "cell_type": "code",
   "execution_count": 91,
   "metadata": {},
   "outputs": [
    {
     "data": {
      "text/plain": [
       "<matplotlib.text.Text at 0x7fb951ef9e80>"
      ]
     },
     "execution_count": 91,
     "metadata": {},
     "output_type": "execute_result"
    },
    {
     "data": {
      "image/png": "[encoded data removed]",
      "text/plain": [
       "<matplotlib.figure.Figure at 0x7fb951fc17b8>"
      ]
     },
     "metadata": {},
     "output_type": "display_data"
    }
   ],
   "source": [
    "colors = ['b', 'c', 'y', 'm', 'r']\n",
    "fig = plt.figure()\n",
    "ax = fig.add_subplot(111)\n",
    "ax.scatter(np.random.random(10), np.random.random(10), marker='x', color=colors[0])\n",
    "p1 = ax.scatter(np.random.random(10), np.random.random(10), marker='x', color=colors[0],s=50)\n",
    "p2 = ax.scatter(np.random.random(10), np.random.random(10), marker='o', color=colors[1],s=50)\n",
    "p3 = ax.scatter(np.random.random(10), np.random.random(10), marker='o', color=colors[2],s=50)\n",
    "ax.legend((p1,p2,p3),('points 1','points 2','points 3'),fontsize=20)\n",
    "ax.set_xlabel('x',fontsize=40)\n",
    "ax.set_ylabel('y',fontsize=40)\n",
    "#fig.savefig('./img/figure_scatterplot.png')"
   ]
  }
 ],
 "metadata": {
  "kernelspec": {
   "display_name": "Python 3",
   "language": "python",
   "name": "python3"
  },
  "language_info": {
   "codemirror_mode": {
    "name": "ipython",
    "version": 3
   },
   "file_extension": ".py",
   "mimetype": "text/x-python",
   "name": "python",
   "nbconvert_exporter": "python",
   "pygments_lexer": "ipython3",
   "version": "3.6.1"
  }
 },
 "nbformat": 4,
 "nbformat_minor": 2
}
