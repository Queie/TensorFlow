{
 "cells": [
  {
   "cell_type": "markdown",
   "metadata": {},
   "source": [
    "# chapter 5 - Recommendation Systems\n",
    "추천 시스템\n",
    "1. 협업 필터링 (CF) Collaborative Filtering \n",
    "2. 콘텐츠 기반 필터링 (CBF) Content-based Filtering\n",
    "\n",
    "기타 접근방법\n",
    "1. 연관 룰 association rules\n",
    "2. $Log$ 우도 the log-likelihood method\n",
    "3. 하이브리드 hybrid methods"
   ]
  },
  {
   "cell_type": "markdown",
   "metadata": {},
   "source": [
    "<br></br>\n",
    "## 1 유틸리티 행렬\n",
    "Utility matrix 추천시스템에 사용되는 계량척도 시스템\n",
    "\n",
    "평점 사용자 $i$가 아이템 $j$를 평가한 사용자 평가목록 : $ r_{ij}$ "
   ]
  },
  {
   "cell_type": "markdown",
   "metadata": {},
   "source": [
    "### 01 데이터 수집 및 전처리\n",
    "import Csv files "
   ]
  },
  {
   "cell_type": "code",
   "execution_count": 14,
   "metadata": {},
   "outputs": [
    {
     "data": {
      "text/html": [
       "<div>\n",
       "<table border=\"1\" class=\"dataframe\">\n",
       "  <thead>\n",
       "    <tr style=\"text-align: right;\">\n",
       "      <th></th>\n",
       "      <th>0</th>\n",
       "      <th>1</th>\n",
       "      <th>2</th>\n",
       "      <th>3</th>\n",
       "    </tr>\n",
       "  </thead>\n",
       "  <tbody>\n",
       "    <tr>\n",
       "      <th>0</th>\n",
       "      <td>196</td>\n",
       "      <td>242</td>\n",
       "      <td>3</td>\n",
       "      <td>881250949</td>\n",
       "    </tr>\n",
       "    <tr>\n",
       "      <th>1</th>\n",
       "      <td>186</td>\n",
       "      <td>302</td>\n",
       "      <td>3</td>\n",
       "      <td>891717742</td>\n",
       "    </tr>\n",
       "  </tbody>\n",
       "</table>\n",
       "</div>"
      ],
      "text/plain": [
       "     0    1  2          3\n",
       "0  196  242  3  881250949\n",
       "1  186  302  3  891717742"
      ]
     },
     "execution_count": 14,
     "metadata": {},
     "output_type": "execute_result"
    }
   ],
   "source": [
    "import numpy as np\n",
    "import pandas as pd\n",
    "from time import time\n",
    "from scipy import linalg\n",
    "from collections import defaultdict\n",
    "import copy, collections, math\n",
    "\n",
    "# 사용자 평점 데이터 불러오기\n",
    "df = pd.read_csv('./data/ml-100k/u.data', sep='\\t', header=None)\n",
    "movies_rated  = list(df[1]) \n",
    "counts = collections.Counter(movies_rated)\n",
    "df.head(2)"
   ]
  },
  {
   "cell_type": "code",
   "execution_count": 15,
   "metadata": {},
   "outputs": [
    {
     "data": {
      "text/html": [
       "<div>\n",
       "<table border=\"1\" class=\"dataframe\">\n",
       "  <thead>\n",
       "    <tr style=\"text-align: right;\">\n",
       "      <th></th>\n",
       "      <th>0</th>\n",
       "      <th>1</th>\n",
       "      <th>2</th>\n",
       "      <th>3</th>\n",
       "      <th>4</th>\n",
       "      <th>5</th>\n",
       "      <th>6</th>\n",
       "      <th>7</th>\n",
       "      <th>8</th>\n",
       "      <th>9</th>\n",
       "      <th>...</th>\n",
       "      <th>14</th>\n",
       "      <th>15</th>\n",
       "      <th>16</th>\n",
       "      <th>17</th>\n",
       "      <th>18</th>\n",
       "      <th>19</th>\n",
       "      <th>20</th>\n",
       "      <th>21</th>\n",
       "      <th>22</th>\n",
       "      <th>23</th>\n",
       "    </tr>\n",
       "  </thead>\n",
       "  <tbody>\n",
       "    <tr>\n",
       "      <th>0</th>\n",
       "      <td>1</td>\n",
       "      <td>Toy Story (1995)</td>\n",
       "      <td>01-Jan-1995</td>\n",
       "      <td>NaN</td>\n",
       "      <td>http://us.imdb.com/M/title-exact?Toy%20Story%2...</td>\n",
       "      <td>0</td>\n",
       "      <td>0</td>\n",
       "      <td>0</td>\n",
       "      <td>1</td>\n",
       "      <td>1</td>\n",
       "      <td>...</td>\n",
       "      <td>0</td>\n",
       "      <td>0</td>\n",
       "      <td>0</td>\n",
       "      <td>0</td>\n",
       "      <td>0</td>\n",
       "      <td>0</td>\n",
       "      <td>0</td>\n",
       "      <td>0</td>\n",
       "      <td>0</td>\n",
       "      <td>0</td>\n",
       "    </tr>\n",
       "    <tr>\n",
       "      <th>1</th>\n",
       "      <td>2</td>\n",
       "      <td>GoldenEye (1995)</td>\n",
       "      <td>01-Jan-1995</td>\n",
       "      <td>NaN</td>\n",
       "      <td>http://us.imdb.com/M/title-exact?GoldenEye%20(...</td>\n",
       "      <td>0</td>\n",
       "      <td>1</td>\n",
       "      <td>1</td>\n",
       "      <td>0</td>\n",
       "      <td>0</td>\n",
       "      <td>...</td>\n",
       "      <td>0</td>\n",
       "      <td>0</td>\n",
       "      <td>0</td>\n",
       "      <td>0</td>\n",
       "      <td>0</td>\n",
       "      <td>0</td>\n",
       "      <td>0</td>\n",
       "      <td>1</td>\n",
       "      <td>0</td>\n",
       "      <td>0</td>\n",
       "    </tr>\n",
       "  </tbody>\n",
       "</table>\n",
       "<p>2 rows × 24 columns</p>\n",
       "</div>"
      ],
      "text/plain": [
       "   0                 1            2   3   \\\n",
       "0   1  Toy Story (1995)  01-Jan-1995 NaN   \n",
       "1   2  GoldenEye (1995)  01-Jan-1995 NaN   \n",
       "\n",
       "                                                  4   5   6   7   8   9  ...  \\\n",
       "0  http://us.imdb.com/M/title-exact?Toy%20Story%2...   0   0   0   1   1 ...   \n",
       "1  http://us.imdb.com/M/title-exact?GoldenEye%20(...   0   1   1   0   0 ...   \n",
       "\n",
       "   14  15  16  17  18  19  20  21  22  23  \n",
       "0   0   0   0   0   0   0   0   0   0   0  \n",
       "1   0   0   0   0   0   0   0   1   0   0  \n",
       "\n",
       "[2 rows x 24 columns]"
      ]
     },
     "execution_count": 15,
     "metadata": {},
     "output_type": "execute_result"
    }
   ],
   "source": [
    "# https://stackoverflow.com/questions/18171739/unicodedecodeerror-when-reading-csv-file-in-pandas-with-python\n",
    "# 데이터 영화목록 불러오기\n",
    "df_info = pd.read_csv('./data/ml-100k/u.item', \n",
    "                      sep='|', header=None, encoding = \"ISO-8859-1\")\n",
    "# 영화목록 추출 (index 라인 번호를 제목 뒤에 덧붙임)\n",
    "movie_list = [df_info[1].tolist()[ index_num ] + ';' + str(index_num+1) \n",
    "              for index_num in range(len(df_info[1].tolist())) ]\n",
    "df_info.head(2)"
   ]
  },
  {
   "cell_type": "code",
   "execution_count": 20,
   "metadata": {},
   "outputs": [
    {
     "name": "stdout",
     "output_type": "stream",
     "text": [
      "(0, 1683)\n"
     ]
    },
    {
     "data": {
      "text/html": [
       "<div>\n",
       "<table border=\"1\" class=\"dataframe\">\n",
       "  <thead>\n",
       "    <tr style=\"text-align: right;\">\n",
       "      <th></th>\n",
       "      <th>user</th>\n",
       "      <th>Toy Story (1995);1</th>\n",
       "      <th>GoldenEye (1995);2</th>\n",
       "      <th>Four Rooms (1995);3</th>\n",
       "      <th>Get Shorty (1995);4</th>\n",
       "      <th>Copycat (1995);5</th>\n",
       "    </tr>\n",
       "  </thead>\n",
       "  <tbody>\n",
       "  </tbody>\n",
       "</table>\n",
       "</div>"
      ],
      "text/plain": [
       "Empty DataFrame\n",
       "Columns: [user, Toy Story (1995);1, GoldenEye (1995);2, Four Rooms (1995);3, Get Shorty (1995);4, Copycat (1995);5]\n",
       "Index: []"
      ]
     },
     "execution_count": 20,
     "metadata": {},
     "output_type": "execute_result"
    }
   ],
   "source": [
    "df_out = pd.DataFrame(columns=['user']+movie_list)\n",
    "print(df_out.shape)\n",
    "df_out.ix[:,:6]  # 영화의 목록을 컬럼으로 생성"
   ]
  },
  {
   "cell_type": "code",
   "execution_count": null,
   "metadata": {
    "collapsed": true
   },
   "outputs": [],
   "source": [
    "min_ratings = 50  # 작성자 리뷰중 50개 이하만 기록된 영화 데이터는 제거\n",
    "num_users  = len(df[0].drop_duplicates().tolist()) # 전체 사용자 수  \n",
    "num_movies = len(movie_list) # 전체 영화 수\n"
   ]
  },
  {
   "cell_type": "code",
   "execution_count": 21,
   "metadata": {},
   "outputs": [
    {
     "name": "stdout",
     "output_type": "stream",
     "text": [
      "31.0997 sec\n",
      "(942, 604)\n"
     ]
    },
    {
     "data": {
      "text/html": [
       "<div>\n",
       "<table border=\"1\" class=\"dataframe\">\n",
       "  <thead>\n",
       "    <tr style=\"text-align: right;\">\n",
       "      <th></th>\n",
       "      <th>user</th>\n",
       "      <th>Toy Story (1995);1</th>\n",
       "      <th>GoldenEye (1995);2</th>\n",
       "      <th>Four Rooms (1995);3</th>\n",
       "      <th>Get Shorty (1995);4</th>\n",
       "      <th>Copycat (1995);5</th>\n",
       "      <th>Twelve Monkeys (1995);7</th>\n",
       "    </tr>\n",
       "  </thead>\n",
       "  <tbody>\n",
       "    <tr>\n",
       "      <th>1</th>\n",
       "      <td>1.0</td>\n",
       "      <td>5.0</td>\n",
       "      <td>3.0</td>\n",
       "      <td>4.0</td>\n",
       "      <td>3.0</td>\n",
       "      <td>3.0</td>\n",
       "      <td>4.0</td>\n",
       "    </tr>\n",
       "    <tr>\n",
       "      <th>2</th>\n",
       "      <td>2.0</td>\n",
       "      <td>4.0</td>\n",
       "      <td>0.0</td>\n",
       "      <td>0.0</td>\n",
       "      <td>0.0</td>\n",
       "      <td>0.0</td>\n",
       "      <td>0.0</td>\n",
       "    </tr>\n",
       "    <tr>\n",
       "      <th>3</th>\n",
       "      <td>3.0</td>\n",
       "      <td>0.0</td>\n",
       "      <td>0.0</td>\n",
       "      <td>0.0</td>\n",
       "      <td>0.0</td>\n",
       "      <td>0.0</td>\n",
       "      <td>0.0</td>\n",
       "    </tr>\n",
       "  </tbody>\n",
       "</table>\n",
       "</div>"
      ],
      "text/plain": [
       "   user  Toy Story (1995);1  GoldenEye (1995);2  Four Rooms (1995);3  \\\n",
       "1   1.0                 5.0                 3.0                  4.0   \n",
       "2   2.0                 4.0                 0.0                  0.0   \n",
       "3   3.0                 0.0                 0.0                  0.0   \n",
       "\n",
       "   Get Shorty (1995);4  Copycat (1995);5  Twelve Monkeys (1995);7  \n",
       "1                  3.0               3.0                      4.0  \n",
       "2                  0.0               0.0                      0.0  \n",
       "3                  0.0               0.0                      0.0  "
      ]
     },
     "execution_count": 21,
     "metadata": {},
     "output_type": "execute_result"
    }
   ],
   "source": [
    "to_removelist = []; t0 = time()\n",
    "for i in range(1, num_users):\n",
    "    tmp_movielist = [0 for j in range(num_movies)]\n",
    "    df_tmp = df[df[0] == i]\n",
    "\n",
    "    for k in df_tmp.index:\n",
    "        if counts[ df_tmp.ix[k][1] ] >= min_ratings:\n",
    "            tmp_movielist[ df_tmp.ix[k][1] -1 ] = df_tmp.ix[k][2]\n",
    "        else: to_removelist.append(df_tmp.ix[k][1])\n",
    "    df_out.loc[i] = [i] + tmp_movielist   # df의 사용자 리뷰 데이터를 df_out 에 첨부\n",
    "\n",
    "to_remove_list = list(set(to_removelist))\n",
    "df_out.drop(df_out.columns[ to_removelist ], axis = 1, inplace = True)\n",
    "df_out.to_csv('data/utilitymatrix.csv', index = None)\n",
    "print(round(time()-t0,4),'sec'); print(df_out.shape); df_out.iloc[:3,:7]"
   ]
  },
  {
   "cell_type": "code",
   "execution_count": 22,
   "metadata": {
    "collapsed": true
   },
   "outputs": [],
   "source": [
    "# 01 내용 정리\n",
    "# 총 1683개의 영화에 대한 개별 사용자의 평점을 첨부한다\n",
    "# 50개 이하의 평점이 기록된 영화는 제거되어, 최종 604개의 영화기록이 정제된다"
   ]
  },
  {
   "cell_type": "markdown",
   "metadata": {},
   "source": [
    "### 02 결측치 처리\n",
    "NaN 결측치는, '대체'(imputation)의 방법으로 초기화 한다\n",
    "\n",
    "대체 (imputation) : <strong>사용자의 평균 평점</strong>과 <strong>영화별 평균 평점</strong>을 대체에 사용한다."
   ]
  },
  {
   "cell_type": "code",
   "execution_count": 12,
   "metadata": {
    "collapsed": true
   },
   "outputs": [],
   "source": [
    "def imputation(inp,Ri):\n",
    "    Ri = Ri.astype(float)\n",
    "    def userav():\n",
    "        for i in range(len(Ri)):\n",
    "            Ri[i][Ri[i] == 0] = sum( Ri[i] ) / float(len(Ri[i][Ri[i] > 0]))\n",
    "        return Ri\n",
    "    def itemav():\n",
    "        for i in range(len(Ri[0])):\n",
    "            Ri[:, i][Ri[:, i] == 0] = sum(Ri[:,i])/float(len(Ri[:, i][Ri[:, i] > 0]))\n",
    "        return Ri            \n",
    "    switch = {'useraverage' : userav() ,'itemaverage' : itemav() }\n",
    "    return switch[inp]"
   ]
  },
  {
   "cell_type": "code",
   "execution_count": 23,
   "metadata": {
    "collapsed": true
   },
   "outputs": [],
   "source": [
    "# 유틸리티 행렬 R은\n",
    "# 사용자는 N명이고, 아이템은 M개가 된다"
   ]
  },
  {
   "cell_type": "markdown",
   "metadata": {},
   "source": [
    "<br></br>\n",
    "## 2 유사도 척도\n",
    "벡터 $X$와 $Y$의 유사도를 계산하기 위한 척도\n",
    "1. 코사인 유사도 Cosine similarity \n",
    "$$ s(x,y) = \\frac{\\sqrt{\\sum x_i y_i}}{\\sqrt{\\sum x_i^2}\\sqrt{\\sum y_i^2}} $$\n",
    "2. 피어슨 상관관계 Pearson correlation\n",
    "$$ s(x,y) = \\frac{\\sqrt{\\sum (x_i - \\bar x)(y_i - \\bar y)}}\n",
    "{\\sqrt{\\sum (x_i - \\bar x)^2}\\sqrt{\\sum (y_i - \\bar y)^2}} $$\n",
    "\n",
    "두 척도의 평균이 0인경우, 일치하게 된다"
   ]
  },
  {
   "cell_type": "code",
   "execution_count": 24,
   "metadata": {
    "collapsed": true
   },
   "outputs": [],
   "source": [
    "# scipy를 활용한 유사도 척도 함수\n",
    "from scipy.stats import pearsonr\n",
    "from scipy.spatial.distance import cosine \n",
    "def similarity(x,y,metric='cos'):\n",
    "    if metric == 'cos':\n",
    "        return 1.-cosine(x,y)   # 코사인 유사도를 출력\n",
    "    else:\n",
    "        return pearsonr(x,y)[0] # 피어슨 상관계수를 출력"
   ]
  },
  {
   "cell_type": "markdown",
   "metadata": {},
   "source": [
    "<br></br>\n",
    "## 3 협업 필터링 방법\n",
    "<h4><strong>Collaborative Filtering methods</strong></h4>\n",
    "\"자신과 비슷한 사람들은, 좋아하는 아이템을 공유한다\"를 기반으로 한다\n",
    "\n",
    "이는 사용자의 수많은 데이터를 필요로 해서 발생하는 <strong>Cold Start</strong>\n",
    "\n",
    "(반대로 <strong>가용 데이터 부족</strong>의 <strong>Warm Start</strong>가 있다)가 문제가 되고 있다\n",
    "\n",
    "이를 극복하기 위하여, <strong>CF</strong>와 <strong>CBF의 하이브리드</strong> 방식이 제안된다\n",
    "\n",
    "(콘텐츠의 내부적 분류로써, 사용자의 데이터를 더 세분화 한 데이터로 분석을 한다)\n",
    "<h4><strong>콘텐츠 기반 알고리즘의 이슈</strong></h4>\n",
    "공통이슈로 <strong>'확장성(Scalability)'</strong>이 언급되는데\n",
    "\n",
    "이는 사용자와 아이템 갯수에 비례하여 연산량이 급증하는 문제를 말한다(<strong>병렬처리</strong>가 필요)\n",
    "\n",
    "반면 아이템 갯수가 작은경우에는 <strong>희소성(Sparsity)</strong> 문제가 생긴다(<strong>대체</strong>의 방법으로 해결\n"
   ]
  },
  {
   "cell_type": "markdown",
   "metadata": {},
   "source": [
    "<h4>1. <strong>메모리 기반의 협업 필터링</strong> Memory-based Collaborative Filtering</h4> \n",
    "<strong>유틸리티 행렬</strong>을 사용하여 아이템의 유사도를 계산한다"
   ]
  },
  {
   "cell_type": "markdown",
   "metadata": {},
   "source": [
    "<h4>2. <strong>사용자 기반 협업 필터링</strong> User-based Collaborative Filtering</h4>\n",
    "<strong> K-NN 알고리즘</strong>으로, 유사 사용자들의 평점을 찾은 뒤 \n",
    "\n",
    "<strong>가중 평균</strong>으로,누락 평점 대신에 사용된다\n",
    "1. 사용자 $i$와 <strong>평가되지 않은 아이템 $j$</strong>를 특정\n",
    "2. <strong>유사도 척도 $s$</strong>를 사용, $j$아이템에 유사평점을 준 사용자 $K$를 찾는다 ($20 < K < 50$)\n",
    "3. $K$들의 평점을 <strong>가중평균</strong>하여, 사용자 $i$의 평점을 예측한다\n",
    "4. 균질적인 평점을 비교하기 위하여, <strong>평점분포를 정규화</strong> 한다\n",
    "5. 예측평균이 1~5 기본 척도값 이외가 나온경우, 최소값은 1, 최대값은 5로 조정"
   ]
  },
  {
   "cell_type": "code",
   "execution_count": 15,
   "metadata": {
    "collapsed": true
   },
   "outputs": [],
   "source": [
    "def CF_userbased(u_vec, K, data, indxs = False):\n",
    "    def FindKNeighbours(r, data, K):\n",
    "        neighs, cnt = [], 0\n",
    "        for u in range(len(data)):\n",
    "            if data[u,r] > 0  and  cnt < K:\n",
    "                neighs.append(data[u])\n",
    "                cnt += 1 \n",
    "            elif cnt == K: break\n",
    "        return np.array(neighs)\n",
    "\n",
    "    def CalcRating(u_vec, r, neighs):\n",
    "        rating, den = 0., 0.\n",
    "        for j in range(len(neighs)):\n",
    "            rating += neighs[j][-1] * float(neighs[j][r] - neighs[j][neighs[j] > 0][:-1].mean())\n",
    "            den += abs(neighs[j][-1])\n",
    "        if den > 0:    rating = np.round(u_vec[u_vec>0].mean()+(rating/den),0)\n",
    "        else:          rating = np.round(u_vec[u_vec>0].mean(),0)\n",
    "        if rating > 5: return 5.\n",
    "        elif rating<1: return 1.\n",
    "        return rating \n",
    "\n",
    "    data = data.astype(float)\n",
    "    nrows, ncols = len(data), len(data[0])\n",
    "    data_sim = np.zeros((nrows,ncols+1))\n",
    "    data_sim[:,:-1] = data\n",
    "\n",
    "    # calc similarities:\n",
    "    for u in range(nrows):\n",
    "        if np.array_equal(data_sim[u, :-1], u_vec) == False: \n",
    "            data_sim[u,ncols] = sim(data_sim[u,:-1],u_vec,'pearson')\n",
    "        else:\n",
    "            data_sim[u,ncols] = 0.\n",
    "\n",
    "    #order by similarity:\n",
    "    data_sim =data_sim[data_sim[:,ncols].argsort()][::-1]\n",
    "    #find the K users for each item not rated:\n",
    "    u_rec = np.zeros(len(u_vec))\n",
    "    for r in xrange(ncols):\n",
    "        if u_vec[r]==0:\n",
    "            neighs = FindKNeighbours(r,data_sim,K)\n",
    "            # calc the predicted ratin\n",
    "            u_rec[r] = CalcRating(u_vec,r,neighs)\n",
    "\n",
    "    #take out the rated movies\n",
    "    if indxs:\n",
    "        seenindxs = [indx for indx in xrange(len(u_vec)) if u_vec[indx]>0]\n",
    "        u_rec[seenindxs] = -1\n",
    "        recsvec = np.argsort(u_rec)[::-1][np.argsort(u_rec)>0]\n",
    "        return recsvec    \n",
    "    return u_rec"
   ]
  },
  {
   "cell_type": "code",
   "execution_count": null,
   "metadata": {
    "collapsed": true
   },
   "outputs": [],
   "source": [
    "# 위 함수 사용해본 결과\n",
    "# 피어슨 상관관계가 조금 더 결과가 좋은데, 사용자의 평균평점을 제외한채 사용하기 때문으로 보인다"
   ]
  },
  {
   "cell_type": "markdown",
   "metadata": {},
   "source": [
    "<h4>2. <strong>아이템 기반의 협업 필터링</strong> Item-based Collaborative Filtering</h4> \n",
    "<strong>아이템에 대해 유사도가 측정</strong>된다는 점을 제외하고는 개념적으로, 사용자기반과 동일하다\n",
    "1. <strong>유사도 측정치 $s$</strong>를 사용하여, 사용자 $i$가 평가한 아이템과 가장 <strong>비슷한 아이템을 $K$개</strong> 찾는다\n",
    "2. $K$개 아이템 평점을 가중평균하여 예측평점으로 계산한다\n",
    "$$ P_{ij} = \\frac{\\sum S(j,k)r_{ik}}{|\\sum{S(j,k)}|} $$\n",
    "\n",
    "유사도 측정결과 음수도 가능하므로, <strong>가중 평균의 유효성을 높이기 위해서</strong> 양수값들만의 가중평균을 사용하면 더 효과적이다"
   ]
  },
  {
   "cell_type": "code",
   "execution_count": null,
   "metadata": {
    "collapsed": true
   },
   "outputs": [],
   "source": [
    "class CF_itembased(object):\n",
    "    def __init__(self,data):\n",
    "        #calc item similarities matrix\n",
    "        nitems = len(data[0])\n",
    "        self.data = data\n",
    "        self.simmatrix = np.zeros((nitems,nitems))\n",
    "        for i in xrange(nitems):\n",
    "            for j in xrange(nitems):\n",
    "                if j>=i: # tri-angular matrix\n",
    "                    self.simmatrix[i,j] = sim(data[:,i],data[:,j])\n",
    "                else: self.simmatrix[i,j] = self.simmatrix[j,i]\n",
    "\n",
    "    def GetKSimItemsperUser(self,r,K,u_vec):\n",
    "        items = np.argsort(self.simmatrix[r])[::-1]\n",
    "        items = items[items!=r]\n",
    "        cnt=0\n",
    "        neighitems = []\n",
    "        for i in items:\n",
    "            if u_vec[i]>0 and cnt<K:\n",
    "                neighitems.append(i)\n",
    "                cnt+=1\n",
    "            elif cnt==K: break\n",
    "        return neighitems\n",
    "        \n",
    "    def CalcRating(self,r,u_vec,neighitems):\n",
    "        rating = 0.\n",
    "        den = 0.\n",
    "        for i in neighitems:\n",
    "            rating +=  self.simmatrix[r,i]*u_vec[i]\n",
    "            den += abs(self.simmatrix[r,i])\n",
    "        if den>0:\n",
    "            rating = np.round(rating/den,0)\n",
    "        else:\n",
    "            rating = np.round(self.data[:,r][self.data[:,r]>0].mean(),0)\n",
    "        return rating\n",
    "        \n",
    "    def CalcRatings(self,u_vec,K,indxs=False):\n",
    "        #u_rec = copy.copy(u_vec)\n",
    "        u_rec = np.zeros(len(u_vec))\n",
    "        for r in xrange(len(u_vec)):\n",
    "            if u_vec[r]==0:\n",
    "                neighitems = self.GetKSimItemsperUser(r,K,u_vec)\n",
    "                #calc predicted rating\n",
    "                u_rec[r] = self.CalcRating(r,u_vec,neighitems)\n",
    "        if indxs:\n",
    "            #take out the rated movies\n",
    "            seenindxs = [indx for indx in xrange(len(u_vec)) if u_vec[indx]>0]\n",
    "            u_rec[seenindxs]=-1\n",
    "            recsvec = np.argsort(u_rec)[::-1][np.argsort(u_rec)>0]        \n",
    "            return recsvec\n",
    "        return u_rec"
   ]
  },
  {
   "cell_type": "code",
   "execution_count": null,
   "metadata": {
    "collapsed": true
   },
   "outputs": [],
   "source": [
    "# 클래스 내용 정리\n",
    "# simmatrix로 아이템 유사도 행렬을 계산한다\n",
    "# 아이템의 사용자 평점이 없는 경우, CalcRatings로 '가중평균 평점'을 예측을 한다\n",
    "# GetKSimItemsperUsers는 '사용자가 평가하지 않은 아이템과 유사도가 높은 아이템' 중\n",
    "# 사용자가 과거에 평가했던 K개의 아이템을 찾는다\n",
    "# 이웃을 찾을 수 없는 경우는, 아이템의 평균평점으로 설정한다\n",
    "# u_vec 는 사용자 평점 벡터로, 유틸리티 행렬의 행 벡터다"
   ]
  }
 ],
 "metadata": {
  "kernelspec": {
   "display_name": "Python 3",
   "language": "python",
   "name": "python3"
  },
  "language_info": {
   "codemirror_mode": {
    "name": "ipython",
    "version": 3
   },
   "file_extension": ".py",
   "mimetype": "text/x-python",
   "name": "python",
   "nbconvert_exporter": "python",
   "pygments_lexer": "ipython3",
   "version": "3.6.1"
  }
 },
 "nbformat": 4,
 "nbformat_minor": 2
}
