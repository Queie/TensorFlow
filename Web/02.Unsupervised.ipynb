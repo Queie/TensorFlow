{
 "cells": [
  {
   "cell_type": "markdown",
   "metadata": {},
   "source": [
    "# ch2 Unsupervised Learning (자율학습)\n",
    "- Mark수식 https://math.meta.stackexchange.com/questions/5020/mathjax-basic-tutorial-and-quick-reference \n",
    "- numpy 함수해설 http://blog.naver.com/PostView.nhn?blogId=wjddudwo209&logNo=220681277809&categoryNo=75&parentCategoryNo=0&viewDate=&currentPage=1&postListTopCurrentPage=1&from=postView"
   ]
  },
  {
   "cell_type": "markdown",
   "metadata": {},
   "source": [
    "## 1 Clustering Algorithms (군집화 알고리즘)\n",
    "- 데이터를 여러 부분집함으로 재구성\n",
    "- 데이터 포인트 간의 Similarity를 정량화에 따른 군집화\n",
    " 1. distribution Method 확률분포방식\n",
    " 2. centroid Method 중심방식\n",
    " 3. density Method 밀도방식\n",
    " 4. hierachical Method 계층방식"
   ]
  },
  {
   "cell_type": "markdown",
   "metadata": {},
   "source": [
    "### 01 distribution Method 확률분포방식"
   ]
  },
  {
   "cell_type": "markdown",
   "metadata": {},
   "source": [
    "#### 1) EM 알고리즘 (기댓값 최대화 알고리즘) \n",
    "- <strong>$X^i$</strong> 와 연관된 <strong>'가우시안'구성요소 $Z^i$(은닉변수)</strong>를 찾는 <strong>자율 알고리즘</strong>\n",
    "- E : <strong>Log 우도(log likelihood)</strong> 함수를 생성 (log 는 '오목함수'에 해당)\n",
    "- M : E를 최대화 하기 위한 <strong>'파라미터'</strong> 값을 다시 계산한다"
   ]
  },
  {
   "cell_type": "markdown",
   "metadata": {},
   "source": [
    "#### 2) 가우시안 혼합 (가우시안의 대표 모델 : 정규분포)\n",
    "- 전체 데이터 집합에 대해 <strong>'정규분포'</strong> 모델로 만든다 \n",
    "\n",
    "<img src=\"./img/emodel.png\" align=\"left\"></br></br>"
   ]
  },
  {
   "cell_type": "markdown",
   "metadata": {
    "collapsed": true
   },
   "source": [
    "EM 알고리즘은 반복적인(iterative) 방법을 이용하여 값을 추정하게 되는데 GMM(가우시안혼합모델) 에서는 이를 다음과 같이 처리한다.</br>\n",
    "<br/>(출처 : http://norman3.github.io/prml/docs/chapter09/2.html)\n",
    "\n",
    "1. Init-Step : 그림 (a) 와 같이 임의의 값으로 평균과, 분산을 초기화한다.\n",
    "2. E-Step : 현재 파라미터의 값을 사용하여 사후 확률 γ(znk) (responsibilities) 를 구한다. (그림 (b))\n",
    "3. M-Step : E-Step 에서 계산한 사후 확률 값을 이용하여 MLE를 통한 평균, 분산, 혼합 계수의 값을 다시 추정한다. (그림 (c))\n",
    "4. iterative : 수렴 조건이 만족할 때까지 E-Step 과 M-Step 을 계속 반복 (그림 (d),(e),(f))\n",
    "  - 보통 EM 알고리즘이 K-means 알고리즘에 비해 반복 횟수가 많다.\n",
    "  - 때문에 K-means 알고리즘을 돌려 적절한 초기값을 설정한 뒤에 다시 수행하는 경우가 많다.\n",
    "  - 앞서 설명한 대로 혼합 모델에서는 특이점 문제가 발생하지 않도록 주의를 기울여야 한다\n",
    "  - 가우시안 분포에 한 점만 쏠리지 않도록 해야 한다.\n",
    "5. EM 알고리즘은 <strong>전역 최적해(global solution)를</strong> 보장하지 않는다. 따라서 <strong>지역 최적해(local solution)</strong> 만을 얻을 수 있다."
   ]
  },
  {
   "cell_type": "markdown",
   "metadata": {},
   "source": [
    "### 02 centroid method 중심방식\n",
    "- 군집의 중심과 포인트 간 최소거리를 찾는 방식\n",
    "\n",
    "1. K-mean : <strong>로이드 알고리즘</strong>으로 <strong>유클리드 놈</strong> 거리를 최소화\n",
    "    2. K-medians clusting : <strong>실제 데이터 포인트를 중심</strong>으로 군집의 중앙을 연산\n",
    "\n",
    "#### K-mean\n",
    "- <strong>Voronoi diagram (보로노이 다이어그램)</strong> : <strong>들로네 삼각분할</strong> (포인트 간의 내각이 최대가 되는 분할)의 외접원 중심을 연결한 면의분할 </br>\n",
    "- E : <strong>유클리드 제곱거리 $ d = \\sqrt{(x2-x1)^2} $ </strong> 의 <strong>최솟값 d</strong> 를 찾는 중심 인덱스를 찾는다</br>\n",
    "- M : 중심 j 별로 dij를 갖는 포인트 평균이 중심 j의 값이 되도록 평균을 다시 계산</br>\n",
    "- K-mean 알고리즘을 여러번 반복 : 볼록함수(convex function) 가 아니므로 최솟값을 보장할 수 없어서 반복실행\n",
    "\n",
    "<img src = \"./img/kmean.gif\" align=\"left\">"
   ]
  },
  {
   "cell_type": "markdown",
   "metadata": {},
   "source": [
    "### 03 density method 밀도방식\n",
    "- 밀도 기반 공간 군집화 방식을 활용 : 밀도가 특정조건 만족시 연결로 간주\n",
    "- 밀도가 낮은 영역 : 경계 | 노이즈로 인식\n",
    "- 밀도가 높은 영역 : 군집과 밀접\n",
    "\n",
    "####  mean-shift 평균이동 \n",
    "- <strong>$ f(x^i)$</strong>  의 최댓값\n",
    "- 데이터집합에 대한 <strong> 밀도 커널 함수</strong> 의 <strong>지역최댓값</strong>을 찾는 <strong>비모수적 알고리즘</strong>\n",
    "- <strong> 지역최댓값</strong>  : 군집의 중심\n",
    "- <strong> 최댓값의 개수</strong>  : 군집의 개수\n",
    "- <strong> h(대역폭)</strong>  : 유일한 파라미터를 현명하게 조절해야 한다"
   ]
  },
  {
   "cell_type": "markdown",
   "metadata": {},
   "source": [
    "### 04 hierachical Method 계층방식\n",
    "- <strong>분할방식</strong> : <strong>전체를 하나</strong>군집 $ >> $ 유사하지 않은 집단을 군집으로 <strong>분할</strong> (<strong>각 포인트가 하나의 군집</strong>이 될때까지 분할을 반복)\n",
    "- <strong>병합방식</strong> : <strong>포인트별 하나</strong>군집 $ >> $ <strong>모든 데이터가 포함된 하나의 군집</strong>이 될때까지 반복\n",
    "- 포인트간 결합조건 linkage criteria\n",
    "  1. single linkage 단일결합 : 임의 요소간 최소거리\n",
    "  2. complete linkage 완전결합 : 임의 요소간 최대거라\n",
    "  3. average linkage 평균결합 : 임의 요소간 평균거리 $$ d(c1,c2)={1 \\over |N1||N2|} \\sum\\sum d(c1,c2) $$   $$(|N1||N2|는 c1,c2의 요소갯수 )$$\n",
    "  4. ward algorithm 와드 알고리즘 : <strong>분산 측정치 $\\Delta (c1,c2) $의 최소 증가</strong>를 목표 (이질성이 증가하지 않게 파티션을 병합)\n",
    "- 유클리드 거리함수를 가장 많이활용\n",
    "  $$ d(c1,c2) = \\sqrt{\\sum(c1-c2)^2} $$ "
   ]
  },
  {
   "cell_type": "markdown",
   "metadata": {},
   "source": [
    "## 2 군집화 방법의 훈련과 비교\n",
    "\n",
    "평균1 = [10,0] , 평균2 = [0,10], 공분산 = $\\begin{bmatrix}3 & 1\\\\1 & 4\\\\\\end{bmatrix}$ 인 정규분포"
   ]
  },
  {
   "cell_type": "markdown",
   "metadata": {},
   "source": [
    "### 01 Drawing Graph & add Noise\n",
    "https://matplotlib.org/examples/color/colormaps_reference.html"
   ]
  },
  {
   "cell_type": "code",
   "execution_count": 1,
   "metadata": {
    "collapsed": true
   },
   "outputs": [],
   "source": [
    "%matplotlib inline\n",
    "import matplotlib.pyplot as plt\n",
    "import numpy as np\n",
    "np.random.seed(4711)"
   ]
  },
  {
   "cell_type": "code",
   "execution_count": 2,
   "metadata": {
    "collapsed": true
   },
   "outputs": [],
   "source": [
    "# Create Data\n",
    "c1 = np.random.multivariate_normal([10,0],[[3,1],[1,4]], size=[100,]) # [평균], [ 공분산 ], size = 인덱스\n",
    "c2 = np.random.multivariate_normal([0,10],[[3,1],[1,4]], size=[100,]) # [평균], [ 공분산 ], size = 인덱스"
   ]
  },
  {
   "cell_type": "code",
   "execution_count": 3,
   "metadata": {},
   "outputs": [
    {
     "name": "stdout",
     "output_type": "stream",
     "text": [
      "(100, 2)\n"
     ]
    },
    {
     "data": {
      "text/plain": [
       "array([[  9.21188389,  -0.15188589],\n",
       "       [  8.88937431,  -0.33937464],\n",
       "       [ 10.76840064,   2.95244645],\n",
       "       [  8.24213268,   1.29094802],\n",
       "       [  5.7967009 ,  -5.83776714]])"
      ]
     },
     "execution_count": 3,
     "metadata": {},
     "output_type": "execute_result"
    }
   ],
   "source": [
    "print(c1.shape)\n",
    "c1[:5]"
   ]
  },
  {
   "cell_type": "code",
   "execution_count": 4,
   "metadata": {
    "scrolled": true
   },
   "outputs": [
    {
     "name": "stdout",
     "output_type": "stream",
     "text": [
      "(100, 2)\n"
     ]
    },
    {
     "data": {
      "text/plain": [
       "array([[  0.79934286,   9.28762072],\n",
       "       [ -0.84336487,   9.14768305],\n",
       "       [  2.68289165,  10.28231698],\n",
       "       [ -1.9257809 ,   6.28116282],\n",
       "       [  0.06693313,  13.13071039]])"
      ]
     },
     "execution_count": 4,
     "metadata": {},
     "output_type": "execute_result"
    }
   ],
   "source": [
    "print(c2.shape)\n",
    "c2[:5]"
   ]
  },
  {
   "cell_type": "code",
   "execution_count": 5,
   "metadata": {
    "collapsed": true
   },
   "outputs": [],
   "source": [
    "# 정규분포를 따르는 노이즈 추가 (현실적 효과 추가)\n",
    "np.random.seed(1)\n",
    "noise1x = np.random.normal(0,2,100)\n",
    "noise1y = np.random.normal(0,8,100)\n",
    "noise2  = np.random.normal(0,8,100)\n",
    "c1[:,0] += noise1x\n",
    "c1[:,1] += noise1y\n",
    "c2[:,1] += noise2"
   ]
  },
  {
   "cell_type": "code",
   "execution_count": 6,
   "metadata": {},
   "outputs": [
    {
     "data": {
      "text/plain": [
       "<matplotlib.text.Text at 0x7f8502583208>"
      ]
     },
     "execution_count": 6,
     "metadata": {},
     "output_type": "execute_result"
    },
    {
     "data": {
      "image/png": "[encoded data removed]",
      "text/plain": [
       "<matplotlib.figure.Figure at 0x7f85048c3b38>"
      ]
     },
     "metadata": {},
     "output_type": "display_data"
    }
   ],
   "source": [
    "# Drawing Graph\n",
    "fig = plt.figure(figsize = (6,5))\n",
    "ax  = fig.add_subplot(111)\n",
    "ax.set_xlabel('x', fontsize=30)\n",
    "ax.set_ylabel('y', fontsize=30)\n",
    "pp1 = ax.scatter(c1[:,0], c1[:,1], cmap='prism', s=10, color= 'r')\n",
    "pp2 = ax.scatter(c2[:,0], c1[:,1], cmap='prism', s=10, color= 'g')\n",
    "ax.legend((pp1,pp2), ('class1','class2'), fontsize=15)  # tuple로 이름을 특정한다\n",
    "fig.suptitle('classes', fontsize=30)\n",
    "# fig.savefig('./img/classes.png')"
   ]
  },
  {
   "cell_type": "markdown",
   "metadata": {},
   "source": [
    "### 02 Drawing Graph & add Noise 2\n",
    "정규분포를 따르는 Noise 추가\n",
    "\n",
    "K 평균함수와 Gaussian 혼합모델 (클러스터 개수 지정이 필요 n_clusters = 2)\n",
    "\n",
    "평균이동 알고리즘 대역폭 MeanShift(bandwidth=7)"
   ]
  },
  {
   "cell_type": "code",
   "execution_count": 7,
   "metadata": {
    "scrolled": false
   },
   "outputs": [
    {
     "data": {
      "text/plain": [
       "(200, 2)"
      ]
     },
     "execution_count": 7,
     "metadata": {},
     "output_type": "execute_result"
    }
   ],
   "source": [
    "% matplotlib inline\n",
    "from sklearn import mixture\n",
    "from sklearn.cluster import KMeans, MeanShift\n",
    "from scipy.cluster.hierarchy import linkage, fcluster\n",
    "import matplotlib.pyplot as plt\n",
    "import numpy as np\n",
    "\n",
    "# 자료분석을 위한 데이터를 정의\n",
    "X = np.concatenate((c1,c2),)\n",
    "X.shape"
   ]
  },
  {
   "cell_type": "code",
   "execution_count": 8,
   "metadata": {},
   "outputs": [
    {
     "name": "stdout",
     "output_type": "stream",
     "text": [
      "(200,)\n"
     ]
    }
   ],
   "source": [
    "# K-mean 설정 1 (클러스터 갯수를 지정)\n",
    "kmeans = KMeans(n_clusters = 2) \n",
    "kmeans.fit(X)\n",
    "pred_kmeans = kmeans.labels_\n",
    "print(pred_kmeans.shape)"
   ]
  },
  {
   "cell_type": "code",
   "execution_count": 9,
   "metadata": {
    "collapsed": true
   },
   "outputs": [],
   "source": [
    "# K-mean 설정 2 (클러스터 갯수를 지정)\n",
    "# mean-shift (평균이동 알고리즘 (대역폭 지정))\n",
    "ms = MeanShift(bandwidth=7)\n",
    "ms.fit(X)\n",
    "pred_ms = ms.labels_"
   ]
  },
  {
   "cell_type": "code",
   "execution_count": 10,
   "metadata": {
    "collapsed": true
   },
   "outputs": [],
   "source": [
    "# 가우시안 혼합모델 설정 1 (클러스터 갯수를 지정)\n",
    "# http://scikit-learn.org/stable/modules/generated/sklearn.mixture.GaussianMixture.html\n",
    "#g = mixture.GMM(n_components= 2)\n",
    "g = mixture.GaussianMixture(n_components= 2)\n",
    "g.fit(X)\n",
    "pred_gmm = g.predict(X)"
   ]
  },
  {
   "cell_type": "code",
   "execution_count": 11,
   "metadata": {
    "collapsed": true
   },
   "outputs": [],
   "source": [
    "# 가우시안 혼합모델 설정 2\n",
    "# hierarchical(계층적) : generate the linkage matrix\n",
    "# ward 연결방법 (유사도 측정방법) >> http://rfriend.tistory.com/227\n",
    "Z = linkage(X,'ward')\n",
    "max_d = 110\n",
    "pred_h = fcluster(Z, max_d, criterion='distance')"
   ]
  },
  {
   "cell_type": "code",
   "execution_count": 12,
   "metadata": {},
   "outputs": [
    {
     "data": {
      "text/plain": [
       "<matplotlib.figure.Figure at 0x7f84f5346128>"
      ]
     },
     "metadata": {},
     "output_type": "display_data"
    },
    {
     "data": {
      "image/png": "[encoded data removed]",
      "text/plain": [
       "<matplotlib.figure.Figure at 0x7f84f5346198>"
      ]
     },
     "metadata": {},
     "output_type": "display_data"
    }
   ],
   "source": [
    "# plt를 reset & 4개의 그림판을 준비\n",
    "fig = plt.figure(figsize = (6,8))#; fig.clf()\n",
    "fig, ((axis1, axis2), (axis3, axis4)) = plt.subplots(2,2, sharex='col', sharey='row')\n",
    "# plot points with cluster dependent colors\n",
    "axis1.scatter(X[:,0], X[:,1], c = kmeans.labels_, cmap='prism',s = 10)\n",
    "axis1.set_ylabel('y',fontsize = 40); axis1.set_title('k-means',fontsize = 20)\n",
    "# K-mean 설정 2 (클러스터 갯수를 지정)\n",
    "axis2.scatter(X[:,0], X[:,1], c = pred_ms, cmap = 'prism',s = 10)\n",
    "axis2.set_title('mean-shift', fontsize = 20)\n",
    "# 가우시안 혼합모델 설정 1 (클러스터 갯수를 지정)\n",
    "axis3.scatter(X[:,0], X[:,1] ,c = pred_gmm, cmap='prism', s = 10)\n",
    "axis3.set_xlabel('x', fontsize = 40); axis3.set_ylabel('y', fontsize = 40)\n",
    "axis3.set_title('Gaussian mixture', fontsize = 20)\n",
    "# 가우시안 혼합모델 설정 2\n",
    "axis4.scatter(X[:,0], X[:,1], c = pred_h, cmap='prism',s = 10)\n",
    "axis4.set_xlabel('x',fontsize = 40); axis4.set_title('hierarchical ward', fontsize = 20)\n",
    "fig.set_size_inches(10, 6)"
   ]
  },
  {
   "cell_type": "markdown",
   "metadata": {},
   "source": [
    "### 03 Hierarchical Clustering Dendrogram (계층 군집화 계통수 구하기)\n",
    "'last p' 최종 병합 클러스터 갯수가 기준\n",
    "\n",
    "p = 12. 최종 병합 클러스터 갯수 "
   ]
  },
  {
   "cell_type": "code",
   "execution_count": 13,
   "metadata": {
    "collapsed": true
   },
   "outputs": [],
   "source": [
    "# 분석할 데이터 자료형\n",
    "from scipy.cluster.hierarchy import linkage\n",
    "X = np.concatenate((c1,c2),)\n",
    "Z = linkage(X,'ward')"
   ]
  },
  {
   "cell_type": "code",
   "execution_count": 14,
   "metadata": {},
   "outputs": [
    {
     "data": {
      "image/png": "[encoded data removed]",
      "text/plain": [
       "<matplotlib.figure.Figure at 0x7f84f533aa90>"
      ]
     },
     "metadata": {},
     "output_type": "display_data"
    }
   ],
   "source": [
    "from scipy.cluster.hierarchy import dendrogram\n",
    "#reset plt\n",
    "fig.clf()\n",
    "fig = plt.figure(figsize=(8,7))\n",
    "plt.title('Hierarchical Clustering Dendrogram',fontsize=20)\n",
    "plt.xlabel('data point index (or cluster index)',fontsize=20)\n",
    "plt.ylabel('distance (ward)',fontsize=20)\n",
    "dendrogram(Z, p = 12,          # p = 12. 최종 병합 클러스터 갯수 \n",
    "    truncate_mode = 'lastp',   # 'last p' 최종 병합 클러스터 갯수를 기준 \n",
    "    leaf_font_size = 12.,       \n",
    "    leaf_rotation = 45.,       # 하단 index label의 표시각도\n",
    "    show_contracted = True,)\n",
    "plt.show()\n",
    "# fig.savefig('./img/dendrogram.png')"
   ]
  },
  {
   "cell_type": "markdown",
   "metadata": {},
   "source": [
    "### 04 군집화 알고리즘의 품질 측정\n",
    "- gaussian mixture model measures 이 가장 강건한 방식에 해당\n",
    "- 동질성 점수 ( 0 < res[0] < 1) : 각 군집이 하나의 클래스 여부를 측정\n",
    "- 완전성 점수 ( 0 < res[1] < 1) : 하나의 클래스 모든 요소가 같은 군집 배정여부를 정량화\n",
    "- 실루엣 점수 ( -1< res[2] < 1) : '소속 군집맴버 유사성'과 '타 군집의 맴버간 유사성' 계산 (1에 가까울수록 유사군집이 잘 분류)"
   ]
  },
  {
   "cell_type": "code",
   "execution_count": 15,
   "metadata": {},
   "outputs": [],
   "source": [
    "# 자료분석을 위한 데이터를 정의\n",
    "l1 = np.zeros(100)\n",
    "l2 = np.ones(100)\n",
    "labels = np.concatenate((l1,l2),)"
   ]
  },
  {
   "cell_type": "code",
   "execution_count": 16,
   "metadata": {},
   "outputs": [
    {
     "name": "stdout",
     "output_type": "stream",
     "text": [
      "res : (0.25910415427998396, 0.25940362642941056, 0.25925380387232266)\n",
      "<<kmeans measures 측정>> \n",
      "homogeneity (동질성): 0.25910415428 \n",
      "completeness (완전성): 0.259403626429 \n",
      "v-measure (V 척도): 0.259253803872 \n",
      "silhouette score (실루엣 점수): 0.409469791511\n"
     ]
    }
   ],
   "source": [
    "from sklearn.metrics import homogeneity_completeness_v_measure\n",
    "from sklearn.metrics import silhouette_score\n",
    "\n",
    "# K-meand 의 품질측정\n",
    "res = homogeneity_completeness_v_measure(labels, pred_kmeans)\n",
    "print('res :', res)\n",
    "print ('<<kmeans measures 측정>>', \n",
    "       '\\nhomogeneity (동질성):',res[0],\n",
    "       '\\ncompleteness (완전성):',res[1],\n",
    "       '\\nv-measure (V 척도):',res[2],\n",
    "       '\\nsilhouette score (실루엣 점수):',silhouette_score(X,pred_kmeans))"
   ]
  },
  {
   "cell_type": "code",
   "execution_count": 17,
   "metadata": {},
   "outputs": [
    {
     "name": "stdout",
     "output_type": "stream",
     "text": [
      "<<mean-shift measures 측정>> \n",
      "homogeneity (동질성): 0.657373750073 \n",
      "completeness (완전성): 0.662158204648 \n",
      "v-measure (V 척도): 0.65975730345 \n",
      "silhouette score (실루엣 점수): 0.40117810244\n"
     ]
    }
   ],
   "source": [
    "# Mean-shift 의 품질측정\n",
    "res = homogeneity_completeness_v_measure(labels,pred_ms)\n",
    "print ('<<mean-shift measures 측정>>', \n",
    "       '\\nhomogeneity (동질성):',res[0],\n",
    "       '\\ncompleteness (완전성):',res[1],\n",
    "       '\\nv-measure (V 척도):',res[2],\n",
    "       '\\nsilhouette score (실루엣 점수):',silhouette_score(X,pred_ms))"
   ]
  },
  {
   "cell_type": "code",
   "execution_count": 18,
   "metadata": {},
   "outputs": [
    {
     "name": "stdout",
     "output_type": "stream",
     "text": [
      "<<gaussian mixture model measures>> \n",
      "homogeneity (동질성): 0.928991170482 \n",
      "completeness (완전성): 0.929259315921 \n",
      "v-measure (V 척도): 0.929125223855 \n",
      "silhouette score (실루엣 점수): 0.379655885665\n"
     ]
    }
   ],
   "source": [
    "# 가오시안 혼합모델 품질측정\n",
    "res = homogeneity_completeness_v_measure(labels,pred_gmm)\n",
    "print ('<<gaussian mixture model measures>>',\n",
    "       '\\nhomogeneity (동질성):',res[0],\n",
    "       '\\ncompleteness (완전성):',res[1],\n",
    "       '\\nv-measure (V 척도):',res[2],\n",
    "       '\\nsilhouette score (실루엣 점수):',silhouette_score(X,pred_gmm))"
   ]
  },
  {
   "cell_type": "code",
   "execution_count": 19,
   "metadata": {},
   "outputs": [
    {
     "name": "stdout",
     "output_type": "stream",
     "text": [
      "<<hierarchical (ward) measures>> \n",
      "homogeneity (동질성): 0.302367273976 \n",
      "completeness (완전성): 0.359334499592 \n",
      "v-measure (V 척도): 0.32839867574 \n",
      "silhouette score (실루엣 점수): 0.356446705251\n"
     ]
    }
   ],
   "source": [
    "# 계층도 모델 품질측정\n",
    "res = homogeneity_completeness_v_measure(labels,pred_h)\n",
    "print ('<<hierarchical (ward) measures>>',\n",
    "       '\\nhomogeneity (동질성):',res[0],\n",
    "       '\\ncompleteness (완전성):',res[1],\n",
    "       '\\nv-measure (V 척도):',res[2],\n",
    "       '\\nsilhouette score (실루엣 점수):',silhouette_score(X,pred_h))"
   ]
  },
  {
   "cell_type": "markdown",
   "metadata": {},
   "source": [
    "## 3 차원의 축소 1\n",
    "PCA 주성분 분석 (Principal Component Analysis)\n",
    "\n",
    "주성분 : 다차원 데이터들의 분산이 가장 큰 방향벡터 (출처: http://darkpgmr.tistory.com/110)\n",
    "\n",
    "데이터 집합의, 주요 정보가 포함된 부분 공간을 식별\n",
    "  1. 비상관 차원 (uncorrelated)이 큰 데이터 묶음을 찾음\n",
    "  2. 상관(correlation)이 크면 <strong>한개의 변수 관계</strong>로 변환해 차원을 축소한다"
   ]
  },
  {
   "cell_type": "markdown",
   "metadata": {},
   "source": [
    "### 차원의 축소\n",
    "복잡도는 줄이면서, 중요한 정보는 유지하는 광범위한 기술 유형 https://wikidocs.net/7646\n",
    "\n",
    "<strong>차원의 저주</strong> : 관찰한 데이터의 차원이 증가할수록 volume의 증가로 빈 공간이 많아진다. 그만큼 불필요한 데이터가 남아있게 됨\n",
    "\n",
    " $$ Y = wx_1 + wx_2 + b $$\n",
    " $$ Y = 2x_1 + wx_2 + b $$"
   ]
  },
  {
   "cell_type": "markdown",
   "metadata": {},
   "source": [
    "    차원 축소란  x와 y로 된 이차원의 데이터를 1차원으로 줄이는 방법을 말합니다.\n",
    "    이때, 기존의 x, y 차원 대신에 데이터를 표현할 새로운 1차원 벡터를 구하기 위해, PCA에서는 고유벡터를 새로운 차원의 벡터로 사용합니다..\n",
    "    고유벡터를 사용하는 이유는 데이터들을 투영했을 때 분산이 가장 큰 직선으로 데이터를 가장 잘 설명하기 때문입니다.\n",
    "    이 예시에서 고유벡터는 y =2x 상에 있는 임의의 벡터가 될 것 같습니다. (고유 벡터는 유일하지 않고 여러 표현이 가능하니까요)"
   ]
  },
  {
   "cell_type": "markdown",
   "metadata": {},
   "source": [
    "CHAPTER 6 … 차원 축소_151  # 알고리즘 중심의 머신러닝 가이드 파이썬 코드 기반 \n",
    "\n",
    "    6.1 선형 판별 분석 153\n",
    "    6.2 주성분 분석 157\n",
    "    6.2.1 다층 퍼셉트론과의 관계 161\n",
    "    6.2.2 커널 PCA 162\n",
    "    6.3 인자 분석 164\n",
    "    6.4 독립 성분 분석 167\n",
    "    6.5 지역 선형 임베딩 168\n",
    "    6.6 아이소맵 172\n",
    "    6.6.1 다차원 스케일링 172\n",
    "    ㆍ 더 읽을거리 174\n",
    "    ㆍ 연습 문제 175 "
   ]
  },
  {
   "cell_type": "markdown",
   "metadata": {},
   "source": [
    "### 01 PCA 그래프 그리기\n",
    "PCA 주성분 분석 (Principal Component Analysis)"
   ]
  },
  {
   "cell_type": "code",
   "execution_count": 20,
   "metadata": {
    "collapsed": true
   },
   "outputs": [],
   "source": [
    "%matplotlib inline \n",
    "import numpy as np\n",
    "from matplotlib import pyplot as plt\n",
    "\n",
    "# line y = 2*x    # 직선 위 랜덤한 데이터를 추출\n",
    "x = np.arange(1,101,1).astype(float)\n",
    "y = 2 * np.arange(1,101,1).astype(float)"
   ]
  },
  {
   "cell_type": "code",
   "execution_count": 21,
   "metadata": {},
   "outputs": [
    {
     "name": "stdout",
     "output_type": "stream",
     "text": [
      "평균 -0.602862549782 \n",
      "표준편차 9.71509227289 \n",
      "자료갯수 100\n"
     ]
    }
   ],
   "source": [
    "# add noise\n",
    "noise = np.random.normal(0, 10, 100) # np.random.normal(평균, 표준편차, 배열요소 갯수)\n",
    "y += noise\n",
    "print(\"평균\",noise.mean(),\"\\n표준편차\",noise.std(),\"\\n자료갯수\",len(noise) )"
   ]
  },
  {
   "cell_type": "code",
   "execution_count": 22,
   "metadata": {
    "scrolled": true
   },
   "outputs": [],
   "source": [
    "# #plot 그리기\n",
    "# fig = plt.figure(figsize=(10,10))\n",
    "# plt.plot(x,y,'ro')\n",
    "# # plt.quiver()벡터장을 그려주는 함수\n",
    "# plt.quiver(60, 100,10-0, 20-0, scale_units='xy', scale=1)\n",
    "# plt.arrow(60, 100,10-0, 20-0,  head_width=2.5,   head_length=2.5, fc='k', ec='k')\n",
    "# plt.axis([0,102, -20,220]); plt.text(70, 110, r'$v^1$', fontsize=20)"
   ]
  },
  {
   "cell_type": "markdown",
   "metadata": {},
   "source": [
    "<< quiver 함수 결과가 arrow와 다른 이유 >> </br>\n",
    "<p>먼저 벡터장 함수인 quiver 함수에서 figure의 aspect ratio (즉, 가로 세로 비율)이 1이 아닌 경우에</p></br>\n",
    "<p>벡터가 정확히 맞지 않게 출력이 됩니다. (아래 링크 확인해 보시고요)</p></br>\n",
    "http://stackoverflow.com/questions/36534381/understanding-matplotlibs-quiver-plotting\n",
    "<p>그래서, 예시에서 x축이 102, y축이 240인데 동일한 크기로 맞추면 arrow 함수 결과와 같은 결과가 나옵니다.</p></br> \n",
    "<p>반대로, 예시에서 quiver의 방향을 arrow와 맞추고 싶으면 이렇게 aspect ratio를 y 성분에 곱해주면 됩니다.</p></br>\n",
    "<p>길이가 같지는 않지만요. plt.quiver(60,100, 10, 20*102/240, scale_units='xy', scale=1)</p></br>"
   ]
  },
  {
   "cell_type": "code",
   "execution_count": 23,
   "metadata": {},
   "outputs": [
    {
     "data": {
      "text/plain": [
       "(100,)"
      ]
     },
     "execution_count": 23,
     "metadata": {},
     "output_type": "execute_result"
    }
   ],
   "source": [
    "x.shape"
   ]
  },
  {
   "cell_type": "code",
   "execution_count": 24,
   "metadata": {
    "scrolled": true
   },
   "outputs": [
    {
     "data": {
      "image/png": "[encoded data removed]",
      "text/plain": [
       "<matplotlib.figure.Figure at 0x7f84f45f7240>"
      ]
     },
     "metadata": {},
     "output_type": "display_data"
    }
   ],
   "source": [
    "#plot 그리기\n",
    "fig = plt.figure(figsize=(5,5))\n",
    "fig.suptitle('2 dimensional dataset',fontsize=20)\n",
    "plt.scatter(x, y, s=7, c='r')#,'ro')\n",
    "#plt.plot(x,y,'ro',)\n",
    "plt.axis([0,102, -20,220])\n",
    "# plt.quiver()벡터장을 그려주는 함수  (* 102/240 : axis의 화면배율을 보정)\n",
    "plt.quiver(60,100, 10, 20 * 102/240, scale_units='xy', scale=1)\n",
    "plt.arrow(60, 100, 10-0, 20-0,  head_width=2.5,   head_length=2.5, fc='k', ec='k')\n",
    "plt.text(70, 110, r'$v^1$', fontsize=20); plt.show()\n",
    "# fig.savefig('./img/pca_data.png')"
   ]
  },
  {
   "cell_type": "markdown",
   "metadata": {},
   "source": [
    "### 02 PCA 계산하기 1\n",
    "Numpy를 활용한 주성분 찾기\n",
    "\n",
    "np.linalg.eig(sigma)"
   ]
  },
  {
   "cell_type": "code",
   "execution_count": 25,
   "metadata": {},
   "outputs": [
    {
     "name": "stdout",
     "output_type": "stream",
     "text": [
      "벡터의 평균값 계산 \n",
      "X 데이터 집합 평균 [ 50.5] \n",
      "Y 데이터 집합 평균 [ 100.39713745]\n"
     ]
    }
   ],
   "source": [
    "# calc PCA\n",
    "# 평균의 계산\n",
    "mean_x = np.mean(x)\n",
    "mean_y = np.mean(y)\n",
    "mean_vector = np.array([[mean_x],[mean_y]])\n",
    "print(\"벡터의 평균값 계산\", \n",
    "      \"\\nX 데이터 집합 평균\",mean_vector[0],\n",
    "      \"\\nY 데이터 집합 평균\",mean_vector[1])"
   ]
  },
  {
   "cell_type": "code",
   "execution_count": 26,
   "metadata": {},
   "outputs": [
    {
     "data": {
      "text/plain": [
       "array([[ 1.01010101,  0.99599252],\n",
       "       [ 0.99599252,  1.01010101]])"
      ]
     },
     "execution_count": 26,
     "metadata": {},
     "output_type": "execute_result"
    }
   ],
   "source": [
    "# np.cov(x,y) : 표준편차를 계산\n",
    "u_x = (x- mean_x)/np.std(x)\n",
    "u_y = (y-mean_y)/np.std(y)\n",
    "sigma = np.cov([u_x,u_y]); sigma"
   ]
  },
  {
   "cell_type": "code",
   "execution_count": 27,
   "metadata": {},
   "outputs": [
    {
     "name": "stdout",
     "output_type": "stream",
     "text": [
      "eig_vals (고유 값을 출력)\n",
      " [ 0.01410849  2.00609353] \n",
      "eig_vecs (고유 벡터를 출력)\n",
      " [[-0.70710678 -0.70710678]\n",
      " [ 0.70710678 -0.70710678]]\n"
     ]
    }
   ],
   "source": [
    "# np.linalg.eig() : 정사각 행렬의 고유 값과 고유벡터를 계산한다.\n",
    "eig_vals, eig_vecs = np.linalg.eig(sigma)\n",
    "print(\"eig_vals (고유 값을 출력)\\n\", eig_vals,\n",
    "      \"\\neig_vecs (고유 벡터를 출력)\\n\", eig_vecs)"
   ]
  },
  {
   "cell_type": "code",
   "execution_count": 28,
   "metadata": {},
   "outputs": [
    {
     "data": {
      "text/plain": [
       "[(0.014108493007258804, array([-0.70710678,  0.70710678])),\n",
       " (2.0060935271947615, array([-0.70710678, -0.70710678]))]"
      ]
     },
     "execution_count": 28,
     "metadata": {},
     "output_type": "execute_result"
    }
   ],
   "source": [
    "# 스칼라 값과, 벡터행렬을 합치기\n",
    "eig_pairs = [(np.abs(eig_vals[i]), eig_vecs[:,i])\n",
    "             for i in range(len(eig_vals))]             \n",
    "eig_pairs"
   ]
  },
  {
   "cell_type": "code",
   "execution_count": 29,
   "metadata": {},
   "outputs": [
    {
     "data": {
      "text/plain": [
       "[(2.0060935271947615, array([-0.70710678, -0.70710678])),\n",
       " (0.014108493007258804, array([-0.70710678,  0.70710678]))]"
      ]
     },
     "execution_count": 29,
     "metadata": {},
     "output_type": "execute_result"
    }
   ],
   "source": [
    "# np.sort() : 기본값 오름차순 정렬\n",
    "#eig_pairs.sort() \n",
    "#eig_pairs.sort(reverse=False)\n",
    "#eig_pairs.reverse()\n",
    "\n",
    "# np.sort() : 내림차순 정렬\n",
    "eig_pairs.sort(reverse=True)\n",
    "eig_pairs"
   ]
  },
  {
   "cell_type": "code",
   "execution_count": 30,
   "metadata": {},
   "outputs": [
    {
     "name": "stdout",
     "output_type": "stream",
     "text": [
      "slope: 1.96629526702\n"
     ]
    }
   ],
   "source": [
    "# 가장 값이 큰 고유값과\n",
    "v0 = eig_pairs[0][0]\n",
    "# 가장 값이 큰 연관벡터를 출력\n",
    "v1 = eig_pairs[0][1]\n",
    "\n",
    "# 주성분이 직선에 놓여있는지를 기울기로 확인\n",
    "# 원래의 데이터 크기값으로 변환\n",
    "#leading eigenvector:\n",
    "x_v1 = v1[0]*np.std(x)+mean_x\n",
    "y_v1 = v1[1]*np.std(y)+mean_y\n",
    "print ('slope:',(y_v1)/(x_v1))"
   ]
  },
  {
   "cell_type": "markdown",
   "metadata": {},
   "source": [
    "### 03 PCA 계산하기 2\n",
    "sklearn 를 활용한 주성분 찾기\n",
    "\n",
    "벡터값 일치여부 확인"
   ]
  },
  {
   "cell_type": "code",
   "execution_count": 31,
   "metadata": {},
   "outputs": [
    {
     "name": "stdout",
     "output_type": "stream",
     "text": [
      "(100, 2) \n",
      " [[-1.71481604 -1.84902666]\n",
      " [-1.68017329 -1.68258985]\n",
      " [-1.64553055 -1.41741617]\n",
      " [-1.6108878  -1.49556164]\n",
      " [-1.57624505 -1.37309387]]\n"
     ]
    }
   ],
   "source": [
    "# 데이터를 벡터로 변환\n",
    "X = np.array([u_x,u_y]); \n",
    "\n",
    "# 데이터를 행렬구조로 변환\n",
    "X = X.T \n",
    "print(X.shape, '\\n', X[:5])"
   ]
  },
  {
   "cell_type": "code",
   "execution_count": 32,
   "metadata": {},
   "outputs": [
    {
     "name": "stdout",
     "output_type": "stream",
     "text": [
      "PCA 계산한 일치도 [ 0.9930163]\n",
      "PCA 계산한 크기값 [ 1.98603259]\n",
      "pca 연산결과 단위벡터 [[-0.70710678 -0.70710678]]\n"
     ]
    },
    {
     "data": {
      "text/plain": [
       "0.013967408077186171"
      ]
     },
     "execution_count": 32,
     "metadata": {},
     "output_type": "execute_result"
    }
   ],
   "source": [
    "# sklearn 의 PCA 모듈을 활용\n",
    "from sklearn.decomposition import PCA\n",
    "pca = PCA(n_components=1)\n",
    "pca.fit(X)\n",
    "\n",
    "print(\"PCA 계산한 일치도\", pca.explained_variance_ratio_)\n",
    "print(\"PCA 계산한 크기값\", pca.explained_variance_)\n",
    "print(\"pca 연산결과 단위벡터\", pca.components_)\n",
    "pca.noise_variance_"
   ]
  },
  {
   "cell_type": "markdown",
   "metadata": {},
   "source": [
    "### 04 Numpy 와 Sklearn 의 결과 비교하기\n",
    "주성분 찾기"
   ]
  },
  {
   "cell_type": "code",
   "execution_count": 33,
   "metadata": {},
   "outputs": [
    {
     "data": {
      "text/plain": [
       "(100, 1)"
      ]
     },
     "execution_count": 33,
     "metadata": {},
     "output_type": "execute_result"
    }
   ],
   "source": [
    "# PCA Fit 을 통한 : 두 벡터의 비교값 출력\n",
    "X_red_sklearn = pca.fit_transform(X)\n",
    "X_red_sklearn.shape"
   ]
  },
  {
   "cell_type": "code",
   "execution_count": 34,
   "metadata": {},
   "outputs": [
    {
     "data": {
      "text/plain": [
       "(1, 100)"
      ]
     },
     "execution_count": 34,
     "metadata": {},
     "output_type": "execute_result"
    }
   ],
   "source": [
    "# 벡터의 곱을 통한 : 두 벡터의 비교값 출력\n",
    "W = np.array(v1.reshape(2,1))\n",
    "X_red = W.T.dot(X.T)\n",
    "X_red.shape"
   ]
  },
  {
   "cell_type": "code",
   "execution_count": 35,
   "metadata": {},
   "outputs": [
    {
     "name": "stdout",
     "output_type": "stream",
     "text": [
      "[ 2.52001734] - [ 2.52001734] \n",
      "= [  2.66453526e-15]\n"
     ]
    }
   ],
   "source": [
    "# Assert 디버깅 명령\n",
    "# 사용자가 입력한 문자의 내용으로 Debug 메세지를 출력한다\n",
    "# assert 2 == 3 , \" 2 is not 3\"\n",
    "\n",
    "#check the reduced matrices are equal\n",
    "# assert : 조건에 해당하지 않을 때 Debug 를 표시\n",
    "assert X_red.T.all() == X_red_sklearn.all(), 'problem with the pca algorithm'\n",
    "print (X_red.T[0],'-',X_red_sklearn[0], \"\\n=\",X_red.T[0]-X_red_sklearn[0] )"
   ]
  },
  {
   "cell_type": "markdown",
   "metadata": {},
   "source": [
    "### 02. 특이값 분해\n",
    "- 고유값분해(eigendecomposition)에의 고유값은 변환에 의해 불변인 방향벡터(-> 고유벡터)에 대한 스케일 factor이고\n",
    "- 특이값은 변환 자체의 스케일 factor로 볼 수 있다."
   ]
  },
  {
   "cell_type": "markdown",
   "metadata": {},
   "source": [
    "$ 0 = c_x-a_{x0}-d_{x0}\\dfrac{(c_x-a_{x0})\\cdot d_{x0}}{\\|d_{x0}\\|^2} $"
   ]
  },
  {
   "cell_type": "markdown",
   "metadata": {},
   "source": [
    "$\\sum_{n=1}^\\infty \\frac{1}{n^2} \\to\n",
    "  \\textstyle \\sum_{n=1}^\\infty \\frac{1}{n^2} \\to\n",
    "  \\displaystyle \\sum_{n=1}^\\infty \\frac{1}{n^2}$"
   ]
  }
 ],
 "metadata": {
  "kernelspec": {
   "display_name": "Python 3",
   "language": "python",
   "name": "python3"
  },
  "language_info": {
   "codemirror_mode": {
    "name": "ipython",
    "version": 3
   },
   "file_extension": ".py",
   "mimetype": "text/x-python",
   "name": "python",
   "nbconvert_exporter": "python",
   "pygments_lexer": "ipython3",
   "version": "3.6.1"
  }
 },
 "nbformat": 4,
 "nbformat_minor": 2
}
