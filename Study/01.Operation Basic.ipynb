{
 "cells": [
  {
   "cell_type": "markdown",
   "metadata": {},
   "source": [
    "# ch01. Tensor Flow Introduction"
   ]
  },
  {
   "cell_type": "markdown",
   "metadata": {},
   "source": [
    "## 01. Check"
   ]
  },
  {
   "cell_type": "code",
   "execution_count": 1,
   "metadata": {
    "collapsed": false
   },
   "outputs": [
    {
     "data": {
      "text/plain": [
       "'1.0.1'"
      ]
     },
     "execution_count": 1,
     "metadata": {},
     "output_type": "execute_result"
    }
   ],
   "source": [
    "import tensorflow as tf\n",
    "tf.__version__"
   ]
  },
  {
   "cell_type": "markdown",
   "metadata": {},
   "source": [
    "## 02. Operation"
   ]
  },
  {
   "cell_type": "markdown",
   "metadata": {},
   "source": [
    "### 01) Hello TensorFlow"
   ]
  },
  {
   "cell_type": "code",
   "execution_count": 2,
   "metadata": {
    "collapsed": false
   },
   "outputs": [
    {
     "data": {
      "text/plain": [
       "tensorflow.python.framework.ops.Tensor"
      ]
     },
     "execution_count": 2,
     "metadata": {},
     "output_type": "execute_result"
    }
   ],
   "source": [
    "# Node 생성하기\n",
    "hello = tf.constant(\"Hello, TensorFlow!\")\n",
    "type(hello)"
   ]
  },
  {
   "cell_type": "code",
   "execution_count": 3,
   "metadata": {
    "collapsed": false
   },
   "outputs": [
    {
     "data": {
      "text/plain": [
       "tensorflow.python.client.session.Session"
      ]
     },
     "execution_count": 3,
     "metadata": {},
     "output_type": "execute_result"
    }
   ],
   "source": [
    "# 생성한 Node 의 내용을 불러오는 세션함수\n",
    "sess = tf.Session()\n",
    "type(sess)"
   ]
  },
  {
   "cell_type": "code",
   "execution_count": 4,
   "metadata": {
    "collapsed": false
   },
   "outputs": [
    {
     "data": {
      "text/plain": [
       "b'Hello, TensorFlow!'"
      ]
     },
     "execution_count": 4,
     "metadata": {},
     "output_type": "execute_result"
    }
   ],
   "source": [
    "# Byte Literal \n",
    "# http://stackoverflow.com/question/6269765\n",
    "sess.run(hello)"
   ]
  },
  {
   "cell_type": "code",
   "execution_count": 14,
   "metadata": {
    "collapsed": false
   },
   "outputs": [
    {
     "data": {
      "text/plain": [
       "<function tensorflow.python.framework.constant_op.constant>"
      ]
     },
     "execution_count": 14,
     "metadata": {},
     "output_type": "execute_result"
    }
   ],
   "source": [
    "tf.constant"
   ]
  },
  {
   "cell_type": "markdown",
   "metadata": {},
   "source": [
    "## 02) Computation Graph\n",
    "- 그래프를 그리고 이를 실행함을 통해서 연산을 실행"
   ]
  },
  {
   "cell_type": "code",
   "execution_count": 19,
   "metadata": {
    "collapsed": false
   },
   "outputs": [],
   "source": [
    "# 1) Build Graph (Tensors) Using TensorFlow operations\n",
    "node1 = tf.constant(3.0, tf.float32)\n",
    "node2 = tf.constant(4.0)   # tf.float32   implicitly (은연중에)\n",
    "# node3 = node1 + node2\n",
    "node3 = tf.add(node1, node2)"
   ]
  },
  {
   "cell_type": "code",
   "execution_count": 6,
   "metadata": {
    "collapsed": true
   },
   "outputs": [],
   "source": [
    "# 2) Feed data and Graph (노드간의 경로를 실행)\n",
    "sess = tf.Session()"
   ]
  },
  {
   "cell_type": "code",
   "execution_count": 7,
   "metadata": {
    "collapsed": false
   },
   "outputs": [
    {
     "name": "stdout",
     "output_type": "stream",
     "text": [
      "node1:  Tensor(\"Const_1:0\", shape=(), dtype=float32)\n",
      "node2:  Tensor(\"Const_2:0\", shape=(), dtype=float32)\n",
      "node3:  Tensor(\"Add:0\", shape=(), dtype=float32)\n"
     ]
    }
   ],
   "source": [
    "# 3) Update Variables in the Graph\n",
    "print(\"node1: \", node1)\n",
    "print(\"node2: \", node2)\n",
    "print(\"node3: \", node3)"
   ]
  },
  {
   "cell_type": "code",
   "execution_count": 8,
   "metadata": {
    "collapsed": false
   },
   "outputs": [
    {
     "name": "stdout",
     "output_type": "stream",
     "text": [
      "sess.run(node1): 3.0\n",
      "sess.run(node2): 4.0\n",
      "sess.run(node3): 7.0\n"
     ]
    }
   ],
   "source": [
    "# 연결된 노드를 활용해서 연산을 실행\n",
    "sess = tf.Session()\n",
    "print(\"sess.run(node1):\", sess.run(node1))\n",
    "print(\"sess.run(node2):\", sess.run(node2))\n",
    "print(\"sess.run(node3):\", sess.run(node3))"
   ]
  },
  {
   "cell_type": "markdown",
   "metadata": {},
   "source": [
    "## 03) Place Holder\n",
    "- 그래프를 미리 그리고, 이를 실행할 때 변수를 입력"
   ]
  },
  {
   "cell_type": "code",
   "execution_count": 9,
   "metadata": {
    "collapsed": true
   },
   "outputs": [],
   "source": [
    "a = tf.placeholder(tf.float32)\n",
    "b = tf.placeholder(tf.float32)\n",
    "# Provides a Shortcut For tf.add(a, b)\n",
    "adder_node = a + b"
   ]
  },
  {
   "cell_type": "code",
   "execution_count": 10,
   "metadata": {
    "collapsed": false
   },
   "outputs": [
    {
     "name": "stdout",
     "output_type": "stream",
     "text": [
      "7.5\n",
      "[ 3.  7.]\n"
     ]
    }
   ],
   "source": [
    "# , feed_dict{}\n",
    "print(sess.run(adder_node, feed_dict={a:3, b:4.5}))        # 단일 데이터를 입력해서 연산\n",
    "print(sess.run(adder_node, feed_dict={a:[1,3], b:[2,4]}))  # [List] 데이터를 입력해서 연산"
   ]
  },
  {
   "cell_type": "markdown",
   "metadata": {},
   "source": [
    "## 03. Tensor\n",
    "- 각각의 Array 를 지칭"
   ]
  },
  {
   "cell_type": "markdown",
   "metadata": {},
   "source": [
    "### 01) Rank (차원)"
   ]
  },
  {
   "cell_type": "code",
   "execution_count": 11,
   "metadata": {
    "collapsed": false
   },
   "outputs": [
    {
     "data": {
      "text/plain": [
       "[[[1.0], [2.0], [3.0]], [[7.0], [8.0], [9.0]]]"
      ]
     },
     "execution_count": 11,
     "metadata": {},
     "output_type": "execute_result"
    }
   ],
   "source": [
    "3                                           # a rank 0 tensor : 스칼라            ( 크기만 갖는다 )\n",
    "[1. , 2., 3.]                               # a rank 1 tensor : 벡터 [3]          ( 크기와 방향 )\n",
    "[[1. , 2., 3.], [4., 5., 6.]]               # a rank 2 tensor : 매트릭스 [2,3]     ( 테이블과 값 )\n",
    "[[[1., 2., 3.]], [[7., 8., 9.]]]            # a rank 3 tensor : 다차원 [2, 1, 3]  ( 큐브 형식의 숫자)\n",
    "[[[1.], [2.], [3.]], [[7.], [8.], [9.]]]    # a rank 3 tensor : 다차원 [2, 1, 3]  ( 큐브 형식의 숫자)"
   ]
  },
  {
   "cell_type": "markdown",
   "metadata": {},
   "source": [
    "### 02) Shape"
   ]
  },
  {
   "cell_type": "code",
   "execution_count": 12,
   "metadata": {
    "collapsed": true
   },
   "outputs": [],
   "source": [
    "# []   :  0D 스칼라        ex)  5\n",
    "# [D0] :  1차원            ex) [5]\n",
    "# [D0, D1] : 2차원         ex) [3,4]\n",
    "# [D0, D1, D2] : 3차원     ex) [1,4,3]     - (3 3) [3,3]"
   ]
  },
  {
   "cell_type": "markdown",
   "metadata": {},
   "source": [
    "## 03) Types"
   ]
  },
  {
   "cell_type": "code",
   "execution_count": 13,
   "metadata": {
    "collapsed": true
   },
   "outputs": [],
   "source": [
    "# tf.float32\n",
    "# tf.float64\n",
    "# tf.int8\n",
    "# tf.int16\n",
    "# tf.int32\n",
    "# tf.int64"
   ]
  },
  {
   "cell_type": "code",
   "execution_count": null,
   "metadata": {
    "collapsed": true
   },
   "outputs": [],
   "source": []
  },
  {
   "cell_type": "code",
   "execution_count": null,
   "metadata": {
    "collapsed": true
   },
   "outputs": [],
   "source": []
  }
 ],
 "metadata": {
  "kernelspec": {
   "display_name": "Python 3",
   "language": "python",
   "name": "python3"
  },
  "language_info": {
   "codemirror_mode": {
    "name": "ipython",
    "version": 3
   },
   "file_extension": ".py",
   "mimetype": "text/x-python",
   "name": "python",
   "nbconvert_exporter": "python",
   "pygments_lexer": "ipython3",
   "version": "3.5.2"
  }
 },
 "nbformat": 4,
 "nbformat_minor": 2
}
