{
 "cells": [
  {
   "cell_type": "markdown",
   "metadata": {},
   "source": [
    "# 텐서플로 첫걸음"
   ]
  },
  {
   "cell_type": "markdown",
   "metadata": {},
   "source": [
    "## 01. TensorFlow"
   ]
  },
  {
   "cell_type": "markdown",
   "metadata": {},
   "source": [
    "### 01) Multiply"
   ]
  },
  {
   "cell_type": "code",
   "execution_count": 1,
   "metadata": {
    "collapsed": true
   },
   "outputs": [],
   "source": [
    "import tensorflow as tf"
   ]
  },
  {
   "cell_type": "code",
   "execution_count": 2,
   "metadata": {
    "collapsed": true
   },
   "outputs": [],
   "source": [
    "a = tf.placeholder(\"float32\")\n",
    "b = tf.placeholder(\"float32\")"
   ]
  },
  {
   "cell_type": "code",
   "execution_count": 3,
   "metadata": {
    "collapsed": false
   },
   "outputs": [],
   "source": [
    "# 텐서플로 모듈을 통한 연산\n",
    "y=tf.multiply(a,b)  "
   ]
  },
  {
   "cell_type": "code",
   "execution_count": 4,
   "metadata": {
    "collapsed": false
   },
   "outputs": [
    {
     "data": {
      "text/plain": [
       "9.0"
      ]
     },
     "execution_count": 4,
     "metadata": {},
     "output_type": "execute_result"
    }
   ],
   "source": [
    "# TensorFlow를 활성화\n",
    "sess = tf.Session()\n",
    "sess.run(y, feed_dict = {a:3, b:3})"
   ]
  },
  {
   "cell_type": "markdown",
   "metadata": {},
   "source": [
    "### 02) Monitering"
   ]
  },
  {
   "cell_type": "code",
   "execution_count": 5,
   "metadata": {
    "collapsed": true
   },
   "outputs": [],
   "source": [
    "# tensorboard --logdir= 추적 파일 디렉토리\n",
    "# http://localhost:6006   # 모니터링 화면이 출력 "
   ]
  },
  {
   "cell_type": "markdown",
   "metadata": {},
   "source": [
    "## 02. Liner Regression\n",
    "- supervised Learning : 지도학습 (입력값, 출력값을 활용한 함수의 상수값 도출)"
   ]
  },
  {
   "cell_type": "markdown",
   "metadata": {},
   "source": [
    "### 01) 변수간의 관계 모델"
   ]
  },
  {
   "cell_type": "code",
   "execution_count": 6,
   "metadata": {
    "collapsed": true
   },
   "outputs": [],
   "source": [
    "import numpy as np"
   ]
  },
  {
   "cell_type": "code",
   "execution_count": 7,
   "metadata": {
    "collapsed": true
   },
   "outputs": [],
   "source": [
    "num_points = 1000\n",
    "vector_set = []"
   ]
  },
  {
   "cell_type": "code",
   "execution_count": 8,
   "metadata": {
    "collapsed": true
   },
   "outputs": [],
   "source": [
    "for i in range(num_points):\n",
    "    x1 = np.random.normal(0.0, 0.55)\n",
    "    y1 = x1 * 0.1 + 0.3 + np.random.normal(0.0, 0.03)\n",
    "    vector_set.append([x1, y1])"
   ]
  },
  {
   "cell_type": "code",
   "execution_count": 9,
   "metadata": {
    "collapsed": true
   },
   "outputs": [],
   "source": [
    "x_data = [v[0] for v in vector_set]\n",
    "y_data = [v[0] for v in vector_set]"
   ]
  },
  {
   "cell_type": "code",
   "execution_count": 10,
   "metadata": {
    "collapsed": false
   },
   "outputs": [
    {
     "name": "stderr",
     "output_type": "stream",
     "text": [
      "/home/markbaum/Python/Jupyter/lib/python3.5/site-packages/matplotlib/axes/_axes.py:531: UserWarning: No labelled objects found. Use label='...' kwarg on individual plots.\n",
      "  warnings.warn(\"No labelled objects found. \"\n"
     ]
    },
    {
     "data": {
      "image/png": "[encoded data removed]",
      "text/plain": [
       "<matplotlib.figure.Figure at 0x7fe679eddb00>"
      ]
     },
     "metadata": {},
     "output_type": "display_data"
    }
   ],
   "source": [
    "import matplotlib.pyplot as plt\n",
    "plt.plot(x_data, y_data, 'ro')\n",
    "plt.legend()\n",
    "plt.show()"
   ]
  },
  {
   "cell_type": "markdown",
   "metadata": {},
   "source": [
    "### 02) 경사하강법 알고리즘\n",
    "- 가설모델\n",
    "- 비용함수 / 오차함수 : 평균제곱오차"
   ]
  },
  {
   "cell_type": "code",
   "execution_count": 11,
   "metadata": {
    "collapsed": false
   },
   "outputs": [],
   "source": [
    "import tensorflow as tf\n",
    "W = tf.Variable(tf.random_uniform([1], -1.0, 1.0))\n",
    "b = tf.Variable(tf.zeros([1]))\n",
    "y = W * x_data + b"
   ]
  },
  {
   "cell_type": "code",
   "execution_count": 12,
   "metadata": {
    "collapsed": true
   },
   "outputs": [],
   "source": [
    "# 비용함수\n",
    "loss = tf.reduce_mean(tf.square(y - y_data))"
   ]
  },
  {
   "cell_type": "code",
   "execution_count": 13,
   "metadata": {
    "collapsed": false
   },
   "outputs": [],
   "source": [
    "# 경사하강법 알고리즘을 활용\n",
    "optimizer = tf.train.GradientDescentOptimizer(0.5)\n",
    "train = optimizer.minimize(loss)"
   ]
  },
  {
   "cell_type": "code",
   "execution_count": 14,
   "metadata": {
    "collapsed": false
   },
   "outputs": [],
   "source": [
    "# 알고리즘을 실행\n",
    "init = tf.global_variables_initializer()\n",
    "sess = tf.Session()\n",
    "sess.run(init)"
   ]
  },
  {
   "cell_type": "code",
   "execution_count": 15,
   "metadata": {
    "collapsed": false
   },
   "outputs": [
    {
     "data": {
      "text/plain": [
       "[array([ 0.99595946], dtype=float32), array([ 0.00013505], dtype=float32)]"
      ]
     },
     "execution_count": 15,
     "metadata": {},
     "output_type": "execute_result"
    }
   ],
   "source": [
    "# Tensorflow 엔진을 활용\n",
    "for step in range(8):\n",
    "    sess.run(train)\n",
    "sess.run([W,b])"
   ]
  },
  {
   "cell_type": "code",
   "execution_count": 16,
   "metadata": {
    "collapsed": false
   },
   "outputs": [
    {
     "name": "stderr",
     "output_type": "stream",
     "text": [
      "/home/markbaum/Python/Jupyter/lib/python3.5/site-packages/matplotlib/axes/_axes.py:531: UserWarning: No labelled objects found. Use label='...' kwarg on individual plots.\n",
      "  warnings.warn(\"No labelled objects found. \"\n"
     ]
    },
    {
     "data": {
      "image/png": "[encoded data removed]",
      "text/plain": [
       "<matplotlib.figure.Figure at 0x7fe64966fb70>"
      ]
     },
     "metadata": {},
     "output_type": "display_data"
    }
   ],
   "source": [
    "# Graph로 출력\n",
    "import matplotlib.pyplot as plt\n",
    "plt.plot(x_data, y_data, 'ro')\n",
    "plt.xlabel('x')\n",
    "plt.xlim(-2,2)\n",
    "plt.ylim(0.1, 0.6)\n",
    "plt.ylabel('y')\n",
    "plt.legend()\n",
    "plt.show()"
   ]
  },
  {
   "cell_type": "code",
   "execution_count": 17,
   "metadata": {
    "collapsed": false
   },
   "outputs": [
    {
     "name": "stdout",
     "output_type": "stream",
     "text": [
      "0   W :   [ 0.99720609]   bias :   [  9.33781994e-05]\n",
      "1   W :   [ 0.99806809]   bias :   [  6.45711043e-05]\n",
      "2   W :   [ 0.99866414]   bias :   [  4.46505328e-05]\n",
      "3   W :   [ 0.99907631]   bias :   [  3.08747949e-05]\n",
      "4   W :   [ 0.99936128]   bias :   [  2.13484636e-05]\n",
      "5   W :   [ 0.99955833]   bias :   [  1.47685487e-05]\n",
      "6   W :   [ 0.99969459]   bias :   [  1.02007562e-05]\n",
      "7   W :   [ 0.99978882]   bias :   [  7.05795446e-06]\n",
      "8   W :   [ 0.99985397]   bias :   [  4.88609339e-06]\n"
     ]
    }
   ],
   "source": [
    "for step in range(9):\n",
    "    sess.run(train)\n",
    "    print(step, \"  W :  \",sess.run(W), \"  bias :  \", sess.run(b))"
   ]
  },
  {
   "cell_type": "markdown",
   "metadata": {},
   "source": [
    "## 03. 군집화\n",
    "- unsupervised Learning : 데이터에 레이블이 없을 떄, 사전분류\n",
    "- K-평균 알고리즘"
   ]
  },
  {
   "cell_type": "markdown",
   "metadata": {},
   "source": [
    "### 01) Tensor : 분석할 자료 데이터\n",
    "- 자료형 : tf.float32 / tf.int16 / tf.string / tf.bool ......\n",
    "- 변환함수 : tf.shape / tf.size / tf.concat ......"
   ]
  },
  {
   "cell_type": "code",
   "execution_count": 18,
   "metadata": {
    "collapsed": true
   },
   "outputs": [],
   "source": [
    "t = [[1,2,3], [4,5,6], [7,8,9]]\n",
    "points = t"
   ]
  },
  {
   "cell_type": "code",
   "execution_count": 19,
   "metadata": {
    "collapsed": false
   },
   "outputs": [],
   "source": [
    "# 2차원 자료를 3차원으로 확장\n",
    "vector = tf.constant(points)\n",
    "expanded_vectors = tf.expand_dims(vector, 0)"
   ]
  },
  {
   "cell_type": "code",
   "execution_count": 20,
   "metadata": {
    "collapsed": false
   },
   "outputs": [
    {
     "data": {
      "text/plain": [
       "TensorShape([Dimension(1), Dimension(3), Dimension(3)])"
      ]
     },
     "execution_count": 20,
     "metadata": {},
     "output_type": "execute_result"
    }
   ],
   "source": [
    "# 자료의 형태를 확인 (확장결과 확인)\n",
    "expanded_vectors.get_shape()"
   ]
  },
  {
   "cell_type": "markdown",
   "metadata": {},
   "source": [
    "### 02) 텐서플로 데이터 저장소"
   ]
  },
  {
   "cell_type": "code",
   "execution_count": 21,
   "metadata": {
    "collapsed": false
   },
   "outputs": [],
   "source": [
    "# tf.constant()\n",
    "# tf.variable()"
   ]
  },
  {
   "cell_type": "code",
   "execution_count": 22,
   "metadata": {
    "collapsed": true
   },
   "outputs": [],
   "source": [
    "# tf.zeros_like\n",
    "# tf.ones_like\n",
    "# tf.fill\n",
    "# tf.constant"
   ]
  },
  {
   "cell_type": "code",
   "execution_count": 23,
   "metadata": {
    "collapsed": true
   },
   "outputs": [],
   "source": [
    "# tf.random_normal\n",
    "# tf.truncated_normal\n",
    "# tf.set_random_seed"
   ]
  },
  {
   "cell_type": "code",
   "execution_count": 24,
   "metadata": {
    "collapsed": true
   },
   "outputs": [],
   "source": [
    "import tensorflow as tf\n",
    "a = tf.placeholder(\"float32\")\n",
    "b = tf.placeholder(\"float32\")"
   ]
  },
  {
   "cell_type": "code",
   "execution_count": 25,
   "metadata": {
    "collapsed": true
   },
   "outputs": [],
   "source": [
    "y = tf.multiply(a,b)"
   ]
  },
  {
   "cell_type": "code",
   "execution_count": 26,
   "metadata": {
    "collapsed": false
   },
   "outputs": [
    {
     "data": {
      "text/plain": [
       "9.0"
      ]
     },
     "execution_count": 26,
     "metadata": {},
     "output_type": "execute_result"
    }
   ],
   "source": [
    "sess = tf.Session()\n",
    "sess.run(y, feed_dict={a:3, b:3})"
   ]
  },
  {
   "cell_type": "markdown",
   "metadata": {},
   "source": [
    "### 03) K-평균 알고리즘\n",
    "- 자료를 K 갯수로 군집화\n",
    "- NP함수를 활용 : NP hardness (난해해서 부하가 많이 걸린다)\n",
    "- Heuristics 방법이 효과적 (반복개선기법 (iterative refinement))"
   ]
  },
  {
   "cell_type": "code",
   "execution_count": 27,
   "metadata": {
    "collapsed": true
   },
   "outputs": [],
   "source": [
    "import numpy as np"
   ]
  },
  {
   "cell_type": "code",
   "execution_count": 28,
   "metadata": {
    "collapsed": true
   },
   "outputs": [],
   "source": [
    "num_points = 2000\n",
    "vector_set = []"
   ]
  },
  {
   "cell_type": "code",
   "execution_count": 29,
   "metadata": {
    "collapsed": false
   },
   "outputs": [],
   "source": [
    "for i in range(num_points):\n",
    "    if np.random.random() > 0.5:\n",
    "        vector_set.append([np.random.normal(0.0, 0.9),\n",
    "                          np.random.normal(0.0, 0.9)])\n",
    "    else:\n",
    "        vector_set.append([np.random.normal(3.0, 5.0),\n",
    "                          np.random.normal(1.0, 0.5)])"
   ]
  },
  {
   "cell_type": "code",
   "execution_count": 30,
   "metadata": {
    "collapsed": true
   },
   "outputs": [],
   "source": [
    "import matplotlib.pyplot as plt\n",
    "import pandas as pd\n",
    "import seaborn as sns"
   ]
  },
  {
   "cell_type": "code",
   "execution_count": 31,
   "metadata": {
    "collapsed": false
   },
   "outputs": [
    {
     "data": {
      "image/png": "[encoded data removed]",
      "text/plain": [
       "<matplotlib.figure.Figure at 0x7fe637ae1358>"
      ]
     },
     "metadata": {},
     "output_type": "display_data"
    }
   ],
   "source": [
    "df = pd.DataFrame({\"x\": [v[0] for v in vector_set],\n",
    "                   \"y\": [v[0] for v in vector_set]})\n",
    "sns.lmplot(\"x\",\"y\", data=df, fit_reg=False, size=6)\n",
    "plt.show()"
   ]
  },
  {
   "cell_type": "markdown",
   "metadata": {},
   "source": [
    "### 04) 새로운 그룹"
   ]
  },
  {
   "cell_type": "code",
   "execution_count": 37,
   "metadata": {
    "collapsed": false
   },
   "outputs": [
    {
     "data": {
      "text/plain": [
       "TensorShape([Dimension(2000), Dimension(2)])"
      ]
     },
     "execution_count": 37,
     "metadata": {},
     "output_type": "execute_result"
    }
   ],
   "source": [
    "# 01. 입력된 자료를 Tensor로 이동\n",
    "vectors = tf.constant(vector_set)\n",
    "vectors.get_shape()\n",
    "# 0차원의 크기, 1차원의 크기 ( index 2000 개 X columns 2인 Table )"
   ]
  },
  {
   "cell_type": "code",
   "execution_count": 38,
   "metadata": {
    "collapsed": false
   },
   "outputs": [
    {
     "data": {
      "text/plain": [
       "TensorShape([Dimension(4), Dimension(2)])"
      ]
     },
     "execution_count": 38,
     "metadata": {},
     "output_type": "execute_result"
    }
   ],
   "source": [
    "k = 4\n",
    "centroides = tf.Variable(tf.slice(tf.random_shuffle(vectors), [0,0], [k,-1]))\n",
    "centroides.get_shape()\n",
    "# ( index 4 개 X columns 2 인 Table )"
   ]
  },
  {
   "cell_type": "code",
   "execution_count": 43,
   "metadata": {
    "collapsed": false
   },
   "outputs": [
    {
     "data": {
      "text/plain": [
       "<tf.Tensor 'ExpandDims_5:0' shape=(1, 2000, 2) dtype=float32>"
      ]
     },
     "execution_count": 43,
     "metadata": {},
     "output_type": "execute_result"
    }
   ],
   "source": [
    "# 02. 두 텐서에 각각 하나의 차원을 추가한다.\n",
    "# Numpy BroadCasting\n",
    "# 추가된 차원에 1만 추가되어도. 차원에 맞게 계산을 반복 ( 연산결과 차원이 확장이 완성된다 )\n",
    "expanded_vectors = tf.expand_dims(vectors,0)\n",
    "expanded_vectors "
   ]
  },
  {
   "cell_type": "code",
   "execution_count": 42,
   "metadata": {
    "collapsed": false
   },
   "outputs": [
    {
     "data": {
      "text/plain": [
       "<tf.Tensor 'ExpandDims_4:0' shape=(4, 1, 2) dtype=float32>"
      ]
     },
     "execution_count": 42,
     "metadata": {},
     "output_type": "execute_result"
    }
   ],
   "source": [
    "expanded_centroide = tf.expand_dims(centroides, 1)\n",
    "expanded_centroide"
   ]
  },
  {
   "cell_type": "code",
   "execution_count": 46,
   "metadata": {
    "collapsed": true
   },
   "outputs": [],
   "source": [
    "# 유클리드 제곱거리를 사용하는 할당단계 알고리즘 01\n",
    "diff = tf.subtract(expanded_vectors, expanded_centroide)\n",
    "sqr = tf.square(diff)\n",
    "distances = tf.reduce_sum(sqr,2)\n",
    "assignments = tf.argmin(distances,0)"
   ]
  },
  {
   "cell_type": "code",
   "execution_count": 50,
   "metadata": {
    "collapsed": false
   },
   "outputs": [
    {
     "name": "stdout",
     "output_type": "stream",
     "text": [
      "diff        :  Tensor(\"Sub_1:0\", shape=(4, 2000, 2), dtype=float32)\n",
      "sqr         :  Tensor(\"Square_2:0\", shape=(4, 2000, 2), dtype=float32)\n",
      "distances   :  Tensor(\"Sum:0\", shape=(4, 2000), dtype=float32)\n",
      "assignments :  Tensor(\"ArgMin_1:0\", shape=(2000,), dtype=int64)\n"
     ]
    }
   ],
   "source": [
    "print('diff        : ', diff); print('sqr         : ', sqr)\n",
    "print('distances   : ', distances); print('assignments : ', assignments)"
   ]
  },
  {
   "cell_type": "code",
   "execution_count": 51,
   "metadata": {
    "collapsed": false
   },
   "outputs": [
    {
     "data": {
      "text/plain": [
       "<tf.Tensor 'ArgMin_2:0' shape=(2000,) dtype=int64>"
      ]
     },
     "execution_count": 51,
     "metadata": {},
     "output_type": "execute_result"
    }
   ],
   "source": [
    "# 유클리드 제곱거리를 사용하는 할당단계 알고리즘 02\n",
    "assignments = tf.argmin(tf.reduce_mean(tf.square(tf.subtract(expanded_vectors, expanded_centroide)),2),0)\n",
    "assignments"
   ]
  },
  {
   "cell_type": "code",
   "execution_count": 53,
   "metadata": {
    "collapsed": true
   },
   "outputs": [],
   "source": [
    "# 유클리드 제곱거리를 사용하는 할당단계 알고리즘 03\n",
    "distances = tf.reduce_sum(tf.square(tf.subtract(expanded_vectors,\n",
    "                                               expanded_centroide)), 2)\n",
    "assignments = tf.argmin(distances,0)"
   ]
  },
  {
   "cell_type": "markdown",
   "metadata": {},
   "source": [
    "### 05) 새로운 중심 계산하기\n",
    "- https://tensorflow.blog/3-%ED%85%90%EC%84%9C%ED%94%8C%EB%A1%9C%EC%9A%B0-%ED%81%B4%EB%9F%AC%EC%8A%A4%ED%84%B0%EB%A7%81-first-contact-with-tensorflow/"
   ]
  },
  {
   "cell_type": "code",
   "execution_count": null,
   "metadata": {
    "collapsed": true
   },
   "outputs": [],
   "source": []
  },
  {
   "cell_type": "code",
   "execution_count": null,
   "metadata": {
    "collapsed": true
   },
   "outputs": [],
   "source": []
  },
  {
   "cell_type": "code",
   "execution_count": null,
   "metadata": {
    "collapsed": true
   },
   "outputs": [],
   "source": []
  },
  {
   "cell_type": "code",
   "execution_count": null,
   "metadata": {
    "collapsed": true
   },
   "outputs": [],
   "source": []
  },
  {
   "cell_type": "code",
   "execution_count": null,
   "metadata": {
    "collapsed": true
   },
   "outputs": [],
   "source": []
  }
 ],
 "metadata": {
  "kernelspec": {
   "display_name": "Python 3",
   "language": "python",
   "name": "python3"
  },
  "language_info": {
   "codemirror_mode": {
    "name": "ipython",
    "version": 3
   },
   "file_extension": ".py",
   "mimetype": "text/x-python",
   "name": "python",
   "nbconvert_exporter": "python",
   "pygments_lexer": "ipython3",
   "version": "3.5.2"
  }
 },
 "nbformat": 4,
 "nbformat_minor": 2
}
