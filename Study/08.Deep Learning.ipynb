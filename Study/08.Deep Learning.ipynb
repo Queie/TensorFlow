{
 "cells": [
  {
   "cell_type": "markdown",
   "metadata": {},
   "source": [
    "# ch8. Deep Learning\n",
    "- http://pythonkim.tistory.com/32\n",
    "- MarkDown수식 : https://wikidocs.net/1679"
   ]
  },
  {
   "cell_type": "markdown",
   "metadata": {},
   "source": [
    "## 1. Nuran Network"
   ]
  },
  {
   "cell_type": "markdown",
   "metadata": {},
   "source": [
    "### 01) Description"
   ]
  },
  {
   "cell_type": "markdown",
   "metadata": {},
   "source": [
    "- MarkDown수식 : https://en.wikipedia.org/wiki/Help:Displaying_a_formula#Formatting_using_TeX\n",
    "\n",
    "<img src=\"./img/lec_08_04.png\" align=\"left\">"
   ]
  },
  {
   "cell_type": "markdown",
   "metadata": {},
   "source": [
    "<p> $ \\sum_{k=1}^N wX + b $ 각 뉴런의 자극값 </p></br> \n",
    "<p> ==>  Sigmoid로 <strong>역치값</strong> 초과여부 확인 (1,0) One_Hot </p></br>\n",
    "<p> ==> $ f(x) $ 최종함수 활성화</p></br>\n",
    "<img src=\"./img/lec_08_05.png\" align=\"left\">"
   ]
  },
  {
   "cell_type": "markdown",
   "metadata": {},
   "source": [
    "### 02) Problems (XOR)\n",
    "- 자료값이 같으면 '-' / 다르면 '+'를 출력\n",
    "- Linear Regression 으로는 해결할 수 없음이 논문으로 증명"
   ]
  },
  {
   "cell_type": "markdown",
   "metadata": {},
   "source": [
    "<p> Or/ And 관계만 해결하면 모든 문제를 해결 가능하다고 생각했지만 </p></br>\n",
    "<p> Xor관계를  Perception (1969) 논문에서 </p></br>\n",
    "<p> <strong>Multilayer로 풀수는 있지만 학습은 불가능</strong>을 수식으로 증명 </p></br>\n",
    "\n",
    "<img src =\"./img/lec_08_06.png\" align=\"left\">"
   ]
  },
  {
   "cell_type": "markdown",
   "metadata": {},
   "source": [
    "## 2. Backpropagation (1986)"
   ]
  },
  {
   "cell_type": "markdown",
   "metadata": {},
   "source": [
    "### 01) Description"
   ]
  },
  {
   "cell_type": "markdown",
   "metadata": {
    "collapsed": true
   },
   "source": [
    "<p> Solution : BackPropagation (1986) </p></br>\n",
    "<p> forward 방향의 미분 관계와 Backword의 미분 관계를 통해서</p></br>\n",
    "<p> 문제해결과 학습이 가능하다는 논문이 발표 </p></br>\n",
    "<img src =\"./img/lec_08_09.png\" align=\"left\">"
   ]
  },
  {
   "cell_type": "markdown",
   "metadata": {
    "collapsed": true
   },
   "source": [
    "<p> AlphaBet 인식 프로그램의 활성화 </p></br>\n",
    "<p> <strong> 90% </strong> 이상의 인식률에 이른다 </p></br>\n",
    "\n",
    "<img src =\"./img/lec_08_11.png\" align=\"left\">"
   ]
  },
  {
   "cell_type": "markdown",
   "metadata": {},
   "source": [
    "### 02) A Big Problems (1995)\n",
    "- Layer 가 10개 이상인 경우, Backward을 통한 검증의 효율이 떨어짐"
   ]
  },
  {
   "cell_type": "markdown",
   "metadata": {
    "collapsed": true
   },
   "source": [
    "<img src=\"./img/lec_08_14.png\" align=\"left\">"
   ]
  },
  {
   "cell_type": "markdown",
   "metadata": {},
   "source": [
    "## 3. Deep Learning (2006,2007)"
   ]
  },
  {
   "cell_type": "markdown",
   "metadata": {},
   "source": [
    "<p> 초기값만 잘 지정하면 학습이 가능함을 증명</p></br>\n",
    "<p> nuran network로는 주목도가 떨어져서</p></br>\n",
    "<p> 새로운 부흥을 위해 <strong> \"Deep Learning\"</strong> 새로운 이름을 지정</p></br>\n",
    "\n",
    "\n",
    "<img src=\"./img/lec_08_19.png\" align=\"left\">"
   ]
  },
  {
   "cell_type": "markdown",
   "metadata": {},
   "source": [
    "<p> 여러 연구를 통해 <strong>\"인식률\" (음성인식/ 영상인식) 을</strong> 높이는 기술향상에 도달 </p></br>\n",
    "<p> 또한 Deep Learning API를 통해 \"사용자의 알고리즘 선택적 적용\" 까지 보완</p></br>\n",
    "<img src=\"./img/lec_08_22.png\" align=\"left\" width=600>\n",
    "<img src=\"./img/lec_08_23.png\" align=\"left\" width=647>"
   ]
  },
  {
   "cell_type": "code",
   "execution_count": null,
   "metadata": {
    "collapsed": true
   },
   "outputs": [],
   "source": []
  },
  {
   "cell_type": "code",
   "execution_count": null,
   "metadata": {
    "collapsed": true
   },
   "outputs": [],
   "source": []
  }
 ],
 "metadata": {
  "kernelspec": {
   "display_name": "Python 3",
   "language": "python",
   "name": "python3"
  },
  "language_info": {
   "codemirror_mode": {
    "name": "ipython",
    "version": 3
   },
   "file_extension": ".py",
   "mimetype": "text/x-python",
   "name": "python",
   "nbconvert_exporter": "python",
   "pygments_lexer": "ipython3",
   "version": "3.5.2"
  }
 },
 "nbformat": 4,
 "nbformat_minor": 2
}
