{
 "cells": [
  {
   "cell_type": "markdown",
   "metadata": {},
   "source": [
    "# ch 13 CNN\n",
    "- http://pythonkim.tistory.com/52\n",
    "- http://sanghyukchun.github.io/75/"
   ]
  },
  {
   "cell_type": "markdown",
   "metadata": {},
   "source": [
    "## 1. Introduction\n",
    "- 기울기/ 왜곡이 있는 이미지 특징을 추출\n",
    "- 컨볼루션넷을 학습 시킴으로써 ,커널은 주어진 이미지(혹은 주어진 피처맵) 를 잘 필터링 (출처: http://hamait.tistory.com/535 )"
   ]
  },
  {
   "cell_type": "markdown",
   "metadata": {},
   "source": [
    "### 01.다층퍼셉트론으로 단일 이미지를 분류하는 경우\n",
    "#### 1) 특징 \n",
    "- [X좌표값, Y좌표값, 색상({흑백:0~1, 256칼러:0~254})]\n",
    "- [ [x1, y1, color1] , [x2, y2, color2] , [x3, y3, color3] ......] </br><p></p>\n",
    "<img src=\"./img/multilayer-perceptron-for-binary-pixel.png.jpeg\" align =\"left\" width=200 >"
   ]
  },
  {
   "cell_type": "markdown",
   "metadata": {},
   "source": [
    "#### 2) 단점 \n",
    "- 위치가 약간만 달라도  인식이 불가능 \n",
    "- 같은 이미지가 좌측으로 2pixel 이동된 경우 <p></p>\n",
    "<img src=\"./img/cnn-224.jpg\" align =\"left\" width = 630>\n",
    "<img src = \"./img/cnn-225.jpg\" align=\"left\" width = 630>"
   ]
  },
  {
   "cell_type": "markdown",
   "metadata": {},
   "source": [
    "### 02. CNN (Convolutional neural network)\n",
    "- 다양한 위치의 동일특징을 탐색\n",
    "- Image(행렬) - $Dot Product (ReLU) $ - filter(행렬) ==> 특징맵(행렬)\n",
    "- filter를 사용하여 주어진 image의 적절한 feature를 뽑아내기 위해 사용했던 operation\n",
    "- Structure (Detail)\n",
    "  1. Convolution layer : 이미지의 특징을 추출 (RELU 함수로 연결)\n",
    "  2. Pooling layer : 이동 / 왜곡에도 불변하는 특징을 추출 (해상도를 낮추며 특징을 추출)<p></p>\n",
    "  <img src=\"./img/cnn.png\" align=\"left\">"
   ]
  },
  {
   "cell_type": "markdown",
   "metadata": {},
   "source": [
    "- structure <p></p>\n",
    "<img src=\"./img/cnn-227.jpg\" align=\"left\" >"
   ]
  },
  {
   "cell_type": "markdown",
   "metadata": {},
   "source": [
    "<img src=\"./img/cnn-228.jpg\" align=\"left\" width=600>\n",
    "<img src=\"./img/CNN-Figure4-1.png\" align=\"left\" width=700>"
   ]
  },
  {
   "cell_type": "markdown",
   "metadata": {},
   "source": [
    "<img src =\"./img/cnn-75-11.png\" align=\"left\">"
   ]
  },
  {
   "cell_type": "markdown",
   "metadata": {},
   "source": [
    "### 03. Processing"
   ]
  },
  {
   "cell_type": "markdown",
   "metadata": {},
   "source": [
    "- Processing 1 <p></p>\n",
    "<img src=\"./img/cnn-229.jpg\" align=\"left\" >"
   ]
  },
  {
   "cell_type": "markdown",
   "metadata": {},
   "source": [
    "- Processing 2 (filtering)<p></p>\n",
    "<img src=\"./img/cnn-230.jpg\" align=\"left\" >"
   ]
  },
  {
   "cell_type": "markdown",
   "metadata": {},
   "source": [
    "- con V - 중간결합은 RELU 함수로 연결 : [x값, y값, Filter ReLU 연산값]\n",
    "- Pool 을 중간 중간에 실행 ....... (강화학습)\n",
    "- 최종은 FC Fully Connected 를 <strong> Sigmoid </strong>로 결과를 출력 <p></p></br>\n",
    "<img src=\"./img/K-003.png\" align=\"left\" width = 620>\n",
    "<img src=\"./img/cnn-200.png\" align=\"left\" width = 620>"
   ]
  },
  {
   "cell_type": "markdown",
   "metadata": {},
   "source": [
    "## 2. Get One Number using Filter "
   ]
  },
  {
   "cell_type": "markdown",
   "metadata": {},
   "source": [
    "### 01. Filtering\n",
    "- [x값, y값, Filter ReLU 연산값]"
   ]
  },
  {
   "cell_type": "markdown",
   "metadata": {},
   "source": [
    "<p> $ = Wx + b$  </p></br>\n",
    "<p> $ =ReLU(Wx+b) $ <t></t> 를 통해서 </p></br>\n",
    "<p> 각 좌표별 다차원 정보를 1개의 숫자의 묶음로 출력 </p></br>\n",
    "\n",
    "<img src=\"./img/cnn-200.png\" align=\"left\">"
   ]
  },
  {
   "cell_type": "markdown",
   "metadata": {},
   "source": [
    "### 02. Filtering by Stride\n",
    "- Stride : 구역을 나눈 각각의 셀\n",
    "- 출력 크기 = 1 + (입력 크기 - 필터 크기) / stride 크기\n"
   ]
  },
  {
   "cell_type": "markdown",
   "metadata": {},
   "source": [
    "<p> << Stride를 1개씩 건너면서 필터링 >> </p></br>\n",
    "<p> 전체 $= 7 x 7$ || filter $= 3 X 3$ || 검색범위 $= 5 X 5$ </p></br>\n",
    "<p> << Stride를 2개씩 건너면서 필터링 >> </p></br>\n",
    "<p> 전체 $= 7 x 7$ || filter $= 3 X 3$ || 검색범위 $= 3 X 3$ </p></br>\n",
    "<img src=\"./img/K-013.png\" align=\"left\" width = 630>\n",
    "<img src=\"./img/K-014.png\" align=\"left\" width = 630>"
   ]
  },
  {
   "cell_type": "markdown",
   "metadata": {},
   "source": [
    "<p> << Stride 값이 클수록 이미지 분석면적이 작아지는 문제가 발생한다 >> </p></br>\n",
    "\n",
    "<img src = \"./img/K-015.png\" align=\"left\">"
   ]
  },
  {
   "cell_type": "markdown",
   "metadata": {},
   "source": [
    "### 03. Zero Pad\n",
    "- 테두리에 0의 영역을 삽입 (검색 영역을 보장하기 위해서)"
   ]
  },
  {
   "cell_type": "markdown",
   "metadata": {},
   "source": [
    "<p>so... \"pad with 1 pixel\" (0의 값)을 1의 픽셀 테투리에 입력한다 </p></br>\n",
    "<p>이를통해 검색 영역이 실제영역과 동일할 수 있도록 조절이 가능 </p></br>\n",
    "<img src = \"./img/K-017.png\" align=\"left\">"
   ]
  },
  {
   "cell_type": "markdown",
   "metadata": {},
   "source": [
    "## 3. Using Filters\n",
    "- Swiping the entire image\n",
    "- convolution filter 여러 개 만든 다음 그 값들을 concate하여 feature map을 표현\n",
    "- CNN model은 여러 개의 convolution layer가 결합된 꼴을 하고 있다. \n",
    "    1. kernel : 공식적 각각의 layer 혹은 filter를 kernel\n",
    "    2. layer : kernel들이 모여있는 것을 한 layer로 부른다 (출처 : http://masters.donntu.org/2012/fknt/umiarov/diss/indexe.htm#p4)"
   ]
  },
  {
   "cell_type": "markdown",
   "metadata": {
    "collapsed": true
   },
   "source": [
    "<p> Activation Map : 이미지 필터 6개를 합친 1개 필터 </p></br>\n",
    "<img src = \"./img/K-021.png\" align=\"left\">"
   ]
  },
  {
   "cell_type": "markdown",
   "metadata": {},
   "source": [
    "<p> Convolution Layers </p></br>\n",
    "<img src = \"./img/K-023.png\" align=\"left\">"
   ]
  },
  {
   "cell_type": "markdown",
   "metadata": {},
   "source": [
    "## 4. MAX Pooling\n",
    "- Subsampling\n",
    "- 특징맵의 해상도를 줄인다."
   ]
  },
  {
   "cell_type": "markdown",
   "metadata": {
    "collapsed": true
   },
   "source": [
    "### 01. Pooling Layer (sampling)\n",
    "- Pooling layer는 convolution layer의 feature map을 조금 더 줄여주는 역할을 한다 (해상도 축소)\n",
    "- conv 레이어에서 1겹을 꺼낸뒤 Resize\n",
    "- Resize 한 레이어들을 결합한 Activate Map을 생성후 적용<p></p></br>\n",
    "<img src=\"./img/K-004.png\" align=\"left\">"
   ]
  },
  {
   "cell_type": "markdown",
   "metadata": {},
   "source": [
    "### 02. Max Pooling\n",
    "- Resize 한 필터 중 <strong>가장 큰 값</strong>만 모은다\n",
    "- 평균/ 최댓값으로 내용(해상도)를 줄인다 (분류시 최댓값 활용)<p></p></br>\n",
    "<img src=\"./img/K-006.png\" align=\"left\">"
   ]
  },
  {
   "cell_type": "markdown",
   "metadata": {},
   "source": [
    "## 5. CNN Models\n",
    "- Conv Net Js DEMO\n",
    "- http://cs.stanford.edu/people/karpathy/convnetjs/demo/cifar10.html"
   ]
  },
  {
   "cell_type": "markdown",
   "metadata": {},
   "source": [
    "### 01. LeNet-5 (LeCun 교수 : Facebook AI)\n",
    "- 1998년모델, 6개의 hidden layer를 사용\n",
    "    1. 원본 : 32 x 32 x 1 (흑백) \n",
    "    2. feature maps (1 stride) : 6 @ 28 x 27 \n",
    "    3. Pooling (2 stride) : 6 @ 14 x 14  <p></p>\n",
    "<img src = \"./img/K-002.png\" align=\"left\">"
   ]
  },
  {
   "cell_type": "markdown",
   "metadata": {},
   "source": [
    "### 02. Alex Net 모델의 학습\n",
    "- 2012년 우승 모델 , 8개 layer를 활용\n",
    "- ReLu, DropOut(0.5), Ensemble(PC 7대 : 18.2% -> 15.4%) 을 활용\n",
    "\n",
    "    1. 원본 : 227 x 227 x 3 (3색칼라)\n",
    "    2. Convolution Layer (4 stride) : 96@ 11 x 11 x 3\n",
    "        1. layer Output Volume : 55 x 55 x 96\n",
    "        2. layer parameters : (11 x 11 x 3) x 96 = 35k\n",
    "    3. Pooling (2 stride) : 3 x 3\n",
    "        1. Output volume : 27 x 27 x 96\n",
    "        2. parameters : 0\n",
    "    4. Nomalization Layer : 지금은 안쓴다..<p></p>\n",
    "<img src=\"./img/K-016.png\" align=\"left\">"
   ]
  },
  {
   "cell_type": "markdown",
   "metadata": {},
   "source": [
    "### 03. GoogLeNet 모델\n",
    "- 2014년 우승 모델, 19개 layer를 활용\n",
    "- Inception 모듈 : 레고를 쌓듯이 연결한, 비정형적 CNN 모듈\n",
    "<p></p></br></br>\n",
    "<img src=\"./img/K-007.png\" align=\"left\">"
   ]
  },
  {
   "cell_type": "markdown",
   "metadata": {},
   "source": [
    "### 04. ResNET 모델\n",
    "- 2015년 우승 모델 , 152개의 Layer 를 사용<p></p>\n",
    "<img src=\"./img/K-009.png\" align=\"left\">"
   ]
  },
  {
   "cell_type": "markdown",
   "metadata": {},
   "source": [
    "- Fast Forword 를 적용해서 실제로는 깊지 않은 layer 처럼 작동\n",
    "- 왜 잘되는지는 설명하기 어렵다.<p></p>\n",
    "<img src=\"./img/K-010.png\" align=\"left\">\n",
    "<img src=\"./img/K-0112.png\" align=\"left\">"
   ]
  },
  {
   "cell_type": "markdown",
   "metadata": {},
   "source": [
    "### 05. CNN for Sentence Classification \n",
    "- Text에 CNN 응용 <p></p>\n",
    "<img src = \"./img/K-0132.png\" align = \"left\">"
   ]
  },
  {
   "cell_type": "markdown",
   "metadata": {},
   "source": [
    "### 05. Alpha GO\n",
    "- DeepMind's<p></p>\n",
    "    1. 원본 : 19 x 19 x 48 (feature plan)\n",
    "    2. Hidden Layer : 23 x 23 (zero pad)\n",
    "    3. Kernel : 5 x 5 (filter) (stride 1) ....<p></p>\n",
    "<img src=\"./img/K-018.png\" align=\"left\">"
   ]
  },
  {
   "cell_type": "markdown",
   "metadata": {},
   "source": []
  },
  {
   "cell_type": "code",
   "execution_count": null,
   "metadata": {
    "collapsed": true
   },
   "outputs": [],
   "source": []
  }
 ],
 "metadata": {
  "kernelspec": {
   "display_name": "Python 3",
   "language": "python",
   "name": "python3"
  },
  "language_info": {
   "codemirror_mode": {
    "name": "ipython",
    "version": 3
   },
   "file_extension": ".py",
   "mimetype": "text/x-python",
   "name": "python",
   "nbconvert_exporter": "python",
   "pygments_lexer": "ipython3",
   "version": "3.5.2"
  }
 },
 "nbformat": 4,
 "nbformat_minor": 2
}
