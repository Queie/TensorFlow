{
 "cells": [
  {
   "cell_type": "markdown",
   "metadata": {},
   "source": [
    "# Chapter 4 - Identifying Words\n",
    "품사태깅 - 단어식별"
   ]
  },
  {
   "cell_type": "markdown",
   "metadata": {},
   "source": [
    "<br></br>\n",
    "## 1 품사태깅\n",
    "POS : Parts of Speech\n",
    "\n",
    "https://www.ling.upenn.edu/courses/Fall_2003/ling001/penn_treebank_pos.html : Tag list"
   ]
  },
  {
   "cell_type": "markdown",
   "metadata": {},
   "source": [
    "### 01 nltk.pos_tag()\n",
    "sentence 의 tag 붙이기"
   ]
  },
  {
   "cell_type": "code",
   "execution_count": 6,
   "metadata": {},
   "outputs": [
    {
     "data": {
      "text/plain": [
       "['It', 'is', 'a', 'pleasant', 'day', 'today']"
      ]
     },
     "execution_count": 6,
     "metadata": {},
     "output_type": "execute_result"
    }
   ],
   "source": [
    "# token 으로 나눈다\n",
    "import nltk\n",
    "text = nltk.word_tokenize(\"It is a pleasant day today\"); text"
   ]
  },
  {
   "cell_type": "code",
   "execution_count": 7,
   "metadata": {},
   "outputs": [
    {
     "data": {
      "text/plain": [
       "[('It', 'PRP'),\n",
       " ('is', 'VBZ'),\n",
       " ('a', 'DT'),\n",
       " ('pleasant', 'JJ'),\n",
       " ('day', 'NN'),\n",
       " ('today', 'NN')]"
      ]
     },
     "execution_count": 7,
     "metadata": {},
     "output_type": "execute_result"
    }
   ],
   "source": [
    "# nltk.pos_tag() : word token list 를 삽입하면 된다\n",
    "nltk.pos_tag(['It', 'is', 'a', 'pleasant', 'day', 'today'])"
   ]
  },
  {
   "cell_type": "code",
   "execution_count": 9,
   "metadata": {},
   "outputs": [
    {
     "name": "stdout",
     "output_type": "stream",
     "text": [
      "NNS: noun, common, plural\n",
      "    undergraduates scotches bric-a-brac products bodyguards facets coasts\n",
      "    divestitures storehouses designs clubs fragrances averages\n",
      "    subjectivists apprehensions muses factory-jobs ...\n",
      "None\n"
     ]
    }
   ],
   "source": [
    "# 해당 tag의 내용 확인하기\n",
    "import nltk\n",
    "nltk.help.upenn_tagset('NNS') # 복수주어"
   ]
  },
  {
   "cell_type": "code",
   "execution_count": 10,
   "metadata": {},
   "outputs": [
    {
     "name": "stdout",
     "output_type": "stream",
     "text": [
      "VB: verb, base form\n",
      "    ask assemble assess assign assume atone attention avoid bake balkanize\n",
      "    bank begin behold believe bend benefit bevel beware bless boil bomb\n",
      "    boost brace break bring broil brush build ...\n",
      "VBD: verb, past tense\n",
      "    dipped pleaded swiped regummed soaked tidied convened halted registered\n",
      "    cushioned exacted snubbed strode aimed adopted belied figgered\n",
      "    speculated wore appreciated contemplated ...\n",
      "VBG: verb, present participle or gerund\n",
      "    telegraphing stirring focusing angering judging stalling lactating\n",
      "    hankerin' alleging veering capping approaching traveling besieging\n",
      "    encrypting interrupting erasing wincing ...\n",
      "VBN: verb, past participle\n",
      "    multihulled dilapidated aerosolized chaired languished panelized used\n",
      "    experimented flourished imitated reunifed factored condensed sheared\n",
      "    unsettled primed dubbed desired ...\n",
      "VBP: verb, present tense, not 3rd person singular\n",
      "    predominate wrap resort sue twist spill cure lengthen brush terminate\n",
      "    appear tend stray glisten obtain comprise detest tease attract\n",
      "    emphasize mold postpone sever return wag ...\n",
      "VBZ: verb, present tense, 3rd person singular\n",
      "    bases reconstructs marks mixes displeases seals carps weaves snatches\n",
      "    slumps stretches authorizes smolders pictures emerges stockpiles\n",
      "    seduces fizzes uses bolsters slaps speaks pleads ...\n",
      "None\n"
     ]
    }
   ],
   "source": [
    "# 정규표현식으로 tag 내용 확인하기\n",
    "# 동사관련 내용들 확인\n",
    "import nltk\n",
    "nltk.help.upenn_tagset('VB.*')"
   ]
  },
  {
   "cell_type": "code",
   "execution_count": 15,
   "metadata": {},
   "outputs": [
    {
     "data": {
      "text/plain": [
       "[('I', 'PRP'),\n",
       " ('can', 'MD'),\n",
       " ('not', 'RB'),\n",
       " ('bear', 'VB'),\n",
       " ('the', 'DT'),\n",
       " ('pain', 'NN'),\n",
       " ('of', 'IN'),\n",
       " ('bear', 'NN')]"
      ]
     },
     "execution_count": 15,
     "metadata": {},
     "output_type": "execute_result"
    }
   ],
   "source": [
    "import nltk\n",
    "text=nltk.word_tokenize(\"I cannot bear the pain of bear\")\n",
    "nltk.pos_tag(text)"
   ]
  },
  {
   "cell_type": "markdown",
   "metadata": {},
   "source": [
    "### 02 nltk.tag.str2tuple()\n",
    "sacred/VBN Ganga/NNP : text와 tag 같이붙은 단어를 나눈다 (regex)"
   ]
  },
  {
   "cell_type": "code",
   "execution_count": 16,
   "metadata": {},
   "outputs": [
    {
     "data": {
      "text/plain": [
       "('bear', 'MD')"
      ]
     },
     "execution_count": 16,
     "metadata": {},
     "output_type": "execute_result"
    }
   ],
   "source": [
    "import nltk\n",
    "taggedword = nltk.tag.str2tuple('bear/MD'); taggedword"
   ]
  },
  {
   "cell_type": "code",
   "execution_count": 69,
   "metadata": {
    "scrolled": false
   },
   "outputs": [
    {
     "data": {
      "text/plain": [
       "[('The', 'DT'),\n",
       " ('sacred', 'VBN'),\n",
       " ('Ganga', 'NNP'),\n",
       " ('flows', 'VBZ'),\n",
       " ('in', 'IN'),\n",
       " ('this', 'DT'),\n",
       " ('region', 'NN'),\n",
       " ('.', '.'),\n",
       " ('This', 'DT'),\n",
       " ('is', 'VBZ'),\n",
       " ('a', 'DT'),\n",
       " ('pilgrimage', 'NN'),\n",
       " ('.', '.'),\n",
       " ('People', 'NNP'),\n",
       " ('from', 'IN'),\n",
       " ('all', 'DT'),\n",
       " ('over', 'IN'),\n",
       " ('the', 'DT'),\n",
       " ('country', 'NN'),\n",
       " ('visit', 'NN'),\n",
       " ('this', 'DT'),\n",
       " ('place', 'NN'),\n",
       " ('.', '.')]"
      ]
     },
     "execution_count": 69,
     "metadata": {},
     "output_type": "execute_result"
    }
   ],
   "source": [
    "import nltk\n",
    "sentence = '''The/DT sacred/VBN Ganga/NNP flows/VBZ in/IN this/DT region/NN \n",
    "              ./. This/DT is/VBZ a/DT pilgrimage/NN ./. People/NNP from/IN all/DT \n",
    "              over/IN the/DT country/NN visit/NN this/DT place/NN ./. '''\n",
    "[nltk.tag.str2tuple(t) for t in sentence.split()]"
   ]
  },
  {
   "cell_type": "code",
   "execution_count": 18,
   "metadata": {},
   "outputs": [
    {
     "data": {
      "text/plain": [
       "'bear/NN'"
      ]
     },
     "execution_count": 18,
     "metadata": {},
     "output_type": "execute_result"
    }
   ],
   "source": [
    "# tuple2str() : tag tuple\n",
    "import nltk\n",
    "taggedtok = ('bear', 'NN')\n",
    "from nltk.tag.util import tuple2str\n",
    "tuple2str(taggedtok)"
   ]
  },
  {
   "cell_type": "code",
   "execution_count": 23,
   "metadata": {},
   "outputs": [
    {
     "name": "stdout",
     "output_type": "stream",
     "text": [
      "treebank_tagged : 100676\n"
     ]
    },
    {
     "data": {
      "text/plain": [
       "[('NOUN', 28867), ('VERB', 13564), ('.', 11715), ('ADP', 9857), ('DET', 8725)]"
      ]
     },
     "execution_count": 23,
     "metadata": {},
     "output_type": "execute_result"
    }
   ],
   "source": [
    "# treebank 말뭉치를 기준으로 연산\n",
    "import nltk\n",
    "from nltk.corpus import treebank\n",
    "treebank_tagged = treebank.tagged_words(tagset='universal')\n",
    "print('treebank_tagged :', len(treebank_tagged))\n",
    "\n",
    "tag = nltk.FreqDist(tag    for (word, tag) in treebank_tagged)\n",
    "tag.most_common(5) # count 결과를 출력"
   ]
  },
  {
   "cell_type": "code",
   "execution_count": 21,
   "metadata": {},
   "outputs": [
    {
     "name": "stdout",
     "output_type": "stream",
     "text": [
      "['NOUN', 'DET', 'ADJ', 'ADP', '.', 'VERB', 'NUM', 'PRT', 'CONJ', 'PRON', 'X', 'ADV']\n"
     ]
    }
   ],
   "source": [
    "# 명사 태그전에 발생한 tag의 수를 계산\n",
    "tagpairs = nltk.bigrams(treebank_tagged)\n",
    "preceders_noun = [x[1] for (x, y) in tagpairs if y[1] == 'NOUN']\n",
    "freqdist = nltk.FreqDist(preceders_noun)\n",
    "[tag for (tag, _) in freqdist.most_common()]"
   ]
  },
  {
   "cell_type": "code",
   "execution_count": 26,
   "metadata": {},
   "outputs": [
    {
     "data": {
      "text/plain": [
       "{'beautiful': 'ADJ', 'boy': 'N', 'generously': 'ADV', 'read': 'V'}"
      ]
     },
     "execution_count": 26,
     "metadata": {},
     "output_type": "execute_result"
    }
   ],
   "source": [
    "# 기본적인 tuple 생성\n",
    "tag={}\n",
    "tag['beautiful']='ADJ'\n",
    "tag['boy']='N'\n",
    "tag['read']='V'\n",
    "tag['generously']='ADV'\n",
    "tag"
   ]
  },
  {
   "cell_type": "markdown",
   "metadata": {},
   "source": [
    "### 03 기본태깅\n",
    "DefaultTagger"
   ]
  },
  {
   "cell_type": "code",
   "execution_count": 27,
   "metadata": {},
   "outputs": [
    {
     "data": {
      "text/plain": [
       "[('Beautiful', 'NN'), ('morning', 'NN')]"
      ]
     },
     "execution_count": 27,
     "metadata": {},
     "output_type": "execute_result"
    }
   ],
   "source": [
    "# 사용자가 특정한 tag를 첨부\n",
    "from nltk.tag import DefaultTagger\n",
    "tag = DefaultTagger('NN')\n",
    "tag.tag(['Beautiful', 'morning'])"
   ]
  },
  {
   "cell_type": "code",
   "execution_count": 28,
   "metadata": {},
   "outputs": [
    {
     "data": {
      "text/plain": [
       "['beautiful', 'morning']"
      ]
     },
     "execution_count": 28,
     "metadata": {},
     "output_type": "execute_result"
    }
   ],
   "source": [
    "# tag 포함된 tuple의 tag를 삭제하\n",
    "from nltk.tag import untag\n",
    "untag([('beautiful', 'NN'), ('morning', 'NN')])"
   ]
  },
  {
   "cell_type": "markdown",
   "metadata": {},
   "source": [
    "<br></br>\n",
    "## 2 POS-tagged corpors 생성하기\n",
    "corpora : 말뭉치의 집합"
   ]
  },
  {
   "cell_type": "code",
   "execution_count": 31,
   "metadata": {},
   "outputs": [
    {
     "name": "stdout",
     "output_type": "stream",
     "text": [
      "True\n",
      "False\n"
     ]
    }
   ],
   "source": [
    "# ~/nltkdoc 폴더를 생성\n",
    "import nltk, os,os.path\n",
    "create = os.path.expanduser('~/nltkdoc')\n",
    "# 폴더 존재 확인\n",
    "if not os.path.exists(create):\n",
    "    os.mkdir(create)\n",
    "print(os.path.exists(create))\n",
    "# \n",
    "import nltk.data\n",
    "print(create in nltk.data.path)"
   ]
  },
  {
   "cell_type": "code",
   "execution_count": 36,
   "metadata": {},
   "outputs": [
    {
     "data": {
      "text/plain": [
       "b'\\xef\\xbb\\xbfThe Project Gutenberg EBook of An Inquiry into the Nature and Causes of\\r\\nthe Wealth of Nations, by Adam Smith\\r\\n\\r\\nThis eBook is for the use of anyone anywhere at no cost and with\\r\\nalmost no restrictions whatsoever.  You may copy it, give it away or\\r\\nre-use it under the terms of the Project Gutenbe'"
      ]
     },
     "execution_count": 36,
     "metadata": {},
     "output_type": "execute_result"
    }
   ],
   "source": [
    "# text 파일 불러오기\n",
    "import nltk.data\n",
    "nltk.data.load('./data/adam_smith.txt',format='raw')[:300]"
   ]
  },
  {
   "cell_type": "code",
   "execution_count": 56,
   "metadata": {},
   "outputs": [
    {
     "name": "stdout",
     "output_type": "stream",
     "text": [
      "['female.txt', 'male.txt']\n",
      "male.txt   len(2943) : ['Aamir', 'Aaron', 'Abbey', 'Abbie', 'Abbot', 'Abbott', 'Abby', 'Abdel', 'Abdul', 'Abdulkarim']\n",
      "female.txt len(5001) : ['Abagael', 'Abagail', 'Abbe', 'Abbey', 'Abbi', 'Abbie', 'Abby', 'Abigael', 'Abigail', 'Abigale']\n"
     ]
    }
   ],
   "source": [
    "# names 말뭉치 활용\n",
    "from nltk.corpus import names\n",
    "print(names.fileids())  # 여성이름/ 남성이름 샘플을 불러온다\n",
    "print('male.txt   len({}) : {}'.format(len(names.words('male.txt')), names.words('male.txt')[:10]))\n",
    "print('female.txt len({}) : {}'.format(len(names.words('female.txt')), names.words('female.txt')[:10]))"
   ]
  },
  {
   "cell_type": "code",
   "execution_count": 58,
   "metadata": {},
   "outputs": [
    {
     "name": "stdout",
     "output_type": "stream",
     "text": [
      "['en', 'en-basic']\n",
      "en      : 235886\n",
      "en-basic: 850\n"
     ]
    }
   ],
   "source": [
    "# words 말뭉치 활용\n",
    "from nltk.corpus import words\n",
    "print(words.fileids())\n",
    "print('en      :', len(words.words('en')))\n",
    "print('en-basic:',len(words.words('en-basic')))"
   ]
  },
  {
   "cell_type": "markdown",
   "metadata": {},
   "source": [
    "<br></br>\n",
    "## 3 기계학습 알고리즘\n",
    "rule-based, probabilistic (태깅규칙, 확률) 규칙기반 알고리즘"
   ]
  },
  {
   "cell_type": "code",
   "execution_count": null,
   "metadata": {
    "collapsed": true
   },
   "outputs": [],
   "source": [
    "# nltk.tag 관련 모듈들이 현재는 비존재..."
   ]
  },
  {
   "cell_type": "code",
   "execution_count": 62,
   "metadata": {},
   "outputs": [],
   "source": [
    "# FastBrillTaggerTrainer, SymmetricProximateTokensTemplate 가 없음\n",
    "\n",
    "from nltk.tag import UnigramTagger\n",
    "#from nltk.tag import FastBrillTaggerTrainer\n",
    "#from nltk.tag.brill import SymmetricProximateTokensTemplate"
   ]
  },
  {
   "cell_type": "code",
   "execution_count": 72,
   "metadata": {},
   "outputs": [],
   "source": [
    "#from nltk.tag.brill import ProximateTokensTemplate\n",
    "#from nltk.tag.brill import ProximateTagsRule\n",
    "#from nltk.tag.brill import ProximateWordsRule\n",
    "# ctx = [ # Context = surrounding words and tags.\n",
    "#     SymmetricProximateTokensTemplate(ProximateTagsRule, (1, 1)),\n",
    "#     SymmetricProximateTokensTemplate(ProximateTagsRule, (1, 2)),\n",
    "#     SymmetricProximateTokensTemplate(ProximateTagsRule, (1, 3)),\n",
    "#     SymmetricProximateTokensTemplate(ProximateTagsRule, (2, 2)),\n",
    "#     SymmetricProximateTokensTemplate(ProximateWordsRule, (0, 0)),\n",
    "#     SymmetricProximateTokensTemplate(ProximateWordsRule, (1, 1)),\n",
    "#     SymmetricProximateTokensTemplate(ProximateWordsRule, (1, 2)),\n",
    "#     ProximateTokensTemplate(ProximateTagsRule, (-1, -1), (1, 1)),]\n",
    "#tagger = UnigramTagger(sentence)\n",
    "#tagger = FastBrillTaggerTrainer(tagger, ctx, trace=0)\n",
    "#tagger = tagger.train(sentences, max_rules=100)"
   ]
  },
  {
   "cell_type": "markdown",
   "metadata": {},
   "source": [
    "<br></br>\n",
    "## 4 n-gram 접근법과 관련된 통계 모델링\n",
    "UnigramTagger"
   ]
  },
  {
   "cell_type": "markdown",
   "metadata": {},
   "source": [
    "### 01 UnigramTagger 의 훈련 및 검증\n",
    "UnigramTagger"
   ]
  },
  {
   "cell_type": "code",
   "execution_count": 76,
   "metadata": {},
   "outputs": [
    {
     "data": {
      "text/plain": [
       "[[('Pierre', 'NNP'), ('Vinken', 'NNP'), (',', ','), ('61', 'CD'), ('years', 'NNS'), ('old', 'JJ'), (',', ','), ('will', 'MD'), ('join', 'VB'), ('the', 'DT'), ('board', 'NN'), ('as', 'IN'), ('a', 'DT'), ('nonexecutive', 'JJ'), ('director', 'NN'), ('Nov.', 'NNP'), ('29', 'CD'), ('.', '.')], [('Mr.', 'NNP'), ('Vinken', 'NNP'), ('is', 'VBZ'), ('chairman', 'NN'), ('of', 'IN'), ('Elsevier', 'NNP'), ('N.V.', 'NNP'), (',', ','), ('the', 'DT'), ('Dutch', 'NNP'), ('publishing', 'VBG'), ('group', 'NN'), ('.', '.')], ...]"
      ]
     },
     "execution_count": 76,
     "metadata": {},
     "output_type": "execute_result"
    }
   ],
   "source": [
    "# TreeBank 말뭉치의 7,000개 문장을 훈련\n",
    "import nltk\n",
    "from nltk.tag import UnigramTagger\n",
    "from nltk.corpus import treebank\n",
    "training = treebank.tagged_sents()[:7000]\n",
    "training"
   ]
  },
  {
   "cell_type": "code",
   "execution_count": 80,
   "metadata": {},
   "outputs": [
    {
     "data": {
      "text/plain": [
       "[('Pierre', 'NNP'),\n",
       " ('Vinken', 'NNP'),\n",
       " (',', ','),\n",
       " ('61', 'CD'),\n",
       " ('years', 'NNS'),\n",
       " ('old', 'JJ'),\n",
       " (',', ','),\n",
       " ('will', 'MD'),\n",
       " ('join', 'VB'),\n",
       " ('the', 'DT'),\n",
       " ('board', 'NN'),\n",
       " ('as', 'IN'),\n",
       " ('a', 'DT'),\n",
       " ('nonexecutive', 'JJ'),\n",
       " ('director', 'NN'),\n",
       " ('Nov.', 'NNP'),\n",
       " ('29', 'CD'),\n",
       " ('.', '.')]"
      ]
     },
     "execution_count": 80,
     "metadata": {},
     "output_type": "execute_result"
    }
   ],
   "source": [
    "unitagger = UnigramTagger(training)\n",
    "# treebank.sents()[0]              # tag제거한 word만 출력\n",
    "unitagger.tag(treebank.sents()[0]) # tag를 붙여서 출력"
   ]
  },
  {
   "cell_type": "code",
   "execution_count": 82,
   "metadata": {},
   "outputs": [
    {
     "data": {
      "text/plain": [
       "0.9619024159944167"
      ]
     },
     "execution_count": 82,
     "metadata": {},
     "output_type": "execute_result"
    }
   ],
   "source": [
    "training = treebank.tagged_sents()[:7000]\n",
    "testing = treebank.tagged_sents()[2000:]\n",
    "\n",
    "unitagger = UnigramTagger(training) # train 훈련 시행\n",
    "unitagger.evaluate(testing)         # test를 활용평가 (정확도 측정)"
   ]
  },
  {
   "cell_type": "code",
   "execution_count": 83,
   "metadata": {},
   "outputs": [
    {
     "data": {
      "text/plain": [
       "[('Pierre', None),\n",
       " ('Vinken', 'NN'),\n",
       " (',', None),\n",
       " ('61', None),\n",
       " ('years', None),\n",
       " ('old', None),\n",
       " (',', None),\n",
       " ('will', None),\n",
       " ('join', None),\n",
       " ('the', None),\n",
       " ('board', None),\n",
       " ('as', None),\n",
       " ('a', None),\n",
       " ('nonexecutive', None),\n",
       " ('director', None),\n",
       " ('Nov.', None),\n",
       " ('29', None),\n",
       " ('.', None)]"
      ]
     },
     "execution_count": 83,
     "metadata": {},
     "output_type": "execute_result"
    }
   ],
   "source": [
    "unitag = UnigramTagger(model={'Vinken': 'NN'})\n",
    "unitag.tag(treebank.sents()[0])"
   ]
  },
  {
   "cell_type": "code",
   "execution_count": 84,
   "metadata": {},
   "outputs": [
    {
     "data": {
      "text/plain": [
       "0.7972986842375351"
      ]
     },
     "execution_count": 84,
     "metadata": {},
     "output_type": "execute_result"
    }
   ],
   "source": [
    "# 최소 임계빈도를 측정하기 위한 특정값을 cut-off값에 전달\n",
    "unitagger = UnigramTagger(training, cutoff=5)\n",
    "unitagger.evaluate(testing)"
   ]
  },
  {
   "cell_type": "code",
   "execution_count": 85,
   "metadata": {},
   "outputs": [
    {
     "data": {
      "text/plain": [
       "0.9619024159944167"
      ]
     },
     "execution_count": 85,
     "metadata": {},
     "output_type": "execute_result"
    }
   ],
   "source": [
    "# back-off tagging을 테스트\n",
    "# 다른 프로세서와의 통신시 정상적인 흐름이 되지 않을 때 일정 시간동안 특정 간격으로 같은 데이터를 재 요청\n",
    "from nltk.tag import UnigramTagger, DefaultTagger\n",
    "from nltk.corpus import treebank\n",
    "\n",
    "testing  = treebank.tagged_sents()[2000:]\n",
    "training = treebank.tagged_sents()[:7000]\n",
    "tag1 = DefaultTagger('NN')\n",
    "tag2 = UnigramTagger(training, backoff = tag1)\n",
    "tag2.evaluate(testing)"
   ]
  },
  {
   "cell_type": "markdown",
   "metadata": {},
   "source": [
    "### 02 BigramTagger 의 훈련 및 검증\n",
    "BigramTagger"
   ]
  },
  {
   "cell_type": "code",
   "execution_count": 86,
   "metadata": {},
   "outputs": [
    {
     "data": {
      "text/plain": [
       "['Pierre',\n",
       " 'Vinken',\n",
       " ',',\n",
       " '61',\n",
       " 'years',\n",
       " 'old',\n",
       " ',',\n",
       " 'will',\n",
       " 'join',\n",
       " 'the',\n",
       " 'board',\n",
       " 'as',\n",
       " 'a',\n",
       " 'nonexecutive',\n",
       " 'director',\n",
       " 'Nov.',\n",
       " '29',\n",
       " '.']"
      ]
     },
     "execution_count": 86,
     "metadata": {},
     "output_type": "execute_result"
    }
   ],
   "source": [
    "from nltk.tag import BigramTagger\n",
    "from nltk.corpus import treebank\n",
    "\n",
    "training_1 = treebank.tagged_sents()[:7000]\n",
    "# BigramTagger 훈련\n",
    "bigramtagger = BigramTagger(training_1)\n",
    "treebank.sents()[0]"
   ]
  },
  {
   "cell_type": "code",
   "execution_count": 87,
   "metadata": {},
   "outputs": [
    {
     "data": {
      "text/plain": [
       "[('Pierre', 'NNP'),\n",
       " ('Vinken', 'NNP'),\n",
       " (',', ','),\n",
       " ('61', 'CD'),\n",
       " ('years', 'NNS'),\n",
       " ('old', 'JJ'),\n",
       " (',', ','),\n",
       " ('will', 'MD'),\n",
       " ('join', 'VB'),\n",
       " ('the', 'DT'),\n",
       " ('board', 'NN'),\n",
       " ('as', 'IN'),\n",
       " ('a', 'DT'),\n",
       " ('nonexecutive', 'JJ'),\n",
       " ('director', 'NN'),\n",
       " ('Nov.', 'NNP'),\n",
       " ('29', 'CD'),\n",
       " ('.', '.')]"
      ]
     },
     "execution_count": 87,
     "metadata": {},
     "output_type": "execute_result"
    }
   ],
   "source": [
    "bigramtagger.tag(treebank.sents()[0])"
   ]
  },
  {
   "cell_type": "code",
   "execution_count": 88,
   "metadata": {},
   "outputs": [
    {
     "data": {
      "text/plain": [
       "0.9171131227292321"
      ]
     },
     "execution_count": 88,
     "metadata": {},
     "output_type": "execute_result"
    }
   ],
   "source": [
    "# BigramTagger 검증\n",
    "testing_1 = treebank.tagged_sents()[2000:]\n",
    "bigramtagger.evaluate(testing_1)"
   ]
  },
  {
   "cell_type": "markdown",
   "metadata": {},
   "source": [
    "### 03 BigramTagger , TrigramTagger.. etc 를 활용한 학습\n",
    "BigramTagger, TrigramTagger"
   ]
  },
  {
   "cell_type": "code",
   "execution_count": 89,
   "metadata": {},
   "outputs": [
    {
     "name": "stdout",
     "output_type": "stream",
     "text": [
      "bigramtag : 0.9171131227292321\n",
      "trigramtag: 0.9022107272615308\n"
     ]
    }
   ],
   "source": [
    "# BigramTagger, TrigramTagger 를 훈련 및 검증비교\n",
    "from nltk.tag import BigramTagger, TrigramTagger\n",
    "from nltk.corpus import treebank\n",
    "training  = treebank.tagged_sents()[:7000]\n",
    "testing   = treebank.tagged_sents()[2000:]\n",
    "\n",
    "bigramtag = BigramTagger(training)\n",
    "trigramtag = TrigramTagger(training)\n",
    "print('bigramtag :',bigramtag.evaluate(testing))\n",
    "print('trigramtag:',trigramtag.evaluate(testing))"
   ]
  },
  {
   "cell_type": "code",
   "execution_count": 90,
   "metadata": {},
   "outputs": [
    {
     "data": {
      "text/plain": [
       "0.9304554878173943"
      ]
     },
     "execution_count": 90,
     "metadata": {},
     "output_type": "execute_result"
    }
   ],
   "source": [
    "# quadgramtag 를 훈련 및 검증\n",
    "from nltk.corpus import treebank\n",
    "from nltk import NgramTagger\n",
    "\n",
    "testing = treebank.tagged_sents()[2000:]\n",
    "training= treebank.tagged_sents()[:7000]\n",
    "quadgramtag = NgramTagger(4, training)\n",
    "quadgramtag.evaluate(testing)"
   ]
  },
  {
   "cell_type": "markdown",
   "metadata": {},
   "source": [
    "### 04 affixtag로 학습 및 검증\n",
    "affixtag"
   ]
  },
  {
   "cell_type": "code",
   "execution_count": 91,
   "metadata": {},
   "outputs": [
    {
     "data": {
      "text/plain": [
       "0.2902682841718497"
      ]
     },
     "execution_count": 91,
     "metadata": {},
     "output_type": "execute_result"
    }
   ],
   "source": [
    "# affixtag : 접두사, 점미사를 활용한 학습 및 검증\n",
    "from nltk.tag import AffixTagger\n",
    "from nltk.corpus import treebank\n",
    "\n",
    "testing = treebank.tagged_sents()[2000:]\n",
    "training= treebank.tagged_sents()[:7000]\n",
    "affixtag = AffixTagger(training)\n",
    "affixtag.evaluate(testing)"
   ]
  },
  {
   "cell_type": "code",
   "execution_count": 92,
   "metadata": {},
   "outputs": [
    {
     "data": {
      "text/plain": [
       "0.2094751318841472"
      ]
     },
     "execution_count": 92,
     "metadata": {},
     "output_type": "execute_result"
    }
   ],
   "source": [
    "# affixtag : (+4) 4개의 접두사 묶어서 학습 및 검증\n",
    "from nltk.tag import AffixTagger\n",
    "from nltk.corpus import treebank\n",
    "\n",
    "testing = treebank.tagged_sents()[2000:]\n",
    "training= treebank.tagged_sents()[:7000]\n",
    "prefixtag = AffixTagger(training, affix_length = 4)\n",
    "prefixtag.evaluate(testing)"
   ]
  },
  {
   "cell_type": "code",
   "execution_count": 93,
   "metadata": {},
   "outputs": [
    {
     "data": {
      "text/plain": [
       "0.25699447831352507"
      ]
     },
     "execution_count": 93,
     "metadata": {},
     "output_type": "execute_result"
    }
   ],
   "source": [
    "# affixtag : (-3) 3개의 접미사 묶어서 학습 및 검증\n",
    "prefixtag = AffixTagger(training, affix_length = 3)\n",
    "prefixtag.evaluate(testing)"
   ]
  },
  {
   "cell_type": "code",
   "execution_count": 95,
   "metadata": {},
   "outputs": [
    {
     "data": {
      "text/plain": [
       "0.25841082168442225"
      ]
     },
     "execution_count": 95,
     "metadata": {},
     "output_type": "execute_result"
    }
   ],
   "source": [
    "# affitag 를 back-off chain 로 학습 및 검증\n",
    "testing = treebank.tagged_sents()[2000:]\n",
    "training= treebank.tagged_sents()[:7000]\n",
    "\n",
    "prefixtagger = AffixTagger(training, affix_length = 4)\n",
    "prefixtagger3 = AffixTagger(training,affix_length = 3, backoff = prefixtagger)\n",
    "prefixtagger3.evaluate(testing)"
   ]
  },
  {
   "cell_type": "code",
   "execution_count": 96,
   "metadata": {},
   "outputs": [
    {
     "data": {
      "text/plain": [
       "0.2940451998275756"
      ]
     },
     "execution_count": 96,
     "metadata": {},
     "output_type": "execute_result"
    }
   ],
   "source": [
    "suffixtagger3 = AffixTagger(training, affix_length = -3, backoff = prefixtagger3)\n",
    "suffixtagger3.evaluate(testing)"
   ]
  },
  {
   "cell_type": "code",
   "execution_count": 97,
   "metadata": {},
   "outputs": [
    {
     "data": {
      "text/plain": [
       "0.33072644046226163"
      ]
     },
     "execution_count": 97,
     "metadata": {},
     "output_type": "execute_result"
    }
   ],
   "source": [
    "suffixtagger4 = AffixTagger(training, affix_length = -4, backoff = suffixtagger3)\n",
    "suffixtagger4.evaluate(testing)"
   ]
  },
  {
   "cell_type": "markdown",
   "metadata": {},
   "source": [
    "### 05 Trigram n Tags - 2차 마르코프모델을 기반한 학습\n",
    "Trigram n Tags "
   ]
  },
  {
   "cell_type": "code",
   "execution_count": 98,
   "metadata": {},
   "outputs": [
    {
     "data": {
      "text/plain": [
       "0.9882176652913768"
      ]
     },
     "execution_count": 98,
     "metadata": {},
     "output_type": "execute_result"
    }
   ],
   "source": [
    "from nltk.tag import tnt\n",
    "from nltk.corpus import treebank\n",
    "\n",
    "testing = treebank.tagged_sents()[2000:]\n",
    "training= treebank.tagged_sents()[:7000]\n",
    "tnt_tagger=tnt.TnT()\n",
    "tnt_tagger.train(training)\n",
    "tnt_tagger.evaluate(testing)"
   ]
  },
  {
   "cell_type": "markdown",
   "metadata": {},
   "source": [
    "## 5 pos-tagged data를 사용한 chunker 개발\n",
    "chunker를 설계 및 수행"
   ]
  },
  {
   "cell_type": "code",
   "execution_count": 101,
   "metadata": {},
   "outputs": [
    {
     "data": {
      "image/png": "[encoded data removed]",
      "text/plain": [
       "Tree('S', [Tree('NP', [('A', 'DT'), ('wise', 'JJ'), ('small', 'JJ'), ('girl', 'NN'), ('of', 'IN'), ('village', 'NN')]), ('became', 'VBD'), Tree('NP', [('leader', 'NN')])])"
      ]
     },
     "execution_count": 101,
     "metadata": {},
     "output_type": "execute_result"
    }
   ],
   "source": [
    "import nltk\n",
    "sent = [(\"A\",\"DT\"),(\"wise\", \"JJ\"), (\"small\", \"JJ\"),(\"girl\", \"NN\"), \n",
    "        (\"of\", \"IN\"), (\"village\", \"N\"),  (\"became\", \"VBD\"), (\"leader\", \"NN\")]\n",
    "sent = [(\"A\",\"DT\"),(\"wise\", \"JJ\"), (\"small\", \"JJ\"),(\"girl\", \"NN\"), \n",
    "        (\"of\", \"IN\"), (\"village\", \"NN\"),  (\"became\", \"VBD\"), (\"leader\", \"NN\")]\n",
    "grammar = \"NP: {<DT>?<JJ>*<NN><IN>?<NN>*}\"\n",
    "find = nltk.RegexpParser(grammar)\n",
    "res = find.parse(sent)\n",
    "res"
   ]
  },
  {
   "cell_type": "code",
   "execution_count": 103,
   "metadata": {
    "collapsed": true
   },
   "outputs": [],
   "source": [
    "#res.draw()"
   ]
  },
  {
   "cell_type": "code",
   "execution_count": 104,
   "metadata": {},
   "outputs": [
    {
     "data": {
      "image/png": "[encoded data removed]",
      "text/plain": [
       "Tree('S', [Tree('NP', [('financial', 'NN'), ('year', 'NN'), ('account', 'NN'), ('summary', 'NN')])])"
      ]
     },
     "execution_count": 104,
     "metadata": {},
     "output_type": "execute_result"
    }
   ],
   "source": [
    "import nltk\n",
    "noun1 = [(\"financial\",\"NN\"),(\"year\",\"NN\"),(\"account\",\"NN\"),(\"summary\",\"NN\")]\n",
    "gram = \"NP:{<NN>+}\"\n",
    "find = nltk.RegexpParser(gram)\n",
    "find.parse(noun1)"
   ]
  },
  {
   "cell_type": "code",
   "execution_count": 105,
   "metadata": {
    "collapsed": true
   },
   "outputs": [],
   "source": [
    "# x = find.parse(noun1)\n",
    "# x.draw()"
   ]
  },
  {
   "cell_type": "code",
   "execution_count": null,
   "metadata": {
    "collapsed": true
   },
   "outputs": [],
   "source": []
  }
 ],
 "metadata": {
  "kernelspec": {
   "display_name": "Python 3",
   "language": "python",
   "name": "python3"
  },
  "language_info": {
   "codemirror_mode": {
    "name": "ipython",
    "version": 3
   },
   "file_extension": ".py",
   "mimetype": "text/x-python",
   "name": "python",
   "nbconvert_exporter": "python",
   "pygments_lexer": "ipython3",
   "version": "3.6.1"
  }
 },
 "nbformat": 4,
 "nbformat_minor": 2
}
