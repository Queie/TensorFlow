{
 "cells": [
  {
   "cell_type": "markdown",
   "metadata": {},
   "source": [
    "# Chapter 4 - Identifying Words\n",
    "품사태깅 - 단어식별"
   ]
  },
  {
   "cell_type": "markdown",
   "metadata": {},
   "source": [
    "<br></br>\n",
    "## 1 품사태깅\n",
    "POS : Parts of Speech\n",
    "\n",
    "https://www.ling.upenn.edu/courses/Fall_2003/ling001/penn_treebank_pos.html : Tag list"
   ]
  },
  {
   "cell_type": "code",
   "execution_count": 1,
   "metadata": {
    "collapsed": true
   },
   "outputs": [],
   "source": [
    "# Part-Of-Speech tagging(POS tagging)은 문장 내 단어들의 품사를 식별하여 태그를 붙여주는 것을 말한다.\n",
    "# 튜플(tuple)의 형태로 출력되며 단어, 태그 로 출력된다. 여기서 태그는 품사(POS) 태그 이다."
   ]
  },
  {
   "cell_type": "markdown",
   "metadata": {},
   "source": [
    "### 01 nltk.pos_tag()\n",
    "sentence 의 tag 붙이기"
   ]
  },
  {
   "cell_type": "code",
   "execution_count": 2,
   "metadata": {},
   "outputs": [
    {
     "data": {
      "text/plain": [
       "['It', 'is', 'a', 'pleasant', 'day', 'today']"
      ]
     },
     "execution_count": 2,
     "metadata": {},
     "output_type": "execute_result"
    }
   ],
   "source": [
    "# token 으로 나눈다\n",
    "import nltk\n",
    "text = nltk.word_tokenize(\"It is a pleasant day today\"); text"
   ]
  },
  {
   "cell_type": "code",
   "execution_count": 3,
   "metadata": {},
   "outputs": [
    {
     "data": {
      "text/plain": [
       "[('It', 'PRP'),\n",
       " ('is', 'VBZ'),\n",
       " ('a', 'DT'),\n",
       " ('pleasant', 'JJ'),\n",
       " ('day', 'NN'),\n",
       " ('today', 'NN')]"
      ]
     },
     "execution_count": 3,
     "metadata": {},
     "output_type": "execute_result"
    }
   ],
   "source": [
    "# nltk.pos_tag() : word token list 를 삽입하면 된다\n",
    "nltk.pos_tag(['It', 'is', 'a', 'pleasant', 'day', 'today'])"
   ]
  },
  {
   "cell_type": "code",
   "execution_count": 4,
   "metadata": {},
   "outputs": [
    {
     "name": "stdout",
     "output_type": "stream",
     "text": [
      "NNS: noun, common, plural\n",
      "    undergraduates scotches bric-a-brac products bodyguards facets coasts\n",
      "    divestitures storehouses designs clubs fragrances averages\n",
      "    subjectivists apprehensions muses factory-jobs ...\n"
     ]
    }
   ],
   "source": [
    "# 해당 tag의 내용 확인하기\n",
    "import nltk\n",
    "nltk.help.upenn_tagset('NNS') # 복수주어"
   ]
  },
  {
   "cell_type": "code",
   "execution_count": 5,
   "metadata": {},
   "outputs": [
    {
     "name": "stdout",
     "output_type": "stream",
     "text": [
      "VB: verb, base form\n",
      "    ask assemble assess assign assume atone attention avoid bake balkanize\n",
      "    bank begin behold believe bend benefit bevel beware bless boil bomb\n",
      "    boost brace break bring broil brush build ...\n",
      "VBD: verb, past tense\n",
      "    dipped pleaded swiped regummed soaked tidied convened halted registered\n",
      "    cushioned exacted snubbed strode aimed adopted belied figgered\n",
      "    speculated wore appreciated contemplated ...\n",
      "VBG: verb, present participle or gerund\n",
      "    telegraphing stirring focusing angering judging stalling lactating\n",
      "    hankerin' alleging veering capping approaching traveling besieging\n",
      "    encrypting interrupting erasing wincing ...\n",
      "VBN: verb, past participle\n",
      "    multihulled dilapidated aerosolized chaired languished panelized used\n",
      "    experimented flourished imitated reunifed factored condensed sheared\n",
      "    unsettled primed dubbed desired ...\n",
      "VBP: verb, present tense, not 3rd person singular\n",
      "    predominate wrap resort sue twist spill cure lengthen brush terminate\n",
      "    appear tend stray glisten obtain comprise detest tease attract\n",
      "    emphasize mold postpone sever return wag ...\n",
      "VBZ: verb, present tense, 3rd person singular\n",
      "    bases reconstructs marks mixes displeases seals carps weaves snatches\n",
      "    slumps stretches authorizes smolders pictures emerges stockpiles\n",
      "    seduces fizzes uses bolsters slaps speaks pleads ...\n"
     ]
    }
   ],
   "source": [
    "# 정규표현식으로 tag 내용 확인하기\n",
    "# 동사관련 내용들 확인\n",
    "import nltk\n",
    "nltk.help.upenn_tagset('VB.*')"
   ]
  },
  {
   "cell_type": "code",
   "execution_count": 6,
   "metadata": {},
   "outputs": [
    {
     "data": {
      "text/plain": [
       "[('I', 'PRP'),\n",
       " ('can', 'MD'),\n",
       " ('not', 'RB'),\n",
       " ('bear', 'VB'),\n",
       " ('the', 'DT'),\n",
       " ('pain', 'NN'),\n",
       " ('of', 'IN'),\n",
       " ('bear', 'NN')]"
      ]
     },
     "execution_count": 6,
     "metadata": {},
     "output_type": "execute_result"
    }
   ],
   "source": [
    "import nltk\n",
    "text=nltk.word_tokenize(\"I cannot bear the pain of bear\")\n",
    "nltk.pos_tag(text)"
   ]
  },
  {
   "cell_type": "markdown",
   "metadata": {},
   "source": [
    "### 02 nltk.tag.str2tuple()\n",
    "sacred/VBN Ganga/NNP : text와 tag 같이붙은 단어를 나눈다 (regex)"
   ]
  },
  {
   "cell_type": "code",
   "execution_count": 7,
   "metadata": {},
   "outputs": [
    {
     "data": {
      "text/plain": [
       "('bear', 'MD')"
      ]
     },
     "execution_count": 7,
     "metadata": {},
     "output_type": "execute_result"
    }
   ],
   "source": [
    "import nltk\n",
    "taggedword = nltk.tag.str2tuple('bear/MD'); taggedword"
   ]
  },
  {
   "cell_type": "code",
   "execution_count": 8,
   "metadata": {
    "scrolled": false
   },
   "outputs": [
    {
     "data": {
      "text/plain": [
       "[('The', 'DT'),\n",
       " ('sacred', 'VBN'),\n",
       " ('Ganga', 'NNP'),\n",
       " ('flows', 'VBZ'),\n",
       " ('in', 'IN'),\n",
       " ('this', 'DT'),\n",
       " ('region', 'NN'),\n",
       " ('.', '.'),\n",
       " ('This', 'DT'),\n",
       " ('is', 'VBZ'),\n",
       " ('a', 'DT'),\n",
       " ('pilgrimage', 'NN'),\n",
       " ('.', '.'),\n",
       " ('People', 'NNP'),\n",
       " ('from', 'IN'),\n",
       " ('all', 'DT'),\n",
       " ('over', 'IN'),\n",
       " ('the', 'DT'),\n",
       " ('country', 'NN'),\n",
       " ('visit', 'NN'),\n",
       " ('this', 'DT'),\n",
       " ('place', 'NN'),\n",
       " ('.', '.')]"
      ]
     },
     "execution_count": 8,
     "metadata": {},
     "output_type": "execute_result"
    }
   ],
   "source": [
    "import nltk\n",
    "sentence = '''The/DT sacred/VBN Ganga/NNP flows/VBZ in/IN this/DT region/NN \n",
    "              ./. This/DT is/VBZ a/DT pilgrimage/NN ./. People/NNP from/IN all/DT \n",
    "              over/IN the/DT country/NN visit/NN this/DT place/NN ./. '''\n",
    "[nltk.tag.str2tuple(t) for t in sentence.split()]"
   ]
  },
  {
   "cell_type": "code",
   "execution_count": 9,
   "metadata": {},
   "outputs": [
    {
     "data": {
      "text/plain": [
       "'bear/NN'"
      ]
     },
     "execution_count": 9,
     "metadata": {},
     "output_type": "execute_result"
    }
   ],
   "source": [
    "# tuple2str() : tag tuple\n",
    "import nltk\n",
    "taggedtok = ('bear', 'NN')\n",
    "from nltk.tag.util import tuple2str\n",
    "tuple2str(taggedtok)"
   ]
  },
  {
   "cell_type": "code",
   "execution_count": 10,
   "metadata": {},
   "outputs": [
    {
     "name": "stdout",
     "output_type": "stream",
     "text": [
      "treebank_tagged : 100676\n"
     ]
    },
    {
     "data": {
      "text/plain": [
       "[('NOUN', 28867), ('VERB', 13564), ('.', 11715), ('ADP', 9857), ('DET', 8725)]"
      ]
     },
     "execution_count": 10,
     "metadata": {},
     "output_type": "execute_result"
    }
   ],
   "source": [
    "# treebank 말뭉치를 기준으로 연산\n",
    "import nltk\n",
    "from nltk.corpus import treebank\n",
    "treebank_tagged = treebank.tagged_words(tagset='universal')\n",
    "print('treebank_tagged :', len(treebank_tagged))\n",
    "\n",
    "tag = nltk.FreqDist(tag    for (word, tag) in treebank_tagged)\n",
    "tag.most_common(5) # count 결과를 출력"
   ]
  },
  {
   "cell_type": "code",
   "execution_count": 11,
   "metadata": {},
   "outputs": [
    {
     "data": {
      "text/plain": [
       "['NOUN',\n",
       " 'DET',\n",
       " 'ADJ',\n",
       " 'ADP',\n",
       " '.',\n",
       " 'VERB',\n",
       " 'NUM',\n",
       " 'PRT',\n",
       " 'CONJ',\n",
       " 'PRON',\n",
       " 'X',\n",
       " 'ADV']"
      ]
     },
     "execution_count": 11,
     "metadata": {},
     "output_type": "execute_result"
    }
   ],
   "source": [
    "# 명사 태그전에 발생한 tag의 수를 계산\n",
    "tagpairs = nltk.bigrams(treebank_tagged)\n",
    "preceders_noun = [x[1] for (x, y) in tagpairs if y[1] == 'NOUN']\n",
    "freqdist = nltk.FreqDist(preceders_noun)\n",
    "[tag for (tag, _) in freqdist.most_common()]"
   ]
  },
  {
   "cell_type": "code",
   "execution_count": 12,
   "metadata": {},
   "outputs": [
    {
     "data": {
      "text/plain": [
       "{'beautiful': 'ADJ', 'boy': 'N', 'generously': 'ADV', 'read': 'V'}"
      ]
     },
     "execution_count": 12,
     "metadata": {},
     "output_type": "execute_result"
    }
   ],
   "source": [
    "# 기본적인 tuple 생성\n",
    "tag={}\n",
    "tag['beautiful']='ADJ'\n",
    "tag['boy']='N'\n",
    "tag['read']='V'\n",
    "tag['generously']='ADV'\n",
    "tag"
   ]
  },
  {
   "cell_type": "markdown",
   "metadata": {},
   "source": [
    "### 03 기본태깅\n",
    "DefaultTagger"
   ]
  },
  {
   "cell_type": "code",
   "execution_count": 13,
   "metadata": {},
   "outputs": [
    {
     "data": {
      "text/plain": [
       "[('Beautiful', 'NN'), ('morning', 'NN')]"
      ]
     },
     "execution_count": 13,
     "metadata": {},
     "output_type": "execute_result"
    }
   ],
   "source": [
    "# 사용자가 특정한 tag를 첨부\n",
    "from nltk.tag import DefaultTagger\n",
    "tag = DefaultTagger('NN')\n",
    "tag.tag(['Beautiful', 'morning'])"
   ]
  },
  {
   "cell_type": "code",
   "execution_count": 14,
   "metadata": {},
   "outputs": [
    {
     "data": {
      "text/plain": [
       "['beautiful', 'morning']"
      ]
     },
     "execution_count": 14,
     "metadata": {},
     "output_type": "execute_result"
    }
   ],
   "source": [
    "# tag 포함된 tuple의 tag를 삭제하\n",
    "from nltk.tag import untag\n",
    "untag([('beautiful', 'NN'), ('morning', 'NN')])"
   ]
  },
  {
   "cell_type": "markdown",
   "metadata": {},
   "source": [
    "<br></br>\n",
    "## 2 POS-tagged corpors 생성하기\n",
    "corpora : 말뭉치의 집합"
   ]
  },
  {
   "cell_type": "code",
   "execution_count": 15,
   "metadata": {},
   "outputs": [
    {
     "name": "stdout",
     "output_type": "stream",
     "text": [
      "True\n",
      "False\n"
     ]
    }
   ],
   "source": [
    "# ~/nltkdoc 폴더를 생성\n",
    "import nltk, os,os.path\n",
    "create = os.path.expanduser('~/nltkdoc')\n",
    "# 폴더 존재 확인\n",
    "if not os.path.exists(create):\n",
    "    os.mkdir(create)\n",
    "print(os.path.exists(create))\n",
    "# 폴더내 데이터 .txt 확인  \n",
    "import nltk.data\n",
    "print(create in nltk.data.path)"
   ]
  },
  {
   "cell_type": "code",
   "execution_count": 16,
   "metadata": {},
   "outputs": [
    {
     "data": {
      "text/plain": [
       "b'\\xef\\xbb\\xbfThe Project Gutenberg EBook of An Inquiry into the Nature and Causes of\\r\\nthe Wealth of Nations, by Adam Smith\\r\\n\\r\\nThis eBook is for the use of anyone anywhere at no cost and with\\r\\nalmost no restrictions whatsoever.  You may copy it, give it away or\\r\\nre-use it under the terms of the Project Gutenbe'"
      ]
     },
     "execution_count": 16,
     "metadata": {},
     "output_type": "execute_result"
    }
   ],
   "source": [
    "# text 파일 불러오기 (nltk.data.load 는 모듈내부의 text만 추출)\n",
    "import nltk.data\n",
    "nltk.data.load('./data/adam_smith.txt',format='raw')[:300]"
   ]
  },
  {
   "cell_type": "code",
   "execution_count": 17,
   "metadata": {},
   "outputs": [
    {
     "name": "stdout",
     "output_type": "stream",
     "text": [
      "['female.txt', 'male.txt']\n",
      "male.txt   len(2943) : ['Aamir', 'Aaron', 'Abbey', 'Abbie', 'Abbot', 'Abbott', 'Abby', 'Abdel', 'Abdul', 'Abdulkarim']\n",
      "female.txt len(5001) : ['Abagael', 'Abagail', 'Abbe', 'Abbey', 'Abbi', 'Abbie', 'Abby', 'Abigael', 'Abigail', 'Abigale']\n"
     ]
    }
   ],
   "source": [
    "# names 말뭉치 활용\n",
    "from nltk.corpus import names\n",
    "print(names.fileids())  # 여성이름/ 남성이름 샘플을 불러온다\n",
    "print('male.txt   len({}) : {}'.format(len(names.words('male.txt')), names.words('male.txt')[:10]))\n",
    "print('female.txt len({}) : {}'.format(len(names.words('female.txt')), names.words('female.txt')[:10]))"
   ]
  },
  {
   "cell_type": "code",
   "execution_count": 18,
   "metadata": {},
   "outputs": [
    {
     "name": "stdout",
     "output_type": "stream",
     "text": [
      "['en', 'en-basic']\n",
      "en      : 235886\n",
      "en-basic: 850\n"
     ]
    }
   ],
   "source": [
    "# words 말뭉치 활용\n",
    "from nltk.corpus import words\n",
    "print(words.fileids())\n",
    "print('en      :', len(words.words('en')))\n",
    "print('en-basic:',len(words.words('en-basic')))"
   ]
  },
  {
   "cell_type": "markdown",
   "metadata": {},
   "source": [
    "<br></br>\n",
    "## 3 기계학습 알고리즘\n",
    "rule-based, probabilistic (태깅규칙, 확률) 규칙기반 알고리즘"
   ]
  },
  {
   "cell_type": "code",
   "execution_count": 19,
   "metadata": {
    "collapsed": true
   },
   "outputs": [],
   "source": [
    "# nltk.tag 관련 모듈 중\n",
    "# FastBrillTaggerTrainer, SymmetricProximateTokensTemplate 가 없음\n",
    "\n",
    "from nltk.tag import UnigramTagger\n",
    "#from nltk.tag import FastBrillTaggerTrainer\n",
    "#from nltk.tag.brill import SymmetricProximateTokensTemplate"
   ]
  },
  {
   "cell_type": "code",
   "execution_count": 20,
   "metadata": {
    "collapsed": true
   },
   "outputs": [],
   "source": [
    "#from nltk.tag.brill import ProximateTokensTemplate\n",
    "#from nltk.tag.brill import ProximateTagsRule\n",
    "#from nltk.tag.brill import ProximateWordsRule\n",
    "# ctx = [ # Context = surrounding words and tags.\n",
    "#     SymmetricProximateTokensTemplate(ProximateTagsRule, (1, 1)),\n",
    "#     SymmetricProximateTokensTemplate(ProximateTagsRule, (1, 2)),\n",
    "#     SymmetricProximateTokensTemplate(ProximateTagsRule, (1, 3)),\n",
    "#     SymmetricProximateTokensTemplate(ProximateTagsRule, (2, 2)),\n",
    "#     SymmetricProximateTokensTemplate(ProximateWordsRule, (0, 0)),\n",
    "#     SymmetricProximateTokensTemplate(ProximateWordsRule, (1, 1)),\n",
    "#     SymmetricProximateTokensTemplate(ProximateWordsRule, (1, 2)),\n",
    "#     ProximateTokensTemplate(ProximateTagsRule, (-1, -1), (1, 1)),]\n",
    "#tagger = UnigramTagger(sentence)\n",
    "#tagger = FastBrillTaggerTrainer(tagger, ctx, trace=0)\n",
    "#tagger = tagger.train(sentences, max_rules=100)"
   ]
  },
  {
   "cell_type": "markdown",
   "metadata": {},
   "source": [
    "<br></br>\n",
    "## 4 n-gram 접근법과 관련된 통계 모델링\n",
    "UnigramTagger"
   ]
  },
  {
   "cell_type": "markdown",
   "metadata": {},
   "source": [
    "### 01 UnigramTagger 의 훈련 및 검증\n",
    "UnigramTagger를 활용한 overriding (상속받은 내용을 보완하여 적용)"
   ]
  },
  {
   "cell_type": "code",
   "execution_count": 21,
   "metadata": {},
   "outputs": [
    {
     "data": {
      "text/plain": [
       "['Pierre',\n",
       " 'Vinken',\n",
       " ',',\n",
       " '61',\n",
       " 'years',\n",
       " 'old',\n",
       " ',',\n",
       " 'will',\n",
       " 'join',\n",
       " 'the',\n",
       " 'board',\n",
       " 'as',\n",
       " 'a',\n",
       " 'nonexecutive',\n",
       " 'director',\n",
       " 'Nov.',\n",
       " '29',\n",
       " '.']"
      ]
     },
     "execution_count": 21,
     "metadata": {},
     "output_type": "execute_result"
    }
   ],
   "source": [
    "# TreeBank 말뭉치의 7,000개 문장을 훈련\n",
    "import nltk\n",
    "from nltk.tag import UnigramTagger\n",
    "from nltk.corpus import treebank\n",
    "training = treebank.tagged_sents()[:7000]\n",
    "testing = treebank.tagged_sents()[2000:]\n",
    "treebank.sents()[0]              # tag제거한 word만 출력"
   ]
  },
  {
   "cell_type": "code",
   "execution_count": 22,
   "metadata": {},
   "outputs": [
    {
     "name": "stdout",
     "output_type": "stream",
     "text": [
      "<UnigramTagger: size=12408>\n"
     ]
    },
    {
     "data": {
      "text/plain": [
       "[('Pierre', 'NNP'),\n",
       " ('Vinken', 'NNP'),\n",
       " (',', ','),\n",
       " ('61', 'CD'),\n",
       " ('years', 'NNS'),\n",
       " ('old', 'JJ'),\n",
       " (',', ','),\n",
       " ('will', 'MD'),\n",
       " ('join', 'VB'),\n",
       " ('the', 'DT'),\n",
       " ('board', 'NN'),\n",
       " ('as', 'IN'),\n",
       " ('a', 'DT'),\n",
       " ('nonexecutive', 'JJ'),\n",
       " ('director', 'NN'),\n",
       " ('Nov.', 'NNP'),\n",
       " ('29', 'CD'),\n",
       " ('.', '.')]"
      ]
     },
     "execution_count": 22,
     "metadata": {},
     "output_type": "execute_result"
    }
   ],
   "source": [
    "unitagger = UnigramTagger(training) # train 훈련 시행\n",
    "print(unitagger)\n",
    "unitagger.tag(treebank.sents()[0]) # tag를 붙여서 출력"
   ]
  },
  {
   "cell_type": "code",
   "execution_count": 23,
   "metadata": {},
   "outputs": [
    {
     "data": {
      "text/plain": [
       "[('Pierre', 'NNP'),\n",
       " ('Vinken', 'NNP'),\n",
       " (',', ','),\n",
       " ('61', 'CD'),\n",
       " ('years', 'NNS'),\n",
       " ('old', 'JJ'),\n",
       " (',', ','),\n",
       " ('will', 'MD'),\n",
       " ('join', 'VB'),\n",
       " ('the', 'DT'),\n",
       " ('board', 'NN'),\n",
       " ('as', 'IN'),\n",
       " ('a', 'DT'),\n",
       " ('nonexecutive', 'JJ'),\n",
       " ('director', 'NN'),\n",
       " ('Nov.', 'NNP'),\n",
       " ('29', 'CD'),\n",
       " ('.', '.')]"
      ]
     },
     "execution_count": 23,
     "metadata": {},
     "output_type": "execute_result"
    }
   ],
   "source": [
    "# treebank.sents()[0]              # tag제거한 word만 출력\n",
    "unitagger.tag(treebank.sents()[0]) # tag를 붙여서 출력"
   ]
  },
  {
   "cell_type": "code",
   "execution_count": 24,
   "metadata": {},
   "outputs": [
    {
     "data": {
      "text/plain": [
       "0.9619024159944167"
      ]
     },
     "execution_count": 24,
     "metadata": {},
     "output_type": "execute_result"
    }
   ],
   "source": [
    "unitagger.evaluate(testing)         # test를 활용평가 (정확도 측정)"
   ]
  },
  {
   "cell_type": "code",
   "execution_count": 25,
   "metadata": {},
   "outputs": [
    {
     "data": {
      "text/plain": [
       "[('Pierre', None),\n",
       " ('Vinken', 'NN'),\n",
       " (',', None),\n",
       " ('61', 'KK'),\n",
       " ('years', None),\n",
       " ('old', None),\n",
       " (',', None),\n",
       " ('will', None),\n",
       " ('join', None),\n",
       " ('the', None),\n",
       " ('board', None),\n",
       " ('as', None),\n",
       " ('a', None),\n",
       " ('nonexecutive', None),\n",
       " ('director', None),\n",
       " ('Nov.', None),\n",
       " ('29', None),\n",
       " ('.', None)]"
      ]
     },
     "execution_count": 25,
     "metadata": {},
     "output_type": "execute_result"
    }
   ],
   "source": [
    "# Train 목록이 유일하게 {'Vinken': 'NN'} 1개 존재시\n",
    "# 사용자정의 신조어 단어들의 전처리용 훈련의 용도로 활용\n",
    "unitag = UnigramTagger(model={'Vinken': 'NN', '61':'KK'})\n",
    "unitag.tag(treebank.sents()[0])"
   ]
  },
  {
   "cell_type": "code",
   "execution_count": 26,
   "metadata": {},
   "outputs": [
    {
     "name": "stdout",
     "output_type": "stream",
     "text": [
      "<UnigramTagger: size=696>\n"
     ]
    },
    {
     "data": {
      "text/plain": [
       "0.6851817640659318"
      ]
     },
     "execution_count": 26,
     "metadata": {},
     "output_type": "execute_result"
    }
   ],
   "source": [
    "# cut-off : 발생 빈도를 사용하여 태그를 결정\n",
    "# 최소 임계빈도값을 cut-off에 전달 (5번 이상 발생해야 유효 tag로 인식)\n",
    "unitagger = UnigramTagger(training, cutoff=15)\n",
    "print(unitagger)\n",
    "unitagger.evaluate(testing)"
   ]
  },
  {
   "cell_type": "code",
   "execution_count": 27,
   "metadata": {},
   "outputs": [
    {
     "name": "stdout",
     "output_type": "stream",
     "text": [
      "<DefaultTagger: tag=NN>\n",
      "<UnigramTagger: size=10218>\n"
     ]
    },
    {
     "data": {
      "text/plain": [
       "0.9619024159944167"
      ]
     },
     "execution_count": 27,
     "metadata": {},
     "output_type": "execute_result"
    }
   ],
   "source": [
    "# Train 모델을 만들고, None 타입은 Backoff 방식으로 보완\n",
    "# back-off tagging을 테스트\n",
    "# 다른 프로세서와의 통신시 정상적인 흐름이 되지 않을 때 일정 시간동안 특정 간격으로 같은 데이터를 재 요청\n",
    "from nltk.tag import UnigramTagger, DefaultTagger\n",
    "\n",
    "# from nltk.corpus import treebank\n",
    "# training = treebank.tagged_sents()[:7000]\n",
    "# testing  = treebank.tagged_sents()[2000:]\n",
    "tag1 = DefaultTagger('NN')\n",
    "print(tag1)\n",
    "tag2 = UnigramTagger(training, backoff = tag1)  # Train 모델을 만들고, None 타입은 Backoff 방식으로 보완하라\n",
    "print(tag2)  # back-off 모델 보완결과 오히려 Size는 축소\n",
    "tag2.evaluate(testing)"
   ]
  },
  {
   "cell_type": "code",
   "execution_count": 28,
   "metadata": {
    "collapsed": true
   },
   "outputs": [],
   "source": [
    "# 결론\n",
    "# 자연어의 Train은 (UnigramTagger) Dict 타입을 관리하는 함수에 불과\n",
    "# 반면 Evaluation, Smoothing시 Back off 등의 이론을 자연어에 적용하기 쉽게 만든것이 핵심!!"
   ]
  },
  {
   "cell_type": "markdown",
   "metadata": {},
   "source": [
    "### 01-2 Back-off 성능의 비교\n",
    "BigramTagger, TrigramTagger ,UnigramTagger 별 정확도 측정 및 비교"
   ]
  },
  {
   "cell_type": "code",
   "execution_count": 29,
   "metadata": {},
   "outputs": [
    {
     "name": "stdout",
     "output_type": "stream",
     "text": [
      "Uni-gram Back-off : 0.9619\n",
      "Bi -gram Back-off : 0.98148\n",
      "Tri-gram Back-off : 0.97695\n"
     ]
    }
   ],
   "source": [
    "from nltk.tag import BigramTagger, TrigramTagger ,UnigramTagger, DefaultTagger\n",
    "\n",
    "tag_1 = UnigramTagger(training, backoff = tag1)  # Train 모델을 만들고, None 타입은 Backoff 방식으로 보완하라\n",
    "tag_2 = BigramTagger(training, backoff = tag1)  # Train 모델을 만들고, None 타입은 Backoff 방식으로 보완하라\n",
    "tag_3 = TrigramTagger(training, backoff = tag1)  # Train 모델을 만들고, None 타입은 Backoff 방식으로 보완하라\n",
    "print('Uni-gram Back-off :', round(tag_1.evaluate(testing),5))\n",
    "print('Bi -gram Back-off :', round(tag_2.evaluate(testing),5))\n",
    "print('Tri-gram Back-off :', round(tag_3.evaluate(testing),5))"
   ]
  },
  {
   "cell_type": "markdown",
   "metadata": {},
   "source": [
    "### 02 BigramTagger 의 훈련 및 검증\n",
    "BigramTagger"
   ]
  },
  {
   "cell_type": "code",
   "execution_count": 30,
   "metadata": {},
   "outputs": [
    {
     "data": {
      "text/plain": [
       "[('Pierre', 'NNP'),\n",
       " ('Vinken', 'NNP'),\n",
       " (',', ','),\n",
       " ('61', 'CD'),\n",
       " ('years', 'NNS'),\n",
       " ('old', 'JJ'),\n",
       " (',', ','),\n",
       " ('will', 'MD'),\n",
       " ('join', 'VB'),\n",
       " ('the', 'DT'),\n",
       " ('board', 'NN'),\n",
       " ('as', 'IN'),\n",
       " ('a', 'DT'),\n",
       " ('nonexecutive', 'JJ'),\n",
       " ('director', 'NN'),\n",
       " ('Nov.', 'NNP'),\n",
       " ('29', 'CD'),\n",
       " ('.', '.')]"
      ]
     },
     "execution_count": 30,
     "metadata": {},
     "output_type": "execute_result"
    }
   ],
   "source": [
    "from nltk.tag import BigramTagger\n",
    "# from nltk.corpus import treebank\n",
    "# training = treebank.tagged_sents()[:7000]\n",
    "# testing = treebank.tagged_sents()[2000:]\n",
    "bigramtagger = BigramTagger(training) # BigramTagger 훈련\n",
    "bigramtagger.tag(treebank.sents()[0])"
   ]
  },
  {
   "cell_type": "code",
   "execution_count": 31,
   "metadata": {},
   "outputs": [
    {
     "data": {
      "text/plain": [
       "0.9171131227292321"
      ]
     },
     "execution_count": 31,
     "metadata": {},
     "output_type": "execute_result"
    }
   ],
   "source": [
    "# BigramTagger 검증\n",
    "bigramtagger.evaluate(testing)"
   ]
  },
  {
   "cell_type": "markdown",
   "metadata": {},
   "source": [
    "### 03 BigramTagger , TrigramTagger.. etc 를 활용한 학습\n",
    "BigramTagger, TrigramTagger"
   ]
  },
  {
   "cell_type": "code",
   "execution_count": 32,
   "metadata": {},
   "outputs": [
    {
     "name": "stdout",
     "output_type": "stream",
     "text": [
      "bi-gram  tag : 0.9171131227292321\n",
      "tri-gram tag : 0.9022107272615308\n"
     ]
    }
   ],
   "source": [
    "# BigramTagger, TrigramTagger 를 훈련 및 검증비교\n",
    "from nltk.tag import BigramTagger, TrigramTagger\n",
    "\n",
    "# from nltk.corpus import treebank\n",
    "# training  = treebank.tagged_sents()[:7000]\n",
    "# testing   = treebank.tagged_sents()[2000:]\n",
    "bigramtag = BigramTagger(training)\n",
    "trigramtag = TrigramTagger(training)\n",
    "print('bi-gram  tag :',bigramtag.evaluate(testing))\n",
    "print('tri-gram tag :',trigramtag.evaluate(testing))"
   ]
  },
  {
   "cell_type": "code",
   "execution_count": 33,
   "metadata": {},
   "outputs": [
    {
     "data": {
      "text/plain": [
       "0.9304554878173943"
      ]
     },
     "execution_count": 33,
     "metadata": {},
     "output_type": "execute_result"
    }
   ],
   "source": [
    "# quadgramtag 를 훈련 및 검증\n",
    "from nltk import NgramTagger\n",
    "\n",
    "# from nltk.corpus import treebank\n",
    "# training= treebank.tagged_sents()[:7000]\n",
    "# testing = treebank.tagged_sents()[2000:]\n",
    "quadgramtag = NgramTagger(4, training)\n",
    "quadgramtag.evaluate(testing)"
   ]
  },
  {
   "cell_type": "markdown",
   "metadata": {},
   "source": [
    "### 04 affixtag로 학습 및 검증\n",
    "affixtag : affix(붙이다) 접두사, 접미사를 사용한 Context Tagger"
   ]
  },
  {
   "cell_type": "code",
   "execution_count": 34,
   "metadata": {},
   "outputs": [
    {
     "name": "stdout",
     "output_type": "stream",
     "text": [
      "<AffixTagger: size=1677>\n"
     ]
    },
    {
     "data": {
      "text/plain": [
       "0.2902682841718497"
      ]
     },
     "execution_count": 34,
     "metadata": {},
     "output_type": "execute_result"
    }
   ],
   "source": [
    "# affixtag : 접두사, 점미사를 활용한 학습 및 검증\n",
    "from nltk.tag import AffixTagger\n",
    "\n",
    "# from nltk.corpus import treebank\n",
    "# training= treebank.tagged_sents()[:7000]\n",
    "# testing = treebank.tagged_sents()[2000:]\n",
    "affixtag = AffixTagger(training)\n",
    "print(affixtag)\n",
    "affixtag.evaluate(testing)"
   ]
  },
  {
   "cell_type": "code",
   "execution_count": 35,
   "metadata": {},
   "outputs": [
    {
     "name": "stdout",
     "output_type": "stream",
     "text": [
      "<AffixTagger: size=3940>\n"
     ]
    },
    {
     "data": {
      "text/plain": [
       "0.2094751318841472"
      ]
     },
     "execution_count": 35,
     "metadata": {},
     "output_type": "execute_result"
    }
   ],
   "source": [
    "# affixtag : (+4) 4개의 접두사 묶어서 학습 및 검증\n",
    "from nltk.tag import AffixTagger\n",
    "\n",
    "# from nltk.corpus import treebank\n",
    "# training= treebank.tagged_sents()[:7000]\n",
    "# testing = treebank.tagged_sents()[2000:]\n",
    "prefixtag = AffixTagger(training, affix_length = 4)\n",
    "print(prefixtag)\n",
    "prefixtag.evaluate(testing)"
   ]
  },
  {
   "cell_type": "code",
   "execution_count": 36,
   "metadata": {},
   "outputs": [
    {
     "name": "stdout",
     "output_type": "stream",
     "text": [
      "<AffixTagger: size=2484>\n"
     ]
    },
    {
     "data": {
      "text/plain": [
       "0.25699447831352507"
      ]
     },
     "execution_count": 36,
     "metadata": {},
     "output_type": "execute_result"
    }
   ],
   "source": [
    "# affixtag : (-3) 3개의 접미사 묶어서 학습 및 검증\n",
    "prefixtag = AffixTagger(training, affix_length = 3)\n",
    "print(prefixtag)\n",
    "prefixtag.evaluate(testing)"
   ]
  },
  {
   "cell_type": "code",
   "execution_count": 37,
   "metadata": {},
   "outputs": [
    {
     "name": "stdout",
     "output_type": "stream",
     "text": [
      "<AffixTagger: size=3940>\n",
      "<AffixTagger: size=1461>\n"
     ]
    },
    {
     "data": {
      "text/plain": [
       "0.25841082168442225"
      ]
     },
     "execution_count": 37,
     "metadata": {},
     "output_type": "execute_result"
    }
   ],
   "source": [
    "# affitag 를 back-off chain 로 학습 및 검증\n",
    "# training= treebank.tagged_sents()[:7000]\n",
    "# testing = treebank.tagged_sents()[2000:]\n",
    "\n",
    "prefixtagger = AffixTagger(training, affix_length = 4)\n",
    "print(prefixtagger)\n",
    "prefixtagger3 = AffixTagger(training,affix_length = 3, backoff = prefixtagger)\n",
    "print(prefixtagger3)\n",
    "prefixtagger3.evaluate(testing)"
   ]
  },
  {
   "cell_type": "code",
   "execution_count": 38,
   "metadata": {},
   "outputs": [
    {
     "name": "stdout",
     "output_type": "stream",
     "text": [
      "<AffixTagger: size=676>\n"
     ]
    },
    {
     "data": {
      "text/plain": [
       "0.2940451998275756"
      ]
     },
     "execution_count": 38,
     "metadata": {},
     "output_type": "execute_result"
    }
   ],
   "source": [
    "suffixtagger3 = AffixTagger(training, affix_length = -3, backoff = prefixtagger3)\n",
    "print(suffixtagger3)\n",
    "suffixtagger3.evaluate(testing)"
   ]
  },
  {
   "cell_type": "code",
   "execution_count": 39,
   "metadata": {},
   "outputs": [
    {
     "name": "stdout",
     "output_type": "stream",
     "text": [
      "<AffixTagger: size=1288>\n"
     ]
    },
    {
     "data": {
      "text/plain": [
       "0.33072644046226163"
      ]
     },
     "execution_count": 39,
     "metadata": {},
     "output_type": "execute_result"
    }
   ],
   "source": [
    "suffixtagger4 = AffixTagger(training, affix_length = -4, backoff = suffixtagger3)\n",
    "print(suffixtagger4)\n",
    "suffixtagger4.evaluate(testing)"
   ]
  },
  {
   "cell_type": "markdown",
   "metadata": {},
   "source": [
    "### 05 Trigram n Tags - 2차 마르코프모델을 기반한 학습\n",
    "Trigram n Tags "
   ]
  },
  {
   "cell_type": "code",
   "execution_count": 40,
   "metadata": {},
   "outputs": [
    {
     "name": "stdout",
     "output_type": "stream",
     "text": [
      "0.9882176652913768\n",
      "Training  : 0min  2sec\n",
      "evaluation: 3min  12sec\n"
     ]
    }
   ],
   "source": [
    "from time import time\n",
    "from nltk.tag import tnt\n",
    "# from nltk.corpus import treebank\n",
    "# training= treebank.tagged_sents()[:7000]\n",
    "# testing = treebank.tagged_sents()[2000:]\n",
    "tnt_tagger = tnt.TnT(); t0 = time()\n",
    "tnt_tagger.train(training); t1 = time()\n",
    "print(tnt_tagger.evaluate(testing)); t2 = time()\n",
    "print('Training  : {}min  {}sec'.format(int((t1-t0)//60), round((t1-t0)%60),2))\n",
    "print('evaluation: {}min  {}sec'.format(int((t2-t1)//60), round((t2-t1)%60),2))"
   ]
  },
  {
   "cell_type": "markdown",
   "metadata": {},
   "source": [
    "<br></br>\n",
    "## 5 pos-tagged data를 사용한 chunker 개발\n",
    "덩이짓기(Chunking, 청킹)는 정보를 의미있는 묶음으로 만드는 것으로, chunker를 설계 및 수행"
   ]
  },
  {
   "cell_type": "markdown",
   "metadata": {},
   "source": [
    "### 01 명사구문을 대상으로 Chunking\n",
    "Noun Pharse"
   ]
  },
  {
   "cell_type": "code",
   "execution_count": 2,
   "metadata": {},
   "outputs": [
    {
     "data": {
      "image/png": "[encoded data removed]",
      "text/plain": [
       "Tree('S', [Tree('Noun Pharse', [('A', 'DT'), ('wise', 'JJ'), ('small', 'JJ'), ('girl', 'NN'), ('of', 'IN'), ('village', 'NN')]), ('became', 'VBD'), Tree('Noun Pharse', [('leader', 'NN')])])"
      ]
     },
     "execution_count": 2,
     "metadata": {},
     "output_type": "execute_result"
    }
   ],
   "source": [
    "import nltk\n",
    "sent = [(\"A\",\"DT\"),(\"wise\", \"JJ\"), (\"small\", \"JJ\"),(\"girl\", \"NN\"), \n",
    "        (\"of\", \"IN\"), (\"village\", \"N\"),  (\"became\", \"VBD\"), (\"leader\", \"NN\")]\n",
    "sent = [(\"A\",\"DT\"),(\"wise\", \"JJ\"), (\"small\", \"JJ\"),(\"girl\", \"NN\"), \n",
    "        (\"of\", \"IN\"), (\"village\", \"NN\"),  (\"became\", \"VBD\"), (\"leader\", \"NN\")]\n",
    "\n",
    "# 명사구문 Chunking \n",
    "# DT : 선택사항(<DT>?)\n",
    "# JJ : 임의사항(<JJ>*)\n",
    "# NN : 다음연결(<NN>)\n",
    "# IN : 선택사항(<IN>?)\n",
    "# NN : 임의사항(<NN>*)\n",
    "grammar = \"Noun Pharse: {<DT>?<JJ>*<NN><IN>?<NN>*}\"\n",
    "find = nltk.RegexpParser(grammar)\n",
    "res = find.parse(sent)\n",
    "res"
   ]
  },
  {
   "cell_type": "code",
   "execution_count": 42,
   "metadata": {
    "collapsed": true
   },
   "outputs": [],
   "source": [
    "#res.draw()"
   ]
  },
  {
   "cell_type": "code",
   "execution_count": 3,
   "metadata": {},
   "outputs": [
    {
     "data": {
      "image/png": "[encoded data removed]",
      "text/plain": [
       "Tree('S', [Tree('Noun Pharse', [('financial', 'NN'), ('year', 'NN'), ('account', 'NN'), ('summary', 'NN')])])"
      ]
     },
     "execution_count": 3,
     "metadata": {},
     "output_type": "execute_result"
    }
   ],
   "source": [
    "import nltk\n",
    "noun1 = [(\"financial\",\"NN\"),(\"year\",\"NN\"),(\"account\",\"NN\"),(\"summary\",\"NN\")]\n",
    "\n",
    "# 임의의 명사수를 기준으로 명사구문 청크규칙을 적용\n",
    "gram = \"Noun Pharse:{<NN>+}\"\n",
    "find = nltk.RegexpParser(gram)\n",
    "find.parse(noun1)"
   ]
  },
  {
   "cell_type": "code",
   "execution_count": 44,
   "metadata": {
    "collapsed": true
   },
   "outputs": [],
   "source": [
    "# x = find.parse(noun1)\n",
    "# x.draw()"
   ]
  },
  {
   "cell_type": "markdown",
   "metadata": {},
   "source": [
    "### 02 동사구문을 대상으로 Chunking\n",
    "Verb Pharse"
   ]
  },
  {
   "cell_type": "code",
   "execution_count": 5,
   "metadata": {},
   "outputs": [
    {
     "data": {
      "image/png": "[encoded data removed]",
      "text/plain": [
       "Tree('S', [('A', 'DT'), Tree('Verb', [('wise', 'JJ'), ('small', 'JJ')]), ('girl', 'NN'), ('of', 'IN'), ('village', 'NN'), Tree('Verb', [('became', 'VBD')]), ('leader', 'NN')])"
      ]
     },
     "execution_count": 5,
     "metadata": {},
     "output_type": "execute_result"
    }
   ],
   "source": [
    "import nltk\n",
    "sent = [(\"A\",\"DT\"),(\"wise\", \"JJ\"), (\"small\", \"JJ\"),(\"girl\", \"NN\"), \n",
    "        (\"of\", \"IN\"), (\"village\", \"N\"),  (\"became\", \"VBD\"), (\"leader\", \"NN\")]\n",
    "sent = [(\"A\",\"DT\"),(\"wise\", \"JJ\"), (\"small\", \"JJ\"),(\"girl\", \"NN\"), \n",
    "        (\"of\", \"IN\"), (\"village\", \"NN\"),  (\"became\", \"VBD\"), (\"leader\", \"NN\")]\n",
    "\n",
    "# 명사구문 Chunking \n",
    "# DT : 선택사항(<DT>?)\n",
    "# JJ : 임의사항(<JJ>*)\n",
    "# NN : 다음연결(<NN>)\n",
    "# IN : 선택사항(<IN>?)\n",
    "# NN : 임의사항(<NN>*)\n",
    "grammar = \"Verb : {<VBD>?<JJ>*}\"\n",
    "find = nltk.RegexpParser(grammar)\n",
    "res = find.parse(sent)\n",
    "res"
   ]
  }
 ],
 "metadata": {
  "kernelspec": {
   "display_name": "Python 3",
   "language": "python",
   "name": "python3"
  },
  "language_info": {
   "codemirror_mode": {
    "name": "ipython",
    "version": 3
   },
   "file_extension": ".py",
   "mimetype": "text/x-python",
   "name": "python",
   "nbconvert_exporter": "python",
   "pygments_lexer": "ipython3",
   "version": "3.6.1"
  }
 },
 "nbformat": 4,
 "nbformat_minor": 2
}
