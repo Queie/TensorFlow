{
 "cells": [
  {
   "cell_type": "markdown",
   "metadata": {},
   "source": [
    "# Tensor Board"
   ]
  },
  {
   "cell_type": "markdown",
   "metadata": {},
   "source": [
    "## 1 Graph\n",
    "tf.Graph() # 그래프 추가\n",
    "\n",
    "tf.get_default_graph() # 그래프 초기화\n",
    "\n",
    "tf.name_scope() # Operation 을 block으로 묶는다 (시각화에 용이)"
   ]
  },
  {
   "cell_type": "markdown",
   "metadata": {},
   "source": [
    "### 01 Intro"
   ]
  },
  {
   "cell_type": "code",
   "execution_count": 1,
   "metadata": {},
   "outputs": [
    {
     "name": "stdout",
     "output_type": "stream",
     "text": [
      "21\n",
      "[7, 21]\n"
     ]
    }
   ],
   "source": [
    "import tensorflow as tf\n",
    "\n",
    "a = tf.add(2,5)\n",
    "b = tf.multiply(a,3)\n",
    "\n",
    "sess = tf.Session(graph=tf.get_default_graph())  #sess = tf.Session() 과 동일\n",
    "sess.run(tf.global_variables_initializer()) # 텐서플로 객체 값들을 초기화 (가비징))\n",
    "print(sess.run(b))\n",
    "print(sess.run([a,b]))   # 여러 연산은 list 객체로 입력\n",
    "sess.close()\n",
    "\n",
    "writer = tf.summary.FileWriter('./my_graph', sess.graph) #'./my_graph' 객체 저장 폴더명\n",
    "writer.close()\n",
    "# ! tensorboard --logdir='my_graph'  # 실행파일 폴더로 이동 후 실행"
   ]
  },
  {
   "cell_type": "markdown",
   "metadata": {},
   "source": [
    "### 02 Name_Scope\n",
    "Name_Scope"
   ]
  },
  {
   "cell_type": "code",
   "execution_count": 2,
   "metadata": {
    "collapsed": true
   },
   "outputs": [],
   "source": [
    "# Two name_scope\n",
    "import tensorflow as tf\n",
    "with tf.name_scope('Scope_A'):\n",
    "    a = tf.add(1,2, name='A_add')\n",
    "    b = tf.add(a,3, name='A_mul')\n",
    "    \n",
    "with tf.name_scope(\"Scope_B\"):\n",
    "    c = tf.add(4,5, name=\"B_add\")\n",
    "    d = tf.add(c,6, name=\"B_mul\")\n",
    "\n",
    "e = tf.add(b,d, name=\"output\")\n",
    "\n",
    "# 그래프를 즉시 Export 하므로 , Tensorboard를 바로 시작이 가능하다\n",
    "writer = tf.summary.FileWriter('./name_scope_1', graph=tf.get_default_graph())\n",
    "writer.close()"
   ]
  },
  {
   "cell_type": "markdown",
   "metadata": {},
   "source": [
    "### 03 Name_Scope\n",
    "Name_Scope in Name_Scope"
   ]
  },
  {
   "cell_type": "code",
   "execution_count": 3,
   "metadata": {
    "collapsed": true
   },
   "outputs": [],
   "source": [
    "graph = tf.Graph()\n",
    "\n",
    "with graph.as_default():\n",
    "    in_1 = tf.placeholder(tf.float32, shape=[], name = 'input_a')\n",
    "    in_2 = tf.placeholder(tf.float32, shape=[], name = 'input_b')\n",
    "    const = tf.constant(3, dtype=tf.float32, name=\"static_value\")\n",
    "    \n",
    "    with tf.name_scope(\"A\"):\n",
    "        A_mul = tf.multiply(in_1, const); A_out = tf.subtract(A_mul, in_1)\n",
    "        \n",
    "    with tf.name_scope(\"B\"):\n",
    "        B_mul = tf.multiply(in_2, const); B_out = tf.subtract(B_mul, in_2)\n",
    "    \n",
    "    with tf.name_scope(\"C\"):\n",
    "        C_div = tf.div(A_out, B_out); C_out = tf.add(C_div, const)\n",
    "\n",
    "    with tf.name_scope(\"D\"):\n",
    "        D_div = tf.div(B_out, A_out); D_out = tf.add(D_div, const)\n",
    "\n",
    "    # Operation 최종 출력노드\n",
    "    out = tf.maximum(C_out, D_out)\n",
    "\n",
    "writer = tf.summary.FileWriter('./name_scope_2', graph=graph)\n",
    "writer.close()"
   ]
  },
  {
   "cell_type": "markdown",
   "metadata": {},
   "source": [
    "### 04 Excercise"
   ]
  },
  {
   "cell_type": "code",
   "execution_count": 4,
   "metadata": {
    "collapsed": true
   },
   "outputs": [],
   "source": [
    "import tensorflow as tf\n",
    "graph = tf.Graph() # Explicitly create a Graph object"
   ]
  },
  {
   "cell_type": "code",
   "execution_count": 5,
   "metadata": {},
   "outputs": [
    {
     "name": "stdout",
     "output_type": "stream",
     "text": [
      "WARNING:tensorflow:From <ipython-input-5-b388a4af8c9e>:27: merge_all_summaries (from tensorflow.python.ops.logging_ops) is deprecated and will be removed after 2016-11-30.\n",
      "Instructions for updating:\n",
      "Please switch to tf.summary.merge_all.\n",
      "WARNING:tensorflow:From /home/markbaum/Python/python36/lib/python3.6/site-packages/tensorflow/python/ops/logging_ops.py:289: merge_summary (from tensorflow.python.ops.logging_ops) is deprecated and will be removed after 2016-11-30.\n",
      "Instructions for updating:\n",
      "Please switch to tf.summary.merge.\n"
     ]
    }
   ],
   "source": [
    "with graph.as_default():\n",
    "    with tf.name_scope(\"variables\"):\n",
    "        global_step = tf.Variable(0, dtype=tf.int32, trainable=False, name=\"global_step\")\n",
    "        total_output = tf.Variable(0.0, dtype=tf.float32, trainable=False, name=\"total_output\")\n",
    "\n",
    "        with tf.name_scope(\"transformation\"): # Primary transformation Operations\n",
    "            with tf.name_scope(\"input\"):      # Separate input layer\n",
    "                a = tf.placeholder(tf.float32, shape=[None], name=\"input_placeholder_a\")\n",
    "            with tf.name_scope(\"intermediate_layer\"):   # Separate middle layer\n",
    "                b = tf.reduce_prod(a, name=\"product_b\")\n",
    "                c = tf.reduce_sum(a, name=\"sum_c\")\n",
    "                with tf.name_scope(\"output\"):           # Separate output layer\n",
    "                    output = tf.add(b, c, name=\"output\")\n",
    "                with tf.name_scope(\"update\"):\n",
    "                    update_total = total_output.assign_add(output)\n",
    "                    increment_step = global_step.assign_add(1)\n",
    "                    \n",
    "    with tf.name_scope(\"summaries\"):     # Summary Operations\n",
    "        avg = tf.div(update_total, tf.cast(increment_step, tf.float32), name=\"average\")\n",
    "        #tf.summary\n",
    "        tf.summary.scalar(\"output_summary\", output) # Creates summaries for output node\n",
    "        tf.summary.scalar(\"total_summary\", update_total)\n",
    "        tf.summary.scalar(\"average_summary\", avg)\n",
    "        \n",
    "    with tf.name_scope(\"global_ops\"):               # Global Variables and Operations\n",
    "        init = tf.global_variables_initializer()    # Initialization Op\n",
    "        merged_summaries = tf.contrib.deprecated.merge_all_summaries()\n",
    "        #tf.merge_all_summaries() # Merge all summaries into one Operation"
   ]
  },
  {
   "cell_type": "code",
   "execution_count": 6,
   "metadata": {},
   "outputs": [],
   "source": [
    "sess = tf.Session(graph=graph)  # Start a Session\n",
    "writer = tf.summary.FileWriter('./improved_graph', graph)"
   ]
  },
  {
   "cell_type": "code",
   "execution_count": 7,
   "metadata": {
    "collapsed": true
   },
   "outputs": [],
   "source": [
    "sess.run(init)\n",
    "def run_graph(input_tensor):\n",
    "    \"\"\"\n",
    "    Helper function; runs the graph with given input tensor and saves summaries\n",
    "    \"\"\"\n",
    "    feed_dict = {a: input_tensor}\n",
    "    _, step, summary = sess.run([output, increment_step, merged_summaries],\n",
    "                                feed_dict=feed_dict)\n",
    "    writer.add_summary(summary, global_step=step)"
   ]
  },
  {
   "cell_type": "code",
   "execution_count": 8,
   "metadata": {},
   "outputs": [],
   "source": [
    "# Run the graph with various inputs\n",
    "run_graph([2,8])\n",
    "run_graph([3,1,3,3])\n",
    "run_graph([8])\n",
    "run_graph([1,2,3])\n",
    "run_graph([11,4])\n",
    "run_graph([4,1])\n",
    "run_graph([7,3,1])\n",
    "run_graph([6,3])\n",
    "run_graph([0,2])\n",
    "run_graph([4,5,6])\n",
    "# Write the summaries to disk\n",
    "writer.flush()\n",
    "# Close the SummaryWriter\n",
    "writer.close()\n",
    "# Close the session\n",
    "sess.close()"
   ]
  },
  {
   "cell_type": "code",
   "execution_count": null,
   "metadata": {
    "collapsed": true
   },
   "outputs": [],
   "source": []
  },
  {
   "cell_type": "code",
   "execution_count": null,
   "metadata": {
    "collapsed": true
   },
   "outputs": [],
   "source": []
  },
  {
   "cell_type": "code",
   "execution_count": null,
   "metadata": {
    "collapsed": true
   },
   "outputs": [],
   "source": []
  },
  {
   "cell_type": "code",
   "execution_count": null,
   "metadata": {
    "collapsed": true
   },
   "outputs": [],
   "source": []
  },
  {
   "cell_type": "code",
   "execution_count": null,
   "metadata": {
    "collapsed": true
   },
   "outputs": [],
   "source": []
  },
  {
   "cell_type": "code",
   "execution_count": null,
   "metadata": {
    "collapsed": true
   },
   "outputs": [],
   "source": []
  },
  {
   "cell_type": "code",
   "execution_count": null,
   "metadata": {
    "collapsed": true
   },
   "outputs": [],
   "source": []
  }
 ],
 "metadata": {
  "kernelspec": {
   "display_name": "Python 3",
   "language": "python",
   "name": "python3"
  },
  "language_info": {
   "codemirror_mode": {
    "name": "ipython",
    "version": 3
   },
   "file_extension": ".py",
   "mimetype": "text/x-python",
   "name": "python",
   "nbconvert_exporter": "python",
   "pygments_lexer": "ipython3",
   "version": "3.6.1"
  }
 },
 "nbformat": 4,
 "nbformat_minor": 2
}
