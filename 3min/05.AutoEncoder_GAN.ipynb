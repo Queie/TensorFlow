{
 "cells": [
  {
   "cell_type": "markdown",
   "metadata": {},
   "source": [
    "<br><br>\n",
    "# <strong>Tensor Flow Deep Learning\n",
    "<strong>Unsupervised Learning\n",
    "\n",
    "<strong>Chapter 7 : 합성곱 신경망 (Convolution Neural Network)</strong>\n",
    "\n",
    "<strong>RBM(Restricted Boltzmann Machine)<strong>\n",
    "\n",
    "http://scikit-learn.org/stable/auto_examples/neural_networks/plot_rbm_logistic_classification.html"
   ]
  },
  {
   "cell_type": "markdown",
   "metadata": {},
   "source": [
    "<br>\n",
    "## <strong>1 AutoEncoder 개념\n",
    "<strong>입력값과 출력값이 동일한 신경망</strong>으로, 가운데 Node의 갯수가 입력보다 적게 설계되어\n",
    "\n",
    "입력데이터를 압축 후 복원함으로써 <strong>노이즈를 제거하는데 효과적</strong>으로 알려져 있다\n",
    "1. 변이형 오토인코더 (Variational AutoEncoder)\n",
    "1. 잡음제거 오토인코더 (Denoising AutoEncoder) \n",
    "1. 기타 다양한 오토인코더로 구성\n",
    "1. 실무에선 <strong>RBM(Restricted Boltzmann Machine)</strong>을 대신 활용하기도 한다\n",
    "1. <strong>오토인코더</strong>는 피처를 축소, <strong>RBM은 확률분포</strong>에 기반하여 visible 변수, hidden 변수간 상호작용을 파악\n",
    "1. http://khanrc.tistory.com/entry/Autoencoder-vs-RBM-vs-CNN\n",
    "\n",
    "<img src=\"http://fastforwardlabs.github.io/blog-images/miriam/imgs_code/vae.4.png\" align=\"left\" width='400'>"
   ]
  },
  {
   "cell_type": "markdown",
   "metadata": {},
   "source": [
    "<br>\n",
    "## <strong>2 AutoEncoder 구현\n",
    "<strong>MNIST 데이터를 활용\n",
    "\n",
    "(참고) Optimizers 최적화 알고리즘\n",
    "1. SGD with Momentum\n",
    "1. RMS propagation   &nbsp;&nbsp;&nbsp;<--  using in codes\n",
    "1. Adagrad\n",
    "1. Adadelta\n",
    "1. Adam"
   ]
  },
  {
   "cell_type": "code",
   "execution_count": 1,
   "metadata": {},
   "outputs": [
    {
     "name": "stderr",
     "output_type": "stream",
     "text": [
      "/home/markbaum/Python/python36/lib/python3.6/importlib/_bootstrap.py:205: RuntimeWarning: compiletime version 3.5 of module 'tensorflow.python.framework.fast_tensor_util' does not match runtime version 3.6\n",
      "  return f(*args, **kwds)\n"
     ]
    },
    {
     "name": "stdout",
     "output_type": "stream",
     "text": [
      "Extracting ./data/mnist/train-images-idx3-ubyte.gz\n",
      "Extracting ./data/mnist/train-labels-idx1-ubyte.gz\n",
      "Extracting ./data/mnist/t10k-images-idx3-ubyte.gz\n",
      "Extracting ./data/mnist/t10k-labels-idx1-ubyte.gz\n"
     ]
    }
   ],
   "source": [
    "# 대표적인 비지도(Unsupervised) 학습 방법인 Autoencoder 를 구현해봅니다.\n",
    "import tensorflow as tf\n",
    "import numpy as np\n",
    "import matplotlib.pyplot as plt\n",
    "from tensorflow.examples.tutorials.mnist import input_data\n",
    "mnist = input_data.read_data_sets(\"./data/mnist/\", one_hot=True)"
   ]
  },
  {
   "cell_type": "code",
   "execution_count": 2,
   "metadata": {
    "collapsed": true
   },
   "outputs": [],
   "source": [
    "# 1. 파라미터의 설정\n",
    "learning_rate = 0.01  # Activation Function의 파라미터\n",
    "training_epoch = 20   # 전체 데이터를 학습하는 총 횟수\n",
    "batch_size = 100      # 1번 학습시 호출할 이미지 데이터 숫자 (100개씩 랜덤추출)\n",
    "\n",
    "# 1) 신경망 레이어 구성 옵션\n",
    "n_hidden = 256        # 히든 레이어의 뉴런 갯수\n",
    "n_input  = 28*28      # 입력값 크기 - 이미지 픽셀수"
   ]
  },
  {
   "cell_type": "code",
   "execution_count": 3,
   "metadata": {
    "collapsed": true
   },
   "outputs": [],
   "source": [
    "# 2. 신경망 모델 구성\n",
    "# 1) 입력값을 Y로 사용하므로, 별도 Y를 설정하지 않는다\n",
    "X = tf.placeholder(tf.float32, [None, n_input])\n",
    "\n",
    "# 2) 인코더 레이어와 디코더 레이어의 가중치와 편향 변수를 설정 \n",
    "# input -> encode -> decode -> output\n",
    "W_encode = tf.Variable(tf.random_normal([n_input, n_hidden]))\n",
    "b_encode = tf.Variable(tf.random_normal([n_hidden]))\n",
    "# cf) sigmoid 함수를 이용해 신경망 레이어를 구성시 : sigmoid(X * W + b)"
   ]
  },
  {
   "cell_type": "code",
   "execution_count": 4,
   "metadata": {
    "collapsed": true
   },
   "outputs": [],
   "source": [
    "# 3. 모델을 정의한다\n",
    "# 1) 인코더 레이어 구성\n",
    "# encode는 입력값보다 작은값으로 정보를 압축, decode 출력풋은 입력과 동일한 크기로 설정\n",
    "encoder = tf.nn.sigmoid(tf.add(tf.matmul(X, W_encode), b_encode))\n",
    "W_decode = tf.Variable(tf.random_normal([n_hidden, n_input]))\n",
    "b_decode = tf.Variable(tf.random_normal([n_input]))"
   ]
  },
  {
   "cell_type": "code",
   "execution_count": 5,
   "metadata": {
    "collapsed": true
   },
   "outputs": [],
   "source": [
    "# 2) 디코더 레이어 구성 : 디코더가 최종 모델이 된다\n",
    "decoder = tf.nn.sigmoid(\n",
    "                tf.add(tf.matmul(encoder, W_decode), b_decode))\n",
    "\n",
    "# 3) 손실함수 정의\n",
    "# 디코더는 인풋과 최대한 같은 결과를 내야 하므로, 디코딩한 결과를 평가하기 위해\n",
    "# 입력 값인 X 를 실측 결과 값으로하여 decoder 와의 차이를 손실함수를 정의한다\n",
    "cost = tf.reduce_mean(tf.pow(X - decoder, 2))\n",
    "optimizer = tf.train.RMSPropOptimizer(learning_rate).minimize(cost)"
   ]
  },
  {
   "cell_type": "code",
   "execution_count": 6,
   "metadata": {},
   "outputs": [
    {
     "name": "stdout",
     "output_type": "stream",
     "text": [
      "Epoch: 0001 Avg.cost = 0.1906\n",
      "Epoch: 0005 Avg.cost = 0.0311\n",
      "Epoch: 0009 Avg.cost = 0.0267\n",
      "Epoch: 0013 Avg.cost = 0.0243\n",
      "Epoch: 0017 Avg.cost = 0.0232\n",
      "최적화 완료!\n"
     ]
    }
   ],
   "source": [
    "# 4. 신경망 모델 학습\n",
    "# 1) 모델학습 초기화\n",
    "init = tf.global_variables_initializer()\n",
    "sess = tf.Session()\n",
    "sess.run(init)\n",
    "total_batch = int(mnist.train.num_examples/batch_size)\n",
    "# 2) 모델의 훈련\n",
    "for epoch in range(training_epoch):\n",
    "    total_cost = 0\n",
    "    for i in range(total_batch):\n",
    "        batch_xs, batch_ys = mnist.train.next_batch(batch_size)\n",
    "        _, cost_val = sess.run([optimizer, cost], feed_dict={X: batch_xs})\n",
    "        total_cost += cost_val\n",
    "    if epoch % 4 == 0:\n",
    "        print('Epoch:', '%04d'%(epoch+1),\n",
    "              'Avg.cost =', '{:.4f}'.format(total_cost / total_batch))\n",
    "print('최적화 완료!')"
   ]
  },
  {
   "cell_type": "code",
   "execution_count": 7,
   "metadata": {},
   "outputs": [
    {
     "data": {
      "image/png": "[encoded data removed]",
      "text/plain": [
       "<matplotlib.figure.Figure at 0x7fd6ea5961d0>"
      ]
     },
     "metadata": {},
     "output_type": "display_data"
    }
   ],
   "source": [
    "# 5. 모델의 성능평가\n",
    "sample_size = 10\n",
    "samples = sess.run(decoder,\n",
    "                   feed_dict = {X: mnist.test.images[ :sample_size]})\n",
    "fig, ax = plt.subplots(2, sample_size, figsize=(sample_size, 2))\n",
    "for i in range(sample_size):\n",
    "    # 원본 이미지를 출력\n",
    "    ax[0][i].set_axis_off()\n",
    "    ax[0][i].imshow(np.reshape(mnist.test.images[i], (28, 28)))\n",
    "    # AutoEncoder로 생성한 이미지를 출력\n",
    "    ax[1][i].set_axis_off()\n",
    "    ax[1][i].imshow(np.reshape(samples[i], (28, 28)))\n",
    "plt.show()"
   ]
  },
  {
   "cell_type": "markdown",
   "metadata": {},
   "source": [
    "<br><br>\n",
    "# <strong>Tensor Flow Deep Learning\n",
    "<strong>Unsupervised Learning\n",
    "\n",
    "<strong>Chapter 8 : GAN (Generative Adversarial Network)</strong>\n",
    "\n",
    "대립하는 두 신경망을 경쟁시킴으로써 결과물 생성하는 학습모듈\n",
    "1. Discriminator(구분자)에게 이미지가 진짜임을 판단하게 한다\n",
    "1. Generator(생성자)를 통해 노이즈로 부터 임의 이미지를 만들고, 이를 진짜 이미지여부를 판단한다\n",
    "1. <strong>생성자가 가짜 이미지</strong>를 만들고, <strong>구분자가 이를 구분하는 훈련</strong>을 통해서 진짜 이미지 구별능력을 향상시킨다\n",
    "\n",
    "<strong>ex) 위조지폐 범죄자와, 경찰을 경쟁시켜 완벽한 위조지폐/ 원본화폐를 찾는 학습모듈을 생성\n",
    "\n",
    "<img src=\"https://oshearesearch.com/wp-content/uploads/2016/07/mnist_gan.png\" align='left' width='600'>"
   ]
  },
  {
   "cell_type": "markdown",
   "metadata": {},
   "source": [
    "<br>\n",
    "## <strong>1 GNA Deep Learning\n",
    "https://arxiv.org/abs/1406.2661\n",
    "\n",
    "Generator(생성자)가 실제와 상당히 비슷한 이미지를 생성하는 능력을 키운다\n",
    "1. 이미지에서 고흐풍의 <strong>이미지를 재현</strong>\n",
    "1. 테두리만 있는 <strong>이미지를 자동채색</strong>\n",
    "1. <strong>모자이크 이미지를 복원</strong> 등에서 탁월한 성능을 나타낸다\n",
    "1. 기타 <strong>자연어 문장 생성</strong>의 연구에서도 활발한 성능을 나타낸다"
   ]
  },
  {
   "cell_type": "markdown",
   "metadata": {},
   "source": [
    "<br>\n",
    "## <strong>2 GNA 기본 모델의 구현\n",
    "<strong>Unsupervised 학습인 Generative Adversarial Network (GAN) 2016 을 구현한다"
   ]
  },
  {
   "cell_type": "code",
   "execution_count": 8,
   "metadata": {},
   "outputs": [
    {
     "name": "stdout",
     "output_type": "stream",
     "text": [
      "Extracting ./data/mnist/train-images-idx3-ubyte.gz\n",
      "Extracting ./data/mnist/train-labels-idx1-ubyte.gz\n",
      "Extracting ./data/mnist/t10k-images-idx3-ubyte.gz\n",
      "Extracting ./data/mnist/t10k-labels-idx1-ubyte.gz\n"
     ]
    }
   ],
   "source": [
    "import tensorflow as tf\n",
    "import matplotlib.pyplot as plt\n",
    "import numpy as np\n",
    "\n",
    "from tensorflow.examples.tutorials.mnist import input_data\n",
    "mnist = input_data.read_data_sets(\"./data/mnist/\", one_hot=True)"
   ]
  },
  {
   "cell_type": "code",
   "execution_count": 9,
   "metadata": {
    "collapsed": true
   },
   "outputs": [],
   "source": [
    "# 1. 파라미터 설정\n",
    "# 1) 옵션 설정\n",
    "total_epoch = 50\n",
    "batch_size = 100\n",
    "learning_rate = 0.0002\n",
    "\n",
    "# 2) 신경망 레이어 구성 옵션\n",
    "n_hidden = 256\n",
    "n_input = 28 * 28\n",
    "n_noise = 128  # 생성기의 입력값으로 사용할 노이즈의 크기"
   ]
  },
  {
   "cell_type": "code",
   "execution_count": 10,
   "metadata": {
    "collapsed": true
   },
   "outputs": [],
   "source": [
    "# 2. 신경망의 파라미터를 설정\n",
    "# 1) 입력/ 출력부분 설정\n",
    "# GAN 도 Unsupervised 학습이므로 Y 를 사용하지 않는다\n",
    "X = tf.placeholder(tf.float32, [None, n_input])\n",
    "# 대신 노이즈 Z를 추가 입력값으로 사용\n",
    "Z = tf.placeholder(tf.float32, [None, n_noise])\n",
    "\n",
    "# 2) Generator : 생성기 신경망의 변수를 설정\n",
    "G_W1 = tf.Variable(tf.random_normal([n_noise, n_hidden], stddev=0.01)) # 입력부분\n",
    "G_b1 = tf.Variable(tf.zeros([n_hidden]))\n",
    "G_W2 = tf.Variable(tf.random_normal([n_hidden, n_input], stddev=0.01))\n",
    "G_b2 = tf.Variable(tf.zeros([n_input]))\n",
    "\n",
    "# 3) Discriminator : 판별기 신경망에 사용하는 변수를 설정\n",
    "D_W1 = tf.Variable(tf.random_normal([n_input, n_hidden], stddev=0.01))\n",
    "D_b1 = tf.Variable(tf.zeros([n_hidden]))\n",
    "# 판별기의 최종 결과값이 진짜와 얼마나 가까운지를 판단 : Scalar\n",
    "D_W2 = tf.Variable(tf.random_normal([n_hidden, 1], stddev=0.01)) # 출력부분\n",
    "D_b2 = tf.Variable(tf.zeros([1]))"
   ]
  },
  {
   "cell_type": "code",
   "execution_count": 11,
   "metadata": {
    "collapsed": true
   },
   "outputs": [],
   "source": [
    "# 3. 신경망의 모델을 정의한다\n",
    "# 생성기(G) 신경망 정의\n",
    "def generator(noise_z):\n",
    "    hidden = tf.nn.relu(tf.matmul(noise_z, G_W1) + G_b1)\n",
    "    output = tf.nn.sigmoid(tf.matmul(hidden, G_W2) + G_b2)\n",
    "    return output\n",
    "\n",
    "# 판별기(D) 신경망 정의\n",
    "def discriminator(inputs):\n",
    "    hidden = tf.nn.relu(tf.matmul(inputs, D_W1) + D_b1)\n",
    "    output = tf.nn.sigmoid(tf.matmul(hidden, D_W2) + D_b2)\n",
    "    return output\n",
    "\n",
    "# 랜덤한 노이즈(Z)를 생성\n",
    "def get_noise(batch_size, n_noise):\n",
    "    return np.random.normal(size=(batch_size, n_noise))"
   ]
  },
  {
   "cell_type": "code",
   "execution_count": 12,
   "metadata": {
    "collapsed": true
   },
   "outputs": [],
   "source": [
    "# 4. 노이즈를 이용해 랜덤한 이미지를 생성\n",
    "G = generator(Z)\n",
    "# 노이즈를 이용해 생성한 이미지가 진짜 이미지인지 판별\n",
    "D_gene = discriminator(G)\n",
    "# 진짜 이미지를 이용해 판별한 결과를 출력\n",
    "D_real = discriminator(X)"
   ]
  },
  {
   "cell_type": "code",
   "execution_count": 13,
   "metadata": {
    "collapsed": true
   },
   "outputs": [],
   "source": [
    "# 5. 이미지 판별기/ 생성기의 코스트 함수\n",
    "# GAN 모델의 최적화는 loss_G, loss_D 를 최대로 갖는 모델을 설계한다\n",
    "# 하지만 loss_D와 loss_G는 경쟁관계로 서로 반대로 움직인다\n",
    "# 논문의 수식에서는 loss_D 를 최대화하기 위해, D_gene 를 최소화 한다\n",
    "# tf.log(D_real) : 판별기에 진짜 이미지를 넣었을 때 최대값을 출력한다\n",
    "# tf.log(1 - D_gene) : 가짜 이미지를 넣었을 때에도 최대값을 출력한다 "
   ]
  },
  {
   "cell_type": "code",
   "execution_count": 14,
   "metadata": {
    "collapsed": true
   },
   "outputs": [],
   "source": [
    "# 이것은 판별기는 생성기가 만들어낸 이미지가 가짜라고 판단하도록 판별기 신경망을 학습시킵니다.\n",
    "loss_D = tf.reduce_mean(tf.log(D_real) + tf.log(1 - D_gene))\n",
    "# loss_G 를 최대로 하기 위해서는, D_gene 도 같이 최대가 되어야 한다\n",
    "# cf) 논문에서는 loss_D 와 같은 수식으로 최소화 하는 생성기를 찾는다\n",
    "loss_G = tf.reduce_mean(tf.log(D_gene))"
   ]
  },
  {
   "cell_type": "code",
   "execution_count": 15,
   "metadata": {
    "collapsed": true
   },
   "outputs": [],
   "source": [
    "# loss_D 는 판별기 신경망에 사용되는 변수를 사용하고,\n",
    "# loss_G 는 생성기 신경망에 사용되는 변수만 사용하여 최적화를 합니다.\n",
    "D_var_list = [D_W1, D_b1, D_W2, D_b2]\n",
    "G_var_list = [G_W1, G_b1, G_W2, G_b2]\n",
    "\n",
    "# GAN 논문의 수식에 따르면 loss 를 극대화 해야하지만, minimize 하는 최적화 함수를 사용하기 때문에\n",
    "# 최적화 하려는 loss_D 와 loss_G 에 음수 부호를 붙여줍니다.\n",
    "train_D = tf.train.AdamOptimizer(learning_rate).minimize(-loss_D,\n",
    "                                                         var_list=D_var_list)\n",
    "train_G = tf.train.AdamOptimizer(learning_rate).minimize(-loss_G,\n",
    "                                                         var_list=G_var_list)"
   ]
  },
  {
   "cell_type": "code",
   "execution_count": 16,
   "metadata": {
    "collapsed": true
   },
   "outputs": [],
   "source": [
    "# 6. 신경망 모델의 학습\n",
    "sess = tf.Session()\n",
    "sess.run(tf.global_variables_initializer())\n",
    "total_batch = int(mnist.train.num_examples/batch_size)\n",
    "loss_val_D, loss_val_G = 0, 0"
   ]
  },
  {
   "cell_type": "code",
   "execution_count": 17,
   "metadata": {},
   "outputs": [
    {
     "name": "stdout",
     "output_type": "stream",
     "text": [
      "Epoch: 0000 D loss: -0.606 \n",
      "G loss: -1.934\n",
      "Epoch: 0005 D loss: -0.1099 \n",
      "G loss: -2.862\n",
      "Epoch: 0010 D loss: -0.1909 \n",
      "G loss: -3.102\n",
      "Epoch: 0015 D loss: -0.3385 \n",
      "G loss: -2.42\n",
      "Epoch: 0020 D loss: -0.5163 \n",
      "G loss: -2.257\n",
      "Epoch: 0025 D loss: -0.2836 \n",
      "G loss: -2.827\n",
      "Epoch: 0030 D loss: -0.5213 \n",
      "G loss: -2.422\n",
      "Epoch: 0035 D loss: -0.4926 \n",
      "G loss: -2.769\n",
      "Epoch: 0040 D loss: -0.59 \n",
      "G loss: -2.432\n",
      "Epoch: 0045 D loss: -0.4532 \n",
      "G loss: -2.273\n",
      "최적화 완료!\n"
     ]
    }
   ],
   "source": [
    "for epoch in range(total_epoch):\n",
    "    for i in range(total_batch):\n",
    "        batch_xs, batch_ys = mnist.train.next_batch(batch_size)\n",
    "        noise = get_noise(batch_size, n_noise)\n",
    "        # 판별기와 생성기 신경망을 각각 학습시킵니다.\n",
    "        _, loss_val_D = sess.run([train_D, loss_D], feed_dict={X: batch_xs, Z: noise})\n",
    "        _, loss_val_G = sess.run([train_G, loss_G], feed_dict={Z: noise})\n",
    "    if epoch % 5 == 0 :\n",
    "        print('Epoch:', '%04d' % epoch,\n",
    "              'D loss: {:.4}  \\nG loss: {:.4}'.format(loss_val_D,loss_val_G))\n",
    "\n",
    "    # 7. 학습이 되어가는 모습을 보기 위해 주기적으로 이미지를 생성하여 저장\n",
    "    if epoch == 0 or (epoch + 1) % 10 == 0:\n",
    "        sample_size = 10\n",
    "        noise = get_noise(sample_size, n_noise)\n",
    "        samples = sess.run(G, feed_dict={Z: noise})\n",
    "        fig, ax = plt.subplots(1, sample_size, figsize=(sample_size, 1))\n",
    "        for i in range(sample_size):\n",
    "            ax[i].set_axis_off()\n",
    "            ax[i].imshow(np.reshape(samples[i], (28, 28)))\n",
    "        # samples 폴더에, 이미지 생성결과를 저장한다\n",
    "        plt.savefig('./data/gan_sample/{}.png'.format(str(epoch).zfill(3)), bbox_inches='tight')\n",
    "        plt.close(fig)\n",
    "print('최적화 완료!')"
   ]
  },
  {
   "cell_type": "markdown",
   "metadata": {},
   "source": [
    "<br>\n",
    "## <strong>3 원하는 숫자의 이미지 생성모델 구현\n",
    "<strong>특정한 숫자 이미지를 생성하는 모델을 설계한다"
   ]
  },
  {
   "cell_type": "code",
   "execution_count": 18,
   "metadata": {},
   "outputs": [
    {
     "name": "stdout",
     "output_type": "stream",
     "text": [
      "Extracting ./data/mnist/train-images-idx3-ubyte.gz\n",
      "Extracting ./data/mnist/train-labels-idx1-ubyte.gz\n",
      "Extracting ./data/mnist/t10k-images-idx3-ubyte.gz\n",
      "Extracting ./data/mnist/t10k-labels-idx1-ubyte.gz\n"
     ]
    }
   ],
   "source": [
    "# GAN 모델을 이용해 원하는 손글씨 숫자를 생성하는 모델을 생성\n",
    "# (흑백 사진을 컬러로 변경, 선화의 채색등의 응용이 가능)\n",
    "import tensorflow as tf\n",
    "import matplotlib.pyplot as plt\n",
    "import numpy as np\n",
    "\n",
    "from tensorflow.examples.tutorials.mnist import input_data\n",
    "mnist = input_data.read_data_sets(\"./data/mnist/\", one_hot=True)"
   ]
  },
  {
   "cell_type": "code",
   "execution_count": 19,
   "metadata": {
    "collapsed": true
   },
   "outputs": [],
   "source": [
    "# 1. 파라미터 설정\n",
    "total_epoch = 100\n",
    "batch_size = 100\n",
    "n_hidden = 256\n",
    "n_input = 28 * 28\n",
    "n_noise = 128\n",
    "n_class = 10"
   ]
  },
  {
   "cell_type": "code",
   "execution_count": 20,
   "metadata": {
    "collapsed": true
   },
   "outputs": [],
   "source": [
    "# 2. 신경망 모델 구성\n",
    "X = tf.placeholder(tf.float32, [None, n_input])\n",
    "Y = tf.placeholder(tf.float32, [None, n_class]) # 노이즈 추가를 위한 매개변수\n",
    "Z = tf.placeholder(tf.float32, [None, n_noise])"
   ]
  },
  {
   "cell_type": "code",
   "execution_count": 21,
   "metadata": {
    "collapsed": true
   },
   "outputs": [],
   "source": [
    "# (1) GAN 모델의 생성 1 (생성자) : tf.variable_scope()로 생성자를 정의한다\n",
    "def generator(noise, labels):\n",
    "    with tf.variable_scope('generator') :                    \n",
    "        inputs = tf.concat([noise, labels], 1)                                # noise 에 labels 정보를 추가한다\n",
    "        hidden = tf.layers.dense(inputs, n_hidden, activation = tf.nn.relu)   # 신경망 모델 : TF 유틸리티 함수를 활용\n",
    "        output = tf.layers.dense(hidden, n_input, activation = tf.nn.sigmoid) \n",
    "    return output"
   ]
  },
  {
   "cell_type": "code",
   "execution_count": 22,
   "metadata": {
    "collapsed": true
   },
   "outputs": [],
   "source": [
    "# (2) GAN 모델의 생성 2 (구분자) : tf.variable_scope()로 구분자를 정의한다\n",
    "# tf.variable_scope.reuse_variables() : 이전에 사용된 매개변수를 재사용 !!!\n",
    "# cf) 앞의 코드들은 '생성자', '구분자' 개별 매개변수를 사용하여 불필요한 반복을 요한다\n",
    "def discriminator(inputs, labels, reuse = None):\n",
    "    with tf.variable_scope('discriminator') as scope:\n",
    "        if reuse:               \n",
    "            scope.reuse_variables()\n",
    "        inputs = tf.concat([inputs, labels], 1)\n",
    "        hidden = tf.layers.dense(inputs, n_hidden, activation = tf.nn.relu)\n",
    "        output = tf.layers.dense(hidden, 1, activation = None)\n",
    "    return output"
   ]
  },
  {
   "cell_type": "code",
   "execution_count": 23,
   "metadata": {
    "collapsed": true
   },
   "outputs": [],
   "source": [
    "# (3) 노이즈를 균등분포로 생성한다\n",
    "def get_noise(batch_size, n_noise):\n",
    "    return np.random.uniform(-1., 1., size=[batch_size, n_noise])\n",
    "\n",
    "# '임의생성 이미지 데이터'의 '구분자'를 하나씩 정의한다\n",
    "# generator() : 매개변수 생성\n",
    "# discriminator() : 생성, 판별모델에 Y (labels 정보)를 추가한다 (labels 해당 이미지를 생성도록 유도)\n",
    "# discriminator(  , reuse = True) : '구분자'의 변수들을 재사용\n",
    "G = generator(Z, Y)\n",
    "D_real = discriminator(X, Y)\n",
    "D_gene = discriminator(G, Y, True)"
   ]
  },
  {
   "cell_type": "code",
   "execution_count": 24,
   "metadata": {
    "collapsed": true
   },
   "outputs": [],
   "source": [
    "# 3. 손실함수 (GAN 논문과는 변형을 주었다) - http://bamos.github.io/2016/08/09/deep-completion/\n",
    "# D_real (진짜를 구분)는 1에 가깝도록, D_gene (가짜를 구분)는 0에 가깝도록 한다\n",
    "loss_D_real = tf.reduce_mean(\n",
    "                    tf.nn.sigmoid_cross_entropy_with_logits(\n",
    "                        logits=D_real, labels=tf.ones_like(D_real)))\n",
    "loss_D_gene = tf.reduce_mean(\n",
    "                    tf.nn.sigmoid_cross_entropy_with_logits(\n",
    "                        logits=D_gene, labels=tf.zeros_like(D_gene)))\n",
    "\n",
    "# loss_D_real 과 loss_D_gene 를 더한 값을, 최소화로 하는 최적값을 계산한다\n",
    "loss_D = loss_D_real + loss_D_gene \n",
    "# '생성자' 학습을 위한 손실함수를 정의한다 (D_gene 를 1에 가깝도록 손실함수를 정의)\n",
    "loss_G = tf.reduce_mean(\n",
    "                    tf.nn.sigmoid_cross_entropy_with_logits(\n",
    "                        logits=D_gene, labels=tf.ones_like(D_gene)))"
   ]
  },
  {
   "cell_type": "code",
   "execution_count": 25,
   "metadata": {
    "collapsed": true
   },
   "outputs": [],
   "source": [
    "# 4. 개별 매개변수와 함수를 종합하여 모델을 완성한다\n",
    "# tf.get_collection(tf.GraphKeys.TRAINABLE_VARIABLES, scope='') : 유틸리티 함수로 변수들을 쉽게 가져올 수 있다.\n",
    "vars_D = tf.get_collection(tf.GraphKeys.TRAINABLE_VARIABLES, scope='discriminator')\n",
    "train_D = tf.train.AdamOptimizer().minimize(loss_D, var_list=vars_D)\n",
    "vars_G = tf.get_collection(tf.GraphKeys.TRAINABLE_VARIABLES, scope='generator')\n",
    "train_G = tf.train.AdamOptimizer().minimize(loss_G, var_list=vars_G)"
   ]
  },
  {
   "cell_type": "code",
   "execution_count": 26,
   "metadata": {},
   "outputs": [
    {
     "name": "stdout",
     "output_type": "stream",
     "text": [
      "Epoch: 0000 D loss: 0.004718 \n",
      "G loss: 7.511\n",
      "Epoch: 0001 D loss: 0.005956 \n",
      "G loss: 6.989\n",
      "Epoch: 0002 D loss: 0.003316 \n",
      "G loss: 9.771\n",
      "Epoch: 0003 D loss: 0.001612 \n",
      "G loss: 9.064\n",
      "Epoch: 0004 D loss: 0.002711 \n",
      "G loss: 10.04\n",
      "Epoch: 0005 D loss: 0.002952 \n",
      "G loss: 10.48\n",
      "Epoch: 0006 D loss: 0.008215 \n",
      "G loss: 13.08\n",
      "Epoch: 0007 D loss: 0.0004396 \n",
      "G loss: 11.48\n",
      "Epoch: 0008 D loss: 9.919e-05 \n",
      "G loss: 14.86\n",
      "Epoch: 0009 D loss: 4.344e-06 \n",
      "G loss: 15.24\n",
      "Epoch: 0010 D loss: 6.894e-07 \n",
      "G loss: 16.6\n",
      "Epoch: 0011 D loss: 3.969e-06 \n",
      "G loss: 16.5\n",
      "Epoch: 0012 D loss: 7.196e-06 \n",
      "G loss: 18.12\n",
      "Epoch: 0013 D loss: 2.113e-07 \n",
      "G loss: 18.65\n",
      "Epoch: 0014 D loss: 1.36e-07 \n",
      "G loss: 17.39\n",
      "Epoch: 0015 D loss: 2.18e-07 \n",
      "G loss: 18.33\n",
      "Epoch: 0016 D loss: 2.403e-06 \n",
      "G loss: 18.66\n",
      "Epoch: 0017 D loss: 3.006e-08 \n",
      "G loss: 19.05\n",
      "Epoch: 0018 D loss: 1.003e-07 \n",
      "G loss: 17.97\n",
      "Epoch: 0019 D loss: 7.549e-08 \n",
      "G loss: 18.67\n",
      "Epoch: 0020 D loss: 9.887e-08 \n",
      "G loss: 17.04\n",
      "Epoch: 0021 D loss: 8.253e-05 \n",
      "G loss: 15.23\n",
      "Epoch: 0022 D loss: 3.538e-05 \n",
      "G loss: 16.25\n",
      "Epoch: 0023 D loss: 1.819e-05 \n",
      "G loss: 15.2\n",
      "Epoch: 0024 D loss: 4.562e-10 \n",
      "G loss: 25.45\n",
      "Epoch: 0025 D loss: 1.041e-06 \n",
      "G loss: 15.96\n",
      "Epoch: 0026 D loss: 2.456e-06 \n",
      "G loss: 15.3\n",
      "Epoch: 0027 D loss: 1.683e-07 \n",
      "G loss: 16.27\n",
      "Epoch: 0028 D loss: 1.088e-07 \n",
      "G loss: 16.99\n",
      "Epoch: 0029 D loss: 5.43e-08 \n",
      "G loss: 17.68\n",
      "Epoch: 0030 D loss: 1.244e-07 \n",
      "G loss: 17.26\n",
      "Epoch: 0031 D loss: 1.641e-05 \n",
      "G loss: 18.71\n",
      "Epoch: 0032 D loss: 2.212e-05 \n",
      "G loss: 20.65\n",
      "Epoch: 0033 D loss: 7.432e-07 \n",
      "G loss: 34.86\n",
      "Epoch: 0034 D loss: 8.613e-06 \n",
      "G loss: 15.12\n",
      "Epoch: 0035 D loss: 5.375e-06 \n",
      "G loss: 17.02\n",
      "Epoch: 0036 D loss: 7.46e-05 \n",
      "G loss: 14.44\n",
      "Epoch: 0037 D loss: 2.57e-06 \n",
      "G loss: 14.49\n",
      "Epoch: 0038 D loss: 2.199e-06 \n",
      "G loss: 19.65\n",
      "Epoch: 0039 D loss: 0.004298 \n",
      "G loss: 8.291\n",
      "Epoch: 0040 D loss: 2.755e-07 \n",
      "G loss: 16.92\n",
      "Epoch: 0041 D loss: 2.407e-07 \n",
      "G loss: 16.05\n",
      "Epoch: 0042 D loss: 3.101e-07 \n",
      "G loss: 16.06\n",
      "Epoch: 0043 D loss: 1.516e-07 \n",
      "G loss: 16.43\n",
      "Epoch: 0044 D loss: 5.063e-08 \n",
      "G loss: 17.28\n",
      "Epoch: 0045 D loss: 4.526e-07 \n",
      "G loss: 17.51\n",
      "Epoch: 0046 D loss: 6.364e-09 \n",
      "G loss: 19.56\n",
      "Epoch: 0047 D loss: 1.366e-08 \n",
      "G loss: 18.98\n",
      "Epoch: 0048 D loss: 9.898e-10 \n",
      "G loss: 21.77\n",
      "Epoch: 0049 D loss: 1.138e-09 \n",
      "G loss: 21.89\n",
      "Epoch: 0050 D loss: 3.966e-10 \n",
      "G loss: 22.31\n",
      "Epoch: 0051 D loss: 2.927e-09 \n",
      "G loss: 21.11\n",
      "Epoch: 0052 D loss: 4.367e-10 \n",
      "G loss: 23.46\n",
      "Epoch: 0053 D loss: 3.316e-10 \n",
      "G loss: 23.41\n",
      "Epoch: 0054 D loss: 3.652e-10 \n",
      "G loss: 23.14\n",
      "Epoch: 0055 D loss: 2.958e-10 \n",
      "G loss: 24.42\n",
      "Epoch: 0056 D loss: 8.486e-11 \n",
      "G loss: 24.83\n",
      "Epoch: 0057 D loss: 1.54e-08 \n",
      "G loss: 24.24\n",
      "Epoch: 0058 D loss: 6.525e-06 \n",
      "G loss: 14.76\n",
      "Epoch: 0059 D loss: 4.084e-08 \n",
      "G loss: 19.19\n",
      "Epoch: 0060 D loss: 1.149e-05 \n",
      "G loss: 18.89\n",
      "Epoch: 0061 D loss: 1.634e-06 \n",
      "G loss: 16.06\n",
      "Epoch: 0062 D loss: 4.556e-07 \n",
      "G loss: 16.29\n",
      "Epoch: 0063 D loss: 1.996e-08 \n",
      "G loss: 18.06\n",
      "Epoch: 0064 D loss: 3.731e-08 \n",
      "G loss: 18.7\n",
      "Epoch: 0065 D loss: 1.665e-08 \n",
      "G loss: 18.6\n",
      "Epoch: 0066 D loss: 6.384e-09 \n",
      "G loss: 19.45\n",
      "Epoch: 0067 D loss: 3.857e-08 \n",
      "G loss: 18.16\n",
      "Epoch: 0068 D loss: 9.362e-11 \n",
      "G loss: 43.81\n",
      "Epoch: 0069 D loss: 8.919e-08 \n",
      "G loss: 17.6\n",
      "Epoch: 0070 D loss: 1.213e-08 \n",
      "G loss: 18.95\n",
      "Epoch: 0071 D loss: 2.246e-07 \n",
      "G loss: 16.77\n",
      "Epoch: 0072 D loss: 1.085e-07 \n",
      "G loss: 17.37\n",
      "Epoch: 0073 D loss: 3.662e-16 \n",
      "G loss: 50.47\n",
      "Epoch: 0074 D loss: 7.788e-09 \n",
      "G loss: 21.14\n",
      "Epoch: 0075 D loss: 4.94e-08 \n",
      "G loss: 74.21\n",
      "Epoch: 0076 D loss: 1.161e-08 \n",
      "G loss: 21.23\n",
      "Epoch: 0077 D loss: 6.105e-09 \n",
      "G loss: 20.26\n",
      "Epoch: 0078 D loss: 6.091e-11 \n",
      "G loss: 26.26\n",
      "Epoch: 0079 D loss: 3.915e-09 \n",
      "G loss: 22.06\n",
      "Epoch: 0080 D loss: 2.36e-09 \n",
      "G loss: 22.12\n",
      "Epoch: 0081 D loss: 2.666e-09 \n",
      "G loss: 22.57\n",
      "Epoch: 0082 D loss: 3.994e-08 \n",
      "G loss: 19.53\n",
      "Epoch: 0083 D loss: 1.076e-08 \n",
      "G loss: 20.38\n",
      "Epoch: 0084 D loss: 5.676e-08 \n",
      "G loss: 17.73\n",
      "Epoch: 0085 D loss: 2.886e-09 \n",
      "G loss: 20.44\n",
      "Epoch: 0086 D loss: 1.368e-09 \n",
      "G loss: 21.15\n",
      "Epoch: 0087 D loss: 2.595e-07 \n",
      "G loss: 18.13\n",
      "Epoch: 0088 D loss: 8.524e-09 \n",
      "G loss: 18.99\n",
      "Epoch: 0089 D loss: 5.653e-15 \n",
      "G loss: 42.15\n",
      "Epoch: 0090 D loss: 3.953e-08 \n",
      "G loss: 18.91\n",
      "Epoch: 0091 D loss: 2.683e-07 \n",
      "G loss: 16.96\n",
      "Epoch: 0092 D loss: 3.451e-09 \n",
      "G loss: 21.79\n",
      "Epoch: 0093 D loss: 1.604e-08 \n",
      "G loss: 19.68\n",
      "Epoch: 0094 D loss: 9.206e-08 \n",
      "G loss: 17.83\n",
      "Epoch: 0095 D loss: 1.43e-17 \n",
      "G loss: 72.8\n",
      "Epoch: 0096 D loss: 1.68e-08 \n",
      "G loss: 25.66\n",
      "Epoch: 0097 D loss: 1.011e-05 \n",
      "G loss: 18.09\n",
      "Epoch: 0098 D loss: 3.303e-07 \n",
      "G loss: 16.69\n",
      "Epoch: 0099 D loss: 1.496e-07 \n",
      "G loss: 17.57\n",
      "최적화 완료!\n"
     ]
    }
   ],
   "source": [
    "# 5. 신경망 모델 학습 (running Session)\n",
    "sess = tf.Session()\n",
    "sess.run(tf.global_variables_initializer())\n",
    "loss_val_D, loss_val_G = 0, 0\n",
    "total_batch = int(mnist.train.num_examples / batch_size)\n",
    "\n",
    "for epoch in range(total_epoch):\n",
    "    for i in range(total_batch):\n",
    "        batch_xs, batch_ys = mnist.train.next_batch(batch_size)\n",
    "        noise = get_noise(batch_size, n_noise)\n",
    "        _, loss_val_D = sess.run([train_D, loss_D],\n",
    "                                 feed_dict={X: batch_xs, Y: batch_ys, Z: noise})\n",
    "        _, loss_val_G = sess.run([train_G, loss_G],\n",
    "                                 feed_dict={Y: batch_ys, Z: noise})\n",
    "    print('Epoch:', '%04d' % epoch, 'D loss: {:.4} \\nG loss: {:.4}'.format(loss_val_D,loss_val_G))\n",
    "\n",
    "    if epoch == 0 or (epoch + 1) % 10 == 0:     # 학습과정을 기록, 주기적으로 레이블에 이미지를 저장\n",
    "        sample_size = 10\n",
    "        noise = get_noise(sample_size, n_noise)\n",
    "        samples = sess.run(G,\n",
    "                           feed_dict={Y: mnist.test.labels[:sample_size],\n",
    "                                      Z: noise})\n",
    "        \n",
    "        fig, ax = plt.subplots(2, sample_size, figsize=(sample_size, 2))\n",
    "        for i in range(sample_size):\n",
    "            ax[0][i].set_axis_off()\n",
    "            ax[1][i].set_axis_off()\n",
    "            ax[0][i].imshow(np.reshape(mnist.test.images[i], (28, 28)))\n",
    "            ax[1][i].imshow(np.reshape(samples[i], (28, 28)))\n",
    "        plt.savefig('./data/gan_sample2/{}.png'.format(str(epoch).zfill(3)), bbox_inches='tight')\n",
    "        plt.close(fig)\n",
    "print('최적화 완료!')"
   ]
  }
 ],
 "metadata": {
  "kernelspec": {
   "display_name": "Python 3",
   "language": "python",
   "name": "python3"
  },
  "language_info": {
   "codemirror_mode": {
    "name": "ipython",
    "version": 3
   },
   "file_extension": ".py",
   "mimetype": "text/x-python",
   "name": "python",
   "nbconvert_exporter": "python",
   "pygments_lexer": "ipython3",
   "version": "3.6.1"
  }
 },
 "nbformat": 4,
 "nbformat_minor": 2
}
