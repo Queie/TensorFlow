{
 "cells": [
  {
   "cell_type": "markdown",
   "metadata": {},
   "source": [
    "# <strong>Tensor Flow Deep Learning\n",
    "<strong>Chapter 6 : MNIST</strong> "
   ]
  },
  {
   "cell_type": "markdown",
   "metadata": {},
   "source": [
    "<br>\n",
    "## <strong>1 MNIST Train\n",
    "<strong> 숫자 필기 이미지 데이터 분석"
   ]
  },
  {
   "cell_type": "code",
   "execution_count": 1,
   "metadata": {
    "scrolled": true
   },
   "outputs": [
    {
     "name": "stderr",
     "output_type": "stream",
     "text": [
      "/home/markbaum/Python/python36/lib/python3.6/importlib/_bootstrap.py:205: RuntimeWarning: compiletime version 3.5 of module 'tensorflow.python.framework.fast_tensor_util' does not match runtime version 3.6\n",
      "  return f(*args, **kwds)\n"
     ]
    },
    {
     "name": "stdout",
     "output_type": "stream",
     "text": [
      "Extracting ./data/mnist/train-images-idx3-ubyte.gz\n",
      "Extracting ./data/mnist/train-labels-idx1-ubyte.gz\n",
      "Extracting ./data/mnist/t10k-images-idx3-ubyte.gz\n",
      "Extracting ./data/mnist/t10k-labels-idx1-ubyte.gz\n"
     ]
    }
   ],
   "source": [
    "import tensorflow as tf\n",
    "from tensorflow.examples.tutorials.mnist import input_data\n",
    "# one_hot = True : one_hot 방식의 데이터를 생성\n",
    "mnist = input_data.read_data_sets(\"./data/mnist/\", one_hot=True)"
   ]
  },
  {
   "cell_type": "code",
   "execution_count": null,
   "metadata": {
    "collapsed": true
   },
   "outputs": [],
   "source": [
    "# 1. 신경망 모델 구성\n",
    "# 1) .placeholder( ,[배치크기, 특성값]) : 총 784개의 특성값 (28x28 픽셀)\n",
    "X = tf.placeholder(tf.float32, [None, 784]) \n",
    "Y = tf.placeholder(tf.float32, [None, 10])  # target : 0 ~ 9 (10 가지 분류)"
   ]
  },
  {
   "cell_type": "code",
   "execution_count": null,
   "metadata": {
    "collapsed": true
   },
   "outputs": [],
   "source": [
    "# 2) 신경망의 레이어\n",
    "# 784(입력 특성값) -> 256(히든레이어 뉴런) -> 256(히든레이어 뉴런) -> 10(결과값 0~9)\n",
    "# stddev = 0.01 : 표준편차 0.01인 정규분포를 갖는 임의의 값으로 변수를 초기화\n",
    "W1 = tf.Variable(tf.random_normal([784, 256], stddev=0.01)) \n",
    "\n",
    "# tf.matmul  : 각 계층의 입력값에 가중치를 곱한다\n",
    "# tf.nn.relu : 활성화 함수로 신경망 계층을 생성\n",
    "L1 = tf.nn.relu(tf.matmul(X, W1))   # 입력값 X 가중치, ReLU 함수로 레이어를 생성\n",
    "\n",
    "W2 = tf.Variable(tf.random_normal([256, 256], stddev=0.01))\n",
    "L2 = tf.nn.relu(tf.matmul(L1, W2))\n",
    "\n",
    "# 3) 최종 모델의 출력 :  W3 변수를 곱해 10개의 분류를 출력\n",
    "W3 = tf.Variable(tf.random_normal([256, 10], stddev=0.01))\n",
    "model = tf.matmul(L2, W3)  # 출력층 : 활성화 함수를 사용하지 않는다\n",
    "\n",
    "# 4) cost 최적화 함수\n",
    "cost = tf.reduce_mean(tf.nn.softmax_cross_entropy_with_logits(logits=model, labels=Y))\n",
    "optimizer = tf.train.AdamOptimizer(0.001).minimize(cost)"
   ]
  },
  {
   "cell_type": "code",
   "execution_count": 4,
   "metadata": {
    "collapsed": true
   },
   "outputs": [],
   "source": [
    "# 2. 신경망 모델 학습 (Train)\n",
    "# 1) parameter 정의\n",
    "sess = tf.Session()\n",
    "init = tf.global_variables_initializer()\n",
    "sess.run(init)\n",
    "batch_size = 100\n",
    "total_batch = int(mnist.train.num_examples / batch_size)"
   ]
  },
  {
   "cell_type": "code",
   "execution_count": 6,
   "metadata": {},
   "outputs": [
    {
     "name": "stdout",
     "output_type": "stream",
     "text": [
      "Epoch: 0001 Avg. cost = 0.405\n",
      "Epoch: 0004 Avg. cost = 0.069\n",
      "Epoch: 0007 Avg. cost = 0.031\n",
      "Epoch: 0010 Avg. cost = 0.018\n",
      "Epoch: 0013 Avg. cost = 0.011\n",
      "최적화 완료!\n"
     ]
    }
   ],
   "source": [
    "# 2) Train the Graph\n",
    "for epoch in range(15):  # epoch : 학습 데이터를 한 바퀴 돌림\n",
    "    total_cost = 0\n",
    "    for i in range(total_batch):  # mnist.train.next_batch() : 지정한 만큼 학습데이터 호출\n",
    "        batch_xs, batch_ys = mnist.train.next_batch(batch_size)\n",
    "        _, cost_val = sess.run([optimizer, cost], feed_dict={X: batch_xs, Y: batch_ys})\n",
    "        total_cost += cost_val\n",
    "    if epoch % 3 == 0 :\n",
    "        print('Epoch:', '%04d' % (epoch + 1),\n",
    "              'Avg. cost =', '{:.3f}'.format(total_cost / total_batch))\n",
    "print('최적화 완료!')"
   ]
  },
  {
   "cell_type": "code",
   "execution_count": 7,
   "metadata": {},
   "outputs": [
    {
     "name": "stdout",
     "output_type": "stream",
     "text": [
      "정확도: 0.979\n"
     ]
    }
   ],
   "source": [
    "# 3. 모델의 성능 확인 (model 예측과 실제 레이블을 비교)\n",
    "# tf.argmax 함수를 이용해 예측한 값에서 가장 큰 값을 예측한 레이블이라고 평가합니다.\n",
    "# 예) [0.1, 0, 0, 0.7, 0, 0.2, 0, 0, 0, 0] -> 3\n",
    "\n",
    "# tf.equal() : tensor 값을 비교하여 True/ False 를 출력\n",
    "is_correct = tf.equal(tf.argmax(model, 1), tf.argmax(Y, 1))\n",
    "# tf.cast() : is_correct의 값을 0, 1로 변환한다\n",
    "accuracy = tf.reduce_mean(tf.cast(is_correct, tf.float32))\n",
    "print('정확도:', sess.run(accuracy,\n",
    "                         feed_dict={X : mnist.test.images,\n",
    "                                    Y : mnist.test.labels}))"
   ]
  },
  {
   "cell_type": "code",
   "execution_count": 18,
   "metadata": {},
   "outputs": [
    {
     "name": "stdout",
     "output_type": "stream",
     "text": [
      "[[-10.6884613  -11.8164835   -3.03924012 ...,  19.36190796 -10.34820652\n",
      "   -3.59656668]\n",
      " [ -6.42169428  -3.068295    19.35770607 ..., -11.09740829  -6.10542965\n",
      "  -36.0905304 ]\n",
      " [-17.0680294   11.70736217   0.52095079 ...,  -0.10913999  -3.02745914\n",
      "  -16.98403931]\n",
      " ..., \n",
      " [-22.34352875 -12.02295494 -21.02274132 ...,  -3.55816388  -7.84017086\n",
      "   -2.69548225]\n",
      " [-13.52715778 -21.37237167 -20.31888771 ..., -10.68719101  -2.74584246\n",
      "  -13.3724556 ]\n",
      " [-12.57236671  -6.29319477 -12.4630785  ..., -25.37634087  -4.16014671\n",
      "  -18.91115952]]\n"
     ]
    }
   ],
   "source": [
    "# Train 모델의 세부내용 출력\n",
    "print(sess.run(model, feed_dict={X : mnist.test.images, Y: mnist.test.labels}))"
   ]
  },
  {
   "cell_type": "code",
   "execution_count": 17,
   "metadata": {},
   "outputs": [
    {
     "name": "stdout",
     "output_type": "stream",
     "text": [
      "[ True  True  True ...,  True  True  True]\n"
     ]
    }
   ],
   "source": [
    "# is_correct 결과를 출력\n",
    "print(sess.run(is_correct, feed_dict={X : mnist.test.images, Y: mnist.test.labels}))"
   ]
  },
  {
   "cell_type": "markdown",
   "metadata": {},
   "source": [
    "<br>\n",
    "## <strong>2 Drop Out\n",
    "모델의 고도화로 인한 <strong> '과적합'을 방지</strong> 하는 기술적 방법\n",
    "\n",
    "<img src=\"https://pgaleone.eu/images/dropout/dropout.jpeg\" align='left' width='400'>"
   ]
  },
  {
   "cell_type": "code",
   "execution_count": 19,
   "metadata": {},
   "outputs": [
    {
     "name": "stdout",
     "output_type": "stream",
     "text": [
      "Extracting ./data/mnist/train-images-idx3-ubyte.gz\n",
      "Extracting ./data/mnist/train-labels-idx1-ubyte.gz\n",
      "Extracting ./data/mnist/t10k-images-idx3-ubyte.gz\n",
      "Extracting ./data/mnist/t10k-labels-idx1-ubyte.gz\n"
     ]
    }
   ],
   "source": [
    "# 과적합 방지 기법 중 하나인 Dropout 을 사용해봅니다.\n",
    "import tensorflow as tf\n",
    "import numpy as np\n",
    "import matplotlib.pyplot as plt\n",
    "from tensorflow.examples.tutorials.mnist import input_data\n",
    "mnist = input_data.read_data_sets(\"./data/mnist/\", one_hot=True)"
   ]
  },
  {
   "cell_type": "code",
   "execution_count": 20,
   "metadata": {
    "collapsed": true
   },
   "outputs": [],
   "source": [
    "# 1. 신경망 모델 구성\n",
    "# 1) tensor 의 입력\n",
    "X = tf.placeholder(tf.float32, [None, 784])\n",
    "Y = tf.placeholder(tf.float32, [None, 10])\n",
    "keep_prob = tf.placeholder(tf.float32)\n",
    "\n",
    "# 2) Graph 의 설계\n",
    "W1 = tf.Variable(tf.random_normal([784, 256], stddev=0.01))\n",
    "L1 = tf.nn.relu(tf.matmul(X, W1))\n",
    "L1 = tf.nn.dropout(L1, keep_prob)   # 텐서플로우 내장함수로 dropout (레이어, 확율만 입력)\n",
    "\n",
    "W2 = tf.Variable(tf.random_normal([256, 256], stddev=0.01))\n",
    "L2 = tf.nn.relu(tf.matmul(L1, W2))\n",
    "L2 = tf.nn.dropout(L2, keep_prob)\n",
    "\n",
    "W3 = tf.Variable(tf.random_normal([256, 10], stddev=0.01))\n",
    "model = tf.matmul(L2, W3)"
   ]
  },
  {
   "cell_type": "code",
   "execution_count": 21,
   "metadata": {
    "collapsed": true
   },
   "outputs": [],
   "source": [
    "# 3) Cost 함수를 정의\n",
    "cost = tf.reduce_mean(tf.nn.softmax_cross_entropy_with_logits(logits=model, labels=Y))\n",
    "optimizer = tf.train.AdamOptimizer(0.001).minimize(cost)"
   ]
  },
  {
   "cell_type": "code",
   "execution_count": null,
   "metadata": {
    "collapsed": true
   },
   "outputs": [],
   "source": [
    "# 2. 신경망 모델 학습\n",
    "init = tf.global_variables_initializer()\n",
    "sess = tf.Session()\n",
    "sess.run(init)\n",
    "\n",
    "# 1) 파라미터 설정\n",
    "batch_size = 100\n",
    "total_batch = int(mnist.train.num_examples / batch_size)"
   ]
  },
  {
   "cell_type": "code",
   "execution_count": 22,
   "metadata": {},
   "outputs": [
    {
     "name": "stdout",
     "output_type": "stream",
     "text": [
      "Epoch: 0001 Avg. cost = 0.435\n",
      "Epoch: 0006 Avg. cost = 0.062\n",
      "Epoch: 0011 Avg. cost = 0.035\n",
      "Epoch: 0016 Avg. cost = 0.024\n",
      "Epoch: 0021 Avg. cost = 0.019\n",
      "Epoch: 0026 Avg. cost = 0.017\n",
      "최적화 완료!\n"
     ]
    }
   ],
   "source": [
    "# 2) 모델의 훈련 ( keep_prob: 0.8 - 신경망 중 80% 만 활용)\n",
    "for epoch in range(30):\n",
    "    total_cost = 0\n",
    "    for i in range(total_batch):\n",
    "        batch_xs, batch_ys = mnist.train.next_batch(batch_size)\n",
    "        _, cost_val = sess.run([optimizer, cost],\n",
    "                               feed_dict={X: batch_xs, Y: batch_ys, keep_prob: 0.8})\n",
    "        total_cost += cost_val\n",
    "    if epoch % 5 == 0:\n",
    "        print('Epoch:', '%04d' % (epoch + 1),\n",
    "              'Avg. cost =', '{:.3f}'.format(total_cost / total_batch))\n",
    "print('최적화 완료!')"
   ]
  },
  {
   "cell_type": "code",
   "execution_count": 23,
   "metadata": {},
   "outputs": [
    {
     "name": "stdout",
     "output_type": "stream",
     "text": [
      "정확도: 0.9827\n"
     ]
    }
   ],
   "source": [
    "# 3. 훈련 모델의 성능평가 ( keep_prob : 1 - 신경망 100% 를 활용)\n",
    "is_correct = tf.equal(tf.argmax(model, 1), tf.argmax(Y, 1))\n",
    "accuracy = tf.reduce_mean(tf.cast(is_correct, tf.float32))\n",
    "print('정확도:', sess.run(accuracy,\n",
    "                        feed_dict={X: mnist.test.images,\n",
    "                                   Y: mnist.test.labels,\n",
    "                                   keep_prob: 1}))"
   ]
  },
  {
   "cell_type": "markdown",
   "metadata": {},
   "source": [
    "<br>\n",
    "## <strong>3 matplotlib\n",
    "결과를 <strong>matplotlib</strong> 로 시각화"
   ]
  },
  {
   "cell_type": "code",
   "execution_count": 24,
   "metadata": {},
   "outputs": [
    {
     "data": {
      "image/png": "[encoded data removed]",
      "text/plain": [
       "<matplotlib.figure.Figure at 0x7f4b7d2dc828>"
      ]
     },
     "metadata": {},
     "output_type": "display_data"
    }
   ],
   "source": [
    "# 4. 훈련 모델의 결과 시각화 확인 (matplot)\n",
    "labels = sess.run(model,\n",
    "                  feed_dict={X: mnist.test.images,\n",
    "                             Y: mnist.test.labels,\n",
    "                             keep_prob: 1})\n",
    "fig = plt.figure()\n",
    "for i in range(10):\n",
    "    subplot = fig.add_subplot(2, 5, i+1)   # 2행 5열 그래프 생성, i + 1 번쨰에 이미지를 출력\n",
    "    subplot.set_xticks([])  # 꺠끗한 이미지를 위해, x축 y축 눈금을 출력하지 않는다\n",
    "    subplot.set_yticks([])\n",
    "    subplot.set_title('%d' % np.argmax(labels[i]))         # 이미지 title에, 대상'숫자'를 출력\n",
    "    subplot.imshow(mnist.test.images[i].reshape((28, 28)), # 28 x 28의 2차원 배열로 이미지 출력\n",
    "                   cmap = plt.cm.gray_r)\n",
    "plt.show()"
   ]
  },
  {
   "cell_type": "code",
   "execution_count": null,
   "metadata": {
    "collapsed": true
   },
   "outputs": [],
   "source": []
  },
  {
   "cell_type": "code",
   "execution_count": null,
   "metadata": {
    "collapsed": true
   },
   "outputs": [],
   "source": []
  },
  {
   "cell_type": "code",
   "execution_count": null,
   "metadata": {
    "collapsed": true
   },
   "outputs": [],
   "source": []
  },
  {
   "cell_type": "code",
   "execution_count": null,
   "metadata": {
    "collapsed": true
   },
   "outputs": [],
   "source": []
  },
  {
   "cell_type": "code",
   "execution_count": null,
   "metadata": {
    "collapsed": true
   },
   "outputs": [],
   "source": []
  },
  {
   "cell_type": "code",
   "execution_count": null,
   "metadata": {
    "collapsed": true
   },
   "outputs": [],
   "source": []
  }
 ],
 "metadata": {
  "kernelspec": {
   "display_name": "Python 3",
   "language": "python",
   "name": "python3"
  },
  "language_info": {
   "codemirror_mode": {
    "name": "ipython",
    "version": 3
   },
   "file_extension": ".py",
   "mimetype": "text/x-python",
   "name": "python",
   "nbconvert_exporter": "python",
   "pygments_lexer": "ipython3",
   "version": "3.6.1"
  }
 },
 "nbformat": 4,
 "nbformat_minor": 2
}
