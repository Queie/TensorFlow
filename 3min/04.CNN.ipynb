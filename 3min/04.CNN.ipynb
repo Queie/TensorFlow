{
 "cells": [
  {
   "cell_type": "markdown",
   "metadata": {},
   "source": [
    "<br><br>\n",
    "# <strong>Tensor Flow Deep Learning\n",
    "<strong>Chapter 7 : 합성곱 신경망 (Convolution Neural Network)</strong> \n",
    "1. <strong>Densly(집약적) Connected Convolution Network</strong> : X를 모두 연결하고, 레이어 사이는 concat 으로 연결한다\n",
    "\n",
    "https://www.youtube.com/watch?v=fe2Vn0mwALI\n",
    "1. <strong>Dilated convolution Network</strong> : CNN 모델이 커져도 연산횟수는 동일하게 부담을 줄인다 \n",
    "\n",
    "http://dogfoottech.tistory.com/165"
   ]
  },
  {
   "cell_type": "markdown",
   "metadata": {},
   "source": [
    "<br>\n",
    "## <strong>1 CNN\n",
    "<strong>Convolution Neural Network</strong> : 2D convolution 예제\n",
    "1. <strong>Convolution Layer : 합성곱 계층</strong>으로 가중치와 편향을 적용한다\n",
    "1. <strong>Pooling Layer</strong> : 단순히 최적의 값을 선택하여 가져온다\n",
    "1. <strong>Kernel</strong> : 3x3 <strong>Kernel</strong>을, 1 <strong>stride</strong> 씩 이동하며 <strong>Convolution layer</strong>를 생성\n",
    "\n",
    "<img src=\"http://rnd.azoft.com/wp-content/uploads_rnd/2016/11/overall-1024x256.png\" align='left' width='600'>"
   ]
  },
  {
   "cell_type": "markdown",
   "metadata": {},
   "source": [
    "<br>\n",
    "## <strong>2 CNN 모델의 구현\n",
    "<strong>Convolution Neural Network</strong>"
   ]
  },
  {
   "cell_type": "code",
   "execution_count": 1,
   "metadata": {},
   "outputs": [
    {
     "name": "stderr",
     "output_type": "stream",
     "text": [
      "/home/markbaum/Python/python36/lib/python3.6/importlib/_bootstrap.py:205: RuntimeWarning: compiletime version 3.5 of module 'tensorflow.python.framework.fast_tensor_util' does not match runtime version 3.6\n",
      "  return f(*args, **kwds)\n"
     ]
    },
    {
     "name": "stdout",
     "output_type": "stream",
     "text": [
      "Extracting ./data/mnist/train-images-idx3-ubyte.gz\n",
      "Extracting ./data/mnist/train-labels-idx1-ubyte.gz\n",
      "Extracting ./data/mnist/t10k-images-idx3-ubyte.gz\n",
      "Extracting ./data/mnist/t10k-labels-idx1-ubyte.gz\n"
     ]
    }
   ],
   "source": [
    "# CNN을 활용하여 인식률 높이기\n",
    "import tensorflow as tf\n",
    "from tensorflow.examples.tutorials.mnist import input_data\n",
    "mnist = input_data.read_data_sets(\"./data/mnist/\", one_hot=True)\n",
    "\n",
    "# 1. 신경망 모델 구성\n",
    "# 1) Tensor를 정의 : 2차원 평면과 특성치 형태를 갖는 구조로 변경\n",
    "X = tf.placeholder(tf.float32, [None, 28, 28, 1])\n",
    "Y = tf.placeholder(tf.float32, [None, 10])\n",
    "keep_prob = tf.placeholder(tf.float32)"
   ]
  },
  {
   "cell_type": "code",
   "execution_count": 2,
   "metadata": {
    "collapsed": true
   },
   "outputs": [],
   "source": [
    "# 2) 신경망을 정의\n",
    "W1 = tf.Variable(tf.random_normal([3,3,1,32], stddev=0.01)) # [3 3]:커널, 1: X의 특성, 32:필터\n",
    "# tf.nn.conv2d() : 컨볼루션 레이어를 생성  cf) padding='SAME' : 커널 슬라이딩을 픽셀과 일치\n",
    "# L1 Conv shape  : (?, 28, 28, 32)  --->   Pool : (?, 14, 14, 32)\n",
    "L1 = tf.nn.conv2d(X, W1, strides=[1,1,1,1], padding='SAME')\n",
    "L1 = tf.nn.relu(L1)\n",
    "L1 = tf.nn.max_pool(L1, ksize=[1,2,2,1], strides=[1,2,2,1], padding='SAME') # tf.nn.max_pool: Pooling구성\n",
    "# L1 = tf.nn.dropout(L1, keep_prob)"
   ]
  },
  {
   "cell_type": "code",
   "execution_count": 3,
   "metadata": {
    "collapsed": true
   },
   "outputs": [],
   "source": [
    "W2 = tf.Variable(tf.random_normal([3, 3, 32, 64], stddev=0.01))\n",
    "# L2 Conv shape : (?, 14, 14, 64)  --->   Pool : (?, 7, 7, 64)\n",
    "L2 = tf.nn.conv2d(L1, W2, strides=[1, 1, 1, 1], padding='SAME')\n",
    "L2 = tf.nn.relu(L2)\n",
    "L2 = tf.nn.max_pool(L2, ksize=[1, 2, 2, 1], strides=[1, 2, 2, 1], padding='SAME')\n",
    "# L2 = tf.nn.dropout(L2, keep_prob)"
   ]
  },
  {
   "cell_type": "code",
   "execution_count": 4,
   "metadata": {
    "collapsed": true
   },
   "outputs": [],
   "source": [
    "# Fully Connected Layer : 직전의 Pool 사이즈 (?, 7, 7, 64)를 참고,  \n",
    "# Reshape ---> (?, 256) : 입력값 7x7x64 -> 출력값 256\n",
    "W3 = tf.Variable(tf.random_normal([7 * 7 * 64, 256], stddev=0.01))\n",
    "L3 = tf.reshape(L2, [-1, 7 * 7 * 64])\n",
    "L3 = tf.matmul(L3, W3)\n",
    "L3 = tf.nn.relu(L3)\n",
    "L3 = tf.nn.dropout(L3, keep_prob)"
   ]
  },
  {
   "cell_type": "code",
   "execution_count": 5,
   "metadata": {
    "collapsed": true
   },
   "outputs": [],
   "source": [
    "# L3 에서의 출력 256개를 입력으로 받아, 0~9 레이블인 10개의 출력을 생성\n",
    "W4 = tf.Variable(tf.random_normal([256, 10], stddev=0.01))\n",
    "model = tf.matmul(L3, W4)"
   ]
  },
  {
   "cell_type": "code",
   "execution_count": 6,
   "metadata": {
    "collapsed": true
   },
   "outputs": [],
   "source": [
    "# 3) 손실함수를 정의\n",
    "cost = tf.reduce_mean(tf.nn.softmax_cross_entropy_with_logits(logits = model, labels = Y))\n",
    "optimizer = tf.train.AdamOptimizer(0.001).minimize(cost)\n",
    "# optimizer = tf.train.RMSPropOptimizer(0.001, 0.9).minimize(cost)   # 결과확인 가능"
   ]
  },
  {
   "cell_type": "code",
   "execution_count": 7,
   "metadata": {
    "collapsed": true
   },
   "outputs": [],
   "source": [
    "# 2. 신경망 모델 학습\n",
    "init = tf.global_variables_initializer()\n",
    "sess = tf.Session()\n",
    "sess.run(init)\n",
    "# 1) 파라미터를 정의\n",
    "batch_size = 100\n",
    "total_batch = int(mnist.train.num_examples / batch_size)"
   ]
  },
  {
   "cell_type": "code",
   "execution_count": 8,
   "metadata": {},
   "outputs": [
    {
     "name": "stdout",
     "output_type": "stream",
     "text": [
      "Epoch: 0001 Avg. cost = 0.358\n",
      "Epoch: 0002 Avg. cost = 0.107\n",
      "Epoch: 0003 Avg. cost = 0.078\n",
      "Epoch: 0004 Avg. cost = 0.061\n",
      "Epoch: 0005 Avg. cost = 0.050\n",
      "Epoch: 0006 Avg. cost = 0.043\n",
      "Epoch: 0007 Avg. cost = 0.036\n",
      "Epoch: 0008 Avg. cost = 0.032\n",
      "Epoch: 0009 Avg. cost = 0.027\n",
      "Epoch: 0010 Avg. cost = 0.026\n",
      "Epoch: 0011 Avg. cost = 0.024\n",
      "Epoch: 0012 Avg. cost = 0.021\n",
      "Epoch: 0013 Avg. cost = 0.018\n",
      "Epoch: 0014 Avg. cost = 0.017\n",
      "Epoch: 0015 Avg. cost = 0.015\n",
      "최적화 완료!\n"
     ]
    }
   ],
   "source": [
    "# 2) 모델의 학습\n",
    "for epoch in range(15):\n",
    "    total_cost = 0\n",
    "    for i in range(total_batch):\n",
    "        batch_xs, batch_ys = mnist.train.next_batch(batch_size)\n",
    "        batch_xs = batch_xs.reshape(-1, 28, 28, 1) # CNN 위한 [28 28 1] 의 형태로 재구성\n",
    "        _, cost_val = sess.run([optimizer, cost],\n",
    "                               feed_dict={X: batch_xs, Y: batch_ys, keep_prob: 0.7})\n",
    "        total_cost += cost_val\n",
    "    print('Epoch:', '%04d' % (epoch + 1),\n",
    "          'Avg. cost =', '{:.3f}'.format(total_cost / total_batch))\n",
    "print('최적화 완료!')"
   ]
  },
  {
   "cell_type": "code",
   "execution_count": 9,
   "metadata": {},
   "outputs": [
    {
     "name": "stdout",
     "output_type": "stream",
     "text": [
      "정확도: 0.99\n"
     ]
    }
   ],
   "source": [
    "# 3. 모델의 성능 확인\n",
    "is_correct = tf.equal(tf.argmax(model, 1), tf.argmax(Y, 1))\n",
    "accuracy = tf.reduce_mean(tf.cast(is_correct, tf.float32))\n",
    "print('정확도:', sess.run(accuracy,\n",
    "                        feed_dict={X: mnist.test.images.reshape(-1, 28, 28, 1),\n",
    "                                   Y: mnist.test.labels,\n",
    "                                   keep_prob: 1}))"
   ]
  },
  {
   "cell_type": "markdown",
   "metadata": {},
   "source": [
    "<br>\n",
    "## <strong>3 고수준 API\n",
    "<strong>Layer 모듈을 사용하여 CNN을 간단하게 구현</strong>"
   ]
  },
  {
   "cell_type": "code",
   "execution_count": 10,
   "metadata": {},
   "outputs": [
    {
     "name": "stdout",
     "output_type": "stream",
     "text": [
      "Extracting ./data/mnist/train-images-idx3-ubyte.gz\n",
      "Extracting ./data/mnist/train-labels-idx1-ubyte.gz\n",
      "Extracting ./data/mnist/t10k-images-idx3-ubyte.gz\n",
      "Extracting ./data/mnist/t10k-labels-idx1-ubyte.gz\n"
     ]
    }
   ],
   "source": [
    "# tensorflow.layers 를 활용하여 MNIST CNN 모듈을 구현\n",
    "import tensorflow as tf\n",
    "from tensorflow.examples.tutorials.mnist import input_data\n",
    "mnist = input_data.read_data_sets(\"./data/mnist/\", one_hot=True)\n",
    "\n",
    "# 1. 신경망 모델 구성\n",
    "X = tf.placeholder(tf.float32, [None, 28, 28, 1])\n",
    "Y = tf.placeholder(tf.float32, [None, 10])\n",
    "is_training = tf.placeholder(tf.bool)\n",
    "\n",
    "# 기본적으로 inputs, outputs size, kernel_size 만 넣어주면\n",
    "# 활성화 함수/ 컨볼루션 신경망을 위한 수치들은 자동으로 계산\n",
    "# Weights 를 계산시 xavier_initializer 를 사용\n",
    "L1 = tf.layers.conv2d(X, 32, [3, 3])\n",
    "L1 = tf.layers.max_pooling2d(L1, [2, 2], [2, 2])\n",
    "L1 = tf.layers.dropout(L1, 0.7, is_training)"
   ]
  },
  {
   "cell_type": "code",
   "execution_count": 11,
   "metadata": {
    "collapsed": true
   },
   "outputs": [],
   "source": [
    "L2 = tf.layers.conv2d(L1, 64, [3, 3])\n",
    "L2 = tf.layers.max_pooling2d(L2, [2, 2], [2, 2])\n",
    "L2 = tf.layers.dropout(L2, 0.7, is_training)"
   ]
  },
  {
   "cell_type": "code",
   "execution_count": 12,
   "metadata": {
    "collapsed": true
   },
   "outputs": [],
   "source": [
    "L3 = tf.contrib.layers.flatten(L2)\n",
    "L3 = tf.layers.dense(L3, 256, activation=tf.nn.relu)\n",
    "L3 = tf.layers.dropout(L3, 0.5, is_training)"
   ]
  },
  {
   "cell_type": "code",
   "execution_count": 13,
   "metadata": {
    "collapsed": true
   },
   "outputs": [],
   "source": [
    "model = tf.layers.dense(L3, 10, activation=None)\n",
    "cost = tf.reduce_mean(tf.nn.softmax_cross_entropy_with_logits(logits=model, labels=Y))\n",
    "optimizer = tf.train.AdamOptimizer(0.001).minimize(cost)"
   ]
  },
  {
   "cell_type": "code",
   "execution_count": 14,
   "metadata": {},
   "outputs": [
    {
     "name": "stdout",
     "output_type": "stream",
     "text": [
      "Epoch: 0001 Avg. cost = 0.1847\n",
      "Epoch: 0002 Avg. cost = 0.0478\n",
      "Epoch: 0003 Avg. cost = 0.0306\n",
      "Epoch: 0004 Avg. cost = 0.0213\n",
      "Epoch: 0005 Avg. cost = 0.0162\n",
      "Epoch: 0006 Avg. cost = 0.0127\n",
      "Epoch: 0007 Avg. cost = 0.0103\n",
      "Epoch: 0008 Avg. cost = 0.0104\n",
      "Epoch: 0009 Avg. cost = 0.0091\n",
      "Epoch: 0010 Avg. cost = 0.0058\n",
      "Epoch: 0011 Avg. cost = 0.0088\n",
      "Epoch: 0012 Avg. cost = 0.0088\n",
      "Epoch: 0013 Avg. cost = 0.0051\n",
      "Epoch: 0014 Avg. cost = 0.0046\n",
      "Epoch: 0015 Avg. cost = 0.0040\n",
      "최적화 완료!\n"
     ]
    }
   ],
   "source": [
    "# 2. 신경망 모델의 학습\n",
    "init = tf.global_variables_initializer()\n",
    "sess = tf.Session()\n",
    "sess.run(init)\n",
    "# 1) 파라미터 설정\n",
    "batch_size = 100\n",
    "total_batch = int(mnist.train.num_examples/batch_size)\n",
    "# 2) 모델의 학습\n",
    "for epoch in range(15):\n",
    "    total_cost = 0\n",
    "    for i in range(total_batch):\n",
    "        batch_xs, batch_ys = mnist.train.next_batch(batch_size)\n",
    "        batch_xs = batch_xs.reshape(-1, 28, 28, 1)\n",
    "        _, cost_val = sess.run([optimizer, cost],\n",
    "                               feed_dict={X: batch_xs,\n",
    "                                          Y: batch_ys,\n",
    "                                          is_training: True})\n",
    "        total_cost += cost_val\n",
    "    print('Epoch:', '%04d' % (epoch + 1),\n",
    "          'Avg. cost =', '{:.4f}'.format(total_cost / total_batch))\n",
    "print('최적화 완료!')"
   ]
  },
  {
   "cell_type": "code",
   "execution_count": 15,
   "metadata": {},
   "outputs": [
    {
     "name": "stdout",
     "output_type": "stream",
     "text": [
      "정확도: 0.9895\n"
     ]
    }
   ],
   "source": [
    "# 3. 훈련 모델의 성능 확인\n",
    "is_correct = tf.equal(tf.argmax(model, 1), tf.argmax(Y, 1))\n",
    "accuracy = tf.reduce_mean(tf.cast(is_correct, tf.float32))\n",
    "print('정확도:', sess.run(accuracy,\n",
    "                        feed_dict={X: mnist.test.images.reshape(-1, 28, 28, 1),\n",
    "                                   Y: mnist.test.labels,\n",
    "                                   is_training: False}))"
   ]
  },
  {
   "cell_type": "code",
   "execution_count": null,
   "metadata": {
    "collapsed": true
   },
   "outputs": [],
   "source": []
  }
 ],
 "metadata": {
  "kernelspec": {
   "display_name": "Python 3",
   "language": "python",
   "name": "python3"
  },
  "language_info": {
   "codemirror_mode": {
    "name": "ipython",
    "version": 3
   },
   "file_extension": ".py",
   "mimetype": "text/x-python",
   "name": "python",
   "nbconvert_exporter": "python",
   "pygments_lexer": "ipython3",
   "version": "3.6.1"
  }
 },
 "nbformat": 4,
 "nbformat_minor": 2
}
