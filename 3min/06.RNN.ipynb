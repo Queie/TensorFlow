{
 "cells": [
  {
   "cell_type": "markdown",
   "metadata": {},
   "source": [
    "<br><br>\n",
    "# <strong>RNN\n",
    "<strong>Recurrent Neual Network : 순환신경망 (순서가 있는 데이터를 처리하기에 용이하다)</strong>\n",
    "1. <strong>tf.reset_default_graph()</strong> : tf 매개변수를 초기화 cf)Session.close() 는 모델만 종료, 매개변수는 계속 상존해 재사용시 충돌한다\n",
    "\n",
    "https://github.com/tensorflow/tensorflow/issues/799\n"
   ]
  },
  {
   "cell_type": "markdown",
   "metadata": {},
   "source": [
    "<br>\n",
    "## <strong>1 RNN 분석 \n",
    "<strong>by MNIST\n",
    "1. X1, X2... X7 : 각 7개 매개변수가 단계별 구분된 데이터를 입력한다\n",
    "1. S : Cell이란 중심으로써 심층 신경망을 생성한다\n",
    "\n",
    "<img src=\"https://raw.githubusercontent.com/peterroelants/peterroelants.github.io/master/notebooks/RNN_implementation/img/SimpleRNN02_1.png\" align=\"left\" width='400'>"
   ]
  },
  {
   "cell_type": "code",
   "execution_count": 1,
   "metadata": {},
   "outputs": [
    {
     "name": "stderr",
     "output_type": "stream",
     "text": [
      "/home/markbaum/Python/python36/lib/python3.6/importlib/_bootstrap.py:205: RuntimeWarning: compiletime version 3.5 of module 'tensorflow.python.framework.fast_tensor_util' does not match runtime version 3.6\n",
      "  return f(*args, **kwds)\n"
     ]
    },
    {
     "name": "stdout",
     "output_type": "stream",
     "text": [
      "Extracting ./data/mnist/train-images-idx3-ubyte.gz\n",
      "Extracting ./data/mnist/train-labels-idx1-ubyte.gz\n",
      "Extracting ./data/mnist/t10k-images-idx3-ubyte.gz\n",
      "Extracting ./data/mnist/t10k-labels-idx1-ubyte.gz\n"
     ]
    }
   ],
   "source": [
    "import tensorflow as tf\n",
    "from tensorflow.examples.tutorials.mnist import input_data\n",
    "mnist = input_data.read_data_sets(\"./data/mnist/\", one_hot=True)"
   ]
  },
  {
   "cell_type": "markdown",
   "metadata": {},
   "source": [
    "### <strong>01 데이터 입력 및 모델의 파라미터 정의\n",
    "Data"
   ]
  },
  {
   "cell_type": "code",
   "execution_count": 2,
   "metadata": {
    "collapsed": true
   },
   "outputs": [],
   "source": [
    "# 1. 입력값 및 파라미터를 정의\n",
    "learning_rate = 0.001\n",
    "total_epoch = 30\n",
    "batch_size = 128\n",
    "\n",
    "# RNN 은 순서가 있는 (ex)시계열) 자료를 다루는 모델이다\n",
    "n_input = 28  # n_input (W_hh) : 가로 픽셀수로 한 번에 입력받는 갯수 \n",
    "n_step  = 28  # n_step  (W_hy) : 세로 픽셀수로 총 몇 단계 데이터를 받을지를 설정\n",
    "n_hidden, n_class = 128, 10"
   ]
  },
  {
   "cell_type": "markdown",
   "metadata": {},
   "source": [
    "### <strong>02 RNN 모델 및 손실함수의 정의\n",
    "1. 모델에 사용할 <strong>매개변수</strong>의 설정\n",
    "1. 매개변수를 활용한 <strong>모델의 정의</strong>\n",
    "1. 모델을 평가할 <strong>손실함수</strong>를 정의"
   ]
  },
  {
   "cell_type": "code",
   "execution_count": 3,
   "metadata": {
    "collapsed": true
   },
   "outputs": [],
   "source": [
    "# 2. 신경망 모델 구성\n",
    "# (1) 모델 매개변수 설정\n",
    "tf.reset_default_graph()                                 # tf 매개변수를 초기화 \n",
    "X = tf.placeholder(tf.float32, [None, n_step, n_input])  # X 파라미터 3개 입력가능\n",
    "Y = tf.placeholder(tf.float32, [None, n_class])          \n",
    "\n",
    "W = tf.Variable(tf.random_normal([n_hidden, n_class]))\n",
    "b = tf.Variable(tf.random_normal([n_class]))\n",
    "# BasicRNNCell, BasicLSTMCell, GRUCell : 이 함수들을 사용하면, 구조변경에 용이하다\n",
    "cell = tf.nn.rnn_cell.BasicRNNCell(n_hidden)"
   ]
  },
  {
   "cell_type": "code",
   "execution_count": 4,
   "metadata": {
    "collapsed": true,
    "scrolled": false
   },
   "outputs": [],
   "source": [
    "# (2) 모델의 설정\n",
    "# states = tf.zeros(batch_size)\n",
    "# for i in range(n_step):\n",
    "#     outputs, states = cell(X[[:, i]], states) ...원래는 이와 같이 복잡 했었다\n",
    "# tf.nn.dynamic_rnn() : 레이어 함수로써 CNN 의 tf.nn.conv2d 함수처럼 간단하게 RNN 신경망을 생성한다\n",
    "outputs, states = tf.nn.dynamic_rnn(cell, X, dtype=tf.float32)"
   ]
  },
  {
   "cell_type": "code",
   "execution_count": 5,
   "metadata": {
    "collapsed": true
   },
   "outputs": [],
   "source": [
    "# 결과를 Y의 형식과 동일하게 맞춘다 cf) Y : [batch_size, n_class]\n",
    "# ==> outputs : [batch_size, n_step, n_hidden]\n",
    "#            -> [n_step, batch_size, n_hidden]\n",
    "#            -> [batch_size, n_hidden]\n",
    "outputs = tf.transpose(outputs, [1, 0, 2])\n",
    "outputs = outputs[-1]\n",
    "model = tf.matmul(outputs, W) + b\n",
    "\n",
    "# (3) 손실함수의 정의\n",
    "cost = tf.reduce_mean(tf.nn.softmax_cross_entropy_with_logits(logits=model, labels=Y))\n",
    "optimizer = tf.train.AdamOptimizer(learning_rate).minimize(cost)"
   ]
  },
  {
   "cell_type": "markdown",
   "metadata": {},
   "source": [
    "### <strong>03 RNN 모델의 Train\n",
    "tf.Session()"
   ]
  },
  {
   "cell_type": "code",
   "execution_count": 6,
   "metadata": {
    "collapsed": true
   },
   "outputs": [],
   "source": [
    "# 3. 신경망 모델 학습\n",
    "sess = tf.Session()\n",
    "sess.run(tf.global_variables_initializer())\n",
    "total_batch = int(mnist.train.num_examples/batch_size)"
   ]
  },
  {
   "cell_type": "code",
   "execution_count": 7,
   "metadata": {},
   "outputs": [
    {
     "name": "stdout",
     "output_type": "stream",
     "text": [
      "Epoch:   1  Avg. cost = 0.531\n",
      "Epoch:   4  Avg. cost = 0.148\n",
      "Epoch:   7  Avg. cost = 0.115\n",
      "Epoch:  10  Avg. cost = 0.098\n",
      "Epoch:  13  Avg. cost = 0.096\n",
      "Epoch:  16  Avg. cost = 0.080\n",
      "Epoch:  19  Avg. cost = 0.074\n",
      "Epoch:  22  Avg. cost = 0.068\n",
      "Epoch:  25  Avg. cost = 0.064\n",
      "Epoch:  28  Avg. cost = 0.070\n",
      "최적화 완료!\n"
     ]
    }
   ],
   "source": [
    "for epoch in range(total_epoch):\n",
    "    total_cost = 0\n",
    "    for i in range(total_batch):\n",
    "        batch_xs, batch_ys = mnist.train.next_batch(batch_size)\n",
    "        # X를 RNN 입력에 맞게 [batch_size, n_step, n_input] 형태로 변환\n",
    "        batch_xs = batch_xs.reshape((batch_size, n_step, n_input))\n",
    "        _, cost_val = sess.run([optimizer, cost], feed_dict={X: batch_xs, Y: batch_ys})\n",
    "        total_cost += cost_val\n",
    "    if epoch % 3 == 0 :\n",
    "        print('Epoch:{:4d}  Avg. cost = {:.3f}'.format( (epoch + 1), (total_cost / total_batch)))\n",
    "print('최적화 완료!')"
   ]
  },
  {
   "cell_type": "markdown",
   "metadata": {},
   "source": [
    "### <strong>04 Train 학습 모델의 평가\n",
    "Accuracy()"
   ]
  },
  {
   "cell_type": "code",
   "execution_count": 8,
   "metadata": {},
   "outputs": [
    {
     "name": "stdout",
     "output_type": "stream",
     "text": [
      "정확도: 0.971\n"
     ]
    }
   ],
   "source": [
    "# 4. 결과 확인\n",
    "is_correct = tf.equal(tf.argmax(model, 1), tf.argmax(Y, 1))\n",
    "accuracy = tf.reduce_mean(tf.cast(is_correct, tf.float32))\n",
    "test_batch_size = len(mnist.test.images)\n",
    "test_xs = mnist.test.images.reshape(test_batch_size, n_step, n_input)\n",
    "test_ys = mnist.test.labels\n",
    "print('정확도:', sess.run(accuracy, feed_dict={X: test_xs, Y: test_ys}))"
   ]
  },
  {
   "cell_type": "markdown",
   "metadata": {},
   "source": [
    "<br>\n",
    "## <strong>2 단어 자동완성 \n",
    "1. 자연어 처리나 음성 처리 분야에 많이 사용\n",
    "1. 4개의 글자를 가진 단어를 학습시켜, 3글자만 주어지면 나머지 한 글자를 추천하여 단어를 완성\n",
    "\n",
    "<img src=\"https://www.kdnuggets.com/wp-content/uploads/RNN.jpg\" align=\"left\" width='400'>"
   ]
  },
  {
   "cell_type": "markdown",
   "metadata": {},
   "source": [
    "### <strong>01 데이터 입력 및 모델의 파라미터 정의\n",
    "Data"
   ]
  },
  {
   "cell_type": "code",
   "execution_count": 9,
   "metadata": {
    "collapsed": true
   },
   "outputs": [],
   "source": [
    "import tensorflow as tf\n",
    "import numpy as np\n",
    "# 예측할 알파벳 목록을 입력한다\n",
    "char_arr = ['a', 'b', 'c', 'd', 'e', 'f', 'g', 'h', 'i', 'j', 'k', 'l', 'm', 'n',\n",
    "            'o', 'p', 'q', 'r', 's', 't', 'u', 'v', 'w', 'x', 'y', 'z']\n",
    "\n",
    "# one-hot 인코딩을 위한 연관 배열의 생성 : {'a':0, 'b':1, 'c':2, ... ,}\n",
    "num_dic = {n: i for i, n in enumerate(char_arr)}\n",
    "dic_len = len(num_dic)\n",
    "seq_data = ['word', 'wood', 'deep', 'dive', 'cold', 'cool', 'load', 'love', 'kiss', 'kind']"
   ]
  },
  {
   "cell_type": "code",
   "execution_count": 10,
   "metadata": {
    "collapsed": true
   },
   "outputs": [],
   "source": [
    "# input_batch 와 target_batch 는 알파벳 배열의 인덱스 번호로 변환\n",
    "# [22, 14, 17] [22, 14, 14] [3, 4, 4] [3, 8, 21] ...\n",
    "def make_batch(seq_data):\n",
    "    input_batch, target_batch = [], []\n",
    "    for seq in seq_data:\n",
    "        input = [num_dic[n] for n in seq[:-1]]  # 3, 3, 15, 4, 3 ...\n",
    "        target = num_dic[seq[-1]]               # one-hot 인코딩 변환\n",
    "        input_batch.append(np.eye(dic_len)[input])\n",
    "        target_batch.append(target)\n",
    "    return input_batch, target_batch"
   ]
  },
  {
   "cell_type": "markdown",
   "metadata": {},
   "source": [
    "### <strong>02 RNN 모델 및 손실함수의 정의\n",
    "1. 모델에 사용할 <strong>매개변수</strong>의 설정\n",
    "1. 매개변수를 활용한 <strong>모델의 정의</strong>\n",
    "1. 모델을 평가할 <strong>손실함수</strong>를 정의"
   ]
  },
  {
   "cell_type": "code",
   "execution_count": 11,
   "metadata": {
    "collapsed": true
   },
   "outputs": [],
   "source": [
    "# 1. RNN 신경망 모델 정의\n",
    "# (1) 파라미터 설정 :  RNN 시퀀스 갯수  ex) 타입 스텝: [1 2 3] => 3\n",
    "tf.reset_default_graph()      # tf 매개변수를 초기화 \n",
    "learning_rate = 0.01\n",
    "n_hidden, total_epoch, n_step = 128, 30, 3  \n",
    "n_input = n_class = dic_len   # 출력, 입력값 모두 26개 알파벳으로 분류"
   ]
  },
  {
   "cell_type": "code",
   "execution_count": 12,
   "metadata": {},
   "outputs": [],
   "source": [
    "# (2) 알파벳 one-hot 인코딩으로 26개 값으로 출력\n",
    "# cost함수 : sparse_softmax_cross_entropy_with_logits 는 인덱스를 그대로 사용\n",
    "# if) one-hot 인코딩 사용 시 : ( tf.float23, [None, n_class] )\n",
    "X = tf.placeholder(tf.float32, [None, n_step, n_input])\n",
    "Y = tf.placeholder(tf.int32,   [None])\n",
    "\n",
    "W = tf.Variable(tf.random_normal([n_hidden, n_class])) #, reuse=True)\n",
    "b = tf.Variable(tf.random_normal([n_class]))           #, reuse=True)  #https://github.com/tensorflow/tensorflow/issues/799"
   ]
  },
  {
   "cell_type": "code",
   "execution_count": 13,
   "metadata": {
    "collapsed": true
   },
   "outputs": [],
   "source": [
    "# (3) RNN 셀을 생성\n",
    "cell1 = tf.nn.rnn_cell.BasicLSTMCell(n_hidden)\n",
    "cell1 = tf.nn.rnn_cell.DropoutWrapper(cell1, output_keep_prob=0.5)    # Dropout의 설정\n",
    "cell2 = tf.nn.rnn_cell.BasicLSTMCell(n_hidden)         # 셀의 조합을 위한 셀을 추가로 생성\n",
    "multi_cell = tf.nn.rnn_cell.MultiRNNCell([cell1, cell2]) # 여러 셀을 조합한 RNN 셀을 생성\n",
    "# tf.nn.dynamic_rnn 를 이용해 순환 신경망을 생성한다 (time_major = True)\n",
    "outputs, states = tf.nn.dynamic_rnn(multi_cell, X, dtype=tf.float32)"
   ]
  },
  {
   "cell_type": "code",
   "execution_count": 14,
   "metadata": {
    "collapsed": true
   },
   "outputs": [],
   "source": [
    "# (4) 최종 결과는 one-hot 인코딩 형식으로 변환\n",
    "outputs = tf.transpose(outputs, [1, 0, 2])\n",
    "outputs = outputs[-1]\n",
    "model = tf.matmul(outputs, W) + b\n",
    "# sparse_softmax_cross_entropy_with_logits : index 를 바로 받는다\n",
    "# cf) softmax_cross_entropy_with_logits : one-hot 을 받는다\n",
    "cost = tf.reduce_mean(tf.nn.sparse_softmax_cross_entropy_with_logits(\n",
    "                      logits = model, labels = Y))\n",
    "optimizer = tf.train.AdamOptimizer(learning_rate).minimize(cost)"
   ]
  },
  {
   "cell_type": "markdown",
   "metadata": {},
   "source": [
    "### <strong>03 RNN 모델의 Train\n",
    "tf.Session()"
   ]
  },
  {
   "cell_type": "code",
   "execution_count": 15,
   "metadata": {},
   "outputs": [
    {
     "name": "stdout",
     "output_type": "stream",
     "text": [
      "Epoch: 1.0000 cost = 3.409979\n",
      "Epoch: 4.0000 cost = 1.329201\n",
      "Epoch: 7.0000 cost = 0.587946\n",
      "Epoch: 10.0000 cost = 0.474487\n",
      "Epoch: 13.0000 cost = 0.266031\n",
      "Epoch: 16.0000 cost = 0.125695\n",
      "Epoch: 19.0000 cost = 0.112749\n",
      "Epoch: 22.0000 cost = 0.042894\n",
      "Epoch: 25.0000 cost = 0.037758\n",
      "Epoch: 28.0000 cost = 0.029880\n",
      "최적화 완료!\n"
     ]
    }
   ],
   "source": [
    "# 2. RNN 신경망 학습\n",
    "sess = tf.Session()\n",
    "sess.run(tf.global_variables_initializer())\n",
    "input_batch, target_batch = make_batch(seq_data)\n",
    "for epoch in range(total_epoch):\n",
    "    _, loss = sess.run([optimizer, cost],\n",
    "                       feed_dict={X: input_batch, Y: target_batch})\n",
    "    if epoch % 3 == 0:\n",
    "        print('Epoch: {:.4f} cost = {:.6f}'.format(epoch + 1, loss))\n",
    "print('최적화 완료!')"
   ]
  },
  {
   "cell_type": "markdown",
   "metadata": {},
   "source": [
    "### <strong>04 Train 학습 모델의 평가\n",
    "Accuracy()"
   ]
  },
  {
   "cell_type": "code",
   "execution_count": 16,
   "metadata": {
    "collapsed": true
   },
   "outputs": [],
   "source": [
    "# 3. 모델의 성능을 평가 (레이블이 정수이므로 예측값도 정수로 변경)\n",
    "prediction       = tf.cast(tf.argmax(model, 1), tf.int32)\n",
    "prediction_check = tf.equal(prediction, Y)       # 입력값을 그대로 비교한다\n",
    "accuracy         = tf.reduce_mean(tf.cast(prediction_check, tf.float32))\n",
    "input_batch, target_batch = make_batch(seq_data)\n",
    "predict, accuracy_val     = sess.run([prediction, accuracy],\n",
    "                                 feed_dict={X: input_batch, Y: target_batch})"
   ]
  },
  {
   "cell_type": "code",
   "execution_count": 17,
   "metadata": {},
   "outputs": [
    {
     "name": "stdout",
     "output_type": "stream",
     "text": [
      "\n",
      "=== 예측 결과 ===\n",
      "입력값: ['wor ', 'woo ', 'dee ', 'div ', 'col ', 'coo ', 'loa ', 'lov ', 'kis ', 'kin ']\n",
      "예측값: ['word', 'wood', 'deep', 'dive', 'coll', 'cool', 'load', 'love', 'kiss', 'kind']\n",
      "정확도: 0.9\n"
     ]
    }
   ],
   "source": [
    "predict_words = []\n",
    "for idx, val in enumerate(seq_data):\n",
    "    last_char = char_arr[predict[idx]]\n",
    "    predict_words.append(val[:3] + last_char)\n",
    "\n",
    "print('\\n=== 예측 결과 ===')\n",
    "print('입력값:', [w[:3] + ' ' for w in seq_data])\n",
    "print('예측값:', predict_words)\n",
    "print('정확도:', accuracy_val)\n",
    "sess.close()"
   ]
  },
  {
   "cell_type": "markdown",
   "metadata": {},
   "source": [
    "<br>\n",
    "## <strong>3 Sequence to Sequence\n",
    "Seq2Seq는 구글 기계번역에 사용하는 신경망 모델이다 (http://aidev.co.kr/deeplearning/2273)\n",
    "1. <strong>'RNN 인코더 셀'</strong> (A, B, C) 과 <strong>'RNN 디코더 셀'</strong> (W, X, Y, X) RNN 2개 모델을 결합한다\n",
    "1. 기본모델에 <strong>특수함 심벌</strong> ((1) 입력의 시작을 알림 (2) 디코더 출력이 끝남을 알림)을 포함한다 \n",
    "1. <strong>'챗봇', '번역', '이미지 캡셔닝'</strong> 등의 모델을 생성한다\n",
    "\n",
    "<img src=\"https://isaacchanghau.github.io/images/nlp/seq2seq-neuralconver/model-example.png\" align=\"left\" width='600'>"
   ]
  },
  {
   "cell_type": "markdown",
   "metadata": {},
   "source": [
    "### <strong>01 데이터 입력 및 모델의 파라미터 정의\n",
    "Data"
   ]
  },
  {
   "cell_type": "code",
   "execution_count": 18,
   "metadata": {
    "collapsed": true
   },
   "outputs": [],
   "source": [
    "# 영어 단어를 한국어 단어로 번역하는 프로그램을 만들어봅니다.\n",
    "# S: 디코딩 입력의 시작을 나타내는 심볼\n",
    "# E: 디코딩 출력을 끝을 나타내는 심볼\n",
    "# P: 현재 배치 데이터의 time step 크기보다 작은 경우 빈 시퀀스를 채우는 심볼\n",
    "#    예) 현재 배치 데이터의 최대 크기가 4 인 경우\n",
    "#       word -> ['w', 'o', 'r', 'd'] ||  to   -> ['t', 'o', 'P', 'P']\n",
    "import tensorflow as tf\n",
    "import numpy as np\n",
    "\n",
    "# 1. Input Data를 설정한다\n",
    "# (1) elements 를 정의한 뒤 (알파벳과 한글), {dict} 데이터 형식으로 변환\n",
    "char_arr = [ c for c in 'SEPabcdefghijklmnopqrstuvwxyz단어나무놀이소녀키스사랑'] \n",
    "num_dic  = { n : i for i, n in enumerate(char_arr)}\n",
    "dic_len  = len(num_dic)"
   ]
  },
  {
   "cell_type": "code",
   "execution_count": 19,
   "metadata": {
    "collapsed": true
   },
   "outputs": [],
   "source": [
    "# (2) 번역학습 데이터 입력\n",
    "seq_data = [['word', '단어'], ['wood', '나무'], ['game', '놀이'], \n",
    "            ['girl', '소녀'], ['kiss', '키스'], ['love', '사랑']]\n",
    "\n",
    "# (3) 학습데이터를 '심볼'을 포함한 One-Hot-Encoding 으로 변환\n",
    "def make_batch(seq_data):\n",
    "    input_batch, output_batch, target_batch = [], [], []\n",
    "    for seq in seq_data:\n",
    "        input = [num_dic[n] for n in seq[0]]           # 인코더 셀 입력값 : 입력단어를 한글자씩 떼어 배열생성\n",
    "        output = [num_dic[n] for n in ('S' + seq[1])]  # 디코더 셀 입력값 : 시작을 나타내는 'S'심볼을 맨 앞에 붙인다\n",
    "        target = [num_dic[n] for n in (seq[1] + 'E')]  # 디코더 셀 출력값 : 비교값으로, 끝을 알리기 위해 끝에 'E'를 붙인다\n",
    "        input_batch.append(np.eye(dic_len)[input])\n",
    "        output_batch.append(np.eye(dic_len)[output])\n",
    "        # 출력값만 one-hot 인코딩이 아니다 (sparse_softmax_cross_entropy_with_logits 사용)\n",
    "        target_batch.append(target)\n",
    "    return input_batch, output_batch, target_batch"
   ]
  },
  {
   "cell_type": "markdown",
   "metadata": {},
   "source": [
    "### <strong>02 RNN 모델 및 손실함수의 정의\n",
    "1. 모델에 사용할 <strong>매개변수</strong>의 설정\n",
    "1. 매개변수를 활용한 <strong>모델의 정의</strong>\n",
    "1. 모델을 평가할 <strong>손실함수</strong>를 정의"
   ]
  },
  {
   "cell_type": "code",
   "execution_count": 20,
   "metadata": {
    "collapsed": true
   },
   "outputs": [],
   "source": [
    "# 2. 모델의 정의\n",
    "# (1) 파라미터값 설정\n",
    "tf.reset_default_graph()      # tf 매개변수를 초기화 \n",
    "learning_rate = 0.01\n",
    "n_hidden, total_epoch = 128, 100\n",
    "n_class = n_input = dic_len  # 입력과 출력 : one-hot 인코딩으로 크기가 같다\n",
    "\n",
    "# (2) 인코더/ 디코더 입 출력 설정\n",
    "# Seq2Seq은 '인코더 입력'과 '디코더 입력'의 형식이 같다 : [batch size, time steps, input size]\n",
    "enc_input = tf.placeholder(tf.float32, [None, None, n_input])\n",
    "dec_input = tf.placeholder(tf.float32, [None, None, n_input])\n",
    "targets = tf.placeholder(tf.int64, [None, None])  # [batch size, time steps]"
   ]
  },
  {
   "cell_type": "code",
   "execution_count": 21,
   "metadata": {
    "collapsed": true
   },
   "outputs": [],
   "source": [
    "# (3) 인코더/ 디코더 셀 설정\n",
    "# 1) tf.variable_scope() : 인코더 셀을 정의한다\n",
    "with tf.variable_scope('encode'):\n",
    "    enc_cell = tf.nn.rnn_cell.BasicRNNCell(n_hidden)\n",
    "    enc_cell = tf.nn.rnn_cell.DropoutWrapper(enc_cell, output_keep_prob = 0.5)\n",
    "    outputs, enc_states = tf.nn.dynamic_rnn(enc_cell, enc_input, dtype = tf.float32)\n",
    "# 2) 디코더 셀을 정의한다\n",
    "# '인코더 셀'의 '최종 상태값'을, '디코더 셀'의 '초기 상태값'과 연결한다\n",
    "with tf.variable_scope('decode'):\n",
    "    dec_cell = tf.nn.rnn_cell.BasicRNNCell(n_hidden)\n",
    "    dec_cell = tf.nn.rnn_cell.DropoutWrapper(dec_cell, output_keep_prob=0.5)\n",
    "    outputs, dec_states = tf.nn.dynamic_rnn(dec_cell, dec_input, \n",
    "                                            initial_state = enc_states, \n",
    "                                            dtype = tf.float32)"
   ]
  },
  {
   "cell_type": "code",
   "execution_count": 22,
   "metadata": {
    "collapsed": true
   },
   "outputs": [],
   "source": [
    "# (4) 설정한 매개변수와 Cell을 연결하여 Seq2Seq 모델을 생성한다\n",
    "model = tf.layers.dense(outputs, n_class, activation=None)\n",
    "cost = tf.reduce_mean(tf.nn.sparse_softmax_cross_entropy_with_logits(\n",
    "                      logits = model, labels = targets))\n",
    "optimizer = tf.train.AdamOptimizer(learning_rate).minimize(cost)"
   ]
  },
  {
   "cell_type": "markdown",
   "metadata": {},
   "source": [
    "### <strong>03 RNN 모델의 Train\n",
    "tf.Session()"
   ]
  },
  {
   "cell_type": "code",
   "execution_count": 23,
   "metadata": {},
   "outputs": [
    {
     "name": "stdout",
     "output_type": "stream",
     "text": [
      "Epoch:    1  cost = 3.838162\n",
      "Epoch:    6  cost = 0.368465\n",
      "Epoch:   11  cost = 0.102032\n",
      "Epoch:   16  cost = 0.120568\n",
      "Epoch:   21  cost = 0.059999\n",
      "Epoch:   26  cost = 0.090998\n",
      "Epoch:   31  cost = 0.018229\n",
      "Epoch:   36  cost = 0.001458\n",
      "Epoch:   41  cost = 0.001873\n",
      "Epoch:   46  cost = 0.002172\n",
      "Epoch:   51  cost = 0.002402\n",
      "Epoch:   56  cost = 0.000906\n",
      "Epoch:   61  cost = 0.002370\n",
      "Epoch:   66  cost = 0.000550\n",
      "Epoch:   71  cost = 0.001295\n",
      "Epoch:   76  cost = 0.000572\n",
      "Epoch:   81  cost = 0.000494\n",
      "Epoch:   86  cost = 0.000359\n",
      "Epoch:   91  cost = 0.000312\n",
      "Epoch:   96  cost = 0.000439\n",
      "최적화 완료!\n"
     ]
    }
   ],
   "source": [
    "# 3. 모델의 학습\n",
    "sess = tf.Session()\n",
    "sess.run(tf.global_variables_initializer())\n",
    "input_batch, output_batch, target_batch = make_batch(seq_data)\n",
    "for epoch in range(total_epoch):\n",
    "    _, loss = sess.run([optimizer, cost],\n",
    "                       feed_dict={enc_input: input_batch,\n",
    "                                  dec_input: output_batch,\n",
    "                                  targets: target_batch})\n",
    "    if epoch % 5 == 0 :\n",
    "        print('Epoch: {:4d}  cost = {:.6f}'.format((epoch + 1),loss))\n",
    "print('최적화 완료!')"
   ]
  },
  {
   "cell_type": "markdown",
   "metadata": {},
   "source": [
    "### <strong>04 Train 학습 모델의 평가\n",
    "Accuracy()"
   ]
  },
  {
   "cell_type": "code",
   "execution_count": 24,
   "metadata": {},
   "outputs": [
    {
     "name": "stdout",
     "output_type": "stream",
     "text": [
      "\n",
      "=== 번역 테스트 ===\n",
      "word -> 단어\n",
      "wodr -> 나무\n",
      "love -> 사랑\n",
      "loev -> 사랑\n",
      "abcd -> 키스\n"
     ]
    }
   ],
   "source": [
    "# 4. 모델의 평가 (번역 테스트) : 입력받은 단어의 번역을 예측하고 디코딩하는 함수\n",
    "# (1) 예측시 사전에 없는 단어는 'P'로 채운다. ex) ['word', 'PPPP']\n",
    "# (2) [batch size, time step, input] 를 예측결과로 출력 : 2번째 차원값 input차원의 argmax로 예측한다\n",
    "def translate(word):\n",
    "    seq_data = [word, 'P' * len(word)]\n",
    "    input_batch, output_batch, target_batch = make_batch([seq_data])\n",
    "    prediction = tf.argmax(model, 2)\n",
    "    result = sess.run(prediction,\n",
    "                      feed_dict={enc_input: input_batch,\n",
    "                                 dec_input: output_batch,\n",
    "                                 targets: target_batch})\n",
    "    decoded = [char_arr[i] for i in result[0]]  # 결과 값 '인덱스'에 해당글자를 사용하여 배열을 만든다.\n",
    "    end = decoded.index('E')                    # 출력끝 을 의미하는 'E' 이후의 글자들은 제거한다\n",
    "    translated = ''.join(decoded[:end])\n",
    "    return translated\n",
    "\n",
    "print('\\n=== 번역 테스트 ===')\n",
    "print('word ->', translate('word'))\n",
    "print('wodr ->', translate('wodr'))\n",
    "print('love ->', translate('love'))\n",
    "print('loev ->', translate('loev'))\n",
    "print('abcd ->', translate('abcd'))"
   ]
  },
  {
   "cell_type": "code",
   "execution_count": null,
   "metadata": {
    "collapsed": true
   },
   "outputs": [],
   "source": []
  }
 ],
 "metadata": {
  "kernelspec": {
   "display_name": "Python 3",
   "language": "python",
   "name": "python3"
  },
  "language_info": {
   "codemirror_mode": {
    "name": "ipython",
    "version": 3
   },
   "file_extension": ".py",
   "mimetype": "text/x-python",
   "name": "python",
   "nbconvert_exporter": "python",
   "pygments_lexer": "ipython3",
   "version": "3.6.1"
  }
 },
 "nbformat": 4,
 "nbformat_minor": 2
}
