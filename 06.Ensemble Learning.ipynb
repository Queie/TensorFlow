{
 "cells": [
  {
   "cell_type": "markdown",
   "metadata": {},
   "source": [
    "# Chapter 7 - Combining Different Models for Ensemble Learning\n",
    "1. 다수결 투표를 기반으로 하는 예측\n",
    "2. 임의의 훈련 데이터 조합의 반복으로 Overfit 줄이기\n",
    "3. weak learners로 부터 강한모델 생성하기"
   ]
  },
  {
   "cell_type": "markdown",
   "metadata": {},
   "source": [
    "## 1 앙상블 학습\n",
    "여러분류기를 활용해 최적값을 추출\n",
    "\n",
    "Decision Tree, SVM, Logistic Regression 를 활용해서 학습\n",
    "\n",
    "개별 분류기의 레이블을 결합 후, 가장 많은 표를 얻은 y^ 레이블을 선택\n",
    "\n",
    "<img src=\"https://databricks.com/wp-content/uploads/2015/01/Ensemble-example.png\" align='left'> <img src=\"https://hackpad-attachments.imgix.net/hackpad.com_Gal7qtO4fUl_p.550971_1453750253605_undefined\" width='350' align = 'left'>"
   ]
  },
  {
   "cell_type": "code",
   "execution_count": null,
   "metadata": {
    "collapsed": true
   },
   "outputs": [],
   "source": [
    "\n"
   ]
  },
  {
   "cell_type": "code",
   "execution_count": null,
   "metadata": {
    "collapsed": true
   },
   "outputs": [],
   "source": []
  },
  {
   "cell_type": "code",
   "execution_count": null,
   "metadata": {
    "collapsed": true
   },
   "outputs": [],
   "source": []
  },
  {
   "cell_type": "code",
   "execution_count": null,
   "metadata": {
    "collapsed": true
   },
   "outputs": [],
   "source": []
  },
  {
   "cell_type": "code",
   "execution_count": null,
   "metadata": {
    "collapsed": true
   },
   "outputs": [],
   "source": []
  },
  {
   "cell_type": "code",
   "execution_count": null,
   "metadata": {
    "collapsed": true
   },
   "outputs": [],
   "source": []
  },
  {
   "cell_type": "code",
   "execution_count": null,
   "metadata": {
    "collapsed": true
   },
   "outputs": [],
   "source": []
  }
 ],
 "metadata": {
  "kernelspec": {
   "display_name": "Python 3",
   "language": "python",
   "name": "python3"
  },
  "language_info": {
   "codemirror_mode": {
    "name": "ipython",
    "version": 3
   },
   "file_extension": ".py",
   "mimetype": "text/x-python",
   "name": "python",
   "nbconvert_exporter": "python",
   "pygments_lexer": "ipython3",
   "version": "3.6.1"
  }
 },
 "nbformat": 4,
 "nbformat_minor": 2
}
